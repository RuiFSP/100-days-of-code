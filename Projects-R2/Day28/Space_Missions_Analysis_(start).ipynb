{
  "nbformat": 4,
  "nbformat_minor": 0,
  "metadata": {
    "kernelspec": {
      "display_name": "Python 3",
      "language": "python",
      "name": "python3"
    },
    "language_info": {
      "codemirror_mode": {
        "name": "ipython",
        "version": 3
      },
      "file_extension": ".py",
      "mimetype": "text/x-python",
      "name": "python",
      "nbconvert_exporter": "python",
      "pygments_lexer": "ipython3",
      "version": "3.7.9"
    },
    "papermill": {
      "duration": 28.468597,
      "end_time": "2020-10-20T21:34:26.910951",
      "environment_variables": {},
      "exception": null,
      "input_path": "__notebook__.ipynb",
      "output_path": "__notebook__.ipynb",
      "parameters": {},
      "start_time": "2020-10-20T21:33:58.442354",
      "version": "2.1.0"
    },
    "colab": {
      "provenance": [],
      "toc_visible": true
    }
  },
  "cells": [
    {
      "cell_type": "markdown",
      "metadata": {
        "id": "ka_FkvXBiABo"
      },
      "source": [
        "# Introduction"
      ]
    },
    {
      "cell_type": "markdown",
      "metadata": {
        "papermill": {
          "duration": 0.035434,
          "end_time": "2020-10-20T21:34:01.886225",
          "exception": false,
          "start_time": "2020-10-20T21:34:01.850791",
          "status": "completed"
        },
        "tags": [],
        "id": "AWaMmfxXa-p0"
      },
      "source": [
        "<center><img src=\"https://i.imgur.com/9hLRsjZ.jpg\" height=400></center>\n",
        "\n",
        "This dataset was scraped from [nextspaceflight.com](https://nextspaceflight.com/launches/past/?page=1) and includes all the space missions since the beginning of Space Race between the USA and the Soviet Union in 1957!"
      ]
    },
    {
      "cell_type": "markdown",
      "metadata": {
        "id": "ufzKRKS3bV0r"
      },
      "source": [
        "### Install Package with Country Codes"
      ]
    },
    {
      "cell_type": "code",
      "metadata": {
        "id": "0HxV9o6dbRUE",
        "outputId": "b8e40cef-88e0-49c4-e95a-29adeead7bf1",
        "colab": {
          "base_uri": "https://localhost:8080/"
        }
      },
      "source": [
        "%pip install iso3166"
      ],
      "execution_count": 1,
      "outputs": [
        {
          "output_type": "stream",
          "name": "stdout",
          "text": [
            "Looking in indexes: https://pypi.org/simple, https://us-python.pkg.dev/colab-wheels/public/simple/\n",
            "Collecting iso3166\n",
            "  Downloading iso3166-2.1.1-py3-none-any.whl (9.8 kB)\n",
            "Installing collected packages: iso3166\n",
            "Successfully installed iso3166-2.1.1\n"
          ]
        }
      ]
    },
    {
      "cell_type": "markdown",
      "metadata": {
        "id": "sghkhFoLbof8"
      },
      "source": [
        "### Upgrade Plotly\n",
        "\n",
        "Run the cell below if you are working with Google Colab."
      ]
    },
    {
      "cell_type": "code",
      "metadata": {
        "id": "gQ61wy9gbmxd",
        "outputId": "69fd26fd-8859-4479-f9f7-5a5ee20ce17b",
        "colab": {
          "base_uri": "https://localhost:8080/"
        }
      },
      "source": [
        "%pip install --upgrade plotly"
      ],
      "execution_count": 2,
      "outputs": [
        {
          "output_type": "stream",
          "name": "stdout",
          "text": [
            "Looking in indexes: https://pypi.org/simple, https://us-python.pkg.dev/colab-wheels/public/simple/\n",
            "Requirement already satisfied: plotly in /usr/local/lib/python3.10/dist-packages (5.13.1)\n",
            "Collecting plotly\n",
            "  Downloading plotly-5.14.1-py2.py3-none-any.whl (15.3 MB)\n",
            "\u001b[2K     \u001b[90m━━━━━━━━━━━━━━━━━━━━━━━━━━━━━━━━━━━━━━━━\u001b[0m \u001b[32m15.3/15.3 MB\u001b[0m \u001b[31m72.7 MB/s\u001b[0m eta \u001b[36m0:00:00\u001b[0m\n",
            "\u001b[?25hRequirement already satisfied: tenacity>=6.2.0 in /usr/local/lib/python3.10/dist-packages (from plotly) (8.2.2)\n",
            "Requirement already satisfied: packaging in /usr/local/lib/python3.10/dist-packages (from plotly) (23.1)\n",
            "Installing collected packages: plotly\n",
            "  Attempting uninstall: plotly\n",
            "    Found existing installation: plotly 5.13.1\n",
            "    Uninstalling plotly-5.13.1:\n",
            "      Successfully uninstalled plotly-5.13.1\n",
            "Successfully installed plotly-5.14.1\n"
          ]
        }
      ]
    },
    {
      "cell_type": "markdown",
      "metadata": {
        "id": "ErFDBihUi1jN"
      },
      "source": [
        "### Import Statements"
      ]
    },
    {
      "cell_type": "code",
      "metadata": {
        "_cell_guid": "b1076dfc-b9ad-4769-8c92-a6c4dae69d19",
        "_kg_hide-input": true,
        "_kg_hide-output": true,
        "_uuid": "8f2839f25d086af736a60e9eeb907d3b93b6e0e5",
        "execution": {
          "iopub.execute_input": "2020-10-20T21:34:02.101551Z",
          "iopub.status.busy": "2020-10-20T21:34:02.101085Z",
          "iopub.status.idle": "2020-10-20T21:34:03.726868Z",
          "shell.execute_reply": "2020-10-20T21:34:03.725783Z"
        },
        "papermill": {
          "duration": 1.665326,
          "end_time": "2020-10-20T21:34:03.726995",
          "exception": false,
          "start_time": "2020-10-20T21:34:02.061669",
          "status": "completed"
        },
        "tags": [],
        "id": "xdolY0-Sa-p1"
      },
      "source": [
        "import numpy as np\n",
        "import pandas as pd\n",
        "import plotly.express as px\n",
        "import matplotlib.pyplot as plt\n",
        "import seaborn as sns\n",
        "\n",
        "# These might be helpful:\n",
        "from iso3166 import countries\n",
        "from datetime import datetime, timedelta"
      ],
      "execution_count": 3,
      "outputs": []
    },
    {
      "cell_type": "markdown",
      "metadata": {
        "id": "lovGPRgKxIgo"
      },
      "source": [
        "### Notebook Presentation"
      ]
    },
    {
      "cell_type": "code",
      "metadata": {
        "id": "DHEULCOjxIIm"
      },
      "source": [
        "pd.options.display.float_format = '{:,.2f}'.format"
      ],
      "execution_count": 4,
      "outputs": []
    },
    {
      "cell_type": "markdown",
      "metadata": {
        "papermill": {
          "duration": 0.034606,
          "end_time": "2020-10-20T21:34:03.798396",
          "exception": false,
          "start_time": "2020-10-20T21:34:03.763790",
          "status": "completed"
        },
        "tags": [],
        "id": "yaT3QbjEa-p4"
      },
      "source": [
        "### Load the Data"
      ]
    },
    {
      "cell_type": "code",
      "metadata": {
        "_cell_guid": "79c7e3d0-c299-4dcb-8224-4455121ee9b0",
        "_kg_hide-input": true,
        "_uuid": "d629ff2d2480ee46fbb7e2d37f6b5fab8052498a",
        "execution": {
          "iopub.execute_input": "2020-10-20T21:34:03.874195Z",
          "iopub.status.busy": "2020-10-20T21:34:03.873775Z",
          "iopub.status.idle": "2020-10-20T21:34:03.921919Z",
          "shell.execute_reply": "2020-10-20T21:34:03.921418Z"
        },
        "papermill": {
          "duration": 0.08876,
          "end_time": "2020-10-20T21:34:03.922028",
          "exception": false,
          "start_time": "2020-10-20T21:34:03.833268",
          "status": "completed"
        },
        "tags": [],
        "id": "0lDOu8aka-p4"
      },
      "source": [
        "data = pd.read_csv('mission_launches.csv')"
      ],
      "execution_count": 66,
      "outputs": []
    },
    {
      "cell_type": "markdown",
      "metadata": {
        "id": "jAnMiVcVjuKB"
      },
      "source": [
        "# Preliminary Data Exploration\n",
        "\n",
        "* What is the shape of `df_data`? \n",
        "* How many rows and columns does it have?\n",
        "* What are the column names?\n",
        "* Are there any NaN values or duplicates?"
      ]
    },
    {
      "cell_type": "code",
      "metadata": {
        "id": "0tIuYcYNlPFQ",
        "colab": {
          "base_uri": "https://localhost:8080/"
        },
        "outputId": "01283cbf-8d02-4df0-a0c2-d405b9c71fc0"
      },
      "source": [
        "print(f'Shape: {data.shape}\\nRows: {data.shape[0]}, Columns: {data.shape[1]}\\nColumn Names: {data.columns}')"
      ],
      "execution_count": 67,
      "outputs": [
        {
          "output_type": "stream",
          "name": "stdout",
          "text": [
            "Shape: (4324, 9)\n",
            "Rows: 4324, Columns: 9\n",
            "Column Names: Index(['Unnamed: 0.1', 'Unnamed: 0', 'Organisation', 'Location', 'Date',\n",
            "       'Detail', 'Rocket_Status', 'Price', 'Mission_Status'],\n",
            "      dtype='object')\n"
          ]
        }
      ]
    },
    {
      "cell_type": "code",
      "source": [
        "print(f'NaN values: {data.isnull().values.sum()}\\nDuplicates: {data.duplicated().any()}')"
      ],
      "metadata": {
        "colab": {
          "base_uri": "https://localhost:8080/"
        },
        "id": "dbYcnQPIRLrT",
        "outputId": "8dc427f9-9d57-40e0-e720-dfc630f621f6"
      },
      "execution_count": 68,
      "outputs": [
        {
          "output_type": "stream",
          "name": "stdout",
          "text": [
            "NaN values: 3360\n",
            "Duplicates: False\n"
          ]
        }
      ]
    },
    {
      "cell_type": "markdown",
      "metadata": {
        "papermill": {
          "duration": 0.05406,
          "end_time": "2020-10-20T21:34:04.149973",
          "exception": false,
          "start_time": "2020-10-20T21:34:04.095913",
          "status": "completed"
        },
        "tags": [],
        "id": "KUN30y6ja-p9"
      },
      "source": [
        "## Data Cleaning - Check for Missing Values and Duplicates\n",
        "\n",
        "Consider removing columns containing junk data. "
      ]
    },
    {
      "cell_type": "code",
      "metadata": {
        "id": "SfxVooCYk2As"
      },
      "source": [
        "data.drop(data.columns[[0, 1]], axis = 1, inplace = True)"
      ],
      "execution_count": 69,
      "outputs": []
    },
    {
      "cell_type": "code",
      "source": [
        "for i in range(4324):\n",
        "  v = data.Price[i]\n",
        "  if type(v)==str:\n",
        "    f=float(v.replace(',',''))\n",
        "    data.Price[i]=f"
      ],
      "metadata": {
        "id": "Bu_tIqNvRKrL"
      },
      "execution_count": 70,
      "outputs": []
    },
    {
      "cell_type": "code",
      "source": [
        "price_mean = data.Price.mean()\n",
        "data['Price'].fillna(price_mean,inplace=True)"
      ],
      "metadata": {
        "id": "jeS4s2rs-RX3"
      },
      "execution_count": 71,
      "outputs": []
    },
    {
      "cell_type": "markdown",
      "metadata": {
        "papermill": {
          "duration": 0.036712,
          "end_time": "2020-10-20T21:34:05.227032",
          "exception": false,
          "start_time": "2020-10-20T21:34:05.190320",
          "status": "completed"
        },
        "tags": [],
        "id": "QHon_T5sa-p_"
      },
      "source": [
        "## Descriptive Statistics"
      ]
    },
    {
      "cell_type": "code",
      "metadata": {
        "id": "Fh1-libjkJIK",
        "colab": {
          "base_uri": "https://localhost:8080/",
          "height": 206
        },
        "outputId": "61b08b77-324f-45aa-b5cd-3704d88c686b"
      },
      "source": [
        "data.head()"
      ],
      "execution_count": 72,
      "outputs": [
        {
          "output_type": "execute_result",
          "data": {
            "text/plain": [
              "  Organisation                                           Location  \\\n",
              "0       SpaceX         LC-39A, Kennedy Space Center, Florida, USA   \n",
              "1         CASC  Site 9401 (SLS-2), Jiuquan Satellite Launch Ce...   \n",
              "2       SpaceX                      Pad A, Boca Chica, Texas, USA   \n",
              "3    Roscosmos       Site 200/39, Baikonur Cosmodrome, Kazakhstan   \n",
              "4          ULA           SLC-41, Cape Canaveral AFS, Florida, USA   \n",
              "\n",
              "                         Date                                        Detail  \\\n",
              "0  Fri Aug 07, 2020 05:12 UTC  Falcon 9 Block 5 | Starlink V1 L9 & BlackSky   \n",
              "1  Thu Aug 06, 2020 04:01 UTC           Long March 2D | Gaofen-9 04 & Q-SAT   \n",
              "2  Tue Aug 04, 2020 23:57 UTC            Starship Prototype | 150 Meter Hop   \n",
              "3  Thu Jul 30, 2020 21:25 UTC  Proton-M/Briz-M | Ekspress-80 & Ekspress-103   \n",
              "4  Thu Jul 30, 2020 11:50 UTC                    Atlas V 541 | Perseverance   \n",
              "\n",
              "  Rocket_Status  Price Mission_Status  \n",
              "0  StatusActive  50.00        Success  \n",
              "1  StatusActive  29.75        Success  \n",
              "2  StatusActive 153.79        Success  \n",
              "3  StatusActive  65.00        Success  \n",
              "4  StatusActive 145.00        Success  "
            ],
            "text/html": [
              "\n",
              "  <div id=\"df-54eefa2d-eebe-439b-8fda-4cf466f5b0d5\">\n",
              "    <div class=\"colab-df-container\">\n",
              "      <div>\n",
              "<style scoped>\n",
              "    .dataframe tbody tr th:only-of-type {\n",
              "        vertical-align: middle;\n",
              "    }\n",
              "\n",
              "    .dataframe tbody tr th {\n",
              "        vertical-align: top;\n",
              "    }\n",
              "\n",
              "    .dataframe thead th {\n",
              "        text-align: right;\n",
              "    }\n",
              "</style>\n",
              "<table border=\"1\" class=\"dataframe\">\n",
              "  <thead>\n",
              "    <tr style=\"text-align: right;\">\n",
              "      <th></th>\n",
              "      <th>Organisation</th>\n",
              "      <th>Location</th>\n",
              "      <th>Date</th>\n",
              "      <th>Detail</th>\n",
              "      <th>Rocket_Status</th>\n",
              "      <th>Price</th>\n",
              "      <th>Mission_Status</th>\n",
              "    </tr>\n",
              "  </thead>\n",
              "  <tbody>\n",
              "    <tr>\n",
              "      <th>0</th>\n",
              "      <td>SpaceX</td>\n",
              "      <td>LC-39A, Kennedy Space Center, Florida, USA</td>\n",
              "      <td>Fri Aug 07, 2020 05:12 UTC</td>\n",
              "      <td>Falcon 9 Block 5 | Starlink V1 L9 &amp; BlackSky</td>\n",
              "      <td>StatusActive</td>\n",
              "      <td>50.00</td>\n",
              "      <td>Success</td>\n",
              "    </tr>\n",
              "    <tr>\n",
              "      <th>1</th>\n",
              "      <td>CASC</td>\n",
              "      <td>Site 9401 (SLS-2), Jiuquan Satellite Launch Ce...</td>\n",
              "      <td>Thu Aug 06, 2020 04:01 UTC</td>\n",
              "      <td>Long March 2D | Gaofen-9 04 &amp; Q-SAT</td>\n",
              "      <td>StatusActive</td>\n",
              "      <td>29.75</td>\n",
              "      <td>Success</td>\n",
              "    </tr>\n",
              "    <tr>\n",
              "      <th>2</th>\n",
              "      <td>SpaceX</td>\n",
              "      <td>Pad A, Boca Chica, Texas, USA</td>\n",
              "      <td>Tue Aug 04, 2020 23:57 UTC</td>\n",
              "      <td>Starship Prototype | 150 Meter Hop</td>\n",
              "      <td>StatusActive</td>\n",
              "      <td>153.79</td>\n",
              "      <td>Success</td>\n",
              "    </tr>\n",
              "    <tr>\n",
              "      <th>3</th>\n",
              "      <td>Roscosmos</td>\n",
              "      <td>Site 200/39, Baikonur Cosmodrome, Kazakhstan</td>\n",
              "      <td>Thu Jul 30, 2020 21:25 UTC</td>\n",
              "      <td>Proton-M/Briz-M | Ekspress-80 &amp; Ekspress-103</td>\n",
              "      <td>StatusActive</td>\n",
              "      <td>65.00</td>\n",
              "      <td>Success</td>\n",
              "    </tr>\n",
              "    <tr>\n",
              "      <th>4</th>\n",
              "      <td>ULA</td>\n",
              "      <td>SLC-41, Cape Canaveral AFS, Florida, USA</td>\n",
              "      <td>Thu Jul 30, 2020 11:50 UTC</td>\n",
              "      <td>Atlas V 541 | Perseverance</td>\n",
              "      <td>StatusActive</td>\n",
              "      <td>145.00</td>\n",
              "      <td>Success</td>\n",
              "    </tr>\n",
              "  </tbody>\n",
              "</table>\n",
              "</div>\n",
              "      <button class=\"colab-df-convert\" onclick=\"convertToInteractive('df-54eefa2d-eebe-439b-8fda-4cf466f5b0d5')\"\n",
              "              title=\"Convert this dataframe to an interactive table.\"\n",
              "              style=\"display:none;\">\n",
              "        \n",
              "  <svg xmlns=\"http://www.w3.org/2000/svg\" height=\"24px\"viewBox=\"0 0 24 24\"\n",
              "       width=\"24px\">\n",
              "    <path d=\"M0 0h24v24H0V0z\" fill=\"none\"/>\n",
              "    <path d=\"M18.56 5.44l.94 2.06.94-2.06 2.06-.94-2.06-.94-.94-2.06-.94 2.06-2.06.94zm-11 1L8.5 8.5l.94-2.06 2.06-.94-2.06-.94L8.5 2.5l-.94 2.06-2.06.94zm10 10l.94 2.06.94-2.06 2.06-.94-2.06-.94-.94-2.06-.94 2.06-2.06.94z\"/><path d=\"M17.41 7.96l-1.37-1.37c-.4-.4-.92-.59-1.43-.59-.52 0-1.04.2-1.43.59L10.3 9.45l-7.72 7.72c-.78.78-.78 2.05 0 2.83L4 21.41c.39.39.9.59 1.41.59.51 0 1.02-.2 1.41-.59l7.78-7.78 2.81-2.81c.8-.78.8-2.07 0-2.86zM5.41 20L4 18.59l7.72-7.72 1.47 1.35L5.41 20z\"/>\n",
              "  </svg>\n",
              "      </button>\n",
              "      \n",
              "  <style>\n",
              "    .colab-df-container {\n",
              "      display:flex;\n",
              "      flex-wrap:wrap;\n",
              "      gap: 12px;\n",
              "    }\n",
              "\n",
              "    .colab-df-convert {\n",
              "      background-color: #E8F0FE;\n",
              "      border: none;\n",
              "      border-radius: 50%;\n",
              "      cursor: pointer;\n",
              "      display: none;\n",
              "      fill: #1967D2;\n",
              "      height: 32px;\n",
              "      padding: 0 0 0 0;\n",
              "      width: 32px;\n",
              "    }\n",
              "\n",
              "    .colab-df-convert:hover {\n",
              "      background-color: #E2EBFA;\n",
              "      box-shadow: 0px 1px 2px rgba(60, 64, 67, 0.3), 0px 1px 3px 1px rgba(60, 64, 67, 0.15);\n",
              "      fill: #174EA6;\n",
              "    }\n",
              "\n",
              "    [theme=dark] .colab-df-convert {\n",
              "      background-color: #3B4455;\n",
              "      fill: #D2E3FC;\n",
              "    }\n",
              "\n",
              "    [theme=dark] .colab-df-convert:hover {\n",
              "      background-color: #434B5C;\n",
              "      box-shadow: 0px 1px 3px 1px rgba(0, 0, 0, 0.15);\n",
              "      filter: drop-shadow(0px 1px 2px rgba(0, 0, 0, 0.3));\n",
              "      fill: #FFFFFF;\n",
              "    }\n",
              "  </style>\n",
              "\n",
              "      <script>\n",
              "        const buttonEl =\n",
              "          document.querySelector('#df-54eefa2d-eebe-439b-8fda-4cf466f5b0d5 button.colab-df-convert');\n",
              "        buttonEl.style.display =\n",
              "          google.colab.kernel.accessAllowed ? 'block' : 'none';\n",
              "\n",
              "        async function convertToInteractive(key) {\n",
              "          const element = document.querySelector('#df-54eefa2d-eebe-439b-8fda-4cf466f5b0d5');\n",
              "          const dataTable =\n",
              "            await google.colab.kernel.invokeFunction('convertToInteractive',\n",
              "                                                     [key], {});\n",
              "          if (!dataTable) return;\n",
              "\n",
              "          const docLinkHtml = 'Like what you see? Visit the ' +\n",
              "            '<a target=\"_blank\" href=https://colab.research.google.com/notebooks/data_table.ipynb>data table notebook</a>'\n",
              "            + ' to learn more about interactive tables.';\n",
              "          element.innerHTML = '';\n",
              "          dataTable['output_type'] = 'display_data';\n",
              "          await google.colab.output.renderOutput(dataTable, element);\n",
              "          const docLink = document.createElement('div');\n",
              "          docLink.innerHTML = docLinkHtml;\n",
              "          element.appendChild(docLink);\n",
              "        }\n",
              "      </script>\n",
              "    </div>\n",
              "  </div>\n",
              "  "
            ]
          },
          "metadata": {},
          "execution_count": 72
        }
      ]
    },
    {
      "cell_type": "code",
      "metadata": {
        "id": "dGZa5HdbkJBT",
        "colab": {
          "base_uri": "https://localhost:8080/"
        },
        "outputId": "46e37b63-32a8-44bc-c769-e3f6b0c04bc8"
      },
      "source": [
        "data.info()"
      ],
      "execution_count": 73,
      "outputs": [
        {
          "output_type": "stream",
          "name": "stdout",
          "text": [
            "<class 'pandas.core.frame.DataFrame'>\n",
            "RangeIndex: 4324 entries, 0 to 4323\n",
            "Data columns (total 7 columns):\n",
            " #   Column          Non-Null Count  Dtype  \n",
            "---  ------          --------------  -----  \n",
            " 0   Organisation    4324 non-null   object \n",
            " 1   Location        4324 non-null   object \n",
            " 2   Date            4324 non-null   object \n",
            " 3   Detail          4324 non-null   object \n",
            " 4   Rocket_Status   4324 non-null   object \n",
            " 5   Price           4324 non-null   float64\n",
            " 6   Mission_Status  4324 non-null   object \n",
            "dtypes: float64(1), object(6)\n",
            "memory usage: 236.6+ KB\n"
          ]
        }
      ]
    },
    {
      "cell_type": "markdown",
      "metadata": {
        "id": "cgCjcpeUkKPW"
      },
      "source": [
        "# Number of Launches per Company\n",
        "\n",
        "Create a chart that shows the number of space mission launches by organisation."
      ]
    },
    {
      "cell_type": "code",
      "metadata": {
        "id": "rxvcIrtskxYB",
        "colab": {
          "base_uri": "https://localhost:8080/"
        },
        "outputId": "86469a51-ecc0-42d6-d343-ac18a9aaa165"
      },
      "source": [
        "print(data['Organisation'].value_counts())"
      ],
      "execution_count": 74,
      "outputs": [
        {
          "output_type": "stream",
          "name": "stdout",
          "text": [
            "RVSN USSR           1777\n",
            "Arianespace          279\n",
            "CASC                 251\n",
            "General Dynamics     251\n",
            "NASA                 203\n",
            "VKS RF               201\n",
            "US Air Force         161\n",
            "ULA                  140\n",
            "Boeing               136\n",
            "Martin Marietta      114\n",
            "SpaceX               100\n",
            "MHI                   84\n",
            "Northrop              83\n",
            "Lockheed              79\n",
            "ISRO                  76\n",
            "Roscosmos             55\n",
            "ILS                   46\n",
            "Sea Launch            36\n",
            "ISAS                  30\n",
            "Kosmotras             22\n",
            "US Navy               17\n",
            "ISA                   13\n",
            "Rocket Lab            13\n",
            "Eurockot              13\n",
            "ESA                   13\n",
            "Blue Origin           12\n",
            "IAI                   11\n",
            "ExPace                10\n",
            "ASI                    9\n",
            "CNES                   8\n",
            "AMBA                   8\n",
            "MITT                   7\n",
            "JAXA                   7\n",
            "Land Launch            7\n",
            "UT                     5\n",
            "KCST                   5\n",
            "CASIC                  5\n",
            "Exos                   4\n",
            "CECLES                 4\n",
            "Arm??e de l'Air        4\n",
            "KARI                   3\n",
            "SRC                    3\n",
            "AEB                    3\n",
            "RAE                    2\n",
            "OKB-586                2\n",
            "Yuzhmash               2\n",
            "Landspace              1\n",
            "Douglas                1\n",
            "EER                    1\n",
            "Starsem                1\n",
            "Virgin Orbit           1\n",
            "IRGC                   1\n",
            "i-Space                1\n",
            "OneSpace               1\n",
            "Sandia                 1\n",
            "Khrunichev             1\n",
            "Name: Organisation, dtype: int64\n"
          ]
        }
      ]
    },
    {
      "cell_type": "code",
      "metadata": {
        "id": "qgneHUbWkw5v",
        "colab": {
          "base_uri": "https://localhost:8080/",
          "height": 380
        },
        "outputId": "7d7a7a3f-3409-430a-9dca-846faca43e4b"
      },
      "source": [
        "sns.displot(data, x=data.Organisation,aspect=5)\n",
        "plt.xticks(rotation=90)\n",
        "plt.show()"
      ],
      "execution_count": 75,
      "outputs": [
        {
          "output_type": "display_data",
          "data": {
            "text/plain": [
              "<Figure size 2500x500 with 1 Axes>"
            ],
            "image/png": "[encoded data removed]"
          },
          "metadata": {}
        }
      ]
    },
    {
      "cell_type": "markdown",
      "metadata": {
        "id": "7Gwteht2kR_h"
      },
      "source": [
        "# Number of Active versus Retired Rockets\n",
        "\n",
        "How many rockets are active compared to those that are decomissioned? "
      ]
    },
    {
      "cell_type": "code",
      "metadata": {
        "id": "SxmOWS9cmTq6",
        "colab": {
          "base_uri": "https://localhost:8080/"
        },
        "outputId": "a3cfafd8-8eee-439b-c0e4-c3940765ad57"
      },
      "source": [
        "print(data.Rocket_Status.value_counts())"
      ],
      "execution_count": 77,
      "outputs": [
        {
          "output_type": "stream",
          "name": "stdout",
          "text": [
            "StatusRetired    3534\n",
            "StatusActive      790\n",
            "Name: Rocket_Status, dtype: int64\n"
          ]
        }
      ]
    },
    {
      "cell_type": "markdown",
      "metadata": {
        "id": "y9WtP5xWkYkp"
      },
      "source": [
        "# Distribution of Mission Status\n",
        "\n",
        "How many missions were successful?\n",
        "How many missions failed?"
      ]
    },
    {
      "cell_type": "code",
      "metadata": {
        "id": "83kY1alqmUhb",
        "colab": {
          "base_uri": "https://localhost:8080/"
        },
        "outputId": "f996c483-8d6f-4e79-ceb4-47390e518af1"
      },
      "source": [
        "print(data.Mission_Status.value_counts())"
      ],
      "execution_count": 78,
      "outputs": [
        {
          "output_type": "stream",
          "name": "stdout",
          "text": [
            "Success              3879\n",
            "Failure               339\n",
            "Partial Failure       102\n",
            "Prelaunch Failure       4\n",
            "Name: Mission_Status, dtype: int64\n"
          ]
        }
      ]
    },
    {
      "cell_type": "markdown",
      "metadata": {
        "papermill": {
          "duration": 0.03854,
          "end_time": "2020-10-20T21:34:05.968626",
          "exception": false,
          "start_time": "2020-10-20T21:34:05.930086",
          "status": "completed"
        },
        "tags": [],
        "id": "jgTCihuoa-qH"
      },
      "source": [
        "# How Expensive are the Launches? \n",
        "\n",
        "Create a histogram and visualise the distribution. The price column is given in USD millions (careful of missing values). "
      ]
    },
    {
      "cell_type": "code",
      "metadata": {
        "id": "PLOMhzZFnSCO",
        "colab": {
          "base_uri": "https://localhost:8080/",
          "height": 300
        },
        "outputId": "888ed8de-eef7-4ff7-dfcc-4becd5309c74"
      },
      "source": [
        "data.describe()"
      ],
      "execution_count": 79,
      "outputs": [
        {
          "output_type": "execute_result",
          "data": {
            "text/plain": [
              "         Price\n",
              "count 4,324.00\n",
              "mean    153.79\n",
              "std     136.14\n",
              "min       5.30\n",
              "25%     153.79\n",
              "50%     153.79\n",
              "75%     153.79\n",
              "max   5,000.00"
            ],
            "text/html": [
              "\n",
              "  <div id=\"df-ebb4f577-fd60-4b6b-9ad7-69c96471d738\">\n",
              "    <div class=\"colab-df-container\">\n",
              "      <div>\n",
              "<style scoped>\n",
              "    .dataframe tbody tr th:only-of-type {\n",
              "        vertical-align: middle;\n",
              "    }\n",
              "\n",
              "    .dataframe tbody tr th {\n",
              "        vertical-align: top;\n",
              "    }\n",
              "\n",
              "    .dataframe thead th {\n",
              "        text-align: right;\n",
              "    }\n",
              "</style>\n",
              "<table border=\"1\" class=\"dataframe\">\n",
              "  <thead>\n",
              "    <tr style=\"text-align: right;\">\n",
              "      <th></th>\n",
              "      <th>Price</th>\n",
              "    </tr>\n",
              "  </thead>\n",
              "  <tbody>\n",
              "    <tr>\n",
              "      <th>count</th>\n",
              "      <td>4,324.00</td>\n",
              "    </tr>\n",
              "    <tr>\n",
              "      <th>mean</th>\n",
              "      <td>153.79</td>\n",
              "    </tr>\n",
              "    <tr>\n",
              "      <th>std</th>\n",
              "      <td>136.14</td>\n",
              "    </tr>\n",
              "    <tr>\n",
              "      <th>min</th>\n",
              "      <td>5.30</td>\n",
              "    </tr>\n",
              "    <tr>\n",
              "      <th>25%</th>\n",
              "      <td>153.79</td>\n",
              "    </tr>\n",
              "    <tr>\n",
              "      <th>50%</th>\n",
              "      <td>153.79</td>\n",
              "    </tr>\n",
              "    <tr>\n",
              "      <th>75%</th>\n",
              "      <td>153.79</td>\n",
              "    </tr>\n",
              "    <tr>\n",
              "      <th>max</th>\n",
              "      <td>5,000.00</td>\n",
              "    </tr>\n",
              "  </tbody>\n",
              "</table>\n",
              "</div>\n",
              "      <button class=\"colab-df-convert\" onclick=\"convertToInteractive('df-ebb4f577-fd60-4b6b-9ad7-69c96471d738')\"\n",
              "              title=\"Convert this dataframe to an interactive table.\"\n",
              "              style=\"display:none;\">\n",
              "        \n",
              "  <svg xmlns=\"http://www.w3.org/2000/svg\" height=\"24px\"viewBox=\"0 0 24 24\"\n",
              "       width=\"24px\">\n",
              "    <path d=\"M0 0h24v24H0V0z\" fill=\"none\"/>\n",
              "    <path d=\"M18.56 5.44l.94 2.06.94-2.06 2.06-.94-2.06-.94-.94-2.06-.94 2.06-2.06.94zm-11 1L8.5 8.5l.94-2.06 2.06-.94-2.06-.94L8.5 2.5l-.94 2.06-2.06.94zm10 10l.94 2.06.94-2.06 2.06-.94-2.06-.94-.94-2.06-.94 2.06-2.06.94z\"/><path d=\"M17.41 7.96l-1.37-1.37c-.4-.4-.92-.59-1.43-.59-.52 0-1.04.2-1.43.59L10.3 9.45l-7.72 7.72c-.78.78-.78 2.05 0 2.83L4 21.41c.39.39.9.59 1.41.59.51 0 1.02-.2 1.41-.59l7.78-7.78 2.81-2.81c.8-.78.8-2.07 0-2.86zM5.41 20L4 18.59l7.72-7.72 1.47 1.35L5.41 20z\"/>\n",
              "  </svg>\n",
              "      </button>\n",
              "      \n",
              "  <style>\n",
              "    .colab-df-container {\n",
              "      display:flex;\n",
              "      flex-wrap:wrap;\n",
              "      gap: 12px;\n",
              "    }\n",
              "\n",
              "    .colab-df-convert {\n",
              "      background-color: #E8F0FE;\n",
              "      border: none;\n",
              "      border-radius: 50%;\n",
              "      cursor: pointer;\n",
              "      display: none;\n",
              "      fill: #1967D2;\n",
              "      height: 32px;\n",
              "      padding: 0 0 0 0;\n",
              "      width: 32px;\n",
              "    }\n",
              "\n",
              "    .colab-df-convert:hover {\n",
              "      background-color: #E2EBFA;\n",
              "      box-shadow: 0px 1px 2px rgba(60, 64, 67, 0.3), 0px 1px 3px 1px rgba(60, 64, 67, 0.15);\n",
              "      fill: #174EA6;\n",
              "    }\n",
              "\n",
              "    [theme=dark] .colab-df-convert {\n",
              "      background-color: #3B4455;\n",
              "      fill: #D2E3FC;\n",
              "    }\n",
              "\n",
              "    [theme=dark] .colab-df-convert:hover {\n",
              "      background-color: #434B5C;\n",
              "      box-shadow: 0px 1px 3px 1px rgba(0, 0, 0, 0.15);\n",
              "      filter: drop-shadow(0px 1px 2px rgba(0, 0, 0, 0.3));\n",
              "      fill: #FFFFFF;\n",
              "    }\n",
              "  </style>\n",
              "\n",
              "      <script>\n",
              "        const buttonEl =\n",
              "          document.querySelector('#df-ebb4f577-fd60-4b6b-9ad7-69c96471d738 button.colab-df-convert');\n",
              "        buttonEl.style.display =\n",
              "          google.colab.kernel.accessAllowed ? 'block' : 'none';\n",
              "\n",
              "        async function convertToInteractive(key) {\n",
              "          const element = document.querySelector('#df-ebb4f577-fd60-4b6b-9ad7-69c96471d738');\n",
              "          const dataTable =\n",
              "            await google.colab.kernel.invokeFunction('convertToInteractive',\n",
              "                                                     [key], {});\n",
              "          if (!dataTable) return;\n",
              "\n",
              "          const docLinkHtml = 'Like what you see? Visit the ' +\n",
              "            '<a target=\"_blank\" href=https://colab.research.google.com/notebooks/data_table.ipynb>data table notebook</a>'\n",
              "            + ' to learn more about interactive tables.';\n",
              "          element.innerHTML = '';\n",
              "          dataTable['output_type'] = 'display_data';\n",
              "          await google.colab.output.renderOutput(dataTable, element);\n",
              "          const docLink = document.createElement('div');\n",
              "          docLink.innerHTML = docLinkHtml;\n",
              "          element.appendChild(docLink);\n",
              "        }\n",
              "      </script>\n",
              "    </div>\n",
              "  </div>\n",
              "  "
            ]
          },
          "metadata": {},
          "execution_count": 79
        }
      ]
    },
    {
      "cell_type": "code",
      "metadata": {
        "id": "ru0IcY4nnSFU",
        "colab": {
          "base_uri": "https://localhost:8080/",
          "height": 506
        },
        "outputId": "964d333c-c7dc-44c3-cae3-929b8f0194cf"
      },
      "source": [
        "sns.displot(data=data, x=data['Price'],bins=90,aspect=3)\n",
        "plt.show()"
      ],
      "execution_count": 80,
      "outputs": [
        {
          "output_type": "display_data",
          "data": {
            "text/plain": [
              "<Figure size 1500x500 with 1 Axes>"
            ],
            "image/png": "[encoded data removed]"
          },
          "metadata": {}
        }
      ]
    },
    {
      "cell_type": "markdown",
      "metadata": {
        "id": "QiNtigQDne3E"
      },
      "source": [
        "# Use a Choropleth Map to Show the Number of Launches by Country\n",
        "\n",
        "* Create a choropleth map using [the plotly documentation](https://plotly.com/python/choropleth-maps/)\n",
        "* Experiment with [plotly's available colours](https://plotly.com/python/builtin-colorscales/). I quite like the sequential colour `matter` on this map. \n",
        "* You'll need to extract a `country` feature as well as change the country names that no longer exist.\n",
        "\n",
        "Wrangle the Country Names\n",
        "\n",
        "You'll need to use a 3 letter country code for each country. You might have to change some country names.\n",
        "\n",
        "* Russia is the Russian Federation\n",
        "* New Mexico should be USA\n",
        "* Yellow Sea refers to China\n",
        "* Shahrud Missile Test Site should be Iran\n",
        "* Pacific Missile Range Facility should be USA\n",
        "* Barents Sea should be Russian Federation\n",
        "* Gran Canaria should be USA\n",
        "\n",
        "\n",
        "You can use the iso3166 package to convert the country names to Alpha3 format."
      ]
    },
    {
      "cell_type": "code",
      "metadata": {
        "id": "Y46-4GHrozhF"
      },
      "source": [
        "c = []\n",
        "for i in data.Location:\n",
        "  c.append(i.split()[-1])\n",
        "country = pd.DataFrame({'Country':c})\n",
        "data2 = pd.concat([data, country.reindex(data.index)], axis=1)\n",
        "data2['Country'].value_counts()\n",
        "data3=data2.replace(['Russia','Zealand','Iran','Site','Sea','Korea','Facility','Ocean','Canaria'],['Russian Federation','New Zealand','IRN','IRN','China','Korea, Republic of','USA','Russian Federation','USA'])"
      ],
      "execution_count": 88,
      "outputs": []
    },
    {
      "cell_type": "code",
      "metadata": {
        "id": "ESGRWiX6ozZG"
      },
      "source": [
        "alpha3=[]\n",
        "for i in data3.Country:\n",
        "  r=countries.get(i).alpha3\n",
        "  alpha3.append(r)\n",
        "data3['iso']=alpha3"
      ],
      "execution_count": 89,
      "outputs": []
    },
    {
      "cell_type": "code",
      "source": [
        "data3.head()"
      ],
      "metadata": {
        "colab": {
          "base_uri": "https://localhost:8080/",
          "height": 206
        },
        "id": "FVNfm5cyCu5i",
        "outputId": "f163b13c-8586-4839-9730-5210956cf6ff"
      },
      "execution_count": 90,
      "outputs": [
        {
          "output_type": "execute_result",
          "data": {
            "text/plain": [
              "  Organisation                                           Location  \\\n",
              "0       SpaceX         LC-39A, Kennedy Space Center, Florida, USA   \n",
              "1         CASC  Site 9401 (SLS-2), Jiuquan Satellite Launch Ce...   \n",
              "2       SpaceX                      Pad A, Boca Chica, Texas, USA   \n",
              "3    Roscosmos       Site 200/39, Baikonur Cosmodrome, Kazakhstan   \n",
              "4          ULA           SLC-41, Cape Canaveral AFS, Florida, USA   \n",
              "\n",
              "                         Date                                        Detail  \\\n",
              "0  Fri Aug 07, 2020 05:12 UTC  Falcon 9 Block 5 | Starlink V1 L9 & BlackSky   \n",
              "1  Thu Aug 06, 2020 04:01 UTC           Long March 2D | Gaofen-9 04 & Q-SAT   \n",
              "2  Tue Aug 04, 2020 23:57 UTC            Starship Prototype | 150 Meter Hop   \n",
              "3  Thu Jul 30, 2020 21:25 UTC  Proton-M/Briz-M | Ekspress-80 & Ekspress-103   \n",
              "4  Thu Jul 30, 2020 11:50 UTC                    Atlas V 541 | Perseverance   \n",
              "\n",
              "  Rocket_Status  Price Mission_Status     Country  iso  \n",
              "0  StatusActive  50.00        Success         USA  USA  \n",
              "1  StatusActive  29.75        Success       China  CHN  \n",
              "2  StatusActive 153.79        Success         USA  USA  \n",
              "3  StatusActive  65.00        Success  Kazakhstan  KAZ  \n",
              "4  StatusActive 145.00        Success         USA  USA  "
            ],
            "text/html": [
              "\n",
              "  <div id=\"df-d4a59229-3903-4732-8839-f7f583a6f105\">\n",
              "    <div class=\"colab-df-container\">\n",
              "      <div>\n",
              "<style scoped>\n",
              "    .dataframe tbody tr th:only-of-type {\n",
              "        vertical-align: middle;\n",
              "    }\n",
              "\n",
              "    .dataframe tbody tr th {\n",
              "        vertical-align: top;\n",
              "    }\n",
              "\n",
              "    .dataframe thead th {\n",
              "        text-align: right;\n",
              "    }\n",
              "</style>\n",
              "<table border=\"1\" class=\"dataframe\">\n",
              "  <thead>\n",
              "    <tr style=\"text-align: right;\">\n",
              "      <th></th>\n",
              "      <th>Organisation</th>\n",
              "      <th>Location</th>\n",
              "      <th>Date</th>\n",
              "      <th>Detail</th>\n",
              "      <th>Rocket_Status</th>\n",
              "      <th>Price</th>\n",
              "      <th>Mission_Status</th>\n",
              "      <th>Country</th>\n",
              "      <th>iso</th>\n",
              "    </tr>\n",
              "  </thead>\n",
              "  <tbody>\n",
              "    <tr>\n",
              "      <th>0</th>\n",
              "      <td>SpaceX</td>\n",
              "      <td>LC-39A, Kennedy Space Center, Florida, USA</td>\n",
              "      <td>Fri Aug 07, 2020 05:12 UTC</td>\n",
              "      <td>Falcon 9 Block 5 | Starlink V1 L9 &amp; BlackSky</td>\n",
              "      <td>StatusActive</td>\n",
              "      <td>50.00</td>\n",
              "      <td>Success</td>\n",
              "      <td>USA</td>\n",
              "      <td>USA</td>\n",
              "    </tr>\n",
              "    <tr>\n",
              "      <th>1</th>\n",
              "      <td>CASC</td>\n",
              "      <td>Site 9401 (SLS-2), Jiuquan Satellite Launch Ce...</td>\n",
              "      <td>Thu Aug 06, 2020 04:01 UTC</td>\n",
              "      <td>Long March 2D | Gaofen-9 04 &amp; Q-SAT</td>\n",
              "      <td>StatusActive</td>\n",
              "      <td>29.75</td>\n",
              "      <td>Success</td>\n",
              "      <td>China</td>\n",
              "      <td>CHN</td>\n",
              "    </tr>\n",
              "    <tr>\n",
              "      <th>2</th>\n",
              "      <td>SpaceX</td>\n",
              "      <td>Pad A, Boca Chica, Texas, USA</td>\n",
              "      <td>Tue Aug 04, 2020 23:57 UTC</td>\n",
              "      <td>Starship Prototype | 150 Meter Hop</td>\n",
              "      <td>StatusActive</td>\n",
              "      <td>153.79</td>\n",
              "      <td>Success</td>\n",
              "      <td>USA</td>\n",
              "      <td>USA</td>\n",
              "    </tr>\n",
              "    <tr>\n",
              "      <th>3</th>\n",
              "      <td>Roscosmos</td>\n",
              "      <td>Site 200/39, Baikonur Cosmodrome, Kazakhstan</td>\n",
              "      <td>Thu Jul 30, 2020 21:25 UTC</td>\n",
              "      <td>Proton-M/Briz-M | Ekspress-80 &amp; Ekspress-103</td>\n",
              "      <td>StatusActive</td>\n",
              "      <td>65.00</td>\n",
              "      <td>Success</td>\n",
              "      <td>Kazakhstan</td>\n",
              "      <td>KAZ</td>\n",
              "    </tr>\n",
              "    <tr>\n",
              "      <th>4</th>\n",
              "      <td>ULA</td>\n",
              "      <td>SLC-41, Cape Canaveral AFS, Florida, USA</td>\n",
              "      <td>Thu Jul 30, 2020 11:50 UTC</td>\n",
              "      <td>Atlas V 541 | Perseverance</td>\n",
              "      <td>StatusActive</td>\n",
              "      <td>145.00</td>\n",
              "      <td>Success</td>\n",
              "      <td>USA</td>\n",
              "      <td>USA</td>\n",
              "    </tr>\n",
              "  </tbody>\n",
              "</table>\n",
              "</div>\n",
              "      <button class=\"colab-df-convert\" onclick=\"convertToInteractive('df-d4a59229-3903-4732-8839-f7f583a6f105')\"\n",
              "              title=\"Convert this dataframe to an interactive table.\"\n",
              "              style=\"display:none;\">\n",
              "        \n",
              "  <svg xmlns=\"http://www.w3.org/2000/svg\" height=\"24px\"viewBox=\"0 0 24 24\"\n",
              "       width=\"24px\">\n",
              "    <path d=\"M0 0h24v24H0V0z\" fill=\"none\"/>\n",
              "    <path d=\"M18.56 5.44l.94 2.06.94-2.06 2.06-.94-2.06-.94-.94-2.06-.94 2.06-2.06.94zm-11 1L8.5 8.5l.94-2.06 2.06-.94-2.06-.94L8.5 2.5l-.94 2.06-2.06.94zm10 10l.94 2.06.94-2.06 2.06-.94-2.06-.94-.94-2.06-.94 2.06-2.06.94z\"/><path d=\"M17.41 7.96l-1.37-1.37c-.4-.4-.92-.59-1.43-.59-.52 0-1.04.2-1.43.59L10.3 9.45l-7.72 7.72c-.78.78-.78 2.05 0 2.83L4 21.41c.39.39.9.59 1.41.59.51 0 1.02-.2 1.41-.59l7.78-7.78 2.81-2.81c.8-.78.8-2.07 0-2.86zM5.41 20L4 18.59l7.72-7.72 1.47 1.35L5.41 20z\"/>\n",
              "  </svg>\n",
              "      </button>\n",
              "      \n",
              "  <style>\n",
              "    .colab-df-container {\n",
              "      display:flex;\n",
              "      flex-wrap:wrap;\n",
              "      gap: 12px;\n",
              "    }\n",
              "\n",
              "    .colab-df-convert {\n",
              "      background-color: #E8F0FE;\n",
              "      border: none;\n",
              "      border-radius: 50%;\n",
              "      cursor: pointer;\n",
              "      display: none;\n",
              "      fill: #1967D2;\n",
              "      height: 32px;\n",
              "      padding: 0 0 0 0;\n",
              "      width: 32px;\n",
              "    }\n",
              "\n",
              "    .colab-df-convert:hover {\n",
              "      background-color: #E2EBFA;\n",
              "      box-shadow: 0px 1px 2px rgba(60, 64, 67, 0.3), 0px 1px 3px 1px rgba(60, 64, 67, 0.15);\n",
              "      fill: #174EA6;\n",
              "    }\n",
              "\n",
              "    [theme=dark] .colab-df-convert {\n",
              "      background-color: #3B4455;\n",
              "      fill: #D2E3FC;\n",
              "    }\n",
              "\n",
              "    [theme=dark] .colab-df-convert:hover {\n",
              "      background-color: #434B5C;\n",
              "      box-shadow: 0px 1px 3px 1px rgba(0, 0, 0, 0.15);\n",
              "      filter: drop-shadow(0px 1px 2px rgba(0, 0, 0, 0.3));\n",
              "      fill: #FFFFFF;\n",
              "    }\n",
              "  </style>\n",
              "\n",
              "      <script>\n",
              "        const buttonEl =\n",
              "          document.querySelector('#df-d4a59229-3903-4732-8839-f7f583a6f105 button.colab-df-convert');\n",
              "        buttonEl.style.display =\n",
              "          google.colab.kernel.accessAllowed ? 'block' : 'none';\n",
              "\n",
              "        async function convertToInteractive(key) {\n",
              "          const element = document.querySelector('#df-d4a59229-3903-4732-8839-f7f583a6f105');\n",
              "          const dataTable =\n",
              "            await google.colab.kernel.invokeFunction('convertToInteractive',\n",
              "                                                     [key], {});\n",
              "          if (!dataTable) return;\n",
              "\n",
              "          const docLinkHtml = 'Like what you see? Visit the ' +\n",
              "            '<a target=\"_blank\" href=https://colab.research.google.com/notebooks/data_table.ipynb>data table notebook</a>'\n",
              "            + ' to learn more about interactive tables.';\n",
              "          element.innerHTML = '';\n",
              "          dataTable['output_type'] = 'display_data';\n",
              "          await google.colab.output.renderOutput(dataTable, element);\n",
              "          const docLink = document.createElement('div');\n",
              "          docLink.innerHTML = docLinkHtml;\n",
              "          element.appendChild(docLink);\n",
              "        }\n",
              "      </script>\n",
              "    </div>\n",
              "  </div>\n",
              "  "
            ]
          },
          "metadata": {},
          "execution_count": 90
        }
      ]
    },
    {
      "cell_type": "code",
      "source": [
        "launches_by_country=[]\n",
        "for i in data3.iso.unique():\n",
        "    launches_by_country.append(data3['iso'].value_counts()[i])"
      ],
      "metadata": {
        "id": "qwLHcFwDC3xv"
      },
      "execution_count": 91,
      "outputs": []
    },
    {
      "cell_type": "code",
      "source": [
        "fig = px.choropleth( locations=data3.iso.unique(),  color=launches_by_country, hover_name=data3.iso.unique(), color_continuous_scale=\"matter\",)\n",
        "fig.show()"
      ],
      "metadata": {
        "colab": {
          "base_uri": "https://localhost:8080/",
          "height": 542
        },
        "id": "KTxgHLqTC6EK",
        "outputId": "dd56ac74-8bdc-44c6-82ce-452efc1d5ac9"
      },
      "execution_count": 92,
      "outputs": [
        {
          "output_type": "display_data",
          "data": {
            "text/html": [
              "<html>\n",
              "<head><meta charset=\"utf-8\" /></head>\n",
              "<body>\n",
              "    <div>            <script src=\"https://cdnjs.cloudflare.com/ajax/libs/mathjax/2.7.5/MathJax.js?config=TeX-AMS-MML_SVG\"></script><script type=\"text/javascript\">if (window.MathJax && window.MathJax.Hub && window.MathJax.Hub.Config) {window.MathJax.Hub.Config({SVG: {font: \"STIX-Web\"}});}</script>                <script type=\"text/javascript\">window.PlotlyConfig = {MathJaxConfig: 'local'};</script>\n",
              "        <script charset=\"utf-8\" src=\"https://cdn.plot.ly/plotly-2.20.0.min.js\"></script>                <div id=\"333c2e87-8a28-4ea6-b165-276dfb439672\" class=\"plotly-graph-div\" style=\"height:525px; width:100%;\"></div>            <script type=\"text/javascript\">                                    window.PLOTLYENV=window.PLOTLYENV || {};                                    if (document.getElementById(\"333c2e87-8a28-4ea6-b165-276dfb439672\")) {                    Plotly.newPlot(                        \"333c2e87-8a28-4ea6-b165-276dfb439672\",                        [{\"coloraxis\":\"coloraxis\",\"geo\":\"geo\",\"hovertemplate\":\"<b>%{hovertext}</b><br><br>locations=%{location}<br>color=%{z}<extra></extra>\",\"hovertext\":[\"USA\",\"CHN\",\"KAZ\",\"JPN\",\"ISR\",\"NZL\",\"RUS\",\"IRN\",\"FRA\",\"IND\",\"MEX\",\"KOR\",\"BRA\",\"KEN\",\"AUS\"],\"locations\":[\"USA\",\"CHN\",\"KAZ\",\"JPN\",\"ISR\",\"NZL\",\"RUS\",\"IRN\",\"FRA\",\"IND\",\"MEX\",\"KOR\",\"BRA\",\"KEN\",\"AUS\"],\"name\":\"\",\"z\":[1347,272,701,126,11,13,1431,14,303,76,4,8,3,9,6],\"type\":\"choropleth\"}],                        {\"template\":{\"data\":{\"histogram2dcontour\":[{\"type\":\"histogram2dcontour\",\"colorbar\":{\"outlinewidth\":0,\"ticks\":\"\"},\"colorscale\":[[0.0,\"#0d0887\"],[0.1111111111111111,\"#46039f\"],[0.2222222222222222,\"#7201a8\"],[0.3333333333333333,\"#9c179e\"],[0.4444444444444444,\"#bd3786\"],[0.5555555555555556,\"#d8576b\"],[0.6666666666666666,\"#ed7953\"],[0.7777777777777778,\"#fb9f3a\"],[0.8888888888888888,\"#fdca26\"],[1.0,\"#f0f921\"]]}],\"choropleth\":[{\"type\":\"choropleth\",\"colorbar\":{\"outlinewidth\":0,\"ticks\":\"\"}}],\"histogram2d\":[{\"type\":\"histogram2d\",\"colorbar\":{\"outlinewidth\":0,\"ticks\":\"\"},\"colorscale\":[[0.0,\"#0d0887\"],[0.1111111111111111,\"#46039f\"],[0.2222222222222222,\"#7201a8\"],[0.3333333333333333,\"#9c179e\"],[0.4444444444444444,\"#bd3786\"],[0.5555555555555556,\"#d8576b\"],[0.6666666666666666,\"#ed7953\"],[0.7777777777777778,\"#fb9f3a\"],[0.8888888888888888,\"#fdca26\"],[1.0,\"#f0f921\"]]}],\"heatmap\":[{\"type\":\"heatmap\",\"colorbar\":{\"outlinewidth\":0,\"ticks\":\"\"},\"colorscale\":[[0.0,\"#0d0887\"],[0.1111111111111111,\"#46039f\"],[0.2222222222222222,\"#7201a8\"],[0.3333333333333333,\"#9c179e\"],[0.4444444444444444,\"#bd3786\"],[0.5555555555555556,\"#d8576b\"],[0.6666666666666666,\"#ed7953\"],[0.7777777777777778,\"#fb9f3a\"],[0.8888888888888888,\"#fdca26\"],[1.0,\"#f0f921\"]]}],\"heatmapgl\":[{\"type\":\"heatmapgl\",\"colorbar\":{\"outlinewidth\":0,\"ticks\":\"\"},\"colorscale\":[[0.0,\"#0d0887\"],[0.1111111111111111,\"#46039f\"],[0.2222222222222222,\"#7201a8\"],[0.3333333333333333,\"#9c179e\"],[0.4444444444444444,\"#bd3786\"],[0.5555555555555556,\"#d8576b\"],[0.6666666666666666,\"#ed7953\"],[0.7777777777777778,\"#fb9f3a\"],[0.8888888888888888,\"#fdca26\"],[1.0,\"#f0f921\"]]}],\"contourcarpet\":[{\"type\":\"contourcarpet\",\"colorbar\":{\"outlinewidth\":0,\"ticks\":\"\"}}],\"contour\":[{\"type\":\"contour\",\"colorbar\":{\"outlinewidth\":0,\"ticks\":\"\"},\"colorscale\":[[0.0,\"#0d0887\"],[0.1111111111111111,\"#46039f\"],[0.2222222222222222,\"#7201a8\"],[0.3333333333333333,\"#9c179e\"],[0.4444444444444444,\"#bd3786\"],[0.5555555555555556,\"#d8576b\"],[0.6666666666666666,\"#ed7953\"],[0.7777777777777778,\"#fb9f3a\"],[0.8888888888888888,\"#fdca26\"],[1.0,\"#f0f921\"]]}],\"surface\":[{\"type\":\"surface\",\"colorbar\":{\"outlinewidth\":0,\"ticks\":\"\"},\"colorscale\":[[0.0,\"#0d0887\"],[0.1111111111111111,\"#46039f\"],[0.2222222222222222,\"#7201a8\"],[0.3333333333333333,\"#9c179e\"],[0.4444444444444444,\"#bd3786\"],[0.5555555555555556,\"#d8576b\"],[0.6666666666666666,\"#ed7953\"],[0.7777777777777778,\"#fb9f3a\"],[0.8888888888888888,\"#fdca26\"],[1.0,\"#f0f921\"]]}],\"mesh3d\":[{\"type\":\"mesh3d\",\"colorbar\":{\"outlinewidth\":0,\"ticks\":\"\"}}],\"scatter\":[{\"fillpattern\":{\"fillmode\":\"overlay\",\"size\":10,\"solidity\":0.2},\"type\":\"scatter\"}],\"parcoords\":[{\"type\":\"parcoords\",\"line\":{\"colorbar\":{\"outlinewidth\":0,\"ticks\":\"\"}}}],\"scatterpolargl\":[{\"type\":\"scatterpolargl\",\"marker\":{\"colorbar\":{\"outlinewidth\":0,\"ticks\":\"\"}}}],\"bar\":[{\"error_x\":{\"color\":\"#2a3f5f\"},\"error_y\":{\"color\":\"#2a3f5f\"},\"marker\":{\"line\":{\"color\":\"#E5ECF6\",\"width\":0.5},\"pattern\":{\"fillmode\":\"overlay\",\"size\":10,\"solidity\":0.2}},\"type\":\"bar\"}],\"scattergeo\":[{\"type\":\"scattergeo\",\"marker\":{\"colorbar\":{\"outlinewidth\":0,\"ticks\":\"\"}}}],\"scatterpolar\":[{\"type\":\"scatterpolar\",\"marker\":{\"colorbar\":{\"outlinewidth\":0,\"ticks\":\"\"}}}],\"histogram\":[{\"marker\":{\"pattern\":{\"fillmode\":\"overlay\",\"size\":10,\"solidity\":0.2}},\"type\":\"histogram\"}],\"scattergl\":[{\"type\":\"scattergl\",\"marker\":{\"colorbar\":{\"outlinewidth\":0,\"ticks\":\"\"}}}],\"scatter3d\":[{\"type\":\"scatter3d\",\"line\":{\"colorbar\":{\"outlinewidth\":0,\"ticks\":\"\"}},\"marker\":{\"colorbar\":{\"outlinewidth\":0,\"ticks\":\"\"}}}],\"scattermapbox\":[{\"type\":\"scattermapbox\",\"marker\":{\"colorbar\":{\"outlinewidth\":0,\"ticks\":\"\"}}}],\"scatterternary\":[{\"type\":\"scatterternary\",\"marker\":{\"colorbar\":{\"outlinewidth\":0,\"ticks\":\"\"}}}],\"scattercarpet\":[{\"type\":\"scattercarpet\",\"marker\":{\"colorbar\":{\"outlinewidth\":0,\"ticks\":\"\"}}}],\"carpet\":[{\"aaxis\":{\"endlinecolor\":\"#2a3f5f\",\"gridcolor\":\"white\",\"linecolor\":\"white\",\"minorgridcolor\":\"white\",\"startlinecolor\":\"#2a3f5f\"},\"baxis\":{\"endlinecolor\":\"#2a3f5f\",\"gridcolor\":\"white\",\"linecolor\":\"white\",\"minorgridcolor\":\"white\",\"startlinecolor\":\"#2a3f5f\"},\"type\":\"carpet\"}],\"table\":[{\"cells\":{\"fill\":{\"color\":\"#EBF0F8\"},\"line\":{\"color\":\"white\"}},\"header\":{\"fill\":{\"color\":\"#C8D4E3\"},\"line\":{\"color\":\"white\"}},\"type\":\"table\"}],\"barpolar\":[{\"marker\":{\"line\":{\"color\":\"#E5ECF6\",\"width\":0.5},\"pattern\":{\"fillmode\":\"overlay\",\"size\":10,\"solidity\":0.2}},\"type\":\"barpolar\"}],\"pie\":[{\"automargin\":true,\"type\":\"pie\"}]},\"layout\":{\"autotypenumbers\":\"strict\",\"colorway\":[\"#636efa\",\"#EF553B\",\"#00cc96\",\"#ab63fa\",\"#FFA15A\",\"#19d3f3\",\"#FF6692\",\"#B6E880\",\"#FF97FF\",\"#FECB52\"],\"font\":{\"color\":\"#2a3f5f\"},\"hovermode\":\"closest\",\"hoverlabel\":{\"align\":\"left\"},\"paper_bgcolor\":\"white\",\"plot_bgcolor\":\"#E5ECF6\",\"polar\":{\"bgcolor\":\"#E5ECF6\",\"angularaxis\":{\"gridcolor\":\"white\",\"linecolor\":\"white\",\"ticks\":\"\"},\"radialaxis\":{\"gridcolor\":\"white\",\"linecolor\":\"white\",\"ticks\":\"\"}},\"ternary\":{\"bgcolor\":\"#E5ECF6\",\"aaxis\":{\"gridcolor\":\"white\",\"linecolor\":\"white\",\"ticks\":\"\"},\"baxis\":{\"gridcolor\":\"white\",\"linecolor\":\"white\",\"ticks\":\"\"},\"caxis\":{\"gridcolor\":\"white\",\"linecolor\":\"white\",\"ticks\":\"\"}},\"coloraxis\":{\"colorbar\":{\"outlinewidth\":0,\"ticks\":\"\"}},\"colorscale\":{\"sequential\":[[0.0,\"#0d0887\"],[0.1111111111111111,\"#46039f\"],[0.2222222222222222,\"#7201a8\"],[0.3333333333333333,\"#9c179e\"],[0.4444444444444444,\"#bd3786\"],[0.5555555555555556,\"#d8576b\"],[0.6666666666666666,\"#ed7953\"],[0.7777777777777778,\"#fb9f3a\"],[0.8888888888888888,\"#fdca26\"],[1.0,\"#f0f921\"]],\"sequentialminus\":[[0.0,\"#0d0887\"],[0.1111111111111111,\"#46039f\"],[0.2222222222222222,\"#7201a8\"],[0.3333333333333333,\"#9c179e\"],[0.4444444444444444,\"#bd3786\"],[0.5555555555555556,\"#d8576b\"],[0.6666666666666666,\"#ed7953\"],[0.7777777777777778,\"#fb9f3a\"],[0.8888888888888888,\"#fdca26\"],[1.0,\"#f0f921\"]],\"diverging\":[[0,\"#8e0152\"],[0.1,\"#c51b7d\"],[0.2,\"#de77ae\"],[0.3,\"#f1b6da\"],[0.4,\"#fde0ef\"],[0.5,\"#f7f7f7\"],[0.6,\"#e6f5d0\"],[0.7,\"#b8e186\"],[0.8,\"#7fbc41\"],[0.9,\"#4d9221\"],[1,\"#276419\"]]},\"xaxis\":{\"gridcolor\":\"white\",\"linecolor\":\"white\",\"ticks\":\"\",\"title\":{\"standoff\":15},\"zerolinecolor\":\"white\",\"automargin\":true,\"zerolinewidth\":2},\"yaxis\":{\"gridcolor\":\"white\",\"linecolor\":\"white\",\"ticks\":\"\",\"title\":{\"standoff\":15},\"zerolinecolor\":\"white\",\"automargin\":true,\"zerolinewidth\":2},\"scene\":{\"xaxis\":{\"backgroundcolor\":\"#E5ECF6\",\"gridcolor\":\"white\",\"linecolor\":\"white\",\"showbackground\":true,\"ticks\":\"\",\"zerolinecolor\":\"white\",\"gridwidth\":2},\"yaxis\":{\"backgroundcolor\":\"#E5ECF6\",\"gridcolor\":\"white\",\"linecolor\":\"white\",\"showbackground\":true,\"ticks\":\"\",\"zerolinecolor\":\"white\",\"gridwidth\":2},\"zaxis\":{\"backgroundcolor\":\"#E5ECF6\",\"gridcolor\":\"white\",\"linecolor\":\"white\",\"showbackground\":true,\"ticks\":\"\",\"zerolinecolor\":\"white\",\"gridwidth\":2}},\"shapedefaults\":{\"line\":{\"color\":\"#2a3f5f\"}},\"annotationdefaults\":{\"arrowcolor\":\"#2a3f5f\",\"arrowhead\":0,\"arrowwidth\":1},\"geo\":{\"bgcolor\":\"white\",\"landcolor\":\"#E5ECF6\",\"subunitcolor\":\"white\",\"showland\":true,\"showlakes\":true,\"lakecolor\":\"white\"},\"title\":{\"x\":0.05},\"mapbox\":{\"style\":\"light\"}}},\"geo\":{\"domain\":{\"x\":[0.0,1.0],\"y\":[0.0,1.0]},\"center\":{}},\"coloraxis\":{\"colorbar\":{\"title\":{\"text\":\"color\"}},\"colorscale\":[[0.0,\"rgb(253, 237, 176)\"],[0.09090909090909091,\"rgb(250, 205, 145)\"],[0.18181818181818182,\"rgb(246, 173, 119)\"],[0.2727272727272727,\"rgb(240, 142, 98)\"],[0.36363636363636365,\"rgb(231, 109, 84)\"],[0.45454545454545453,\"rgb(216, 80, 83)\"],[0.5454545454545454,\"rgb(195, 56, 90)\"],[0.6363636363636364,\"rgb(168, 40, 96)\"],[0.7272727272727273,\"rgb(138, 29, 99)\"],[0.8181818181818182,\"rgb(107, 24, 93)\"],[0.9090909090909091,\"rgb(76, 21, 80)\"],[1.0,\"rgb(47, 15, 61)\"]]},\"legend\":{\"tracegroupgap\":0},\"margin\":{\"t\":60}},                        {\"responsive\": true}                    ).then(function(){\n",
              "                            \n",
              "var gd = document.getElementById('333c2e87-8a28-4ea6-b165-276dfb439672');\n",
              "var x = new MutationObserver(function (mutations, observer) {{\n",
              "        var display = window.getComputedStyle(gd).display;\n",
              "        if (!display || display === 'none') {{\n",
              "            console.log([gd, 'removed!']);\n",
              "            Plotly.purge(gd);\n",
              "            observer.disconnect();\n",
              "        }}\n",
              "}});\n",
              "\n",
              "// Listen for the removal of the full notebook cells\n",
              "var notebookContainer = gd.closest('#notebook-container');\n",
              "if (notebookContainer) {{\n",
              "    x.observe(notebookContainer, {childList: true});\n",
              "}}\n",
              "\n",
              "// Listen for the clearing of the current output cell\n",
              "var outputEl = gd.closest('.output');\n",
              "if (outputEl) {{\n",
              "    x.observe(outputEl, {childList: true});\n",
              "}}\n",
              "\n",
              "                        })                };                            </script>        </div>\n",
              "</body>\n",
              "</html>"
            ]
          },
          "metadata": {}
        }
      ]
    },
    {
      "cell_type": "markdown",
      "metadata": {
        "id": "F3pwYSUlo_AK"
      },
      "source": [
        "# Use a Choropleth Map to Show the Number of Failures by Country\n"
      ]
    },
    {
      "cell_type": "code",
      "metadata": {
        "id": "8BH4ICtro9I0"
      },
      "source": [
        "data_failures=data3[data3.Mission_Status!='Success']"
      ],
      "execution_count": 93,
      "outputs": []
    },
    {
      "cell_type": "code",
      "metadata": {
        "id": "sfw-q7Obo9GM"
      },
      "source": [
        "failure_by_country=[]\n",
        "for i in data_failures.iso.unique():\n",
        "  failure_by_country.append(data_failures['iso'].value_counts()[i])"
      ],
      "execution_count": 94,
      "outputs": []
    },
    {
      "cell_type": "code",
      "source": [
        "fig = px.choropleth( locations=data_failures.iso.unique(),  color=failure_by_country, hover_name=data_failures.iso.unique(), color_continuous_scale=\"matter\",)\n",
        "fig.show()"
      ],
      "metadata": {
        "colab": {
          "base_uri": "https://localhost:8080/",
          "height": 542
        },
        "id": "EIiBVkD4DEYl",
        "outputId": "92475e8f-01b3-49b4-b99d-12d08e795645"
      },
      "execution_count": 95,
      "outputs": [
        {
          "output_type": "display_data",
          "data": {
            "text/html": [
              "<html>\n",
              "<head><meta charset=\"utf-8\" /></head>\n",
              "<body>\n",
              "    <div>            <script src=\"https://cdnjs.cloudflare.com/ajax/libs/mathjax/2.7.5/MathJax.js?config=TeX-AMS-MML_SVG\"></script><script type=\"text/javascript\">if (window.MathJax && window.MathJax.Hub && window.MathJax.Hub.Config) {window.MathJax.Hub.Config({SVG: {font: \"STIX-Web\"}});}</script>                <script type=\"text/javascript\">window.PlotlyConfig = {MathJaxConfig: 'local'};</script>\n",
              "        <script charset=\"utf-8\" src=\"https://cdn.plot.ly/plotly-2.20.0.min.js\"></script>                <div id=\"de1cf9d0-8b96-4f64-a6de-cfa1a290b1be\" class=\"plotly-graph-div\" style=\"height:525px; width:100%;\"></div>            <script type=\"text/javascript\">                                    window.PLOTLYENV=window.PLOTLYENV || {};                                    if (document.getElementById(\"de1cf9d0-8b96-4f64-a6de-cfa1a290b1be\")) {                    Plotly.newPlot(                        \"de1cf9d0-8b96-4f64-a6de-cfa1a290b1be\",                        [{\"coloraxis\":\"coloraxis\",\"geo\":\"geo\",\"hovertemplate\":\"<b>%{hovertext}</b><br><br>locations=%{location}<br>color=%{z}<extra></extra>\",\"hovertext\":[\"CHN\",\"NZL\",\"USA\",\"IRN\",\"MEX\",\"FRA\",\"KAZ\",\"RUS\",\"IND\",\"JPN\",\"KOR\",\"ISR\",\"BRA\",\"AUS\"],\"locations\":[\"CHN\",\"NZL\",\"USA\",\"IRN\",\"MEX\",\"FRA\",\"KAZ\",\"RUS\",\"IND\",\"JPN\",\"KOR\",\"ISR\",\"BRA\",\"AUS\"],\"name\":\"\",\"z\":[26,2,159,9,4,18,93,95,13,13,5,2,3,3],\"type\":\"choropleth\"}],                        {\"template\":{\"data\":{\"histogram2dcontour\":[{\"type\":\"histogram2dcontour\",\"colorbar\":{\"outlinewidth\":0,\"ticks\":\"\"},\"colorscale\":[[0.0,\"#0d0887\"],[0.1111111111111111,\"#46039f\"],[0.2222222222222222,\"#7201a8\"],[0.3333333333333333,\"#9c179e\"],[0.4444444444444444,\"#bd3786\"],[0.5555555555555556,\"#d8576b\"],[0.6666666666666666,\"#ed7953\"],[0.7777777777777778,\"#fb9f3a\"],[0.8888888888888888,\"#fdca26\"],[1.0,\"#f0f921\"]]}],\"choropleth\":[{\"type\":\"choropleth\",\"colorbar\":{\"outlinewidth\":0,\"ticks\":\"\"}}],\"histogram2d\":[{\"type\":\"histogram2d\",\"colorbar\":{\"outlinewidth\":0,\"ticks\":\"\"},\"colorscale\":[[0.0,\"#0d0887\"],[0.1111111111111111,\"#46039f\"],[0.2222222222222222,\"#7201a8\"],[0.3333333333333333,\"#9c179e\"],[0.4444444444444444,\"#bd3786\"],[0.5555555555555556,\"#d8576b\"],[0.6666666666666666,\"#ed7953\"],[0.7777777777777778,\"#fb9f3a\"],[0.8888888888888888,\"#fdca26\"],[1.0,\"#f0f921\"]]}],\"heatmap\":[{\"type\":\"heatmap\",\"colorbar\":{\"outlinewidth\":0,\"ticks\":\"\"},\"colorscale\":[[0.0,\"#0d0887\"],[0.1111111111111111,\"#46039f\"],[0.2222222222222222,\"#7201a8\"],[0.3333333333333333,\"#9c179e\"],[0.4444444444444444,\"#bd3786\"],[0.5555555555555556,\"#d8576b\"],[0.6666666666666666,\"#ed7953\"],[0.7777777777777778,\"#fb9f3a\"],[0.8888888888888888,\"#fdca26\"],[1.0,\"#f0f921\"]]}],\"heatmapgl\":[{\"type\":\"heatmapgl\",\"colorbar\":{\"outlinewidth\":0,\"ticks\":\"\"},\"colorscale\":[[0.0,\"#0d0887\"],[0.1111111111111111,\"#46039f\"],[0.2222222222222222,\"#7201a8\"],[0.3333333333333333,\"#9c179e\"],[0.4444444444444444,\"#bd3786\"],[0.5555555555555556,\"#d8576b\"],[0.6666666666666666,\"#ed7953\"],[0.7777777777777778,\"#fb9f3a\"],[0.8888888888888888,\"#fdca26\"],[1.0,\"#f0f921\"]]}],\"contourcarpet\":[{\"type\":\"contourcarpet\",\"colorbar\":{\"outlinewidth\":0,\"ticks\":\"\"}}],\"contour\":[{\"type\":\"contour\",\"colorbar\":{\"outlinewidth\":0,\"ticks\":\"\"},\"colorscale\":[[0.0,\"#0d0887\"],[0.1111111111111111,\"#46039f\"],[0.2222222222222222,\"#7201a8\"],[0.3333333333333333,\"#9c179e\"],[0.4444444444444444,\"#bd3786\"],[0.5555555555555556,\"#d8576b\"],[0.6666666666666666,\"#ed7953\"],[0.7777777777777778,\"#fb9f3a\"],[0.8888888888888888,\"#fdca26\"],[1.0,\"#f0f921\"]]}],\"surface\":[{\"type\":\"surface\",\"colorbar\":{\"outlinewidth\":0,\"ticks\":\"\"},\"colorscale\":[[0.0,\"#0d0887\"],[0.1111111111111111,\"#46039f\"],[0.2222222222222222,\"#7201a8\"],[0.3333333333333333,\"#9c179e\"],[0.4444444444444444,\"#bd3786\"],[0.5555555555555556,\"#d8576b\"],[0.6666666666666666,\"#ed7953\"],[0.7777777777777778,\"#fb9f3a\"],[0.8888888888888888,\"#fdca26\"],[1.0,\"#f0f921\"]]}],\"mesh3d\":[{\"type\":\"mesh3d\",\"colorbar\":{\"outlinewidth\":0,\"ticks\":\"\"}}],\"scatter\":[{\"fillpattern\":{\"fillmode\":\"overlay\",\"size\":10,\"solidity\":0.2},\"type\":\"scatter\"}],\"parcoords\":[{\"type\":\"parcoords\",\"line\":{\"colorbar\":{\"outlinewidth\":0,\"ticks\":\"\"}}}],\"scatterpolargl\":[{\"type\":\"scatterpolargl\",\"marker\":{\"colorbar\":{\"outlinewidth\":0,\"ticks\":\"\"}}}],\"bar\":[{\"error_x\":{\"color\":\"#2a3f5f\"},\"error_y\":{\"color\":\"#2a3f5f\"},\"marker\":{\"line\":{\"color\":\"#E5ECF6\",\"width\":0.5},\"pattern\":{\"fillmode\":\"overlay\",\"size\":10,\"solidity\":0.2}},\"type\":\"bar\"}],\"scattergeo\":[{\"type\":\"scattergeo\",\"marker\":{\"colorbar\":{\"outlinewidth\":0,\"ticks\":\"\"}}}],\"scatterpolar\":[{\"type\":\"scatterpolar\",\"marker\":{\"colorbar\":{\"outlinewidth\":0,\"ticks\":\"\"}}}],\"histogram\":[{\"marker\":{\"pattern\":{\"fillmode\":\"overlay\",\"size\":10,\"solidity\":0.2}},\"type\":\"histogram\"}],\"scattergl\":[{\"type\":\"scattergl\",\"marker\":{\"colorbar\":{\"outlinewidth\":0,\"ticks\":\"\"}}}],\"scatter3d\":[{\"type\":\"scatter3d\",\"line\":{\"colorbar\":{\"outlinewidth\":0,\"ticks\":\"\"}},\"marker\":{\"colorbar\":{\"outlinewidth\":0,\"ticks\":\"\"}}}],\"scattermapbox\":[{\"type\":\"scattermapbox\",\"marker\":{\"colorbar\":{\"outlinewidth\":0,\"ticks\":\"\"}}}],\"scatterternary\":[{\"type\":\"scatterternary\",\"marker\":{\"colorbar\":{\"outlinewidth\":0,\"ticks\":\"\"}}}],\"scattercarpet\":[{\"type\":\"scattercarpet\",\"marker\":{\"colorbar\":{\"outlinewidth\":0,\"ticks\":\"\"}}}],\"carpet\":[{\"aaxis\":{\"endlinecolor\":\"#2a3f5f\",\"gridcolor\":\"white\",\"linecolor\":\"white\",\"minorgridcolor\":\"white\",\"startlinecolor\":\"#2a3f5f\"},\"baxis\":{\"endlinecolor\":\"#2a3f5f\",\"gridcolor\":\"white\",\"linecolor\":\"white\",\"minorgridcolor\":\"white\",\"startlinecolor\":\"#2a3f5f\"},\"type\":\"carpet\"}],\"table\":[{\"cells\":{\"fill\":{\"color\":\"#EBF0F8\"},\"line\":{\"color\":\"white\"}},\"header\":{\"fill\":{\"color\":\"#C8D4E3\"},\"line\":{\"color\":\"white\"}},\"type\":\"table\"}],\"barpolar\":[{\"marker\":{\"line\":{\"color\":\"#E5ECF6\",\"width\":0.5},\"pattern\":{\"fillmode\":\"overlay\",\"size\":10,\"solidity\":0.2}},\"type\":\"barpolar\"}],\"pie\":[{\"automargin\":true,\"type\":\"pie\"}]},\"layout\":{\"autotypenumbers\":\"strict\",\"colorway\":[\"#636efa\",\"#EF553B\",\"#00cc96\",\"#ab63fa\",\"#FFA15A\",\"#19d3f3\",\"#FF6692\",\"#B6E880\",\"#FF97FF\",\"#FECB52\"],\"font\":{\"color\":\"#2a3f5f\"},\"hovermode\":\"closest\",\"hoverlabel\":{\"align\":\"left\"},\"paper_bgcolor\":\"white\",\"plot_bgcolor\":\"#E5ECF6\",\"polar\":{\"bgcolor\":\"#E5ECF6\",\"angularaxis\":{\"gridcolor\":\"white\",\"linecolor\":\"white\",\"ticks\":\"\"},\"radialaxis\":{\"gridcolor\":\"white\",\"linecolor\":\"white\",\"ticks\":\"\"}},\"ternary\":{\"bgcolor\":\"#E5ECF6\",\"aaxis\":{\"gridcolor\":\"white\",\"linecolor\":\"white\",\"ticks\":\"\"},\"baxis\":{\"gridcolor\":\"white\",\"linecolor\":\"white\",\"ticks\":\"\"},\"caxis\":{\"gridcolor\":\"white\",\"linecolor\":\"white\",\"ticks\":\"\"}},\"coloraxis\":{\"colorbar\":{\"outlinewidth\":0,\"ticks\":\"\"}},\"colorscale\":{\"sequential\":[[0.0,\"#0d0887\"],[0.1111111111111111,\"#46039f\"],[0.2222222222222222,\"#7201a8\"],[0.3333333333333333,\"#9c179e\"],[0.4444444444444444,\"#bd3786\"],[0.5555555555555556,\"#d8576b\"],[0.6666666666666666,\"#ed7953\"],[0.7777777777777778,\"#fb9f3a\"],[0.8888888888888888,\"#fdca26\"],[1.0,\"#f0f921\"]],\"sequentialminus\":[[0.0,\"#0d0887\"],[0.1111111111111111,\"#46039f\"],[0.2222222222222222,\"#7201a8\"],[0.3333333333333333,\"#9c179e\"],[0.4444444444444444,\"#bd3786\"],[0.5555555555555556,\"#d8576b\"],[0.6666666666666666,\"#ed7953\"],[0.7777777777777778,\"#fb9f3a\"],[0.8888888888888888,\"#fdca26\"],[1.0,\"#f0f921\"]],\"diverging\":[[0,\"#8e0152\"],[0.1,\"#c51b7d\"],[0.2,\"#de77ae\"],[0.3,\"#f1b6da\"],[0.4,\"#fde0ef\"],[0.5,\"#f7f7f7\"],[0.6,\"#e6f5d0\"],[0.7,\"#b8e186\"],[0.8,\"#7fbc41\"],[0.9,\"#4d9221\"],[1,\"#276419\"]]},\"xaxis\":{\"gridcolor\":\"white\",\"linecolor\":\"white\",\"ticks\":\"\",\"title\":{\"standoff\":15},\"zerolinecolor\":\"white\",\"automargin\":true,\"zerolinewidth\":2},\"yaxis\":{\"gridcolor\":\"white\",\"linecolor\":\"white\",\"ticks\":\"\",\"title\":{\"standoff\":15},\"zerolinecolor\":\"white\",\"automargin\":true,\"zerolinewidth\":2},\"scene\":{\"xaxis\":{\"backgroundcolor\":\"#E5ECF6\",\"gridcolor\":\"white\",\"linecolor\":\"white\",\"showbackground\":true,\"ticks\":\"\",\"zerolinecolor\":\"white\",\"gridwidth\":2},\"yaxis\":{\"backgroundcolor\":\"#E5ECF6\",\"gridcolor\":\"white\",\"linecolor\":\"white\",\"showbackground\":true,\"ticks\":\"\",\"zerolinecolor\":\"white\",\"gridwidth\":2},\"zaxis\":{\"backgroundcolor\":\"#E5ECF6\",\"gridcolor\":\"white\",\"linecolor\":\"white\",\"showbackground\":true,\"ticks\":\"\",\"zerolinecolor\":\"white\",\"gridwidth\":2}},\"shapedefaults\":{\"line\":{\"color\":\"#2a3f5f\"}},\"annotationdefaults\":{\"arrowcolor\":\"#2a3f5f\",\"arrowhead\":0,\"arrowwidth\":1},\"geo\":{\"bgcolor\":\"white\",\"landcolor\":\"#E5ECF6\",\"subunitcolor\":\"white\",\"showland\":true,\"showlakes\":true,\"lakecolor\":\"white\"},\"title\":{\"x\":0.05},\"mapbox\":{\"style\":\"light\"}}},\"geo\":{\"domain\":{\"x\":[0.0,1.0],\"y\":[0.0,1.0]},\"center\":{}},\"coloraxis\":{\"colorbar\":{\"title\":{\"text\":\"color\"}},\"colorscale\":[[0.0,\"rgb(253, 237, 176)\"],[0.09090909090909091,\"rgb(250, 205, 145)\"],[0.18181818181818182,\"rgb(246, 173, 119)\"],[0.2727272727272727,\"rgb(240, 142, 98)\"],[0.36363636363636365,\"rgb(231, 109, 84)\"],[0.45454545454545453,\"rgb(216, 80, 83)\"],[0.5454545454545454,\"rgb(195, 56, 90)\"],[0.6363636363636364,\"rgb(168, 40, 96)\"],[0.7272727272727273,\"rgb(138, 29, 99)\"],[0.8181818181818182,\"rgb(107, 24, 93)\"],[0.9090909090909091,\"rgb(76, 21, 80)\"],[1.0,\"rgb(47, 15, 61)\"]]},\"legend\":{\"tracegroupgap\":0},\"margin\":{\"t\":60}},                        {\"responsive\": true}                    ).then(function(){\n",
              "                            \n",
              "var gd = document.getElementById('de1cf9d0-8b96-4f64-a6de-cfa1a290b1be');\n",
              "var x = new MutationObserver(function (mutations, observer) {{\n",
              "        var display = window.getComputedStyle(gd).display;\n",
              "        if (!display || display === 'none') {{\n",
              "            console.log([gd, 'removed!']);\n",
              "            Plotly.purge(gd);\n",
              "            observer.disconnect();\n",
              "        }}\n",
              "}});\n",
              "\n",
              "// Listen for the removal of the full notebook cells\n",
              "var notebookContainer = gd.closest('#notebook-container');\n",
              "if (notebookContainer) {{\n",
              "    x.observe(notebookContainer, {childList: true});\n",
              "}}\n",
              "\n",
              "// Listen for the clearing of the current output cell\n",
              "var outputEl = gd.closest('.output');\n",
              "if (outputEl) {{\n",
              "    x.observe(outputEl, {childList: true});\n",
              "}}\n",
              "\n",
              "                        })                };                            </script>        </div>\n",
              "</body>\n",
              "</html>"
            ]
          },
          "metadata": {}
        }
      ]
    },
    {
      "cell_type": "markdown",
      "metadata": {
        "papermill": {
          "duration": 0.039343,
          "end_time": "2020-10-20T21:34:06.591694",
          "exception": false,
          "start_time": "2020-10-20T21:34:06.552351",
          "status": "completed"
        },
        "tags": [],
        "id": "9LqcqSrKa-qN"
      },
      "source": [
        "# Create a Plotly Sunburst Chart of the countries, organisations, and mission status. "
      ]
    },
    {
      "cell_type": "code",
      "metadata": {
        "id": "MwUfpoByo3_J",
        "colab": {
          "base_uri": "https://localhost:8080/",
          "height": 542
        },
        "outputId": "db7c0757-d9f9-4f4b-9e9a-44733d5addd4"
      },
      "source": [
        "fig = px.sunburst(data3, path=['Country', 'Organisation', 'Mission_Status'])\n",
        "fig.show()"
      ],
      "execution_count": 96,
      "outputs": [
        {
          "output_type": "display_data",
          "data": {
            "text/html": [
              "<html>\n",
              "<head><meta charset=\"utf-8\" /></head>\n",
              "<body>\n",
              "    <div>            <script src=\"https://cdnjs.cloudflare.com/ajax/libs/mathjax/2.7.5/MathJax.js?config=TeX-AMS-MML_SVG\"></script><script type=\"text/javascript\">if (window.MathJax && window.MathJax.Hub && window.MathJax.Hub.Config) {window.MathJax.Hub.Config({SVG: {font: \"STIX-Web\"}});}</script>                <script type=\"text/javascript\">window.PlotlyConfig = {MathJaxConfig: 'local'};</script>\n",
              "        <script charset=\"utf-8\" src=\"https://cdn.plot.ly/plotly-2.20.0.min.js\"></script>                <div id=\"e19e887d-fb3f-43f6-b1e4-fbd782d66304\" class=\"plotly-graph-div\" style=\"height:525px; width:100%;\"></div>            <script type=\"text/javascript\">                                    window.PLOTLYENV=window.PLOTLYENV || {};                                    if (document.getElementById(\"e19e887d-fb3f-43f6-b1e4-fbd782d66304\")) {                    Plotly.newPlot(                        \"e19e887d-fb3f-43f6-b1e4-fbd782d66304\",                        [{\"branchvalues\":\"total\",\"domain\":{\"x\":[0.0,1.0],\"y\":[0.0,1.0]},\"hovertemplate\":\"labels=%{label}<br>count=%{value}<br>parent=%{parent}<br>id=%{id}<extra></extra>\",\"ids\":[\"Brazil/AEB/Failure\",\"USA/AMBA/Failure\",\"France/Arianespace/Failure\",\"USA/Boeing/Failure\",\"China/CASC/Failure\",\"China/CASIC/Failure\",\"Australia/CECLES/Failure\",\"France/CECLES/Failure\",\"France/CNES/Failure\",\"USA/EER/Failure\",\"France/ESA/Failure\",\"Russian Federation/Eurockot/Failure\",\"China/ExPace/Failure\",\"Mexico/Exos/Failure\",\"USA/General Dynamics/Failure\",\"Israel/IAI/Failure\",\"IRN/ISA/Failure\",\"Japan/ISAS/Failure\",\"India/ISRO/Failure\",\"Japan/JAXA/Failure\",\"Korea, Republic of/KARI/Failure\",\"Korea, Republic of/KCST/Failure\",\"Kazakhstan/Kosmotras/Failure\",\"China/Landspace/Failure\",\"USA/Lockheed/Failure\",\"Japan/MHI/Failure\",\"Russian Federation/MITT/Failure\",\"USA/Martin Marietta/Failure\",\"USA/NASA/Failure\",\"USA/Northrop/Failure\",\"China/OneSpace/Failure\",\"Australia/RAE/Failure\",\"Kazakhstan/RVSN USSR/Failure\",\"Russian Federation/RVSN USSR/Failure\",\"New Zealand/Rocket Lab/Failure\",\"Kazakhstan/Roscosmos/Failure\",\"Russian Federation/Roscosmos/Failure\",\"China/SRC/Failure\",\"USA/Sandia/Failure\",\"Russian Federation/Sea Launch/Failure\",\"USA/SpaceX/Failure\",\"USA/US Air Force/Failure\",\"USA/US Navy/Failure\",\"Japan/UT/Failure\",\"Kazakhstan/VKS RF/Failure\",\"Russian Federation/VKS RF/Failure\",\"USA/Virgin Orbit/Failure\",\"USA/AMBA/Partial Failure\",\"France/Arianespace/Partial Failure\",\"France/Arm??e de l'Air/Partial Failure\",\"USA/Boeing/Partial Failure\",\"China/CASC/Partial Failure\",\"France/ESA/Partial Failure\",\"Mexico/Exos/Partial Failure\",\"USA/General Dynamics/Partial Failure\",\"Kazakhstan/ILS/Partial Failure\",\"Japan/ISAS/Partial Failure\",\"India/ISRO/Partial Failure\",\"Kazakhstan/Land Launch/Partial Failure\",\"Japan/MHI/Partial Failure\",\"USA/Martin Marietta/Partial Failure\",\"USA/NASA/Partial Failure\",\"USA/Northrop/Partial Failure\",\"Kazakhstan/RVSN USSR/Partial Failure\",\"Russian Federation/RVSN USSR/Partial Failure\",\"Kazakhstan/Roscosmos/Partial Failure\",\"USA/SpaceX/Partial Failure\",\"USA/ULA/Partial Failure\",\"USA/US Air Force/Partial Failure\",\"USA/US Navy/Partial Failure\",\"Russian Federation/VKS RF/Partial Failure\",\"Brazil/AEB/Prelaunch Failure\",\"IRN/ISA/Prelaunch Failure\",\"Kazakhstan/RVSN USSR/Prelaunch Failure\",\"USA/SpaceX/Prelaunch Failure\",\"Australia/AMBA/Success\",\"USA/AMBA/Success\",\"Kenya/ASI/Success\",\"France/Arianespace/Success\",\"Kazakhstan/Arianespace/Success\",\"France/Arm??e de l'Air/Success\",\"USA/Blue Origin/Success\",\"USA/Boeing/Success\",\"China/CASC/Success\",\"China/CASIC/Success\",\"Australia/CECLES/Success\",\"France/CNES/Success\",\"USA/Douglas/Success\",\"France/ESA/Success\",\"Russian Federation/Eurockot/Success\",\"China/ExPace/Success\",\"USA/General Dynamics/Success\",\"Israel/IAI/Success\",\"Kazakhstan/ILS/Success\",\"USA/ILS/Success\",\"IRN/IRGC/Success\",\"IRN/ISA/Success\",\"Japan/ISAS/Success\",\"India/ISRO/Success\",\"Japan/JAXA/Success\",\"Korea, Republic of/KARI/Success\",\"Korea, Republic of/KCST/Success\",\"Russian Federation/Khrunichev/Success\",\"Kazakhstan/Kosmotras/Success\",\"Russian Federation/Kosmotras/Success\",\"Kazakhstan/Land Launch/Success\",\"USA/Lockheed/Success\",\"Japan/MHI/Success\",\"Russian Federation/MITT/Success\",\"USA/Martin Marietta/Success\",\"USA/NASA/Success\",\"USA/Northrop/Success\",\"Kazakhstan/OKB-586/Success\",\"Australia/RAE/Success\",\"Kazakhstan/RVSN USSR/Success\",\"Russian Federation/RVSN USSR/Success\",\"New Zealand/Rocket Lab/Success\",\"Kazakhstan/Roscosmos/Success\",\"Russian Federation/Roscosmos/Success\",\"China/SRC/Success\",\"Russian Federation/Sea Launch/Success\",\"USA/SpaceX/Success\",\"Kazakhstan/Starsem/Success\",\"USA/ULA/Success\",\"USA/US Air Force/Success\",\"USA/US Navy/Success\",\"Japan/UT/Success\",\"Kazakhstan/VKS RF/Success\",\"Russian Federation/VKS RF/Success\",\"Kazakhstan/Yuzhmash/Success\",\"Russian Federation/Yuzhmash/Success\",\"China/i-Space/Success\",\"Brazil/AEB\",\"Australia/AMBA\",\"USA/AMBA\",\"Kenya/ASI\",\"France/Arianespace\",\"Kazakhstan/Arianespace\",\"France/Arm??e de l'Air\",\"USA/Blue Origin\",\"USA/Boeing\",\"China/CASC\",\"China/CASIC\",\"Australia/CECLES\",\"France/CECLES\",\"France/CNES\",\"USA/Douglas\",\"USA/EER\",\"France/ESA\",\"Russian Federation/Eurockot\",\"China/ExPace\",\"Mexico/Exos\",\"USA/General Dynamics\",\"Israel/IAI\",\"Kazakhstan/ILS\",\"USA/ILS\",\"IRN/IRGC\",\"IRN/ISA\",\"Japan/ISAS\",\"India/ISRO\",\"Japan/JAXA\",\"Korea, Republic of/KARI\",\"Korea, Republic of/KCST\",\"Russian Federation/Khrunichev\",\"Kazakhstan/Kosmotras\",\"Russian Federation/Kosmotras\",\"Kazakhstan/Land Launch\",\"China/Landspace\",\"USA/Lockheed\",\"Japan/MHI\",\"Russian Federation/MITT\",\"USA/Martin Marietta\",\"USA/NASA\",\"USA/Northrop\",\"Kazakhstan/OKB-586\",\"China/OneSpace\",\"Australia/RAE\",\"Kazakhstan/RVSN USSR\",\"Russian Federation/RVSN USSR\",\"New Zealand/Rocket Lab\",\"Kazakhstan/Roscosmos\",\"Russian Federation/Roscosmos\",\"China/SRC\",\"USA/Sandia\",\"Russian Federation/Sea Launch\",\"USA/SpaceX\",\"Kazakhstan/Starsem\",\"USA/ULA\",\"USA/US Air Force\",\"USA/US Navy\",\"Japan/UT\",\"Kazakhstan/VKS RF\",\"Russian Federation/VKS RF\",\"USA/Virgin Orbit\",\"Kazakhstan/Yuzhmash\",\"Russian Federation/Yuzhmash\",\"China/i-Space\",\"Australia\",\"Brazil\",\"China\",\"France\",\"IRN\",\"India\",\"Israel\",\"Japan\",\"Kazakhstan\",\"Kenya\",\"Korea, Republic of\",\"Mexico\",\"New Zealand\",\"Russian Federation\",\"USA\"],\"labels\":[\"Failure\",\"Failure\",\"Failure\",\"Failure\",\"Failure\",\"Failure\",\"Failure\",\"Failure\",\"Failure\",\"Failure\",\"Failure\",\"Failure\",\"Failure\",\"Failure\",\"Failure\",\"Failure\",\"Failure\",\"Failure\",\"Failure\",\"Failure\",\"Failure\",\"Failure\",\"Failure\",\"Failure\",\"Failure\",\"Failure\",\"Failure\",\"Failure\",\"Failure\",\"Failure\",\"Failure\",\"Failure\",\"Failure\",\"Failure\",\"Failure\",\"Failure\",\"Failure\",\"Failure\",\"Failure\",\"Failure\",\"Failure\",\"Failure\",\"Failure\",\"Failure\",\"Failure\",\"Failure\",\"Failure\",\"Partial Failure\",\"Partial Failure\",\"Partial Failure\",\"Partial Failure\",\"Partial Failure\",\"Partial Failure\",\"Partial Failure\",\"Partial Failure\",\"Partial Failure\",\"Partial Failure\",\"Partial Failure\",\"Partial Failure\",\"Partial Failure\",\"Partial Failure\",\"Partial Failure\",\"Partial Failure\",\"Partial Failure\",\"Partial Failure\",\"Partial Failure\",\"Partial Failure\",\"Partial Failure\",\"Partial Failure\",\"Partial Failure\",\"Partial Failure\",\"Prelaunch Failure\",\"Prelaunch Failure\",\"Prelaunch Failure\",\"Prelaunch Failure\",\"Success\",\"Success\",\"Success\",\"Success\",\"Success\",\"Success\",\"Success\",\"Success\",\"Success\",\"Success\",\"Success\",\"Success\",\"Success\",\"Success\",\"Success\",\"Success\",\"Success\",\"Success\",\"Success\",\"Success\",\"Success\",\"Success\",\"Success\",\"Success\",\"Success\",\"Success\",\"Success\",\"Success\",\"Success\",\"Success\",\"Success\",\"Success\",\"Success\",\"Success\",\"Success\",\"Success\",\"Success\",\"Success\",\"Success\",\"Success\",\"Success\",\"Success\",\"Success\",\"Success\",\"Success\",\"Success\",\"Success\",\"Success\",\"Success\",\"Success\",\"Success\",\"Success\",\"Success\",\"Success\",\"Success\",\"Success\",\"Success\",\"AEB\",\"AMBA\",\"AMBA\",\"ASI\",\"Arianespace\",\"Arianespace\",\"Arm??e de l'Air\",\"Blue Origin\",\"Boeing\",\"CASC\",\"CASIC\",\"CECLES\",\"CECLES\",\"CNES\",\"Douglas\",\"EER\",\"ESA\",\"Eurockot\",\"ExPace\",\"Exos\",\"General Dynamics\",\"IAI\",\"ILS\",\"ILS\",\"IRGC\",\"ISA\",\"ISAS\",\"ISRO\",\"JAXA\",\"KARI\",\"KCST\",\"Khrunichev\",\"Kosmotras\",\"Kosmotras\",\"Land Launch\",\"Landspace\",\"Lockheed\",\"MHI\",\"MITT\",\"Martin Marietta\",\"NASA\",\"Northrop\",\"OKB-586\",\"OneSpace\",\"RAE\",\"RVSN USSR\",\"RVSN USSR\",\"Rocket Lab\",\"Roscosmos\",\"Roscosmos\",\"SRC\",\"Sandia\",\"Sea Launch\",\"SpaceX\",\"Starsem\",\"ULA\",\"US Air Force\",\"US Navy\",\"UT\",\"VKS RF\",\"VKS RF\",\"Virgin Orbit\",\"Yuzhmash\",\"Yuzhmash\",\"i-Space\",\"Australia\",\"Brazil\",\"China\",\"France\",\"IRN\",\"India\",\"Israel\",\"Japan\",\"Kazakhstan\",\"Kenya\",\"Korea, Republic of\",\"Mexico\",\"New Zealand\",\"Russian Federation\",\"USA\"],\"name\":\"\",\"parents\":[\"Brazil/AEB\",\"USA/AMBA\",\"France/Arianespace\",\"USA/Boeing\",\"China/CASC\",\"China/CASIC\",\"Australia/CECLES\",\"France/CECLES\",\"France/CNES\",\"USA/EER\",\"France/ESA\",\"Russian Federation/Eurockot\",\"China/ExPace\",\"Mexico/Exos\",\"USA/General Dynamics\",\"Israel/IAI\",\"IRN/ISA\",\"Japan/ISAS\",\"India/ISRO\",\"Japan/JAXA\",\"Korea, Republic of/KARI\",\"Korea, Republic of/KCST\",\"Kazakhstan/Kosmotras\",\"China/Landspace\",\"USA/Lockheed\",\"Japan/MHI\",\"Russian Federation/MITT\",\"USA/Martin Marietta\",\"USA/NASA\",\"USA/Northrop\",\"China/OneSpace\",\"Australia/RAE\",\"Kazakhstan/RVSN USSR\",\"Russian Federation/RVSN USSR\",\"New Zealand/Rocket Lab\",\"Kazakhstan/Roscosmos\",\"Russian Federation/Roscosmos\",\"China/SRC\",\"USA/Sandia\",\"Russian Federation/Sea Launch\",\"USA/SpaceX\",\"USA/US Air Force\",\"USA/US Navy\",\"Japan/UT\",\"Kazakhstan/VKS RF\",\"Russian Federation/VKS RF\",\"USA/Virgin Orbit\",\"USA/AMBA\",\"France/Arianespace\",\"France/Arm??e de l'Air\",\"USA/Boeing\",\"China/CASC\",\"France/ESA\",\"Mexico/Exos\",\"USA/General Dynamics\",\"Kazakhstan/ILS\",\"Japan/ISAS\",\"India/ISRO\",\"Kazakhstan/Land Launch\",\"Japan/MHI\",\"USA/Martin Marietta\",\"USA/NASA\",\"USA/Northrop\",\"Kazakhstan/RVSN USSR\",\"Russian Federation/RVSN USSR\",\"Kazakhstan/Roscosmos\",\"USA/SpaceX\",\"USA/ULA\",\"USA/US Air Force\",\"USA/US Navy\",\"Russian Federation/VKS RF\",\"Brazil/AEB\",\"IRN/ISA\",\"Kazakhstan/RVSN USSR\",\"USA/SpaceX\",\"Australia/AMBA\",\"USA/AMBA\",\"Kenya/ASI\",\"France/Arianespace\",\"Kazakhstan/Arianespace\",\"France/Arm??e de l'Air\",\"USA/Blue Origin\",\"USA/Boeing\",\"China/CASC\",\"China/CASIC\",\"Australia/CECLES\",\"France/CNES\",\"USA/Douglas\",\"France/ESA\",\"Russian Federation/Eurockot\",\"China/ExPace\",\"USA/General Dynamics\",\"Israel/IAI\",\"Kazakhstan/ILS\",\"USA/ILS\",\"IRN/IRGC\",\"IRN/ISA\",\"Japan/ISAS\",\"India/ISRO\",\"Japan/JAXA\",\"Korea, Republic of/KARI\",\"Korea, Republic of/KCST\",\"Russian Federation/Khrunichev\",\"Kazakhstan/Kosmotras\",\"Russian Federation/Kosmotras\",\"Kazakhstan/Land Launch\",\"USA/Lockheed\",\"Japan/MHI\",\"Russian Federation/MITT\",\"USA/Martin Marietta\",\"USA/NASA\",\"USA/Northrop\",\"Kazakhstan/OKB-586\",\"Australia/RAE\",\"Kazakhstan/RVSN USSR\",\"Russian Federation/RVSN USSR\",\"New Zealand/Rocket Lab\",\"Kazakhstan/Roscosmos\",\"Russian Federation/Roscosmos\",\"China/SRC\",\"Russian Federation/Sea Launch\",\"USA/SpaceX\",\"Kazakhstan/Starsem\",\"USA/ULA\",\"USA/US Air Force\",\"USA/US Navy\",\"Japan/UT\",\"Kazakhstan/VKS RF\",\"Russian Federation/VKS RF\",\"Kazakhstan/Yuzhmash\",\"Russian Federation/Yuzhmash\",\"China/i-Space\",\"Brazil\",\"Australia\",\"USA\",\"Kenya\",\"France\",\"Kazakhstan\",\"France\",\"USA\",\"USA\",\"China\",\"China\",\"Australia\",\"France\",\"France\",\"USA\",\"USA\",\"France\",\"Russian Federation\",\"China\",\"Mexico\",\"USA\",\"Israel\",\"Kazakhstan\",\"USA\",\"IRN\",\"IRN\",\"Japan\",\"India\",\"Japan\",\"Korea, Republic of\",\"Korea, Republic of\",\"Russian Federation\",\"Kazakhstan\",\"Russian Federation\",\"Kazakhstan\",\"China\",\"USA\",\"Japan\",\"Russian Federation\",\"USA\",\"USA\",\"USA\",\"Kazakhstan\",\"China\",\"Australia\",\"Kazakhstan\",\"Russian Federation\",\"New Zealand\",\"Kazakhstan\",\"Russian Federation\",\"China\",\"USA\",\"Russian Federation\",\"USA\",\"Kazakhstan\",\"USA\",\"USA\",\"USA\",\"Japan\",\"Kazakhstan\",\"Russian Federation\",\"USA\",\"Kazakhstan\",\"Russian Federation\",\"China\",\"\",\"\",\"\",\"\",\"\",\"\",\"\",\"\",\"\",\"\",\"\",\"\",\"\",\"\",\"\"],\"values\":[2,3,7,3,14,2,2,1,2,1,3,1,1,1,37,2,8,3,8,1,2,3,1,1,5,2,1,11,11,7,1,1,66,55,2,2,1,1,1,3,4,30,14,4,3,4,1,1,3,1,2,6,1,3,11,1,1,5,1,2,3,6,2,17,24,1,1,1,2,1,6,1,1,1,1,1,3,9,267,2,3,12,131,231,3,1,6,1,9,12,9,203,9,5,40,1,4,26,63,6,1,2,1,11,10,6,74,80,6,100,186,74,2,1,495,1119,11,44,7,2,33,94,1,139,129,2,1,41,147,1,1,1,3,1,7,9,277,2,4,12,136,251,5,3,1,8,1,1,13,13,10,4,251,11,6,40,1,13,30,76,7,3,5,1,12,10,7,1,79,84,7,114,203,83,2,1,2,579,1198,13,47,8,3,1,36,100,1,140,161,17,5,44,157,1,1,1,1,6,3,272,303,14,76,11,126,701,9,8,4,13,1431,1347],\"type\":\"sunburst\"}],                        {\"template\":{\"data\":{\"histogram2dcontour\":[{\"type\":\"histogram2dcontour\",\"colorbar\":{\"outlinewidth\":0,\"ticks\":\"\"},\"colorscale\":[[0.0,\"#0d0887\"],[0.1111111111111111,\"#46039f\"],[0.2222222222222222,\"#7201a8\"],[0.3333333333333333,\"#9c179e\"],[0.4444444444444444,\"#bd3786\"],[0.5555555555555556,\"#d8576b\"],[0.6666666666666666,\"#ed7953\"],[0.7777777777777778,\"#fb9f3a\"],[0.8888888888888888,\"#fdca26\"],[1.0,\"#f0f921\"]]}],\"choropleth\":[{\"type\":\"choropleth\",\"colorbar\":{\"outlinewidth\":0,\"ticks\":\"\"}}],\"histogram2d\":[{\"type\":\"histogram2d\",\"colorbar\":{\"outlinewidth\":0,\"ticks\":\"\"},\"colorscale\":[[0.0,\"#0d0887\"],[0.1111111111111111,\"#46039f\"],[0.2222222222222222,\"#7201a8\"],[0.3333333333333333,\"#9c179e\"],[0.4444444444444444,\"#bd3786\"],[0.5555555555555556,\"#d8576b\"],[0.6666666666666666,\"#ed7953\"],[0.7777777777777778,\"#fb9f3a\"],[0.8888888888888888,\"#fdca26\"],[1.0,\"#f0f921\"]]}],\"heatmap\":[{\"type\":\"heatmap\",\"colorbar\":{\"outlinewidth\":0,\"ticks\":\"\"},\"colorscale\":[[0.0,\"#0d0887\"],[0.1111111111111111,\"#46039f\"],[0.2222222222222222,\"#7201a8\"],[0.3333333333333333,\"#9c179e\"],[0.4444444444444444,\"#bd3786\"],[0.5555555555555556,\"#d8576b\"],[0.6666666666666666,\"#ed7953\"],[0.7777777777777778,\"#fb9f3a\"],[0.8888888888888888,\"#fdca26\"],[1.0,\"#f0f921\"]]}],\"heatmapgl\":[{\"type\":\"heatmapgl\",\"colorbar\":{\"outlinewidth\":0,\"ticks\":\"\"},\"colorscale\":[[0.0,\"#0d0887\"],[0.1111111111111111,\"#46039f\"],[0.2222222222222222,\"#7201a8\"],[0.3333333333333333,\"#9c179e\"],[0.4444444444444444,\"#bd3786\"],[0.5555555555555556,\"#d8576b\"],[0.6666666666666666,\"#ed7953\"],[0.7777777777777778,\"#fb9f3a\"],[0.8888888888888888,\"#fdca26\"],[1.0,\"#f0f921\"]]}],\"contourcarpet\":[{\"type\":\"contourcarpet\",\"colorbar\":{\"outlinewidth\":0,\"ticks\":\"\"}}],\"contour\":[{\"type\":\"contour\",\"colorbar\":{\"outlinewidth\":0,\"ticks\":\"\"},\"colorscale\":[[0.0,\"#0d0887\"],[0.1111111111111111,\"#46039f\"],[0.2222222222222222,\"#7201a8\"],[0.3333333333333333,\"#9c179e\"],[0.4444444444444444,\"#bd3786\"],[0.5555555555555556,\"#d8576b\"],[0.6666666666666666,\"#ed7953\"],[0.7777777777777778,\"#fb9f3a\"],[0.8888888888888888,\"#fdca26\"],[1.0,\"#f0f921\"]]}],\"surface\":[{\"type\":\"surface\",\"colorbar\":{\"outlinewidth\":0,\"ticks\":\"\"},\"colorscale\":[[0.0,\"#0d0887\"],[0.1111111111111111,\"#46039f\"],[0.2222222222222222,\"#7201a8\"],[0.3333333333333333,\"#9c179e\"],[0.4444444444444444,\"#bd3786\"],[0.5555555555555556,\"#d8576b\"],[0.6666666666666666,\"#ed7953\"],[0.7777777777777778,\"#fb9f3a\"],[0.8888888888888888,\"#fdca26\"],[1.0,\"#f0f921\"]]}],\"mesh3d\":[{\"type\":\"mesh3d\",\"colorbar\":{\"outlinewidth\":0,\"ticks\":\"\"}}],\"scatter\":[{\"fillpattern\":{\"fillmode\":\"overlay\",\"size\":10,\"solidity\":0.2},\"type\":\"scatter\"}],\"parcoords\":[{\"type\":\"parcoords\",\"line\":{\"colorbar\":{\"outlinewidth\":0,\"ticks\":\"\"}}}],\"scatterpolargl\":[{\"type\":\"scatterpolargl\",\"marker\":{\"colorbar\":{\"outlinewidth\":0,\"ticks\":\"\"}}}],\"bar\":[{\"error_x\":{\"color\":\"#2a3f5f\"},\"error_y\":{\"color\":\"#2a3f5f\"},\"marker\":{\"line\":{\"color\":\"#E5ECF6\",\"width\":0.5},\"pattern\":{\"fillmode\":\"overlay\",\"size\":10,\"solidity\":0.2}},\"type\":\"bar\"}],\"scattergeo\":[{\"type\":\"scattergeo\",\"marker\":{\"colorbar\":{\"outlinewidth\":0,\"ticks\":\"\"}}}],\"scatterpolar\":[{\"type\":\"scatterpolar\",\"marker\":{\"colorbar\":{\"outlinewidth\":0,\"ticks\":\"\"}}}],\"histogram\":[{\"marker\":{\"pattern\":{\"fillmode\":\"overlay\",\"size\":10,\"solidity\":0.2}},\"type\":\"histogram\"}],\"scattergl\":[{\"type\":\"scattergl\",\"marker\":{\"colorbar\":{\"outlinewidth\":0,\"ticks\":\"\"}}}],\"scatter3d\":[{\"type\":\"scatter3d\",\"line\":{\"colorbar\":{\"outlinewidth\":0,\"ticks\":\"\"}},\"marker\":{\"colorbar\":{\"outlinewidth\":0,\"ticks\":\"\"}}}],\"scattermapbox\":[{\"type\":\"scattermapbox\",\"marker\":{\"colorbar\":{\"outlinewidth\":0,\"ticks\":\"\"}}}],\"scatterternary\":[{\"type\":\"scatterternary\",\"marker\":{\"colorbar\":{\"outlinewidth\":0,\"ticks\":\"\"}}}],\"scattercarpet\":[{\"type\":\"scattercarpet\",\"marker\":{\"colorbar\":{\"outlinewidth\":0,\"ticks\":\"\"}}}],\"carpet\":[{\"aaxis\":{\"endlinecolor\":\"#2a3f5f\",\"gridcolor\":\"white\",\"linecolor\":\"white\",\"minorgridcolor\":\"white\",\"startlinecolor\":\"#2a3f5f\"},\"baxis\":{\"endlinecolor\":\"#2a3f5f\",\"gridcolor\":\"white\",\"linecolor\":\"white\",\"minorgridcolor\":\"white\",\"startlinecolor\":\"#2a3f5f\"},\"type\":\"carpet\"}],\"table\":[{\"cells\":{\"fill\":{\"color\":\"#EBF0F8\"},\"line\":{\"color\":\"white\"}},\"header\":{\"fill\":{\"color\":\"#C8D4E3\"},\"line\":{\"color\":\"white\"}},\"type\":\"table\"}],\"barpolar\":[{\"marker\":{\"line\":{\"color\":\"#E5ECF6\",\"width\":0.5},\"pattern\":{\"fillmode\":\"overlay\",\"size\":10,\"solidity\":0.2}},\"type\":\"barpolar\"}],\"pie\":[{\"automargin\":true,\"type\":\"pie\"}]},\"layout\":{\"autotypenumbers\":\"strict\",\"colorway\":[\"#636efa\",\"#EF553B\",\"#00cc96\",\"#ab63fa\",\"#FFA15A\",\"#19d3f3\",\"#FF6692\",\"#B6E880\",\"#FF97FF\",\"#FECB52\"],\"font\":{\"color\":\"#2a3f5f\"},\"hovermode\":\"closest\",\"hoverlabel\":{\"align\":\"left\"},\"paper_bgcolor\":\"white\",\"plot_bgcolor\":\"#E5ECF6\",\"polar\":{\"bgcolor\":\"#E5ECF6\",\"angularaxis\":{\"gridcolor\":\"white\",\"linecolor\":\"white\",\"ticks\":\"\"},\"radialaxis\":{\"gridcolor\":\"white\",\"linecolor\":\"white\",\"ticks\":\"\"}},\"ternary\":{\"bgcolor\":\"#E5ECF6\",\"aaxis\":{\"gridcolor\":\"white\",\"linecolor\":\"white\",\"ticks\":\"\"},\"baxis\":{\"gridcolor\":\"white\",\"linecolor\":\"white\",\"ticks\":\"\"},\"caxis\":{\"gridcolor\":\"white\",\"linecolor\":\"white\",\"ticks\":\"\"}},\"coloraxis\":{\"colorbar\":{\"outlinewidth\":0,\"ticks\":\"\"}},\"colorscale\":{\"sequential\":[[0.0,\"#0d0887\"],[0.1111111111111111,\"#46039f\"],[0.2222222222222222,\"#7201a8\"],[0.3333333333333333,\"#9c179e\"],[0.4444444444444444,\"#bd3786\"],[0.5555555555555556,\"#d8576b\"],[0.6666666666666666,\"#ed7953\"],[0.7777777777777778,\"#fb9f3a\"],[0.8888888888888888,\"#fdca26\"],[1.0,\"#f0f921\"]],\"sequentialminus\":[[0.0,\"#0d0887\"],[0.1111111111111111,\"#46039f\"],[0.2222222222222222,\"#7201a8\"],[0.3333333333333333,\"#9c179e\"],[0.4444444444444444,\"#bd3786\"],[0.5555555555555556,\"#d8576b\"],[0.6666666666666666,\"#ed7953\"],[0.7777777777777778,\"#fb9f3a\"],[0.8888888888888888,\"#fdca26\"],[1.0,\"#f0f921\"]],\"diverging\":[[0,\"#8e0152\"],[0.1,\"#c51b7d\"],[0.2,\"#de77ae\"],[0.3,\"#f1b6da\"],[0.4,\"#fde0ef\"],[0.5,\"#f7f7f7\"],[0.6,\"#e6f5d0\"],[0.7,\"#b8e186\"],[0.8,\"#7fbc41\"],[0.9,\"#4d9221\"],[1,\"#276419\"]]},\"xaxis\":{\"gridcolor\":\"white\",\"linecolor\":\"white\",\"ticks\":\"\",\"title\":{\"standoff\":15},\"zerolinecolor\":\"white\",\"automargin\":true,\"zerolinewidth\":2},\"yaxis\":{\"gridcolor\":\"white\",\"linecolor\":\"white\",\"ticks\":\"\",\"title\":{\"standoff\":15},\"zerolinecolor\":\"white\",\"automargin\":true,\"zerolinewidth\":2},\"scene\":{\"xaxis\":{\"backgroundcolor\":\"#E5ECF6\",\"gridcolor\":\"white\",\"linecolor\":\"white\",\"showbackground\":true,\"ticks\":\"\",\"zerolinecolor\":\"white\",\"gridwidth\":2},\"yaxis\":{\"backgroundcolor\":\"#E5ECF6\",\"gridcolor\":\"white\",\"linecolor\":\"white\",\"showbackground\":true,\"ticks\":\"\",\"zerolinecolor\":\"white\",\"gridwidth\":2},\"zaxis\":{\"backgroundcolor\":\"#E5ECF6\",\"gridcolor\":\"white\",\"linecolor\":\"white\",\"showbackground\":true,\"ticks\":\"\",\"zerolinecolor\":\"white\",\"gridwidth\":2}},\"shapedefaults\":{\"line\":{\"color\":\"#2a3f5f\"}},\"annotationdefaults\":{\"arrowcolor\":\"#2a3f5f\",\"arrowhead\":0,\"arrowwidth\":1},\"geo\":{\"bgcolor\":\"white\",\"landcolor\":\"#E5ECF6\",\"subunitcolor\":\"white\",\"showland\":true,\"showlakes\":true,\"lakecolor\":\"white\"},\"title\":{\"x\":0.05},\"mapbox\":{\"style\":\"light\"}}},\"legend\":{\"tracegroupgap\":0},\"margin\":{\"t\":60}},                        {\"responsive\": true}                    ).then(function(){\n",
              "                            \n",
              "var gd = document.getElementById('e19e887d-fb3f-43f6-b1e4-fbd782d66304');\n",
              "var x = new MutationObserver(function (mutations, observer) {{\n",
              "        var display = window.getComputedStyle(gd).display;\n",
              "        if (!display || display === 'none') {{\n",
              "            console.log([gd, 'removed!']);\n",
              "            Plotly.purge(gd);\n",
              "            observer.disconnect();\n",
              "        }}\n",
              "}});\n",
              "\n",
              "// Listen for the removal of the full notebook cells\n",
              "var notebookContainer = gd.closest('#notebook-container');\n",
              "if (notebookContainer) {{\n",
              "    x.observe(notebookContainer, {childList: true});\n",
              "}}\n",
              "\n",
              "// Listen for the clearing of the current output cell\n",
              "var outputEl = gd.closest('.output');\n",
              "if (outputEl) {{\n",
              "    x.observe(outputEl, {childList: true});\n",
              "}}\n",
              "\n",
              "                        })                };                            </script>        </div>\n",
              "</body>\n",
              "</html>"
            ]
          },
          "metadata": {}
        }
      ]
    },
    {
      "cell_type": "markdown",
      "metadata": {
        "papermill": {
          "duration": 0.062712,
          "end_time": "2020-10-20T21:34:07.951200",
          "exception": false,
          "start_time": "2020-10-20T21:34:07.888488",
          "status": "completed"
        },
        "tags": [],
        "id": "70pG1BCZa-qY"
      },
      "source": [
        "# Analyse the Total Amount of Money Spent by Organisation on Space Missions"
      ]
    },
    {
      "cell_type": "code",
      "metadata": {
        "id": "IaJYxwEVpKHy",
        "colab": {
          "base_uri": "https://localhost:8080/",
          "height": 1000
        },
        "outputId": "5e38ee74-2304-47ef-c9dd-7b3d967d8f4d"
      },
      "source": [
        "data3.groupby(by='Organisation').sum()"
      ],
      "execution_count": 97,
      "outputs": [
        {
          "output_type": "stream",
          "name": "stderr",
          "text": [
            "<ipython-input-97-f686af9b3a09>:1: FutureWarning:\n",
            "\n",
            "The default value of numeric_only in DataFrameGroupBy.sum is deprecated. In a future version, numeric_only will default to False. Either specify numeric_only or select only columns which should be valid for the function.\n",
            "\n"
          ]
        },
        {
          "output_type": "execute_result",
          "data": {
            "text/plain": [
              "                      Price\n",
              "Organisation               \n",
              "AEB                  461.38\n",
              "AMBA               1,230.34\n",
              "ASI                1,384.13\n",
              "Arianespace       44,488.97\n",
              "Arm??e de l'Air      615.17\n",
              "Blue Origin        1,845.51\n",
              "Boeing            21,080.19\n",
              "CASC              20,642.93\n",
              "CASIC                768.96\n",
              "CECLES               615.17\n",
              "CNES               1,230.34\n",
              "Douglas              153.79\n",
              "EER                   20.00\n",
              "ESA                1,882.51\n",
              "Eurockot             543.40\n",
              "ExPace             1,412.43\n",
              "Exos                 615.17\n",
              "General Dynamics  38,601.84\n",
              "IAI                1,691.71\n",
              "ILS                6,395.14\n",
              "IRGC                 153.79\n",
              "ISA                1,999.30\n",
              "ISAS               4,613.77\n",
              "ISRO               3,561.13\n",
              "JAXA                 783.17\n",
              "KARI                 461.38\n",
              "KCST                 768.96\n",
              "Khrunichev           153.79\n",
              "Kosmotras            638.00\n",
              "Land Launch        1,076.55\n",
              "Landspace            153.79\n",
              "Lockheed          11,199.25\n",
              "MHI               10,760.73\n",
              "MITT               1,076.55\n",
              "Martin Marietta   16,869.58\n",
              "NASA              84,584.78\n",
              "Northrop           3,930.00\n",
              "OKB-586              307.58\n",
              "OneSpace             153.79\n",
              "RAE                  307.58\n",
              "RVSN USSR        282,981.15\n",
              "Rocket Lab            97.50\n",
              "Roscosmos          6,108.85\n",
              "SRC                  461.38\n",
              "Sandia                15.00\n",
              "Sea Launch         5,536.52\n",
              "SpaceX             5,597.79\n",
              "Starsem              153.79\n",
              "ULA               21,257.27\n",
              "US Air Force      22,312.87\n",
              "US Navy            2,614.47\n",
              "UT                   768.96\n",
              "VKS RF            27,385.99\n",
              "Virgin Orbit          12.00\n",
              "Yuzhmash             307.58\n",
              "i-Space              153.79"
            ],
            "text/html": [
              "\n",
              "  <div id=\"df-6f17e916-132c-40f9-8eac-b54b50b67afb\">\n",
              "    <div class=\"colab-df-container\">\n",
              "      <div>\n",
              "<style scoped>\n",
              "    .dataframe tbody tr th:only-of-type {\n",
              "        vertical-align: middle;\n",
              "    }\n",
              "\n",
              "    .dataframe tbody tr th {\n",
              "        vertical-align: top;\n",
              "    }\n",
              "\n",
              "    .dataframe thead th {\n",
              "        text-align: right;\n",
              "    }\n",
              "</style>\n",
              "<table border=\"1\" class=\"dataframe\">\n",
              "  <thead>\n",
              "    <tr style=\"text-align: right;\">\n",
              "      <th></th>\n",
              "      <th>Price</th>\n",
              "    </tr>\n",
              "    <tr>\n",
              "      <th>Organisation</th>\n",
              "      <th></th>\n",
              "    </tr>\n",
              "  </thead>\n",
              "  <tbody>\n",
              "    <tr>\n",
              "      <th>AEB</th>\n",
              "      <td>461.38</td>\n",
              "    </tr>\n",
              "    <tr>\n",
              "      <th>AMBA</th>\n",
              "      <td>1,230.34</td>\n",
              "    </tr>\n",
              "    <tr>\n",
              "      <th>ASI</th>\n",
              "      <td>1,384.13</td>\n",
              "    </tr>\n",
              "    <tr>\n",
              "      <th>Arianespace</th>\n",
              "      <td>44,488.97</td>\n",
              "    </tr>\n",
              "    <tr>\n",
              "      <th>Arm??e de l'Air</th>\n",
              "      <td>615.17</td>\n",
              "    </tr>\n",
              "    <tr>\n",
              "      <th>Blue Origin</th>\n",
              "      <td>1,845.51</td>\n",
              "    </tr>\n",
              "    <tr>\n",
              "      <th>Boeing</th>\n",
              "      <td>21,080.19</td>\n",
              "    </tr>\n",
              "    <tr>\n",
              "      <th>CASC</th>\n",
              "      <td>20,642.93</td>\n",
              "    </tr>\n",
              "    <tr>\n",
              "      <th>CASIC</th>\n",
              "      <td>768.96</td>\n",
              "    </tr>\n",
              "    <tr>\n",
              "      <th>CECLES</th>\n",
              "      <td>615.17</td>\n",
              "    </tr>\n",
              "    <tr>\n",
              "      <th>CNES</th>\n",
              "      <td>1,230.34</td>\n",
              "    </tr>\n",
              "    <tr>\n",
              "      <th>Douglas</th>\n",
              "      <td>153.79</td>\n",
              "    </tr>\n",
              "    <tr>\n",
              "      <th>EER</th>\n",
              "      <td>20.00</td>\n",
              "    </tr>\n",
              "    <tr>\n",
              "      <th>ESA</th>\n",
              "      <td>1,882.51</td>\n",
              "    </tr>\n",
              "    <tr>\n",
              "      <th>Eurockot</th>\n",
              "      <td>543.40</td>\n",
              "    </tr>\n",
              "    <tr>\n",
              "      <th>ExPace</th>\n",
              "      <td>1,412.43</td>\n",
              "    </tr>\n",
              "    <tr>\n",
              "      <th>Exos</th>\n",
              "      <td>615.17</td>\n",
              "    </tr>\n",
              "    <tr>\n",
              "      <th>General Dynamics</th>\n",
              "      <td>38,601.84</td>\n",
              "    </tr>\n",
              "    <tr>\n",
              "      <th>IAI</th>\n",
              "      <td>1,691.71</td>\n",
              "    </tr>\n",
              "    <tr>\n",
              "      <th>ILS</th>\n",
              "      <td>6,395.14</td>\n",
              "    </tr>\n",
              "    <tr>\n",
              "      <th>IRGC</th>\n",
              "      <td>153.79</td>\n",
              "    </tr>\n",
              "    <tr>\n",
              "      <th>ISA</th>\n",
              "      <td>1,999.30</td>\n",
              "    </tr>\n",
              "    <tr>\n",
              "      <th>ISAS</th>\n",
              "      <td>4,613.77</td>\n",
              "    </tr>\n",
              "    <tr>\n",
              "      <th>ISRO</th>\n",
              "      <td>3,561.13</td>\n",
              "    </tr>\n",
              "    <tr>\n",
              "      <th>JAXA</th>\n",
              "      <td>783.17</td>\n",
              "    </tr>\n",
              "    <tr>\n",
              "      <th>KARI</th>\n",
              "      <td>461.38</td>\n",
              "    </tr>\n",
              "    <tr>\n",
              "      <th>KCST</th>\n",
              "      <td>768.96</td>\n",
              "    </tr>\n",
              "    <tr>\n",
              "      <th>Khrunichev</th>\n",
              "      <td>153.79</td>\n",
              "    </tr>\n",
              "    <tr>\n",
              "      <th>Kosmotras</th>\n",
              "      <td>638.00</td>\n",
              "    </tr>\n",
              "    <tr>\n",
              "      <th>Land Launch</th>\n",
              "      <td>1,076.55</td>\n",
              "    </tr>\n",
              "    <tr>\n",
              "      <th>Landspace</th>\n",
              "      <td>153.79</td>\n",
              "    </tr>\n",
              "    <tr>\n",
              "      <th>Lockheed</th>\n",
              "      <td>11,199.25</td>\n",
              "    </tr>\n",
              "    <tr>\n",
              "      <th>MHI</th>\n",
              "      <td>10,760.73</td>\n",
              "    </tr>\n",
              "    <tr>\n",
              "      <th>MITT</th>\n",
              "      <td>1,076.55</td>\n",
              "    </tr>\n",
              "    <tr>\n",
              "      <th>Martin Marietta</th>\n",
              "      <td>16,869.58</td>\n",
              "    </tr>\n",
              "    <tr>\n",
              "      <th>NASA</th>\n",
              "      <td>84,584.78</td>\n",
              "    </tr>\n",
              "    <tr>\n",
              "      <th>Northrop</th>\n",
              "      <td>3,930.00</td>\n",
              "    </tr>\n",
              "    <tr>\n",
              "      <th>OKB-586</th>\n",
              "      <td>307.58</td>\n",
              "    </tr>\n",
              "    <tr>\n",
              "      <th>OneSpace</th>\n",
              "      <td>153.79</td>\n",
              "    </tr>\n",
              "    <tr>\n",
              "      <th>RAE</th>\n",
              "      <td>307.58</td>\n",
              "    </tr>\n",
              "    <tr>\n",
              "      <th>RVSN USSR</th>\n",
              "      <td>282,981.15</td>\n",
              "    </tr>\n",
              "    <tr>\n",
              "      <th>Rocket Lab</th>\n",
              "      <td>97.50</td>\n",
              "    </tr>\n",
              "    <tr>\n",
              "      <th>Roscosmos</th>\n",
              "      <td>6,108.85</td>\n",
              "    </tr>\n",
              "    <tr>\n",
              "      <th>SRC</th>\n",
              "      <td>461.38</td>\n",
              "    </tr>\n",
              "    <tr>\n",
              "      <th>Sandia</th>\n",
              "      <td>15.00</td>\n",
              "    </tr>\n",
              "    <tr>\n",
              "      <th>Sea Launch</th>\n",
              "      <td>5,536.52</td>\n",
              "    </tr>\n",
              "    <tr>\n",
              "      <th>SpaceX</th>\n",
              "      <td>5,597.79</td>\n",
              "    </tr>\n",
              "    <tr>\n",
              "      <th>Starsem</th>\n",
              "      <td>153.79</td>\n",
              "    </tr>\n",
              "    <tr>\n",
              "      <th>ULA</th>\n",
              "      <td>21,257.27</td>\n",
              "    </tr>\n",
              "    <tr>\n",
              "      <th>US Air Force</th>\n",
              "      <td>22,312.87</td>\n",
              "    </tr>\n",
              "    <tr>\n",
              "      <th>US Navy</th>\n",
              "      <td>2,614.47</td>\n",
              "    </tr>\n",
              "    <tr>\n",
              "      <th>UT</th>\n",
              "      <td>768.96</td>\n",
              "    </tr>\n",
              "    <tr>\n",
              "      <th>VKS RF</th>\n",
              "      <td>27,385.99</td>\n",
              "    </tr>\n",
              "    <tr>\n",
              "      <th>Virgin Orbit</th>\n",
              "      <td>12.00</td>\n",
              "    </tr>\n",
              "    <tr>\n",
              "      <th>Yuzhmash</th>\n",
              "      <td>307.58</td>\n",
              "    </tr>\n",
              "    <tr>\n",
              "      <th>i-Space</th>\n",
              "      <td>153.79</td>\n",
              "    </tr>\n",
              "  </tbody>\n",
              "</table>\n",
              "</div>\n",
              "      <button class=\"colab-df-convert\" onclick=\"convertToInteractive('df-6f17e916-132c-40f9-8eac-b54b50b67afb')\"\n",
              "              title=\"Convert this dataframe to an interactive table.\"\n",
              "              style=\"display:none;\">\n",
              "        \n",
              "  <svg xmlns=\"http://www.w3.org/2000/svg\" height=\"24px\"viewBox=\"0 0 24 24\"\n",
              "       width=\"24px\">\n",
              "    <path d=\"M0 0h24v24H0V0z\" fill=\"none\"/>\n",
              "    <path d=\"M18.56 5.44l.94 2.06.94-2.06 2.06-.94-2.06-.94-.94-2.06-.94 2.06-2.06.94zm-11 1L8.5 8.5l.94-2.06 2.06-.94-2.06-.94L8.5 2.5l-.94 2.06-2.06.94zm10 10l.94 2.06.94-2.06 2.06-.94-2.06-.94-.94-2.06-.94 2.06-2.06.94z\"/><path d=\"M17.41 7.96l-1.37-1.37c-.4-.4-.92-.59-1.43-.59-.52 0-1.04.2-1.43.59L10.3 9.45l-7.72 7.72c-.78.78-.78 2.05 0 2.83L4 21.41c.39.39.9.59 1.41.59.51 0 1.02-.2 1.41-.59l7.78-7.78 2.81-2.81c.8-.78.8-2.07 0-2.86zM5.41 20L4 18.59l7.72-7.72 1.47 1.35L5.41 20z\"/>\n",
              "  </svg>\n",
              "      </button>\n",
              "      \n",
              "  <style>\n",
              "    .colab-df-container {\n",
              "      display:flex;\n",
              "      flex-wrap:wrap;\n",
              "      gap: 12px;\n",
              "    }\n",
              "\n",
              "    .colab-df-convert {\n",
              "      background-color: #E8F0FE;\n",
              "      border: none;\n",
              "      border-radius: 50%;\n",
              "      cursor: pointer;\n",
              "      display: none;\n",
              "      fill: #1967D2;\n",
              "      height: 32px;\n",
              "      padding: 0 0 0 0;\n",
              "      width: 32px;\n",
              "    }\n",
              "\n",
              "    .colab-df-convert:hover {\n",
              "      background-color: #E2EBFA;\n",
              "      box-shadow: 0px 1px 2px rgba(60, 64, 67, 0.3), 0px 1px 3px 1px rgba(60, 64, 67, 0.15);\n",
              "      fill: #174EA6;\n",
              "    }\n",
              "\n",
              "    [theme=dark] .colab-df-convert {\n",
              "      background-color: #3B4455;\n",
              "      fill: #D2E3FC;\n",
              "    }\n",
              "\n",
              "    [theme=dark] .colab-df-convert:hover {\n",
              "      background-color: #434B5C;\n",
              "      box-shadow: 0px 1px 3px 1px rgba(0, 0, 0, 0.15);\n",
              "      filter: drop-shadow(0px 1px 2px rgba(0, 0, 0, 0.3));\n",
              "      fill: #FFFFFF;\n",
              "    }\n",
              "  </style>\n",
              "\n",
              "      <script>\n",
              "        const buttonEl =\n",
              "          document.querySelector('#df-6f17e916-132c-40f9-8eac-b54b50b67afb button.colab-df-convert');\n",
              "        buttonEl.style.display =\n",
              "          google.colab.kernel.accessAllowed ? 'block' : 'none';\n",
              "\n",
              "        async function convertToInteractive(key) {\n",
              "          const element = document.querySelector('#df-6f17e916-132c-40f9-8eac-b54b50b67afb');\n",
              "          const dataTable =\n",
              "            await google.colab.kernel.invokeFunction('convertToInteractive',\n",
              "                                                     [key], {});\n",
              "          if (!dataTable) return;\n",
              "\n",
              "          const docLinkHtml = 'Like what you see? Visit the ' +\n",
              "            '<a target=\"_blank\" href=https://colab.research.google.com/notebooks/data_table.ipynb>data table notebook</a>'\n",
              "            + ' to learn more about interactive tables.';\n",
              "          element.innerHTML = '';\n",
              "          dataTable['output_type'] = 'display_data';\n",
              "          await google.colab.output.renderOutput(dataTable, element);\n",
              "          const docLink = document.createElement('div');\n",
              "          docLink.innerHTML = docLinkHtml;\n",
              "          element.appendChild(docLink);\n",
              "        }\n",
              "      </script>\n",
              "    </div>\n",
              "  </div>\n",
              "  "
            ]
          },
          "metadata": {},
          "execution_count": 97
        }
      ]
    },
    {
      "cell_type": "markdown",
      "metadata": {
        "id": "DpsWkPxzpPXs"
      },
      "source": [
        "# Analyse the Amount of Money Spent by Organisation per Launch"
      ]
    },
    {
      "cell_type": "code",
      "metadata": {
        "id": "opYJ6GiRpTk5",
        "colab": {
          "base_uri": "https://localhost:8080/",
          "height": 1000
        },
        "outputId": "98b05ccb-613c-45e2-8a63-77af465e4bd6"
      },
      "source": [
        "data3.groupby(by='Organisation').mean()"
      ],
      "execution_count": 98,
      "outputs": [
        {
          "output_type": "stream",
          "name": "stderr",
          "text": [
            "<ipython-input-98-c5d5be1e797a>:1: FutureWarning:\n",
            "\n",
            "The default value of numeric_only in DataFrameGroupBy.mean is deprecated. In a future version, numeric_only will default to False. Either specify numeric_only or select only columns which should be valid for the function.\n",
            "\n"
          ]
        },
        {
          "output_type": "execute_result",
          "data": {
            "text/plain": [
              "                  Price\n",
              "Organisation           \n",
              "AEB              153.79\n",
              "AMBA             153.79\n",
              "ASI              153.79\n",
              "Arianespace      159.46\n",
              "Arm??e de l'Air  153.79\n",
              "Blue Origin      153.79\n",
              "Boeing           155.00\n",
              "CASC              82.24\n",
              "CASIC            153.79\n",
              "CECLES           153.79\n",
              "CNES             153.79\n",
              "Douglas          153.79\n",
              "EER               20.00\n",
              "ESA              144.81\n",
              "Eurockot          41.80\n",
              "ExPace           141.24\n",
              "Exos             153.79\n",
              "General Dynamics 153.79\n",
              "IAI              153.79\n",
              "ILS              139.02\n",
              "IRGC             153.79\n",
              "ISA              153.79\n",
              "ISAS             153.79\n",
              "ISRO              46.86\n",
              "JAXA             111.88\n",
              "KARI             153.79\n",
              "KCST             153.79\n",
              "Khrunichev       153.79\n",
              "Kosmotras         29.00\n",
              "Land Launch      153.79\n",
              "Landspace        153.79\n",
              "Lockheed         141.76\n",
              "MHI              128.10\n",
              "MITT             153.79\n",
              "Martin Marietta  147.98\n",
              "NASA             416.67\n",
              "Northrop          47.35\n",
              "OKB-586          153.79\n",
              "OneSpace         153.79\n",
              "RAE              153.79\n",
              "RVSN USSR        159.25\n",
              "Rocket Lab         7.50\n",
              "Roscosmos        111.07\n",
              "SRC              153.79\n",
              "Sandia            15.00\n",
              "Sea Launch       153.79\n",
              "SpaceX            55.98\n",
              "Starsem          153.79\n",
              "ULA              151.84\n",
              "US Air Force     138.59\n",
              "US Navy          153.79\n",
              "UT               153.79\n",
              "VKS RF           136.25\n",
              "Virgin Orbit      12.00\n",
              "Yuzhmash         153.79\n",
              "i-Space          153.79"
            ],
            "text/html": [
              "\n",
              "  <div id=\"df-b04c1028-f443-462c-814e-0c3db675e20b\">\n",
              "    <div class=\"colab-df-container\">\n",
              "      <div>\n",
              "<style scoped>\n",
              "    .dataframe tbody tr th:only-of-type {\n",
              "        vertical-align: middle;\n",
              "    }\n",
              "\n",
              "    .dataframe tbody tr th {\n",
              "        vertical-align: top;\n",
              "    }\n",
              "\n",
              "    .dataframe thead th {\n",
              "        text-align: right;\n",
              "    }\n",
              "</style>\n",
              "<table border=\"1\" class=\"dataframe\">\n",
              "  <thead>\n",
              "    <tr style=\"text-align: right;\">\n",
              "      <th></th>\n",
              "      <th>Price</th>\n",
              "    </tr>\n",
              "    <tr>\n",
              "      <th>Organisation</th>\n",
              "      <th></th>\n",
              "    </tr>\n",
              "  </thead>\n",
              "  <tbody>\n",
              "    <tr>\n",
              "      <th>AEB</th>\n",
              "      <td>153.79</td>\n",
              "    </tr>\n",
              "    <tr>\n",
              "      <th>AMBA</th>\n",
              "      <td>153.79</td>\n",
              "    </tr>\n",
              "    <tr>\n",
              "      <th>ASI</th>\n",
              "      <td>153.79</td>\n",
              "    </tr>\n",
              "    <tr>\n",
              "      <th>Arianespace</th>\n",
              "      <td>159.46</td>\n",
              "    </tr>\n",
              "    <tr>\n",
              "      <th>Arm??e de l'Air</th>\n",
              "      <td>153.79</td>\n",
              "    </tr>\n",
              "    <tr>\n",
              "      <th>Blue Origin</th>\n",
              "      <td>153.79</td>\n",
              "    </tr>\n",
              "    <tr>\n",
              "      <th>Boeing</th>\n",
              "      <td>155.00</td>\n",
              "    </tr>\n",
              "    <tr>\n",
              "      <th>CASC</th>\n",
              "      <td>82.24</td>\n",
              "    </tr>\n",
              "    <tr>\n",
              "      <th>CASIC</th>\n",
              "      <td>153.79</td>\n",
              "    </tr>\n",
              "    <tr>\n",
              "      <th>CECLES</th>\n",
              "      <td>153.79</td>\n",
              "    </tr>\n",
              "    <tr>\n",
              "      <th>CNES</th>\n",
              "      <td>153.79</td>\n",
              "    </tr>\n",
              "    <tr>\n",
              "      <th>Douglas</th>\n",
              "      <td>153.79</td>\n",
              "    </tr>\n",
              "    <tr>\n",
              "      <th>EER</th>\n",
              "      <td>20.00</td>\n",
              "    </tr>\n",
              "    <tr>\n",
              "      <th>ESA</th>\n",
              "      <td>144.81</td>\n",
              "    </tr>\n",
              "    <tr>\n",
              "      <th>Eurockot</th>\n",
              "      <td>41.80</td>\n",
              "    </tr>\n",
              "    <tr>\n",
              "      <th>ExPace</th>\n",
              "      <td>141.24</td>\n",
              "    </tr>\n",
              "    <tr>\n",
              "      <th>Exos</th>\n",
              "      <td>153.79</td>\n",
              "    </tr>\n",
              "    <tr>\n",
              "      <th>General Dynamics</th>\n",
              "      <td>153.79</td>\n",
              "    </tr>\n",
              "    <tr>\n",
              "      <th>IAI</th>\n",
              "      <td>153.79</td>\n",
              "    </tr>\n",
              "    <tr>\n",
              "      <th>ILS</th>\n",
              "      <td>139.02</td>\n",
              "    </tr>\n",
              "    <tr>\n",
              "      <th>IRGC</th>\n",
              "      <td>153.79</td>\n",
              "    </tr>\n",
              "    <tr>\n",
              "      <th>ISA</th>\n",
              "      <td>153.79</td>\n",
              "    </tr>\n",
              "    <tr>\n",
              "      <th>ISAS</th>\n",
              "      <td>153.79</td>\n",
              "    </tr>\n",
              "    <tr>\n",
              "      <th>ISRO</th>\n",
              "      <td>46.86</td>\n",
              "    </tr>\n",
              "    <tr>\n",
              "      <th>JAXA</th>\n",
              "      <td>111.88</td>\n",
              "    </tr>\n",
              "    <tr>\n",
              "      <th>KARI</th>\n",
              "      <td>153.79</td>\n",
              "    </tr>\n",
              "    <tr>\n",
              "      <th>KCST</th>\n",
              "      <td>153.79</td>\n",
              "    </tr>\n",
              "    <tr>\n",
              "      <th>Khrunichev</th>\n",
              "      <td>153.79</td>\n",
              "    </tr>\n",
              "    <tr>\n",
              "      <th>Kosmotras</th>\n",
              "      <td>29.00</td>\n",
              "    </tr>\n",
              "    <tr>\n",
              "      <th>Land Launch</th>\n",
              "      <td>153.79</td>\n",
              "    </tr>\n",
              "    <tr>\n",
              "      <th>Landspace</th>\n",
              "      <td>153.79</td>\n",
              "    </tr>\n",
              "    <tr>\n",
              "      <th>Lockheed</th>\n",
              "      <td>141.76</td>\n",
              "    </tr>\n",
              "    <tr>\n",
              "      <th>MHI</th>\n",
              "      <td>128.10</td>\n",
              "    </tr>\n",
              "    <tr>\n",
              "      <th>MITT</th>\n",
              "      <td>153.79</td>\n",
              "    </tr>\n",
              "    <tr>\n",
              "      <th>Martin Marietta</th>\n",
              "      <td>147.98</td>\n",
              "    </tr>\n",
              "    <tr>\n",
              "      <th>NASA</th>\n",
              "      <td>416.67</td>\n",
              "    </tr>\n",
              "    <tr>\n",
              "      <th>Northrop</th>\n",
              "      <td>47.35</td>\n",
              "    </tr>\n",
              "    <tr>\n",
              "      <th>OKB-586</th>\n",
              "      <td>153.79</td>\n",
              "    </tr>\n",
              "    <tr>\n",
              "      <th>OneSpace</th>\n",
              "      <td>153.79</td>\n",
              "    </tr>\n",
              "    <tr>\n",
              "      <th>RAE</th>\n",
              "      <td>153.79</td>\n",
              "    </tr>\n",
              "    <tr>\n",
              "      <th>RVSN USSR</th>\n",
              "      <td>159.25</td>\n",
              "    </tr>\n",
              "    <tr>\n",
              "      <th>Rocket Lab</th>\n",
              "      <td>7.50</td>\n",
              "    </tr>\n",
              "    <tr>\n",
              "      <th>Roscosmos</th>\n",
              "      <td>111.07</td>\n",
              "    </tr>\n",
              "    <tr>\n",
              "      <th>SRC</th>\n",
              "      <td>153.79</td>\n",
              "    </tr>\n",
              "    <tr>\n",
              "      <th>Sandia</th>\n",
              "      <td>15.00</td>\n",
              "    </tr>\n",
              "    <tr>\n",
              "      <th>Sea Launch</th>\n",
              "      <td>153.79</td>\n",
              "    </tr>\n",
              "    <tr>\n",
              "      <th>SpaceX</th>\n",
              "      <td>55.98</td>\n",
              "    </tr>\n",
              "    <tr>\n",
              "      <th>Starsem</th>\n",
              "      <td>153.79</td>\n",
              "    </tr>\n",
              "    <tr>\n",
              "      <th>ULA</th>\n",
              "      <td>151.84</td>\n",
              "    </tr>\n",
              "    <tr>\n",
              "      <th>US Air Force</th>\n",
              "      <td>138.59</td>\n",
              "    </tr>\n",
              "    <tr>\n",
              "      <th>US Navy</th>\n",
              "      <td>153.79</td>\n",
              "    </tr>\n",
              "    <tr>\n",
              "      <th>UT</th>\n",
              "      <td>153.79</td>\n",
              "    </tr>\n",
              "    <tr>\n",
              "      <th>VKS RF</th>\n",
              "      <td>136.25</td>\n",
              "    </tr>\n",
              "    <tr>\n",
              "      <th>Virgin Orbit</th>\n",
              "      <td>12.00</td>\n",
              "    </tr>\n",
              "    <tr>\n",
              "      <th>Yuzhmash</th>\n",
              "      <td>153.79</td>\n",
              "    </tr>\n",
              "    <tr>\n",
              "      <th>i-Space</th>\n",
              "      <td>153.79</td>\n",
              "    </tr>\n",
              "  </tbody>\n",
              "</table>\n",
              "</div>\n",
              "      <button class=\"colab-df-convert\" onclick=\"convertToInteractive('df-b04c1028-f443-462c-814e-0c3db675e20b')\"\n",
              "              title=\"Convert this dataframe to an interactive table.\"\n",
              "              style=\"display:none;\">\n",
              "        \n",
              "  <svg xmlns=\"http://www.w3.org/2000/svg\" height=\"24px\"viewBox=\"0 0 24 24\"\n",
              "       width=\"24px\">\n",
              "    <path d=\"M0 0h24v24H0V0z\" fill=\"none\"/>\n",
              "    <path d=\"M18.56 5.44l.94 2.06.94-2.06 2.06-.94-2.06-.94-.94-2.06-.94 2.06-2.06.94zm-11 1L8.5 8.5l.94-2.06 2.06-.94-2.06-.94L8.5 2.5l-.94 2.06-2.06.94zm10 10l.94 2.06.94-2.06 2.06-.94-2.06-.94-.94-2.06-.94 2.06-2.06.94z\"/><path d=\"M17.41 7.96l-1.37-1.37c-.4-.4-.92-.59-1.43-.59-.52 0-1.04.2-1.43.59L10.3 9.45l-7.72 7.72c-.78.78-.78 2.05 0 2.83L4 21.41c.39.39.9.59 1.41.59.51 0 1.02-.2 1.41-.59l7.78-7.78 2.81-2.81c.8-.78.8-2.07 0-2.86zM5.41 20L4 18.59l7.72-7.72 1.47 1.35L5.41 20z\"/>\n",
              "  </svg>\n",
              "      </button>\n",
              "      \n",
              "  <style>\n",
              "    .colab-df-container {\n",
              "      display:flex;\n",
              "      flex-wrap:wrap;\n",
              "      gap: 12px;\n",
              "    }\n",
              "\n",
              "    .colab-df-convert {\n",
              "      background-color: #E8F0FE;\n",
              "      border: none;\n",
              "      border-radius: 50%;\n",
              "      cursor: pointer;\n",
              "      display: none;\n",
              "      fill: #1967D2;\n",
              "      height: 32px;\n",
              "      padding: 0 0 0 0;\n",
              "      width: 32px;\n",
              "    }\n",
              "\n",
              "    .colab-df-convert:hover {\n",
              "      background-color: #E2EBFA;\n",
              "      box-shadow: 0px 1px 2px rgba(60, 64, 67, 0.3), 0px 1px 3px 1px rgba(60, 64, 67, 0.15);\n",
              "      fill: #174EA6;\n",
              "    }\n",
              "\n",
              "    [theme=dark] .colab-df-convert {\n",
              "      background-color: #3B4455;\n",
              "      fill: #D2E3FC;\n",
              "    }\n",
              "\n",
              "    [theme=dark] .colab-df-convert:hover {\n",
              "      background-color: #434B5C;\n",
              "      box-shadow: 0px 1px 3px 1px rgba(0, 0, 0, 0.15);\n",
              "      filter: drop-shadow(0px 1px 2px rgba(0, 0, 0, 0.3));\n",
              "      fill: #FFFFFF;\n",
              "    }\n",
              "  </style>\n",
              "\n",
              "      <script>\n",
              "        const buttonEl =\n",
              "          document.querySelector('#df-b04c1028-f443-462c-814e-0c3db675e20b button.colab-df-convert');\n",
              "        buttonEl.style.display =\n",
              "          google.colab.kernel.accessAllowed ? 'block' : 'none';\n",
              "\n",
              "        async function convertToInteractive(key) {\n",
              "          const element = document.querySelector('#df-b04c1028-f443-462c-814e-0c3db675e20b');\n",
              "          const dataTable =\n",
              "            await google.colab.kernel.invokeFunction('convertToInteractive',\n",
              "                                                     [key], {});\n",
              "          if (!dataTable) return;\n",
              "\n",
              "          const docLinkHtml = 'Like what you see? Visit the ' +\n",
              "            '<a target=\"_blank\" href=https://colab.research.google.com/notebooks/data_table.ipynb>data table notebook</a>'\n",
              "            + ' to learn more about interactive tables.';\n",
              "          element.innerHTML = '';\n",
              "          dataTable['output_type'] = 'display_data';\n",
              "          await google.colab.output.renderOutput(dataTable, element);\n",
              "          const docLink = document.createElement('div');\n",
              "          docLink.innerHTML = docLinkHtml;\n",
              "          element.appendChild(docLink);\n",
              "        }\n",
              "      </script>\n",
              "    </div>\n",
              "  </div>\n",
              "  "
            ]
          },
          "metadata": {},
          "execution_count": 98
        }
      ]
    },
    {
      "cell_type": "markdown",
      "metadata": {
        "papermill": {
          "duration": 0.042662,
          "end_time": "2020-10-20T21:34:09.943196",
          "exception": false,
          "start_time": "2020-10-20T21:34:09.900534",
          "status": "completed"
        },
        "tags": [],
        "id": "yRa1BbPoa-qf"
      },
      "source": [
        "# Chart the Number of Launches per Year"
      ]
    },
    {
      "cell_type": "code",
      "metadata": {
        "id": "_9FohVh3pcAJ"
      },
      "source": [
        "y = []\n",
        "for i in data3.Date:\n",
        "  y.append(i.split(' ')[3])\n",
        "year = pd.DataFrame({'year':y})\n",
        "data4 = pd.concat([data3, year.reindex(data3.index)], axis=1)"
      ],
      "execution_count": 99,
      "outputs": []
    },
    {
      "cell_type": "code",
      "metadata": {
        "id": "b2pggcZBpb4x"
      },
      "source": [
        "count_by_year = []\n",
        "for i in data4.year.unique():\n",
        "  count_by_year.append(data4['year'].value_counts()[i])"
      ],
      "execution_count": 100,
      "outputs": []
    },
    {
      "cell_type": "code",
      "source": [
        "fig = px.bar(data4, x=data4.year.unique(), y=count_by_year)\n",
        "fig.show()"
      ],
      "metadata": {
        "colab": {
          "base_uri": "https://localhost:8080/",
          "height": 542
        },
        "id": "Ee2bZcwjDlD_",
        "outputId": "eb17ce4d-1296-4da0-c855-7daa18d37fbb"
      },
      "execution_count": 101,
      "outputs": [
        {
          "output_type": "display_data",
          "data": {
            "text/html": [
              "<html>\n",
              "<head><meta charset=\"utf-8\" /></head>\n",
              "<body>\n",
              "    <div>            <script src=\"https://cdnjs.cloudflare.com/ajax/libs/mathjax/2.7.5/MathJax.js?config=TeX-AMS-MML_SVG\"></script><script type=\"text/javascript\">if (window.MathJax && window.MathJax.Hub && window.MathJax.Hub.Config) {window.MathJax.Hub.Config({SVG: {font: \"STIX-Web\"}});}</script>                <script type=\"text/javascript\">window.PlotlyConfig = {MathJaxConfig: 'local'};</script>\n",
              "        <script charset=\"utf-8\" src=\"https://cdn.plot.ly/plotly-2.20.0.min.js\"></script>                <div id=\"e19798ab-c5a9-4d19-b2ec-4f72600ee77b\" class=\"plotly-graph-div\" style=\"height:525px; width:100%;\"></div>            <script type=\"text/javascript\">                                    window.PLOTLYENV=window.PLOTLYENV || {};                                    if (document.getElementById(\"e19798ab-c5a9-4d19-b2ec-4f72600ee77b\")) {                    Plotly.newPlot(                        \"e19798ab-c5a9-4d19-b2ec-4f72600ee77b\",                        [{\"alignmentgroup\":\"True\",\"hovertemplate\":\"x=%{x}<br>y=%{y}<extra></extra>\",\"legendgroup\":\"\",\"marker\":{\"color\":\"#636efa\",\"pattern\":{\"shape\":\"\"}},\"name\":\"\",\"offsetgroup\":\"\",\"orientation\":\"v\",\"showlegend\":false,\"textposition\":\"auto\",\"x\":[\"2020\",\"2019\",\"2018\",\"2017\",\"2016\",\"2015\",\"2014\",\"2013\",\"2012\",\"2011\",\"2010\",\"2009\",\"2008\",\"2007\",\"2006\",\"2005\",\"2004\",\"2003\",\"2002\",\"2001\",\"2000\",\"1999\",\"1998\",\"1997\",\"1996\",\"1995\",\"1994\",\"1993\",\"1992\",\"1991\",\"1990\",\"1989\",\"1988\",\"1987\",\"1986\",\"1985\",\"1984\",\"1983\",\"1982\",\"1981\",\"1980\",\"1979\",\"1978\",\"1977\",\"1976\",\"1975\",\"1974\",\"1973\",\"1972\",\"1971\",\"1970\",\"1969\",\"1968\",\"1967\",\"1966\",\"1965\",\"1964\",\"1963\",\"1962\",\"1961\",\"1960\",\"1959\",\"1958\",\"1957\"],\"xaxis\":\"x\",\"y\":[63,109,117,92,90,52,53,46,38,42,37,50,48,50,49,37,40,52,49,43,57,57,68,70,60,61,64,61,62,59,80,52,59,56,62,74,69,66,67,71,55,49,97,114,113,113,98,103,99,119,107,103,103,106,101,87,60,41,82,52,39,20,28,3],\"yaxis\":\"y\",\"type\":\"bar\"}],                        {\"template\":{\"data\":{\"histogram2dcontour\":[{\"type\":\"histogram2dcontour\",\"colorbar\":{\"outlinewidth\":0,\"ticks\":\"\"},\"colorscale\":[[0.0,\"#0d0887\"],[0.1111111111111111,\"#46039f\"],[0.2222222222222222,\"#7201a8\"],[0.3333333333333333,\"#9c179e\"],[0.4444444444444444,\"#bd3786\"],[0.5555555555555556,\"#d8576b\"],[0.6666666666666666,\"#ed7953\"],[0.7777777777777778,\"#fb9f3a\"],[0.8888888888888888,\"#fdca26\"],[1.0,\"#f0f921\"]]}],\"choropleth\":[{\"type\":\"choropleth\",\"colorbar\":{\"outlinewidth\":0,\"ticks\":\"\"}}],\"histogram2d\":[{\"type\":\"histogram2d\",\"colorbar\":{\"outlinewidth\":0,\"ticks\":\"\"},\"colorscale\":[[0.0,\"#0d0887\"],[0.1111111111111111,\"#46039f\"],[0.2222222222222222,\"#7201a8\"],[0.3333333333333333,\"#9c179e\"],[0.4444444444444444,\"#bd3786\"],[0.5555555555555556,\"#d8576b\"],[0.6666666666666666,\"#ed7953\"],[0.7777777777777778,\"#fb9f3a\"],[0.8888888888888888,\"#fdca26\"],[1.0,\"#f0f921\"]]}],\"heatmap\":[{\"type\":\"heatmap\",\"colorbar\":{\"outlinewidth\":0,\"ticks\":\"\"},\"colorscale\":[[0.0,\"#0d0887\"],[0.1111111111111111,\"#46039f\"],[0.2222222222222222,\"#7201a8\"],[0.3333333333333333,\"#9c179e\"],[0.4444444444444444,\"#bd3786\"],[0.5555555555555556,\"#d8576b\"],[0.6666666666666666,\"#ed7953\"],[0.7777777777777778,\"#fb9f3a\"],[0.8888888888888888,\"#fdca26\"],[1.0,\"#f0f921\"]]}],\"heatmapgl\":[{\"type\":\"heatmapgl\",\"colorbar\":{\"outlinewidth\":0,\"ticks\":\"\"},\"colorscale\":[[0.0,\"#0d0887\"],[0.1111111111111111,\"#46039f\"],[0.2222222222222222,\"#7201a8\"],[0.3333333333333333,\"#9c179e\"],[0.4444444444444444,\"#bd3786\"],[0.5555555555555556,\"#d8576b\"],[0.6666666666666666,\"#ed7953\"],[0.7777777777777778,\"#fb9f3a\"],[0.8888888888888888,\"#fdca26\"],[1.0,\"#f0f921\"]]}],\"contourcarpet\":[{\"type\":\"contourcarpet\",\"colorbar\":{\"outlinewidth\":0,\"ticks\":\"\"}}],\"contour\":[{\"type\":\"contour\",\"colorbar\":{\"outlinewidth\":0,\"ticks\":\"\"},\"colorscale\":[[0.0,\"#0d0887\"],[0.1111111111111111,\"#46039f\"],[0.2222222222222222,\"#7201a8\"],[0.3333333333333333,\"#9c179e\"],[0.4444444444444444,\"#bd3786\"],[0.5555555555555556,\"#d8576b\"],[0.6666666666666666,\"#ed7953\"],[0.7777777777777778,\"#fb9f3a\"],[0.8888888888888888,\"#fdca26\"],[1.0,\"#f0f921\"]]}],\"surface\":[{\"type\":\"surface\",\"colorbar\":{\"outlinewidth\":0,\"ticks\":\"\"},\"colorscale\":[[0.0,\"#0d0887\"],[0.1111111111111111,\"#46039f\"],[0.2222222222222222,\"#7201a8\"],[0.3333333333333333,\"#9c179e\"],[0.4444444444444444,\"#bd3786\"],[0.5555555555555556,\"#d8576b\"],[0.6666666666666666,\"#ed7953\"],[0.7777777777777778,\"#fb9f3a\"],[0.8888888888888888,\"#fdca26\"],[1.0,\"#f0f921\"]]}],\"mesh3d\":[{\"type\":\"mesh3d\",\"colorbar\":{\"outlinewidth\":0,\"ticks\":\"\"}}],\"scatter\":[{\"fillpattern\":{\"fillmode\":\"overlay\",\"size\":10,\"solidity\":0.2},\"type\":\"scatter\"}],\"parcoords\":[{\"type\":\"parcoords\",\"line\":{\"colorbar\":{\"outlinewidth\":0,\"ticks\":\"\"}}}],\"scatterpolargl\":[{\"type\":\"scatterpolargl\",\"marker\":{\"colorbar\":{\"outlinewidth\":0,\"ticks\":\"\"}}}],\"bar\":[{\"error_x\":{\"color\":\"#2a3f5f\"},\"error_y\":{\"color\":\"#2a3f5f\"},\"marker\":{\"line\":{\"color\":\"#E5ECF6\",\"width\":0.5},\"pattern\":{\"fillmode\":\"overlay\",\"size\":10,\"solidity\":0.2}},\"type\":\"bar\"}],\"scattergeo\":[{\"type\":\"scattergeo\",\"marker\":{\"colorbar\":{\"outlinewidth\":0,\"ticks\":\"\"}}}],\"scatterpolar\":[{\"type\":\"scatterpolar\",\"marker\":{\"colorbar\":{\"outlinewidth\":0,\"ticks\":\"\"}}}],\"histogram\":[{\"marker\":{\"pattern\":{\"fillmode\":\"overlay\",\"size\":10,\"solidity\":0.2}},\"type\":\"histogram\"}],\"scattergl\":[{\"type\":\"scattergl\",\"marker\":{\"colorbar\":{\"outlinewidth\":0,\"ticks\":\"\"}}}],\"scatter3d\":[{\"type\":\"scatter3d\",\"line\":{\"colorbar\":{\"outlinewidth\":0,\"ticks\":\"\"}},\"marker\":{\"colorbar\":{\"outlinewidth\":0,\"ticks\":\"\"}}}],\"scattermapbox\":[{\"type\":\"scattermapbox\",\"marker\":{\"colorbar\":{\"outlinewidth\":0,\"ticks\":\"\"}}}],\"scatterternary\":[{\"type\":\"scatterternary\",\"marker\":{\"colorbar\":{\"outlinewidth\":0,\"ticks\":\"\"}}}],\"scattercarpet\":[{\"type\":\"scattercarpet\",\"marker\":{\"colorbar\":{\"outlinewidth\":0,\"ticks\":\"\"}}}],\"carpet\":[{\"aaxis\":{\"endlinecolor\":\"#2a3f5f\",\"gridcolor\":\"white\",\"linecolor\":\"white\",\"minorgridcolor\":\"white\",\"startlinecolor\":\"#2a3f5f\"},\"baxis\":{\"endlinecolor\":\"#2a3f5f\",\"gridcolor\":\"white\",\"linecolor\":\"white\",\"minorgridcolor\":\"white\",\"startlinecolor\":\"#2a3f5f\"},\"type\":\"carpet\"}],\"table\":[{\"cells\":{\"fill\":{\"color\":\"#EBF0F8\"},\"line\":{\"color\":\"white\"}},\"header\":{\"fill\":{\"color\":\"#C8D4E3\"},\"line\":{\"color\":\"white\"}},\"type\":\"table\"}],\"barpolar\":[{\"marker\":{\"line\":{\"color\":\"#E5ECF6\",\"width\":0.5},\"pattern\":{\"fillmode\":\"overlay\",\"size\":10,\"solidity\":0.2}},\"type\":\"barpolar\"}],\"pie\":[{\"automargin\":true,\"type\":\"pie\"}]},\"layout\":{\"autotypenumbers\":\"strict\",\"colorway\":[\"#636efa\",\"#EF553B\",\"#00cc96\",\"#ab63fa\",\"#FFA15A\",\"#19d3f3\",\"#FF6692\",\"#B6E880\",\"#FF97FF\",\"#FECB52\"],\"font\":{\"color\":\"#2a3f5f\"},\"hovermode\":\"closest\",\"hoverlabel\":{\"align\":\"left\"},\"paper_bgcolor\":\"white\",\"plot_bgcolor\":\"#E5ECF6\",\"polar\":{\"bgcolor\":\"#E5ECF6\",\"angularaxis\":{\"gridcolor\":\"white\",\"linecolor\":\"white\",\"ticks\":\"\"},\"radialaxis\":{\"gridcolor\":\"white\",\"linecolor\":\"white\",\"ticks\":\"\"}},\"ternary\":{\"bgcolor\":\"#E5ECF6\",\"aaxis\":{\"gridcolor\":\"white\",\"linecolor\":\"white\",\"ticks\":\"\"},\"baxis\":{\"gridcolor\":\"white\",\"linecolor\":\"white\",\"ticks\":\"\"},\"caxis\":{\"gridcolor\":\"white\",\"linecolor\":\"white\",\"ticks\":\"\"}},\"coloraxis\":{\"colorbar\":{\"outlinewidth\":0,\"ticks\":\"\"}},\"colorscale\":{\"sequential\":[[0.0,\"#0d0887\"],[0.1111111111111111,\"#46039f\"],[0.2222222222222222,\"#7201a8\"],[0.3333333333333333,\"#9c179e\"],[0.4444444444444444,\"#bd3786\"],[0.5555555555555556,\"#d8576b\"],[0.6666666666666666,\"#ed7953\"],[0.7777777777777778,\"#fb9f3a\"],[0.8888888888888888,\"#fdca26\"],[1.0,\"#f0f921\"]],\"sequentialminus\":[[0.0,\"#0d0887\"],[0.1111111111111111,\"#46039f\"],[0.2222222222222222,\"#7201a8\"],[0.3333333333333333,\"#9c179e\"],[0.4444444444444444,\"#bd3786\"],[0.5555555555555556,\"#d8576b\"],[0.6666666666666666,\"#ed7953\"],[0.7777777777777778,\"#fb9f3a\"],[0.8888888888888888,\"#fdca26\"],[1.0,\"#f0f921\"]],\"diverging\":[[0,\"#8e0152\"],[0.1,\"#c51b7d\"],[0.2,\"#de77ae\"],[0.3,\"#f1b6da\"],[0.4,\"#fde0ef\"],[0.5,\"#f7f7f7\"],[0.6,\"#e6f5d0\"],[0.7,\"#b8e186\"],[0.8,\"#7fbc41\"],[0.9,\"#4d9221\"],[1,\"#276419\"]]},\"xaxis\":{\"gridcolor\":\"white\",\"linecolor\":\"white\",\"ticks\":\"\",\"title\":{\"standoff\":15},\"zerolinecolor\":\"white\",\"automargin\":true,\"zerolinewidth\":2},\"yaxis\":{\"gridcolor\":\"white\",\"linecolor\":\"white\",\"ticks\":\"\",\"title\":{\"standoff\":15},\"zerolinecolor\":\"white\",\"automargin\":true,\"zerolinewidth\":2},\"scene\":{\"xaxis\":{\"backgroundcolor\":\"#E5ECF6\",\"gridcolor\":\"white\",\"linecolor\":\"white\",\"showbackground\":true,\"ticks\":\"\",\"zerolinecolor\":\"white\",\"gridwidth\":2},\"yaxis\":{\"backgroundcolor\":\"#E5ECF6\",\"gridcolor\":\"white\",\"linecolor\":\"white\",\"showbackground\":true,\"ticks\":\"\",\"zerolinecolor\":\"white\",\"gridwidth\":2},\"zaxis\":{\"backgroundcolor\":\"#E5ECF6\",\"gridcolor\":\"white\",\"linecolor\":\"white\",\"showbackground\":true,\"ticks\":\"\",\"zerolinecolor\":\"white\",\"gridwidth\":2}},\"shapedefaults\":{\"line\":{\"color\":\"#2a3f5f\"}},\"annotationdefaults\":{\"arrowcolor\":\"#2a3f5f\",\"arrowhead\":0,\"arrowwidth\":1},\"geo\":{\"bgcolor\":\"white\",\"landcolor\":\"#E5ECF6\",\"subunitcolor\":\"white\",\"showland\":true,\"showlakes\":true,\"lakecolor\":\"white\"},\"title\":{\"x\":0.05},\"mapbox\":{\"style\":\"light\"}}},\"xaxis\":{\"anchor\":\"y\",\"domain\":[0.0,1.0],\"title\":{\"text\":\"x\"}},\"yaxis\":{\"anchor\":\"x\",\"domain\":[0.0,1.0],\"title\":{\"text\":\"y\"}},\"legend\":{\"tracegroupgap\":0},\"margin\":{\"t\":60},\"barmode\":\"relative\"},                        {\"responsive\": true}                    ).then(function(){\n",
              "                            \n",
              "var gd = document.getElementById('e19798ab-c5a9-4d19-b2ec-4f72600ee77b');\n",
              "var x = new MutationObserver(function (mutations, observer) {{\n",
              "        var display = window.getComputedStyle(gd).display;\n",
              "        if (!display || display === 'none') {{\n",
              "            console.log([gd, 'removed!']);\n",
              "            Plotly.purge(gd);\n",
              "            observer.disconnect();\n",
              "        }}\n",
              "}});\n",
              "\n",
              "// Listen for the removal of the full notebook cells\n",
              "var notebookContainer = gd.closest('#notebook-container');\n",
              "if (notebookContainer) {{\n",
              "    x.observe(notebookContainer, {childList: true});\n",
              "}}\n",
              "\n",
              "// Listen for the clearing of the current output cell\n",
              "var outputEl = gd.closest('.output');\n",
              "if (outputEl) {{\n",
              "    x.observe(outputEl, {childList: true});\n",
              "}}\n",
              "\n",
              "                        })                };                            </script>        </div>\n",
              "</body>\n",
              "</html>"
            ]
          },
          "metadata": {}
        }
      ]
    },
    {
      "cell_type": "markdown",
      "metadata": {
        "id": "NomJVLi3tIaM"
      },
      "source": [
        "# Chart the Number of Launches Month-on-Month until the Present\n",
        "\n",
        "Which month has seen the highest number of launches in all time? Superimpose a rolling average on the month on month time series chart. "
      ]
    },
    {
      "cell_type": "code",
      "metadata": {
        "id": "H1N2aBs5tH9z"
      },
      "source": [
        "m = []\n",
        "for i in data4.Date:\n",
        "  m.append(i.split(' ')[1])\n",
        "month = pd.DataFrame({'month':m})\n",
        "data5 = pd.concat([data4, month.reindex(data4.index)], axis=1)"
      ],
      "execution_count": 102,
      "outputs": []
    },
    {
      "cell_type": "code",
      "metadata": {
        "id": "pfw0aX1lpdRv",
        "colab": {
          "base_uri": "https://localhost:8080/",
          "height": 506
        },
        "outputId": "58a31433-a71c-4511-cf85-6c5401bbdf51"
      },
      "source": [
        "sns.displot(data=data5, x=data5['month'],aspect=2)\n",
        "plt.show()"
      ],
      "execution_count": 103,
      "outputs": [
        {
          "output_type": "display_data",
          "data": {
            "text/plain": [
              "<Figure size 1000x500 with 1 Axes>"
            ],
            "image/png": "[encoded data removed]"
          },
          "metadata": {}
        }
      ]
    },
    {
      "cell_type": "markdown",
      "metadata": {
        "papermill": {
          "duration": 0.044409,
          "end_time": "2020-10-20T21:34:10.162592",
          "exception": false,
          "start_time": "2020-10-20T21:34:10.118183",
          "status": "completed"
        },
        "tags": [],
        "id": "t-avMIZoa-qh"
      },
      "source": [
        "# Launches per Month: Which months are most popular and least popular for launches?\n",
        "\n",
        "Some months have better weather than others. Which time of year seems to be best for space missions?"
      ]
    },
    {
      "cell_type": "code",
      "metadata": {
        "id": "zmtp5uBHppFG",
        "colab": {
          "base_uri": "https://localhost:8080/"
        },
        "outputId": "1c207e2f-6f0b-4aef-ba7b-14eee0107ec1"
      },
      "source": [
        "data_success = data5[data5.Mission_Status=='Success']\n",
        "print(data_success.month.value_counts())"
      ],
      "execution_count": 104,
      "outputs": [
        {
          "output_type": "stream",
          "name": "stdout",
          "text": [
            "Dec    404\n",
            "Jun    356\n",
            "Oct    346\n",
            "Apr    344\n",
            "Aug    331\n",
            "Sep    327\n",
            "Mar    322\n",
            "Jul    315\n",
            "Feb    299\n",
            "Nov    299\n",
            "May    295\n",
            "Jan    241\n",
            "Name: month, dtype: int64\n"
          ]
        }
      ]
    },
    {
      "cell_type": "markdown",
      "metadata": {
        "papermill": {
          "duration": 0.067915,
          "end_time": "2020-10-20T21:34:11.122539",
          "exception": false,
          "start_time": "2020-10-20T21:34:11.054624",
          "status": "completed"
        },
        "tags": [],
        "id": "dPQ_N_sfa-qo"
      },
      "source": [
        "# How has the Launch Price varied Over Time? \n",
        "\n",
        "Create a line chart that shows the average price of rocket launches over time. "
      ]
    },
    {
      "cell_type": "code",
      "metadata": {
        "id": "hFc-2M5-qCrv",
        "colab": {
          "base_uri": "https://localhost:8080/"
        },
        "outputId": "5833649f-04db-43fc-cb09-2040a9c41036"
      },
      "source": [
        "mean_price_by_time = data5.groupby(by='year').mean()"
      ],
      "execution_count": 105,
      "outputs": [
        {
          "output_type": "stream",
          "name": "stderr",
          "text": [
            "<ipython-input-105-a8a24075e672>:1: FutureWarning:\n",
            "\n",
            "The default value of numeric_only in DataFrameGroupBy.mean is deprecated. In a future version, numeric_only will default to False. Either specify numeric_only or select only columns which should be valid for the function.\n",
            "\n"
          ]
        }
      ]
    },
    {
      "cell_type": "code",
      "metadata": {
        "id": "ggYFiAsEqC6J",
        "colab": {
          "base_uri": "https://localhost:8080/",
          "height": 642
        },
        "outputId": "8e8275bd-03fe-49f8-cc5f-b42b3dbb1c1c"
      },
      "source": [
        "plt.figure(figsize=(15, 7))\n",
        "plt.xticks(rotation=90)\n",
        "display(plt.plot(mean_price_by_time))"
      ],
      "execution_count": 106,
      "outputs": [
        {
          "output_type": "display_data",
          "data": {
            "text/plain": [
              "[<matplotlib.lines.Line2D at 0x7f4f23877940>]"
            ]
          },
          "metadata": {}
        },
        {
          "output_type": "display_data",
          "data": {
            "text/plain": [
              "<Figure size 1500x700 with 1 Axes>"
            ],
            "image/png": "[encoded data removed]"
          },
          "metadata": {}
        }
      ]
    },
    {
      "cell_type": "markdown",
      "metadata": {
        "papermill": {
          "duration": 0.047152,
          "end_time": "2020-10-20T21:34:11.681371",
          "exception": false,
          "start_time": "2020-10-20T21:34:11.634219",
          "status": "completed"
        },
        "tags": [],
        "id": "8OYrWyiOa-qs"
      },
      "source": [
        "# Chart the Number of Launches over Time by the Top 10 Organisations. \n",
        "\n",
        "How has the dominance of launches changed over time between the different players? "
      ]
    },
    {
      "cell_type": "code",
      "metadata": {
        "id": "RcsrPPpAqVFj",
        "colab": {
          "base_uri": "https://localhost:8080/"
        },
        "outputId": "1aef0389-9fbf-47f8-80e0-a5a48c796c1b"
      },
      "source": [
        "data5.Organisation.value_counts()"
      ],
      "execution_count": 107,
      "outputs": [
        {
          "output_type": "execute_result",
          "data": {
            "text/plain": [
              "RVSN USSR           1777\n",
              "Arianespace          279\n",
              "CASC                 251\n",
              "General Dynamics     251\n",
              "NASA                 203\n",
              "VKS RF               201\n",
              "US Air Force         161\n",
              "ULA                  140\n",
              "Boeing               136\n",
              "Martin Marietta      114\n",
              "SpaceX               100\n",
              "MHI                   84\n",
              "Northrop              83\n",
              "Lockheed              79\n",
              "ISRO                  76\n",
              "Roscosmos             55\n",
              "ILS                   46\n",
              "Sea Launch            36\n",
              "ISAS                  30\n",
              "Kosmotras             22\n",
              "US Navy               17\n",
              "ISA                   13\n",
              "Rocket Lab            13\n",
              "Eurockot              13\n",
              "ESA                   13\n",
              "Blue Origin           12\n",
              "IAI                   11\n",
              "ExPace                10\n",
              "ASI                    9\n",
              "CNES                   8\n",
              "AMBA                   8\n",
              "MITT                   7\n",
              "JAXA                   7\n",
              "Land Launch            7\n",
              "UT                     5\n",
              "KCST                   5\n",
              "CASIC                  5\n",
              "Exos                   4\n",
              "CECLES                 4\n",
              "Arm??e de l'Air        4\n",
              "KARI                   3\n",
              "SRC                    3\n",
              "AEB                    3\n",
              "RAE                    2\n",
              "OKB-586                2\n",
              "Yuzhmash               2\n",
              "Landspace              1\n",
              "Douglas                1\n",
              "EER                    1\n",
              "Starsem                1\n",
              "Virgin Orbit           1\n",
              "IRGC                   1\n",
              "i-Space                1\n",
              "OneSpace               1\n",
              "Sandia                 1\n",
              "Khrunichev             1\n",
              "Name: Organisation, dtype: int64"
            ]
          },
          "metadata": {},
          "execution_count": 107
        }
      ]
    },
    {
      "cell_type": "markdown",
      "metadata": {
        "papermill": {
          "duration": 0.052399,
          "end_time": "2020-10-20T21:34:13.756781",
          "exception": false,
          "start_time": "2020-10-20T21:34:13.704382",
          "status": "completed"
        },
        "tags": [],
        "id": "6Cm8_ch6a-q7"
      },
      "source": [
        "# Cold War Space Race: USA vs USSR\n",
        "\n",
        "The cold war lasted from the start of the dataset up until 1991. "
      ]
    },
    {
      "cell_type": "code",
      "metadata": {
        "id": "AcE_U8csrICL"
      },
      "source": [
        "I=min(data5[data5['year']=='1991'].index)\n",
        "data_coldwar = data5.iloc[I:]"
      ],
      "execution_count": 108,
      "outputs": []
    },
    {
      "cell_type": "code",
      "metadata": {
        "id": "cOe_t4OmrHr9"
      },
      "source": [
        "launches_by_usa = data_coldwar['Country'].value_counts()['USA']\n",
        "ussr = ['Armenia', 'Azerbaijan', 'Belarus', 'Estonia', 'Georgia', 'Kazakhstan', 'Kyrgyzstan' ,'Latvia', 'Lithuania' ,'Moldova' ,'Russia' ,'Tajikistan', 'Turkmenistan', 'Ukraine', 'Uzbekistan']\n",
        "launches_by_ussr = 0\n",
        "for i in ussr:\n",
        "  try:\n",
        "    launches_by_ussr += data_coldwar['Country'].value_counts()[i]\n",
        "  except KeyError:\n",
        "    pass"
      ],
      "execution_count": 109,
      "outputs": []
    },
    {
      "cell_type": "code",
      "source": [
        "print(f\"Launches of USA:{launches_by_usa} USSR:{launches_by_ussr}\")"
      ],
      "metadata": {
        "colab": {
          "base_uri": "https://localhost:8080/"
        },
        "id": "ija0t4yAEMVF",
        "outputId": "19a3a10a-ae58-4a30-ea7d-9744fbb97154"
      },
      "execution_count": 110,
      "outputs": [
        {
          "output_type": "stream",
          "name": "stdout",
          "text": [
            "Launches of USA:662 USSR:582\n"
          ]
        }
      ]
    },
    {
      "cell_type": "code",
      "source": [
        "data_coldwar_success= data_coldwar[data_coldwar.Mission_Status=='Success']\n",
        "success_by_ussr=0\n",
        "for i in ussr:\n",
        "  try:\n",
        "    success_by_ussr += data_coldwar_success['Country'].value_counts()[i]\n",
        "  except KeyError:\n",
        "    pass"
      ],
      "metadata": {
        "id": "cgla7QMtENR_"
      },
      "execution_count": 111,
      "outputs": []
    },
    {
      "cell_type": "code",
      "source": [
        "print(f\"Successful Launches of USA:{data_coldwar_success['Country'].value_counts()['USA']} USSR:{success_by_ussr}\")"
      ],
      "metadata": {
        "colab": {
          "base_uri": "https://localhost:8080/"
        },
        "id": "F4lIPNUjESry",
        "outputId": "7ab6cc3a-4ebe-40e1-c405-b57dec3a3158"
      },
      "execution_count": 112,
      "outputs": [
        {
          "output_type": "stream",
          "name": "stdout",
          "text": [
            "Successful Launches of USA:536 USSR:499\n"
          ]
        }
      ]
    },
    {
      "cell_type": "markdown",
      "metadata": {
        "papermill": {
          "duration": 0.054318,
          "end_time": "2020-10-20T21:34:14.089604",
          "exception": false,
          "start_time": "2020-10-20T21:34:14.035286",
          "status": "completed"
        },
        "tags": [],
        "id": "Os-3A5vLa-q9"
      },
      "source": [
        "## Create a Plotly Pie Chart comparing the total number of launches of the USSR and the USA\n",
        "\n",
        "Hint: Remember to include former Soviet Republics like Kazakhstan when analysing the total number of launches. "
      ]
    },
    {
      "cell_type": "code",
      "metadata": {
        "id": "1irc6_W9rD59",
        "colab": {
          "base_uri": "https://localhost:8080/",
          "height": 542
        },
        "outputId": "1ac116f2-dfb1-440e-b0cd-be1f0a44cb0c"
      },
      "source": [
        "fig = px.pie(values=[launches_by_usa,launches_by_ussr],names=['USA','USSR'], title='Launches')\n",
        "fig.show()"
      ],
      "execution_count": 113,
      "outputs": [
        {
          "output_type": "display_data",
          "data": {
            "text/html": [
              "<html>\n",
              "<head><meta charset=\"utf-8\" /></head>\n",
              "<body>\n",
              "    <div>            <script src=\"https://cdnjs.cloudflare.com/ajax/libs/mathjax/2.7.5/MathJax.js?config=TeX-AMS-MML_SVG\"></script><script type=\"text/javascript\">if (window.MathJax && window.MathJax.Hub && window.MathJax.Hub.Config) {window.MathJax.Hub.Config({SVG: {font: \"STIX-Web\"}});}</script>                <script type=\"text/javascript\">window.PlotlyConfig = {MathJaxConfig: 'local'};</script>\n",
              "        <script charset=\"utf-8\" src=\"https://cdn.plot.ly/plotly-2.20.0.min.js\"></script>                <div id=\"2ba22dbd-4f8e-4fe1-a511-702e989ce335\" class=\"plotly-graph-div\" style=\"height:525px; width:100%;\"></div>            <script type=\"text/javascript\">                                    window.PLOTLYENV=window.PLOTLYENV || {};                                    if (document.getElementById(\"2ba22dbd-4f8e-4fe1-a511-702e989ce335\")) {                    Plotly.newPlot(                        \"2ba22dbd-4f8e-4fe1-a511-702e989ce335\",                        [{\"domain\":{\"x\":[0.0,1.0],\"y\":[0.0,1.0]},\"hovertemplate\":\"label=%{label}<br>value=%{value}<extra></extra>\",\"labels\":[\"USA\",\"USSR\"],\"legendgroup\":\"\",\"name\":\"\",\"showlegend\":true,\"values\":[662,582],\"type\":\"pie\"}],                        {\"template\":{\"data\":{\"histogram2dcontour\":[{\"type\":\"histogram2dcontour\",\"colorbar\":{\"outlinewidth\":0,\"ticks\":\"\"},\"colorscale\":[[0.0,\"#0d0887\"],[0.1111111111111111,\"#46039f\"],[0.2222222222222222,\"#7201a8\"],[0.3333333333333333,\"#9c179e\"],[0.4444444444444444,\"#bd3786\"],[0.5555555555555556,\"#d8576b\"],[0.6666666666666666,\"#ed7953\"],[0.7777777777777778,\"#fb9f3a\"],[0.8888888888888888,\"#fdca26\"],[1.0,\"#f0f921\"]]}],\"choropleth\":[{\"type\":\"choropleth\",\"colorbar\":{\"outlinewidth\":0,\"ticks\":\"\"}}],\"histogram2d\":[{\"type\":\"histogram2d\",\"colorbar\":{\"outlinewidth\":0,\"ticks\":\"\"},\"colorscale\":[[0.0,\"#0d0887\"],[0.1111111111111111,\"#46039f\"],[0.2222222222222222,\"#7201a8\"],[0.3333333333333333,\"#9c179e\"],[0.4444444444444444,\"#bd3786\"],[0.5555555555555556,\"#d8576b\"],[0.6666666666666666,\"#ed7953\"],[0.7777777777777778,\"#fb9f3a\"],[0.8888888888888888,\"#fdca26\"],[1.0,\"#f0f921\"]]}],\"heatmap\":[{\"type\":\"heatmap\",\"colorbar\":{\"outlinewidth\":0,\"ticks\":\"\"},\"colorscale\":[[0.0,\"#0d0887\"],[0.1111111111111111,\"#46039f\"],[0.2222222222222222,\"#7201a8\"],[0.3333333333333333,\"#9c179e\"],[0.4444444444444444,\"#bd3786\"],[0.5555555555555556,\"#d8576b\"],[0.6666666666666666,\"#ed7953\"],[0.7777777777777778,\"#fb9f3a\"],[0.8888888888888888,\"#fdca26\"],[1.0,\"#f0f921\"]]}],\"heatmapgl\":[{\"type\":\"heatmapgl\",\"colorbar\":{\"outlinewidth\":0,\"ticks\":\"\"},\"colorscale\":[[0.0,\"#0d0887\"],[0.1111111111111111,\"#46039f\"],[0.2222222222222222,\"#7201a8\"],[0.3333333333333333,\"#9c179e\"],[0.4444444444444444,\"#bd3786\"],[0.5555555555555556,\"#d8576b\"],[0.6666666666666666,\"#ed7953\"],[0.7777777777777778,\"#fb9f3a\"],[0.8888888888888888,\"#fdca26\"],[1.0,\"#f0f921\"]]}],\"contourcarpet\":[{\"type\":\"contourcarpet\",\"colorbar\":{\"outlinewidth\":0,\"ticks\":\"\"}}],\"contour\":[{\"type\":\"contour\",\"colorbar\":{\"outlinewidth\":0,\"ticks\":\"\"},\"colorscale\":[[0.0,\"#0d0887\"],[0.1111111111111111,\"#46039f\"],[0.2222222222222222,\"#7201a8\"],[0.3333333333333333,\"#9c179e\"],[0.4444444444444444,\"#bd3786\"],[0.5555555555555556,\"#d8576b\"],[0.6666666666666666,\"#ed7953\"],[0.7777777777777778,\"#fb9f3a\"],[0.8888888888888888,\"#fdca26\"],[1.0,\"#f0f921\"]]}],\"surface\":[{\"type\":\"surface\",\"colorbar\":{\"outlinewidth\":0,\"ticks\":\"\"},\"colorscale\":[[0.0,\"#0d0887\"],[0.1111111111111111,\"#46039f\"],[0.2222222222222222,\"#7201a8\"],[0.3333333333333333,\"#9c179e\"],[0.4444444444444444,\"#bd3786\"],[0.5555555555555556,\"#d8576b\"],[0.6666666666666666,\"#ed7953\"],[0.7777777777777778,\"#fb9f3a\"],[0.8888888888888888,\"#fdca26\"],[1.0,\"#f0f921\"]]}],\"mesh3d\":[{\"type\":\"mesh3d\",\"colorbar\":{\"outlinewidth\":0,\"ticks\":\"\"}}],\"scatter\":[{\"fillpattern\":{\"fillmode\":\"overlay\",\"size\":10,\"solidity\":0.2},\"type\":\"scatter\"}],\"parcoords\":[{\"type\":\"parcoords\",\"line\":{\"colorbar\":{\"outlinewidth\":0,\"ticks\":\"\"}}}],\"scatterpolargl\":[{\"type\":\"scatterpolargl\",\"marker\":{\"colorbar\":{\"outlinewidth\":0,\"ticks\":\"\"}}}],\"bar\":[{\"error_x\":{\"color\":\"#2a3f5f\"},\"error_y\":{\"color\":\"#2a3f5f\"},\"marker\":{\"line\":{\"color\":\"#E5ECF6\",\"width\":0.5},\"pattern\":{\"fillmode\":\"overlay\",\"size\":10,\"solidity\":0.2}},\"type\":\"bar\"}],\"scattergeo\":[{\"type\":\"scattergeo\",\"marker\":{\"colorbar\":{\"outlinewidth\":0,\"ticks\":\"\"}}}],\"scatterpolar\":[{\"type\":\"scatterpolar\",\"marker\":{\"colorbar\":{\"outlinewidth\":0,\"ticks\":\"\"}}}],\"histogram\":[{\"marker\":{\"pattern\":{\"fillmode\":\"overlay\",\"size\":10,\"solidity\":0.2}},\"type\":\"histogram\"}],\"scattergl\":[{\"type\":\"scattergl\",\"marker\":{\"colorbar\":{\"outlinewidth\":0,\"ticks\":\"\"}}}],\"scatter3d\":[{\"type\":\"scatter3d\",\"line\":{\"colorbar\":{\"outlinewidth\":0,\"ticks\":\"\"}},\"marker\":{\"colorbar\":{\"outlinewidth\":0,\"ticks\":\"\"}}}],\"scattermapbox\":[{\"type\":\"scattermapbox\",\"marker\":{\"colorbar\":{\"outlinewidth\":0,\"ticks\":\"\"}}}],\"scatterternary\":[{\"type\":\"scatterternary\",\"marker\":{\"colorbar\":{\"outlinewidth\":0,\"ticks\":\"\"}}}],\"scattercarpet\":[{\"type\":\"scattercarpet\",\"marker\":{\"colorbar\":{\"outlinewidth\":0,\"ticks\":\"\"}}}],\"carpet\":[{\"aaxis\":{\"endlinecolor\":\"#2a3f5f\",\"gridcolor\":\"white\",\"linecolor\":\"white\",\"minorgridcolor\":\"white\",\"startlinecolor\":\"#2a3f5f\"},\"baxis\":{\"endlinecolor\":\"#2a3f5f\",\"gridcolor\":\"white\",\"linecolor\":\"white\",\"minorgridcolor\":\"white\",\"startlinecolor\":\"#2a3f5f\"},\"type\":\"carpet\"}],\"table\":[{\"cells\":{\"fill\":{\"color\":\"#EBF0F8\"},\"line\":{\"color\":\"white\"}},\"header\":{\"fill\":{\"color\":\"#C8D4E3\"},\"line\":{\"color\":\"white\"}},\"type\":\"table\"}],\"barpolar\":[{\"marker\":{\"line\":{\"color\":\"#E5ECF6\",\"width\":0.5},\"pattern\":{\"fillmode\":\"overlay\",\"size\":10,\"solidity\":0.2}},\"type\":\"barpolar\"}],\"pie\":[{\"automargin\":true,\"type\":\"pie\"}]},\"layout\":{\"autotypenumbers\":\"strict\",\"colorway\":[\"#636efa\",\"#EF553B\",\"#00cc96\",\"#ab63fa\",\"#FFA15A\",\"#19d3f3\",\"#FF6692\",\"#B6E880\",\"#FF97FF\",\"#FECB52\"],\"font\":{\"color\":\"#2a3f5f\"},\"hovermode\":\"closest\",\"hoverlabel\":{\"align\":\"left\"},\"paper_bgcolor\":\"white\",\"plot_bgcolor\":\"#E5ECF6\",\"polar\":{\"bgcolor\":\"#E5ECF6\",\"angularaxis\":{\"gridcolor\":\"white\",\"linecolor\":\"white\",\"ticks\":\"\"},\"radialaxis\":{\"gridcolor\":\"white\",\"linecolor\":\"white\",\"ticks\":\"\"}},\"ternary\":{\"bgcolor\":\"#E5ECF6\",\"aaxis\":{\"gridcolor\":\"white\",\"linecolor\":\"white\",\"ticks\":\"\"},\"baxis\":{\"gridcolor\":\"white\",\"linecolor\":\"white\",\"ticks\":\"\"},\"caxis\":{\"gridcolor\":\"white\",\"linecolor\":\"white\",\"ticks\":\"\"}},\"coloraxis\":{\"colorbar\":{\"outlinewidth\":0,\"ticks\":\"\"}},\"colorscale\":{\"sequential\":[[0.0,\"#0d0887\"],[0.1111111111111111,\"#46039f\"],[0.2222222222222222,\"#7201a8\"],[0.3333333333333333,\"#9c179e\"],[0.4444444444444444,\"#bd3786\"],[0.5555555555555556,\"#d8576b\"],[0.6666666666666666,\"#ed7953\"],[0.7777777777777778,\"#fb9f3a\"],[0.8888888888888888,\"#fdca26\"],[1.0,\"#f0f921\"]],\"sequentialminus\":[[0.0,\"#0d0887\"],[0.1111111111111111,\"#46039f\"],[0.2222222222222222,\"#7201a8\"],[0.3333333333333333,\"#9c179e\"],[0.4444444444444444,\"#bd3786\"],[0.5555555555555556,\"#d8576b\"],[0.6666666666666666,\"#ed7953\"],[0.7777777777777778,\"#fb9f3a\"],[0.8888888888888888,\"#fdca26\"],[1.0,\"#f0f921\"]],\"diverging\":[[0,\"#8e0152\"],[0.1,\"#c51b7d\"],[0.2,\"#de77ae\"],[0.3,\"#f1b6da\"],[0.4,\"#fde0ef\"],[0.5,\"#f7f7f7\"],[0.6,\"#e6f5d0\"],[0.7,\"#b8e186\"],[0.8,\"#7fbc41\"],[0.9,\"#4d9221\"],[1,\"#276419\"]]},\"xaxis\":{\"gridcolor\":\"white\",\"linecolor\":\"white\",\"ticks\":\"\",\"title\":{\"standoff\":15},\"zerolinecolor\":\"white\",\"automargin\":true,\"zerolinewidth\":2},\"yaxis\":{\"gridcolor\":\"white\",\"linecolor\":\"white\",\"ticks\":\"\",\"title\":{\"standoff\":15},\"zerolinecolor\":\"white\",\"automargin\":true,\"zerolinewidth\":2},\"scene\":{\"xaxis\":{\"backgroundcolor\":\"#E5ECF6\",\"gridcolor\":\"white\",\"linecolor\":\"white\",\"showbackground\":true,\"ticks\":\"\",\"zerolinecolor\":\"white\",\"gridwidth\":2},\"yaxis\":{\"backgroundcolor\":\"#E5ECF6\",\"gridcolor\":\"white\",\"linecolor\":\"white\",\"showbackground\":true,\"ticks\":\"\",\"zerolinecolor\":\"white\",\"gridwidth\":2},\"zaxis\":{\"backgroundcolor\":\"#E5ECF6\",\"gridcolor\":\"white\",\"linecolor\":\"white\",\"showbackground\":true,\"ticks\":\"\",\"zerolinecolor\":\"white\",\"gridwidth\":2}},\"shapedefaults\":{\"line\":{\"color\":\"#2a3f5f\"}},\"annotationdefaults\":{\"arrowcolor\":\"#2a3f5f\",\"arrowhead\":0,\"arrowwidth\":1},\"geo\":{\"bgcolor\":\"white\",\"landcolor\":\"#E5ECF6\",\"subunitcolor\":\"white\",\"showland\":true,\"showlakes\":true,\"lakecolor\":\"white\"},\"title\":{\"x\":0.05},\"mapbox\":{\"style\":\"light\"}}},\"legend\":{\"tracegroupgap\":0},\"title\":{\"text\":\"Launches\"}},                        {\"responsive\": true}                    ).then(function(){\n",
              "                            \n",
              "var gd = document.getElementById('2ba22dbd-4f8e-4fe1-a511-702e989ce335');\n",
              "var x = new MutationObserver(function (mutations, observer) {{\n",
              "        var display = window.getComputedStyle(gd).display;\n",
              "        if (!display || display === 'none') {{\n",
              "            console.log([gd, 'removed!']);\n",
              "            Plotly.purge(gd);\n",
              "            observer.disconnect();\n",
              "        }}\n",
              "}});\n",
              "\n",
              "// Listen for the removal of the full notebook cells\n",
              "var notebookContainer = gd.closest('#notebook-container');\n",
              "if (notebookContainer) {{\n",
              "    x.observe(notebookContainer, {childList: true});\n",
              "}}\n",
              "\n",
              "// Listen for the clearing of the current output cell\n",
              "var outputEl = gd.closest('.output');\n",
              "if (outputEl) {{\n",
              "    x.observe(outputEl, {childList: true});\n",
              "}}\n",
              "\n",
              "                        })                };                            </script>        </div>\n",
              "</body>\n",
              "</html>"
            ]
          },
          "metadata": {}
        }
      ]
    },
    {
      "cell_type": "markdown",
      "metadata": {
        "papermill": {
          "duration": 0.052921,
          "end_time": "2020-10-20T21:34:14.340085",
          "exception": false,
          "start_time": "2020-10-20T21:34:14.287164",
          "status": "completed"
        },
        "tags": [],
        "id": "0C29Zz4xa-rA"
      },
      "source": [
        "## Create a Chart that Shows the Total Number of Launches Year-On-Year by the Two Superpowers"
      ]
    },
    {
      "cell_type": "code",
      "metadata": {
        "id": "9ISKvOiCrS73"
      },
      "source": [
        "data_coldwar_usa= data_coldwar[data_coldwar.Country=='USA']\n",
        "coldwar_count_by_year_usa = []\n",
        "for i in data_coldwar_usa.year.unique():\n",
        "  coldwar_count_by_year_usa.append(data_coldwar_usa['year'].value_counts()[i])"
      ],
      "execution_count": 114,
      "outputs": []
    },
    {
      "cell_type": "code",
      "metadata": {
        "id": "oCc7VTzGrTK-"
      },
      "source": [
        "data_coldwar_ussr=pd.DataFrame()\n",
        "for i in ussr:\n",
        "  try:\n",
        "    d=data_coldwar[data_coldwar.Country==i]\n",
        "    data_coldwar_ussr=data_coldwar_ussr.append(d)\n",
        "  except KeyError:\n",
        "    pass\n",
        "coldwar_count_by_year_ussr = []\n",
        "for i in data_coldwar_ussr.year.unique():\n",
        "  coldwar_count_by_year_ussr.append(data_coldwar_ussr['year'].value_counts()[i])"
      ],
      "execution_count": null,
      "outputs": []
    },
    {
      "cell_type": "code",
      "source": [
        "fig = px.bar(x=data_coldwar_usa.year.unique(), y=coldwar_count_by_year_usa, labels={'x':'year','y':'number of launches'},title=\"Laucnches of USA vs USSR by year\")\n",
        "fig.add_bar(x=data_coldwar_ussr.year.unique(),y=coldwar_count_by_year_ussr,name=\"USSR\")\n",
        "fig.show()"
      ],
      "metadata": {
        "colab": {
          "base_uri": "https://localhost:8080/",
          "height": 542
        },
        "id": "uLBPjmCREkeF",
        "outputId": "0ed73f41-f3f3-4384-885c-0903759aaade"
      },
      "execution_count": 125,
      "outputs": [
        {
          "output_type": "display_data",
          "data": {
            "text/html": [
              "<html>\n",
              "<head><meta charset=\"utf-8\" /></head>\n",
              "<body>\n",
              "    <div>            <script src=\"https://cdnjs.cloudflare.com/ajax/libs/mathjax/2.7.5/MathJax.js?config=TeX-AMS-MML_SVG\"></script><script type=\"text/javascript\">if (window.MathJax && window.MathJax.Hub && window.MathJax.Hub.Config) {window.MathJax.Hub.Config({SVG: {font: \"STIX-Web\"}});}</script>                <script type=\"text/javascript\">window.PlotlyConfig = {MathJaxConfig: 'local'};</script>\n",
              "        <script charset=\"utf-8\" src=\"https://cdn.plot.ly/plotly-2.20.0.min.js\"></script>                <div id=\"22f5f82a-144f-4c8c-abb7-9d4b1cef8b4f\" class=\"plotly-graph-div\" style=\"height:525px; width:100%;\"></div>            <script type=\"text/javascript\">                                    window.PLOTLYENV=window.PLOTLYENV || {};                                    if (document.getElementById(\"22f5f82a-144f-4c8c-abb7-9d4b1cef8b4f\")) {                    Plotly.newPlot(                        \"22f5f82a-144f-4c8c-abb7-9d4b1cef8b4f\",                        [{\"alignmentgroup\":\"True\",\"hovertemplate\":\"year=%{x}<br>number of launches=%{y}<extra></extra>\",\"legendgroup\":\"\",\"marker\":{\"color\":\"#636efa\",\"pattern\":{\"shape\":\"\"}},\"name\":\"\",\"offsetgroup\":\"\",\"orientation\":\"v\",\"showlegend\":false,\"textposition\":\"auto\",\"x\":[\"1991\",\"1990\",\"1989\",\"1988\",\"1987\",\"1986\",\"1985\",\"1984\",\"1983\",\"1982\",\"1981\",\"1980\",\"1979\",\"1978\",\"1977\",\"1976\",\"1975\",\"1974\",\"1973\",\"1972\",\"1971\",\"1970\",\"1969\",\"1968\",\"1967\",\"1966\",\"1965\",\"1964\",\"1963\",\"1962\",\"1961\",\"1960\",\"1959\",\"1958\",\"1957\"],\"xaxis\":\"x\",\"y\":[18,26,16,7,6,6,16,17,13,11,13,11,9,21,14,13,15,10,17,17,16,11,17,22,26,47,33,24,17,60,43,30,16,23,1],\"yaxis\":\"y\",\"type\":\"bar\"},{\"name\":\"USSR\",\"x\":[\"1991\",\"1990\",\"1989\",\"1988\",\"1987\",\"1986\",\"1985\",\"1984\",\"1983\",\"1982\",\"1981\",\"1980\",\"1979\",\"1978\",\"1977\",\"1976\",\"1975\",\"1974\",\"1973\",\"1972\",\"1971\",\"1970\",\"1969\",\"1968\",\"1967\",\"1966\",\"1965\",\"1964\",\"1963\",\"1962\",\"1961\",\"1960\",\"1959\",\"1958\",\"1957\"],\"y\":[4,7,4,9,12,7,12,4,6,10,10,6,3,9,25,29,23,23,17,22,31,29,38,40,38,36,43,28,16,14,7,9,4,5,2],\"type\":\"bar\"}],                        {\"template\":{\"data\":{\"histogram2dcontour\":[{\"type\":\"histogram2dcontour\",\"colorbar\":{\"outlinewidth\":0,\"ticks\":\"\"},\"colorscale\":[[0.0,\"#0d0887\"],[0.1111111111111111,\"#46039f\"],[0.2222222222222222,\"#7201a8\"],[0.3333333333333333,\"#9c179e\"],[0.4444444444444444,\"#bd3786\"],[0.5555555555555556,\"#d8576b\"],[0.6666666666666666,\"#ed7953\"],[0.7777777777777778,\"#fb9f3a\"],[0.8888888888888888,\"#fdca26\"],[1.0,\"#f0f921\"]]}],\"choropleth\":[{\"type\":\"choropleth\",\"colorbar\":{\"outlinewidth\":0,\"ticks\":\"\"}}],\"histogram2d\":[{\"type\":\"histogram2d\",\"colorbar\":{\"outlinewidth\":0,\"ticks\":\"\"},\"colorscale\":[[0.0,\"#0d0887\"],[0.1111111111111111,\"#46039f\"],[0.2222222222222222,\"#7201a8\"],[0.3333333333333333,\"#9c179e\"],[0.4444444444444444,\"#bd3786\"],[0.5555555555555556,\"#d8576b\"],[0.6666666666666666,\"#ed7953\"],[0.7777777777777778,\"#fb9f3a\"],[0.8888888888888888,\"#fdca26\"],[1.0,\"#f0f921\"]]}],\"heatmap\":[{\"type\":\"heatmap\",\"colorbar\":{\"outlinewidth\":0,\"ticks\":\"\"},\"colorscale\":[[0.0,\"#0d0887\"],[0.1111111111111111,\"#46039f\"],[0.2222222222222222,\"#7201a8\"],[0.3333333333333333,\"#9c179e\"],[0.4444444444444444,\"#bd3786\"],[0.5555555555555556,\"#d8576b\"],[0.6666666666666666,\"#ed7953\"],[0.7777777777777778,\"#fb9f3a\"],[0.8888888888888888,\"#fdca26\"],[1.0,\"#f0f921\"]]}],\"heatmapgl\":[{\"type\":\"heatmapgl\",\"colorbar\":{\"outlinewidth\":0,\"ticks\":\"\"},\"colorscale\":[[0.0,\"#0d0887\"],[0.1111111111111111,\"#46039f\"],[0.2222222222222222,\"#7201a8\"],[0.3333333333333333,\"#9c179e\"],[0.4444444444444444,\"#bd3786\"],[0.5555555555555556,\"#d8576b\"],[0.6666666666666666,\"#ed7953\"],[0.7777777777777778,\"#fb9f3a\"],[0.8888888888888888,\"#fdca26\"],[1.0,\"#f0f921\"]]}],\"contourcarpet\":[{\"type\":\"contourcarpet\",\"colorbar\":{\"outlinewidth\":0,\"ticks\":\"\"}}],\"contour\":[{\"type\":\"contour\",\"colorbar\":{\"outlinewidth\":0,\"ticks\":\"\"},\"colorscale\":[[0.0,\"#0d0887\"],[0.1111111111111111,\"#46039f\"],[0.2222222222222222,\"#7201a8\"],[0.3333333333333333,\"#9c179e\"],[0.4444444444444444,\"#bd3786\"],[0.5555555555555556,\"#d8576b\"],[0.6666666666666666,\"#ed7953\"],[0.7777777777777778,\"#fb9f3a\"],[0.8888888888888888,\"#fdca26\"],[1.0,\"#f0f921\"]]}],\"surface\":[{\"type\":\"surface\",\"colorbar\":{\"outlinewidth\":0,\"ticks\":\"\"},\"colorscale\":[[0.0,\"#0d0887\"],[0.1111111111111111,\"#46039f\"],[0.2222222222222222,\"#7201a8\"],[0.3333333333333333,\"#9c179e\"],[0.4444444444444444,\"#bd3786\"],[0.5555555555555556,\"#d8576b\"],[0.6666666666666666,\"#ed7953\"],[0.7777777777777778,\"#fb9f3a\"],[0.8888888888888888,\"#fdca26\"],[1.0,\"#f0f921\"]]}],\"mesh3d\":[{\"type\":\"mesh3d\",\"colorbar\":{\"outlinewidth\":0,\"ticks\":\"\"}}],\"scatter\":[{\"fillpattern\":{\"fillmode\":\"overlay\",\"size\":10,\"solidity\":0.2},\"type\":\"scatter\"}],\"parcoords\":[{\"type\":\"parcoords\",\"line\":{\"colorbar\":{\"outlinewidth\":0,\"ticks\":\"\"}}}],\"scatterpolargl\":[{\"type\":\"scatterpolargl\",\"marker\":{\"colorbar\":{\"outlinewidth\":0,\"ticks\":\"\"}}}],\"bar\":[{\"error_x\":{\"color\":\"#2a3f5f\"},\"error_y\":{\"color\":\"#2a3f5f\"},\"marker\":{\"line\":{\"color\":\"#E5ECF6\",\"width\":0.5},\"pattern\":{\"fillmode\":\"overlay\",\"size\":10,\"solidity\":0.2}},\"type\":\"bar\"}],\"scattergeo\":[{\"type\":\"scattergeo\",\"marker\":{\"colorbar\":{\"outlinewidth\":0,\"ticks\":\"\"}}}],\"scatterpolar\":[{\"type\":\"scatterpolar\",\"marker\":{\"colorbar\":{\"outlinewidth\":0,\"ticks\":\"\"}}}],\"histogram\":[{\"marker\":{\"pattern\":{\"fillmode\":\"overlay\",\"size\":10,\"solidity\":0.2}},\"type\":\"histogram\"}],\"scattergl\":[{\"type\":\"scattergl\",\"marker\":{\"colorbar\":{\"outlinewidth\":0,\"ticks\":\"\"}}}],\"scatter3d\":[{\"type\":\"scatter3d\",\"line\":{\"colorbar\":{\"outlinewidth\":0,\"ticks\":\"\"}},\"marker\":{\"colorbar\":{\"outlinewidth\":0,\"ticks\":\"\"}}}],\"scattermapbox\":[{\"type\":\"scattermapbox\",\"marker\":{\"colorbar\":{\"outlinewidth\":0,\"ticks\":\"\"}}}],\"scatterternary\":[{\"type\":\"scatterternary\",\"marker\":{\"colorbar\":{\"outlinewidth\":0,\"ticks\":\"\"}}}],\"scattercarpet\":[{\"type\":\"scattercarpet\",\"marker\":{\"colorbar\":{\"outlinewidth\":0,\"ticks\":\"\"}}}],\"carpet\":[{\"aaxis\":{\"endlinecolor\":\"#2a3f5f\",\"gridcolor\":\"white\",\"linecolor\":\"white\",\"minorgridcolor\":\"white\",\"startlinecolor\":\"#2a3f5f\"},\"baxis\":{\"endlinecolor\":\"#2a3f5f\",\"gridcolor\":\"white\",\"linecolor\":\"white\",\"minorgridcolor\":\"white\",\"startlinecolor\":\"#2a3f5f\"},\"type\":\"carpet\"}],\"table\":[{\"cells\":{\"fill\":{\"color\":\"#EBF0F8\"},\"line\":{\"color\":\"white\"}},\"header\":{\"fill\":{\"color\":\"#C8D4E3\"},\"line\":{\"color\":\"white\"}},\"type\":\"table\"}],\"barpolar\":[{\"marker\":{\"line\":{\"color\":\"#E5ECF6\",\"width\":0.5},\"pattern\":{\"fillmode\":\"overlay\",\"size\":10,\"solidity\":0.2}},\"type\":\"barpolar\"}],\"pie\":[{\"automargin\":true,\"type\":\"pie\"}]},\"layout\":{\"autotypenumbers\":\"strict\",\"colorway\":[\"#636efa\",\"#EF553B\",\"#00cc96\",\"#ab63fa\",\"#FFA15A\",\"#19d3f3\",\"#FF6692\",\"#B6E880\",\"#FF97FF\",\"#FECB52\"],\"font\":{\"color\":\"#2a3f5f\"},\"hovermode\":\"closest\",\"hoverlabel\":{\"align\":\"left\"},\"paper_bgcolor\":\"white\",\"plot_bgcolor\":\"#E5ECF6\",\"polar\":{\"bgcolor\":\"#E5ECF6\",\"angularaxis\":{\"gridcolor\":\"white\",\"linecolor\":\"white\",\"ticks\":\"\"},\"radialaxis\":{\"gridcolor\":\"white\",\"linecolor\":\"white\",\"ticks\":\"\"}},\"ternary\":{\"bgcolor\":\"#E5ECF6\",\"aaxis\":{\"gridcolor\":\"white\",\"linecolor\":\"white\",\"ticks\":\"\"},\"baxis\":{\"gridcolor\":\"white\",\"linecolor\":\"white\",\"ticks\":\"\"},\"caxis\":{\"gridcolor\":\"white\",\"linecolor\":\"white\",\"ticks\":\"\"}},\"coloraxis\":{\"colorbar\":{\"outlinewidth\":0,\"ticks\":\"\"}},\"colorscale\":{\"sequential\":[[0.0,\"#0d0887\"],[0.1111111111111111,\"#46039f\"],[0.2222222222222222,\"#7201a8\"],[0.3333333333333333,\"#9c179e\"],[0.4444444444444444,\"#bd3786\"],[0.5555555555555556,\"#d8576b\"],[0.6666666666666666,\"#ed7953\"],[0.7777777777777778,\"#fb9f3a\"],[0.8888888888888888,\"#fdca26\"],[1.0,\"#f0f921\"]],\"sequentialminus\":[[0.0,\"#0d0887\"],[0.1111111111111111,\"#46039f\"],[0.2222222222222222,\"#7201a8\"],[0.3333333333333333,\"#9c179e\"],[0.4444444444444444,\"#bd3786\"],[0.5555555555555556,\"#d8576b\"],[0.6666666666666666,\"#ed7953\"],[0.7777777777777778,\"#fb9f3a\"],[0.8888888888888888,\"#fdca26\"],[1.0,\"#f0f921\"]],\"diverging\":[[0,\"#8e0152\"],[0.1,\"#c51b7d\"],[0.2,\"#de77ae\"],[0.3,\"#f1b6da\"],[0.4,\"#fde0ef\"],[0.5,\"#f7f7f7\"],[0.6,\"#e6f5d0\"],[0.7,\"#b8e186\"],[0.8,\"#7fbc41\"],[0.9,\"#4d9221\"],[1,\"#276419\"]]},\"xaxis\":{\"gridcolor\":\"white\",\"linecolor\":\"white\",\"ticks\":\"\",\"title\":{\"standoff\":15},\"zerolinecolor\":\"white\",\"automargin\":true,\"zerolinewidth\":2},\"yaxis\":{\"gridcolor\":\"white\",\"linecolor\":\"white\",\"ticks\":\"\",\"title\":{\"standoff\":15},\"zerolinecolor\":\"white\",\"automargin\":true,\"zerolinewidth\":2},\"scene\":{\"xaxis\":{\"backgroundcolor\":\"#E5ECF6\",\"gridcolor\":\"white\",\"linecolor\":\"white\",\"showbackground\":true,\"ticks\":\"\",\"zerolinecolor\":\"white\",\"gridwidth\":2},\"yaxis\":{\"backgroundcolor\":\"#E5ECF6\",\"gridcolor\":\"white\",\"linecolor\":\"white\",\"showbackground\":true,\"ticks\":\"\",\"zerolinecolor\":\"white\",\"gridwidth\":2},\"zaxis\":{\"backgroundcolor\":\"#E5ECF6\",\"gridcolor\":\"white\",\"linecolor\":\"white\",\"showbackground\":true,\"ticks\":\"\",\"zerolinecolor\":\"white\",\"gridwidth\":2}},\"shapedefaults\":{\"line\":{\"color\":\"#2a3f5f\"}},\"annotationdefaults\":{\"arrowcolor\":\"#2a3f5f\",\"arrowhead\":0,\"arrowwidth\":1},\"geo\":{\"bgcolor\":\"white\",\"landcolor\":\"#E5ECF6\",\"subunitcolor\":\"white\",\"showland\":true,\"showlakes\":true,\"lakecolor\":\"white\"},\"title\":{\"x\":0.05},\"mapbox\":{\"style\":\"light\"}}},\"xaxis\":{\"anchor\":\"y\",\"domain\":[0.0,1.0],\"title\":{\"text\":\"year\"}},\"yaxis\":{\"anchor\":\"x\",\"domain\":[0.0,1.0],\"title\":{\"text\":\"number of launches\"}},\"legend\":{\"tracegroupgap\":0},\"title\":{\"text\":\"Laucnches of USA vs USSR by year\"},\"barmode\":\"relative\"},                        {\"responsive\": true}                    ).then(function(){\n",
              "                            \n",
              "var gd = document.getElementById('22f5f82a-144f-4c8c-abb7-9d4b1cef8b4f');\n",
              "var x = new MutationObserver(function (mutations, observer) {{\n",
              "        var display = window.getComputedStyle(gd).display;\n",
              "        if (!display || display === 'none') {{\n",
              "            console.log([gd, 'removed!']);\n",
              "            Plotly.purge(gd);\n",
              "            observer.disconnect();\n",
              "        }}\n",
              "}});\n",
              "\n",
              "// Listen for the removal of the full notebook cells\n",
              "var notebookContainer = gd.closest('#notebook-container');\n",
              "if (notebookContainer) {{\n",
              "    x.observe(notebookContainer, {childList: true});\n",
              "}}\n",
              "\n",
              "// Listen for the clearing of the current output cell\n",
              "var outputEl = gd.closest('.output');\n",
              "if (outputEl) {{\n",
              "    x.observe(outputEl, {childList: true});\n",
              "}}\n",
              "\n",
              "                        })                };                            </script>        </div>\n",
              "</body>\n",
              "</html>"
            ]
          },
          "metadata": {}
        }
      ]
    },
    {
      "cell_type": "markdown",
      "metadata": {
        "papermill": {
          "duration": 0.079311,
          "end_time": "2020-10-20T21:34:14.933058",
          "exception": false,
          "start_time": "2020-10-20T21:34:14.853747",
          "status": "completed"
        },
        "tags": [],
        "id": "eWv4iZmra-rE"
      },
      "source": [
        "## Chart the Total Number of Mission Failures Year on Year."
      ]
    },
    {
      "cell_type": "code",
      "metadata": {
        "id": "I-Zss5-Mre-4"
      },
      "source": [
        "data_failure_usa=data_coldwar_usa[data_coldwar_usa.Mission_Status!='Success']\n",
        "data_failure_ussr=data_coldwar_ussr[data_coldwar_ussr.Mission_Status!='Success']"
      ],
      "execution_count": 126,
      "outputs": []
    },
    {
      "cell_type": "code",
      "metadata": {
        "id": "7Ps9Iq_crfYl"
      },
      "source": [
        "fail_count_by_year_usa = []\n",
        "for i in data_failure_usa.year.unique():\n",
        "  fail_count_by_year_usa.append(data_failure_usa['year'].value_counts()[i])"
      ],
      "execution_count": 127,
      "outputs": []
    },
    {
      "cell_type": "code",
      "source": [
        "fail_count_by_year_ussr = []\n",
        "for i in data_failure_ussr.year.unique():\n",
        "  fail_count_by_year_ussr.append(data_failure_ussr['year'].value_counts()[i])"
      ],
      "metadata": {
        "id": "T-FhKYPKGE-1"
      },
      "execution_count": 128,
      "outputs": []
    },
    {
      "cell_type": "code",
      "source": [
        "fig = px.bar( x=data_failure_usa.year.unique(), y=fail_count_by_year_usa, labels={'x':'year','y':'number of launches'},title=\"Failure of USA vs USSR by year\")\n",
        "fig.add_bar(x=data_failure_ussr.year.unique(),y=fail_count_by_year_ussr,name=\"USSR\")\n",
        "fig.show()"
      ],
      "metadata": {
        "colab": {
          "base_uri": "https://localhost:8080/",
          "height": 542
        },
        "id": "I6RkJohOGHli",
        "outputId": "b36c99ba-38bb-4e00-9936-3b2406b65dcb"
      },
      "execution_count": 129,
      "outputs": [
        {
          "output_type": "display_data",
          "data": {
            "text/html": [
              "<html>\n",
              "<head><meta charset=\"utf-8\" /></head>\n",
              "<body>\n",
              "    <div>            <script src=\"https://cdnjs.cloudflare.com/ajax/libs/mathjax/2.7.5/MathJax.js?config=TeX-AMS-MML_SVG\"></script><script type=\"text/javascript\">if (window.MathJax && window.MathJax.Hub && window.MathJax.Hub.Config) {window.MathJax.Hub.Config({SVG: {font: \"STIX-Web\"}});}</script>                <script type=\"text/javascript\">window.PlotlyConfig = {MathJaxConfig: 'local'};</script>\n",
              "        <script charset=\"utf-8\" src=\"https://cdn.plot.ly/plotly-2.20.0.min.js\"></script>                <div id=\"a7b3764c-2391-4f6a-9fb2-fcf094447c6b\" class=\"plotly-graph-div\" style=\"height:525px; width:100%;\"></div>            <script type=\"text/javascript\">                                    window.PLOTLYENV=window.PLOTLYENV || {};                                    if (document.getElementById(\"a7b3764c-2391-4f6a-9fb2-fcf094447c6b\")) {                    Plotly.newPlot(                        \"a7b3764c-2391-4f6a-9fb2-fcf094447c6b\",                        [{\"alignmentgroup\":\"True\",\"hovertemplate\":\"year=%{x}<br>number of launches=%{y}<extra></extra>\",\"legendgroup\":\"\",\"marker\":{\"color\":\"#636efa\",\"pattern\":{\"shape\":\"\"}},\"name\":\"\",\"offsetgroup\":\"\",\"orientation\":\"v\",\"showlegend\":false,\"textposition\":\"auto\",\"x\":[\"1991\",\"1990\",\"1988\",\"1987\",\"1986\",\"1985\",\"1984\",\"1981\",\"1980\",\"1978\",\"1977\",\"1975\",\"1974\",\"1973\",\"1972\",\"1971\",\"1970\",\"1968\",\"1967\",\"1966\",\"1965\",\"1964\",\"1963\",\"1962\",\"1961\",\"1960\",\"1959\",\"1958\",\"1957\"],\"xaxis\":\"x\",\"y\":[2,1,1,1,2,1,1,2,2,1,1,3,1,1,2,2,2,3,5,7,7,5,4,10,16,14,10,18,1],\"yaxis\":\"y\",\"type\":\"bar\"},{\"name\":\"USSR\",\"x\":[\"1991\",\"1990\",\"1985\",\"1982\",\"1977\",\"1975\",\"1974\",\"1973\",\"1972\",\"1971\",\"1970\",\"1969\",\"1968\",\"1967\",\"1966\",\"1965\",\"1964\",\"1963\",\"1962\",\"1961\",\"1960\",\"1959\",\"1958\"],\"y\":[1,1,3,1,2,1,1,1,3,2,2,10,5,8,9,3,6,4,6,2,6,2,4],\"type\":\"bar\"}],                        {\"template\":{\"data\":{\"histogram2dcontour\":[{\"type\":\"histogram2dcontour\",\"colorbar\":{\"outlinewidth\":0,\"ticks\":\"\"},\"colorscale\":[[0.0,\"#0d0887\"],[0.1111111111111111,\"#46039f\"],[0.2222222222222222,\"#7201a8\"],[0.3333333333333333,\"#9c179e\"],[0.4444444444444444,\"#bd3786\"],[0.5555555555555556,\"#d8576b\"],[0.6666666666666666,\"#ed7953\"],[0.7777777777777778,\"#fb9f3a\"],[0.8888888888888888,\"#fdca26\"],[1.0,\"#f0f921\"]]}],\"choropleth\":[{\"type\":\"choropleth\",\"colorbar\":{\"outlinewidth\":0,\"ticks\":\"\"}}],\"histogram2d\":[{\"type\":\"histogram2d\",\"colorbar\":{\"outlinewidth\":0,\"ticks\":\"\"},\"colorscale\":[[0.0,\"#0d0887\"],[0.1111111111111111,\"#46039f\"],[0.2222222222222222,\"#7201a8\"],[0.3333333333333333,\"#9c179e\"],[0.4444444444444444,\"#bd3786\"],[0.5555555555555556,\"#d8576b\"],[0.6666666666666666,\"#ed7953\"],[0.7777777777777778,\"#fb9f3a\"],[0.8888888888888888,\"#fdca26\"],[1.0,\"#f0f921\"]]}],\"heatmap\":[{\"type\":\"heatmap\",\"colorbar\":{\"outlinewidth\":0,\"ticks\":\"\"},\"colorscale\":[[0.0,\"#0d0887\"],[0.1111111111111111,\"#46039f\"],[0.2222222222222222,\"#7201a8\"],[0.3333333333333333,\"#9c179e\"],[0.4444444444444444,\"#bd3786\"],[0.5555555555555556,\"#d8576b\"],[0.6666666666666666,\"#ed7953\"],[0.7777777777777778,\"#fb9f3a\"],[0.8888888888888888,\"#fdca26\"],[1.0,\"#f0f921\"]]}],\"heatmapgl\":[{\"type\":\"heatmapgl\",\"colorbar\":{\"outlinewidth\":0,\"ticks\":\"\"},\"colorscale\":[[0.0,\"#0d0887\"],[0.1111111111111111,\"#46039f\"],[0.2222222222222222,\"#7201a8\"],[0.3333333333333333,\"#9c179e\"],[0.4444444444444444,\"#bd3786\"],[0.5555555555555556,\"#d8576b\"],[0.6666666666666666,\"#ed7953\"],[0.7777777777777778,\"#fb9f3a\"],[0.8888888888888888,\"#fdca26\"],[1.0,\"#f0f921\"]]}],\"contourcarpet\":[{\"type\":\"contourcarpet\",\"colorbar\":{\"outlinewidth\":0,\"ticks\":\"\"}}],\"contour\":[{\"type\":\"contour\",\"colorbar\":{\"outlinewidth\":0,\"ticks\":\"\"},\"colorscale\":[[0.0,\"#0d0887\"],[0.1111111111111111,\"#46039f\"],[0.2222222222222222,\"#7201a8\"],[0.3333333333333333,\"#9c179e\"],[0.4444444444444444,\"#bd3786\"],[0.5555555555555556,\"#d8576b\"],[0.6666666666666666,\"#ed7953\"],[0.7777777777777778,\"#fb9f3a\"],[0.8888888888888888,\"#fdca26\"],[1.0,\"#f0f921\"]]}],\"surface\":[{\"type\":\"surface\",\"colorbar\":{\"outlinewidth\":0,\"ticks\":\"\"},\"colorscale\":[[0.0,\"#0d0887\"],[0.1111111111111111,\"#46039f\"],[0.2222222222222222,\"#7201a8\"],[0.3333333333333333,\"#9c179e\"],[0.4444444444444444,\"#bd3786\"],[0.5555555555555556,\"#d8576b\"],[0.6666666666666666,\"#ed7953\"],[0.7777777777777778,\"#fb9f3a\"],[0.8888888888888888,\"#fdca26\"],[1.0,\"#f0f921\"]]}],\"mesh3d\":[{\"type\":\"mesh3d\",\"colorbar\":{\"outlinewidth\":0,\"ticks\":\"\"}}],\"scatter\":[{\"fillpattern\":{\"fillmode\":\"overlay\",\"size\":10,\"solidity\":0.2},\"type\":\"scatter\"}],\"parcoords\":[{\"type\":\"parcoords\",\"line\":{\"colorbar\":{\"outlinewidth\":0,\"ticks\":\"\"}}}],\"scatterpolargl\":[{\"type\":\"scatterpolargl\",\"marker\":{\"colorbar\":{\"outlinewidth\":0,\"ticks\":\"\"}}}],\"bar\":[{\"error_x\":{\"color\":\"#2a3f5f\"},\"error_y\":{\"color\":\"#2a3f5f\"},\"marker\":{\"line\":{\"color\":\"#E5ECF6\",\"width\":0.5},\"pattern\":{\"fillmode\":\"overlay\",\"size\":10,\"solidity\":0.2}},\"type\":\"bar\"}],\"scattergeo\":[{\"type\":\"scattergeo\",\"marker\":{\"colorbar\":{\"outlinewidth\":0,\"ticks\":\"\"}}}],\"scatterpolar\":[{\"type\":\"scatterpolar\",\"marker\":{\"colorbar\":{\"outlinewidth\":0,\"ticks\":\"\"}}}],\"histogram\":[{\"marker\":{\"pattern\":{\"fillmode\":\"overlay\",\"size\":10,\"solidity\":0.2}},\"type\":\"histogram\"}],\"scattergl\":[{\"type\":\"scattergl\",\"marker\":{\"colorbar\":{\"outlinewidth\":0,\"ticks\":\"\"}}}],\"scatter3d\":[{\"type\":\"scatter3d\",\"line\":{\"colorbar\":{\"outlinewidth\":0,\"ticks\":\"\"}},\"marker\":{\"colorbar\":{\"outlinewidth\":0,\"ticks\":\"\"}}}],\"scattermapbox\":[{\"type\":\"scattermapbox\",\"marker\":{\"colorbar\":{\"outlinewidth\":0,\"ticks\":\"\"}}}],\"scatterternary\":[{\"type\":\"scatterternary\",\"marker\":{\"colorbar\":{\"outlinewidth\":0,\"ticks\":\"\"}}}],\"scattercarpet\":[{\"type\":\"scattercarpet\",\"marker\":{\"colorbar\":{\"outlinewidth\":0,\"ticks\":\"\"}}}],\"carpet\":[{\"aaxis\":{\"endlinecolor\":\"#2a3f5f\",\"gridcolor\":\"white\",\"linecolor\":\"white\",\"minorgridcolor\":\"white\",\"startlinecolor\":\"#2a3f5f\"},\"baxis\":{\"endlinecolor\":\"#2a3f5f\",\"gridcolor\":\"white\",\"linecolor\":\"white\",\"minorgridcolor\":\"white\",\"startlinecolor\":\"#2a3f5f\"},\"type\":\"carpet\"}],\"table\":[{\"cells\":{\"fill\":{\"color\":\"#EBF0F8\"},\"line\":{\"color\":\"white\"}},\"header\":{\"fill\":{\"color\":\"#C8D4E3\"},\"line\":{\"color\":\"white\"}},\"type\":\"table\"}],\"barpolar\":[{\"marker\":{\"line\":{\"color\":\"#E5ECF6\",\"width\":0.5},\"pattern\":{\"fillmode\":\"overlay\",\"size\":10,\"solidity\":0.2}},\"type\":\"barpolar\"}],\"pie\":[{\"automargin\":true,\"type\":\"pie\"}]},\"layout\":{\"autotypenumbers\":\"strict\",\"colorway\":[\"#636efa\",\"#EF553B\",\"#00cc96\",\"#ab63fa\",\"#FFA15A\",\"#19d3f3\",\"#FF6692\",\"#B6E880\",\"#FF97FF\",\"#FECB52\"],\"font\":{\"color\":\"#2a3f5f\"},\"hovermode\":\"closest\",\"hoverlabel\":{\"align\":\"left\"},\"paper_bgcolor\":\"white\",\"plot_bgcolor\":\"#E5ECF6\",\"polar\":{\"bgcolor\":\"#E5ECF6\",\"angularaxis\":{\"gridcolor\":\"white\",\"linecolor\":\"white\",\"ticks\":\"\"},\"radialaxis\":{\"gridcolor\":\"white\",\"linecolor\":\"white\",\"ticks\":\"\"}},\"ternary\":{\"bgcolor\":\"#E5ECF6\",\"aaxis\":{\"gridcolor\":\"white\",\"linecolor\":\"white\",\"ticks\":\"\"},\"baxis\":{\"gridcolor\":\"white\",\"linecolor\":\"white\",\"ticks\":\"\"},\"caxis\":{\"gridcolor\":\"white\",\"linecolor\":\"white\",\"ticks\":\"\"}},\"coloraxis\":{\"colorbar\":{\"outlinewidth\":0,\"ticks\":\"\"}},\"colorscale\":{\"sequential\":[[0.0,\"#0d0887\"],[0.1111111111111111,\"#46039f\"],[0.2222222222222222,\"#7201a8\"],[0.3333333333333333,\"#9c179e\"],[0.4444444444444444,\"#bd3786\"],[0.5555555555555556,\"#d8576b\"],[0.6666666666666666,\"#ed7953\"],[0.7777777777777778,\"#fb9f3a\"],[0.8888888888888888,\"#fdca26\"],[1.0,\"#f0f921\"]],\"sequentialminus\":[[0.0,\"#0d0887\"],[0.1111111111111111,\"#46039f\"],[0.2222222222222222,\"#7201a8\"],[0.3333333333333333,\"#9c179e\"],[0.4444444444444444,\"#bd3786\"],[0.5555555555555556,\"#d8576b\"],[0.6666666666666666,\"#ed7953\"],[0.7777777777777778,\"#fb9f3a\"],[0.8888888888888888,\"#fdca26\"],[1.0,\"#f0f921\"]],\"diverging\":[[0,\"#8e0152\"],[0.1,\"#c51b7d\"],[0.2,\"#de77ae\"],[0.3,\"#f1b6da\"],[0.4,\"#fde0ef\"],[0.5,\"#f7f7f7\"],[0.6,\"#e6f5d0\"],[0.7,\"#b8e186\"],[0.8,\"#7fbc41\"],[0.9,\"#4d9221\"],[1,\"#276419\"]]},\"xaxis\":{\"gridcolor\":\"white\",\"linecolor\":\"white\",\"ticks\":\"\",\"title\":{\"standoff\":15},\"zerolinecolor\":\"white\",\"automargin\":true,\"zerolinewidth\":2},\"yaxis\":{\"gridcolor\":\"white\",\"linecolor\":\"white\",\"ticks\":\"\",\"title\":{\"standoff\":15},\"zerolinecolor\":\"white\",\"automargin\":true,\"zerolinewidth\":2},\"scene\":{\"xaxis\":{\"backgroundcolor\":\"#E5ECF6\",\"gridcolor\":\"white\",\"linecolor\":\"white\",\"showbackground\":true,\"ticks\":\"\",\"zerolinecolor\":\"white\",\"gridwidth\":2},\"yaxis\":{\"backgroundcolor\":\"#E5ECF6\",\"gridcolor\":\"white\",\"linecolor\":\"white\",\"showbackground\":true,\"ticks\":\"\",\"zerolinecolor\":\"white\",\"gridwidth\":2},\"zaxis\":{\"backgroundcolor\":\"#E5ECF6\",\"gridcolor\":\"white\",\"linecolor\":\"white\",\"showbackground\":true,\"ticks\":\"\",\"zerolinecolor\":\"white\",\"gridwidth\":2}},\"shapedefaults\":{\"line\":{\"color\":\"#2a3f5f\"}},\"annotationdefaults\":{\"arrowcolor\":\"#2a3f5f\",\"arrowhead\":0,\"arrowwidth\":1},\"geo\":{\"bgcolor\":\"white\",\"landcolor\":\"#E5ECF6\",\"subunitcolor\":\"white\",\"showland\":true,\"showlakes\":true,\"lakecolor\":\"white\"},\"title\":{\"x\":0.05},\"mapbox\":{\"style\":\"light\"}}},\"xaxis\":{\"anchor\":\"y\",\"domain\":[0.0,1.0],\"title\":{\"text\":\"year\"}},\"yaxis\":{\"anchor\":\"x\",\"domain\":[0.0,1.0],\"title\":{\"text\":\"number of launches\"}},\"legend\":{\"tracegroupgap\":0},\"title\":{\"text\":\"Failure of USA vs USSR by year\"},\"barmode\":\"relative\"},                        {\"responsive\": true}                    ).then(function(){\n",
              "                            \n",
              "var gd = document.getElementById('a7b3764c-2391-4f6a-9fb2-fcf094447c6b');\n",
              "var x = new MutationObserver(function (mutations, observer) {{\n",
              "        var display = window.getComputedStyle(gd).display;\n",
              "        if (!display || display === 'none') {{\n",
              "            console.log([gd, 'removed!']);\n",
              "            Plotly.purge(gd);\n",
              "            observer.disconnect();\n",
              "        }}\n",
              "}});\n",
              "\n",
              "// Listen for the removal of the full notebook cells\n",
              "var notebookContainer = gd.closest('#notebook-container');\n",
              "if (notebookContainer) {{\n",
              "    x.observe(notebookContainer, {childList: true});\n",
              "}}\n",
              "\n",
              "// Listen for the clearing of the current output cell\n",
              "var outputEl = gd.closest('.output');\n",
              "if (outputEl) {{\n",
              "    x.observe(outputEl, {childList: true});\n",
              "}}\n",
              "\n",
              "                        })                };                            </script>        </div>\n",
              "</body>\n",
              "</html>"
            ]
          },
          "metadata": {}
        }
      ]
    },
    {
      "cell_type": "markdown",
      "metadata": {
        "id": "XNp-NkrJriEF"
      },
      "source": [
        "## Chart the Percentage of Failures over Time\n",
        "\n",
        "Did failures go up or down over time? Did the countries get better at minimising risk and improving their chances of success over time? "
      ]
    },
    {
      "cell_type": "code",
      "metadata": {
        "id": "Kj3-zsI0rhOS"
      },
      "source": [
        "percent_failures_ussr=[]\n",
        "for i in range(len(coldwar_count_by_year_ussr)):\n",
        "  y=data_coldwar_ussr.year.unique()[i]\n",
        "  if y not in data_failure_ussr.year.unique():\n",
        "    fail_count_by_year_ussr.insert(i, 0)\n",
        "    r=0\n",
        "  else:\n",
        "    r=round((fail_count_by_year_ussr[i]/coldwar_count_by_year_ussr[i])*100,2)\n",
        "  percent_failures_ussr.append(r)"
      ],
      "execution_count": 130,
      "outputs": []
    },
    {
      "cell_type": "code",
      "metadata": {
        "id": "nxnnzx89rwvH"
      },
      "source": [
        "percent_failures_usa=[]\n",
        "for i in range(len(coldwar_count_by_year_usa)):\n",
        "  y=data_coldwar_usa.year.unique()[i]\n",
        "  if y not in data_failure_usa.year.unique():\n",
        "    fail_count_by_year_usa.insert(i, 0)\n",
        "    r=0\n",
        "  else:\n",
        "    r=round((fail_count_by_year_usa[i]/coldwar_count_by_year_usa[i])*100,2)\n",
        "  percent_failures_usa.append(r)"
      ],
      "execution_count": 131,
      "outputs": []
    },
    {
      "cell_type": "code",
      "metadata": {
        "id": "_TPWaaJ5r1Fz",
        "colab": {
          "base_uri": "https://localhost:8080/",
          "height": 1000
        },
        "outputId": "44c0a1bc-9c14-4d79-c7c0-2a397ecf0be0"
      },
      "source": [
        "fig1=px.line(x=data_coldwar_usa.year.unique()[:-1], y=percent_failures_usa[:-1], labels={'x':'year','y':'percent of failures'},title='percentage failure of USA by year')\n",
        "fig1.show()\n",
        "fig2=px.line(x=data_coldwar_ussr.year.unique(), y=percent_failures_ussr, labels={'x':'year','y':'percent of failures'},title='percentage failure of USSR by year')\n",
        "fig2.show()"
      ],
      "execution_count": 132,
      "outputs": [
        {
          "output_type": "display_data",
          "data": {
            "text/html": [
              "<html>\n",
              "<head><meta charset=\"utf-8\" /></head>\n",
              "<body>\n",
              "    <div>            <script src=\"https://cdnjs.cloudflare.com/ajax/libs/mathjax/2.7.5/MathJax.js?config=TeX-AMS-MML_SVG\"></script><script type=\"text/javascript\">if (window.MathJax && window.MathJax.Hub && window.MathJax.Hub.Config) {window.MathJax.Hub.Config({SVG: {font: \"STIX-Web\"}});}</script>                <script type=\"text/javascript\">window.PlotlyConfig = {MathJaxConfig: 'local'};</script>\n",
              "        <script charset=\"utf-8\" src=\"https://cdn.plot.ly/plotly-2.20.0.min.js\"></script>                <div id=\"f275dd68-5e47-41af-8f28-9f5aaa66c28c\" class=\"plotly-graph-div\" style=\"height:525px; width:100%;\"></div>            <script type=\"text/javascript\">                                    window.PLOTLYENV=window.PLOTLYENV || {};                                    if (document.getElementById(\"f275dd68-5e47-41af-8f28-9f5aaa66c28c\")) {                    Plotly.newPlot(                        \"f275dd68-5e47-41af-8f28-9f5aaa66c28c\",                        [{\"hovertemplate\":\"year=%{x}<br>percent of failures=%{y}<extra></extra>\",\"legendgroup\":\"\",\"line\":{\"color\":\"#636efa\",\"dash\":\"solid\"},\"marker\":{\"symbol\":\"circle\"},\"mode\":\"lines\",\"name\":\"\",\"orientation\":\"v\",\"showlegend\":false,\"x\":[\"1991\",\"1990\",\"1989\",\"1988\",\"1987\",\"1986\",\"1985\",\"1984\",\"1983\",\"1982\",\"1981\",\"1980\",\"1979\",\"1978\",\"1977\",\"1976\",\"1975\",\"1974\",\"1973\",\"1972\",\"1971\",\"1970\",\"1969\",\"1968\",\"1967\",\"1966\",\"1965\",\"1964\",\"1963\",\"1962\",\"1961\",\"1960\",\"1959\",\"1958\"],\"xaxis\":\"x\",\"y\":[11.11,3.85,0.0,14.29,16.67,33.33,6.25,5.88,0.0,0.0,15.38,18.18,0.0,4.76,7.14,0.0,20.0,10.0,5.88,11.76,12.5,18.18,0.0,13.64,19.23,14.89,21.21,20.83,23.53,16.67,37.21,46.67,62.5,78.26],\"yaxis\":\"y\",\"type\":\"scatter\"}],                        {\"template\":{\"data\":{\"histogram2dcontour\":[{\"type\":\"histogram2dcontour\",\"colorbar\":{\"outlinewidth\":0,\"ticks\":\"\"},\"colorscale\":[[0.0,\"#0d0887\"],[0.1111111111111111,\"#46039f\"],[0.2222222222222222,\"#7201a8\"],[0.3333333333333333,\"#9c179e\"],[0.4444444444444444,\"#bd3786\"],[0.5555555555555556,\"#d8576b\"],[0.6666666666666666,\"#ed7953\"],[0.7777777777777778,\"#fb9f3a\"],[0.8888888888888888,\"#fdca26\"],[1.0,\"#f0f921\"]]}],\"choropleth\":[{\"type\":\"choropleth\",\"colorbar\":{\"outlinewidth\":0,\"ticks\":\"\"}}],\"histogram2d\":[{\"type\":\"histogram2d\",\"colorbar\":{\"outlinewidth\":0,\"ticks\":\"\"},\"colorscale\":[[0.0,\"#0d0887\"],[0.1111111111111111,\"#46039f\"],[0.2222222222222222,\"#7201a8\"],[0.3333333333333333,\"#9c179e\"],[0.4444444444444444,\"#bd3786\"],[0.5555555555555556,\"#d8576b\"],[0.6666666666666666,\"#ed7953\"],[0.7777777777777778,\"#fb9f3a\"],[0.8888888888888888,\"#fdca26\"],[1.0,\"#f0f921\"]]}],\"heatmap\":[{\"type\":\"heatmap\",\"colorbar\":{\"outlinewidth\":0,\"ticks\":\"\"},\"colorscale\":[[0.0,\"#0d0887\"],[0.1111111111111111,\"#46039f\"],[0.2222222222222222,\"#7201a8\"],[0.3333333333333333,\"#9c179e\"],[0.4444444444444444,\"#bd3786\"],[0.5555555555555556,\"#d8576b\"],[0.6666666666666666,\"#ed7953\"],[0.7777777777777778,\"#fb9f3a\"],[0.8888888888888888,\"#fdca26\"],[1.0,\"#f0f921\"]]}],\"heatmapgl\":[{\"type\":\"heatmapgl\",\"colorbar\":{\"outlinewidth\":0,\"ticks\":\"\"},\"colorscale\":[[0.0,\"#0d0887\"],[0.1111111111111111,\"#46039f\"],[0.2222222222222222,\"#7201a8\"],[0.3333333333333333,\"#9c179e\"],[0.4444444444444444,\"#bd3786\"],[0.5555555555555556,\"#d8576b\"],[0.6666666666666666,\"#ed7953\"],[0.7777777777777778,\"#fb9f3a\"],[0.8888888888888888,\"#fdca26\"],[1.0,\"#f0f921\"]]}],\"contourcarpet\":[{\"type\":\"contourcarpet\",\"colorbar\":{\"outlinewidth\":0,\"ticks\":\"\"}}],\"contour\":[{\"type\":\"contour\",\"colorbar\":{\"outlinewidth\":0,\"ticks\":\"\"},\"colorscale\":[[0.0,\"#0d0887\"],[0.1111111111111111,\"#46039f\"],[0.2222222222222222,\"#7201a8\"],[0.3333333333333333,\"#9c179e\"],[0.4444444444444444,\"#bd3786\"],[0.5555555555555556,\"#d8576b\"],[0.6666666666666666,\"#ed7953\"],[0.7777777777777778,\"#fb9f3a\"],[0.8888888888888888,\"#fdca26\"],[1.0,\"#f0f921\"]]}],\"surface\":[{\"type\":\"surface\",\"colorbar\":{\"outlinewidth\":0,\"ticks\":\"\"},\"colorscale\":[[0.0,\"#0d0887\"],[0.1111111111111111,\"#46039f\"],[0.2222222222222222,\"#7201a8\"],[0.3333333333333333,\"#9c179e\"],[0.4444444444444444,\"#bd3786\"],[0.5555555555555556,\"#d8576b\"],[0.6666666666666666,\"#ed7953\"],[0.7777777777777778,\"#fb9f3a\"],[0.8888888888888888,\"#fdca26\"],[1.0,\"#f0f921\"]]}],\"mesh3d\":[{\"type\":\"mesh3d\",\"colorbar\":{\"outlinewidth\":0,\"ticks\":\"\"}}],\"scatter\":[{\"fillpattern\":{\"fillmode\":\"overlay\",\"size\":10,\"solidity\":0.2},\"type\":\"scatter\"}],\"parcoords\":[{\"type\":\"parcoords\",\"line\":{\"colorbar\":{\"outlinewidth\":0,\"ticks\":\"\"}}}],\"scatterpolargl\":[{\"type\":\"scatterpolargl\",\"marker\":{\"colorbar\":{\"outlinewidth\":0,\"ticks\":\"\"}}}],\"bar\":[{\"error_x\":{\"color\":\"#2a3f5f\"},\"error_y\":{\"color\":\"#2a3f5f\"},\"marker\":{\"line\":{\"color\":\"#E5ECF6\",\"width\":0.5},\"pattern\":{\"fillmode\":\"overlay\",\"size\":10,\"solidity\":0.2}},\"type\":\"bar\"}],\"scattergeo\":[{\"type\":\"scattergeo\",\"marker\":{\"colorbar\":{\"outlinewidth\":0,\"ticks\":\"\"}}}],\"scatterpolar\":[{\"type\":\"scatterpolar\",\"marker\":{\"colorbar\":{\"outlinewidth\":0,\"ticks\":\"\"}}}],\"histogram\":[{\"marker\":{\"pattern\":{\"fillmode\":\"overlay\",\"size\":10,\"solidity\":0.2}},\"type\":\"histogram\"}],\"scattergl\":[{\"type\":\"scattergl\",\"marker\":{\"colorbar\":{\"outlinewidth\":0,\"ticks\":\"\"}}}],\"scatter3d\":[{\"type\":\"scatter3d\",\"line\":{\"colorbar\":{\"outlinewidth\":0,\"ticks\":\"\"}},\"marker\":{\"colorbar\":{\"outlinewidth\":0,\"ticks\":\"\"}}}],\"scattermapbox\":[{\"type\":\"scattermapbox\",\"marker\":{\"colorbar\":{\"outlinewidth\":0,\"ticks\":\"\"}}}],\"scatterternary\":[{\"type\":\"scatterternary\",\"marker\":{\"colorbar\":{\"outlinewidth\":0,\"ticks\":\"\"}}}],\"scattercarpet\":[{\"type\":\"scattercarpet\",\"marker\":{\"colorbar\":{\"outlinewidth\":0,\"ticks\":\"\"}}}],\"carpet\":[{\"aaxis\":{\"endlinecolor\":\"#2a3f5f\",\"gridcolor\":\"white\",\"linecolor\":\"white\",\"minorgridcolor\":\"white\",\"startlinecolor\":\"#2a3f5f\"},\"baxis\":{\"endlinecolor\":\"#2a3f5f\",\"gridcolor\":\"white\",\"linecolor\":\"white\",\"minorgridcolor\":\"white\",\"startlinecolor\":\"#2a3f5f\"},\"type\":\"carpet\"}],\"table\":[{\"cells\":{\"fill\":{\"color\":\"#EBF0F8\"},\"line\":{\"color\":\"white\"}},\"header\":{\"fill\":{\"color\":\"#C8D4E3\"},\"line\":{\"color\":\"white\"}},\"type\":\"table\"}],\"barpolar\":[{\"marker\":{\"line\":{\"color\":\"#E5ECF6\",\"width\":0.5},\"pattern\":{\"fillmode\":\"overlay\",\"size\":10,\"solidity\":0.2}},\"type\":\"barpolar\"}],\"pie\":[{\"automargin\":true,\"type\":\"pie\"}]},\"layout\":{\"autotypenumbers\":\"strict\",\"colorway\":[\"#636efa\",\"#EF553B\",\"#00cc96\",\"#ab63fa\",\"#FFA15A\",\"#19d3f3\",\"#FF6692\",\"#B6E880\",\"#FF97FF\",\"#FECB52\"],\"font\":{\"color\":\"#2a3f5f\"},\"hovermode\":\"closest\",\"hoverlabel\":{\"align\":\"left\"},\"paper_bgcolor\":\"white\",\"plot_bgcolor\":\"#E5ECF6\",\"polar\":{\"bgcolor\":\"#E5ECF6\",\"angularaxis\":{\"gridcolor\":\"white\",\"linecolor\":\"white\",\"ticks\":\"\"},\"radialaxis\":{\"gridcolor\":\"white\",\"linecolor\":\"white\",\"ticks\":\"\"}},\"ternary\":{\"bgcolor\":\"#E5ECF6\",\"aaxis\":{\"gridcolor\":\"white\",\"linecolor\":\"white\",\"ticks\":\"\"},\"baxis\":{\"gridcolor\":\"white\",\"linecolor\":\"white\",\"ticks\":\"\"},\"caxis\":{\"gridcolor\":\"white\",\"linecolor\":\"white\",\"ticks\":\"\"}},\"coloraxis\":{\"colorbar\":{\"outlinewidth\":0,\"ticks\":\"\"}},\"colorscale\":{\"sequential\":[[0.0,\"#0d0887\"],[0.1111111111111111,\"#46039f\"],[0.2222222222222222,\"#7201a8\"],[0.3333333333333333,\"#9c179e\"],[0.4444444444444444,\"#bd3786\"],[0.5555555555555556,\"#d8576b\"],[0.6666666666666666,\"#ed7953\"],[0.7777777777777778,\"#fb9f3a\"],[0.8888888888888888,\"#fdca26\"],[1.0,\"#f0f921\"]],\"sequentialminus\":[[0.0,\"#0d0887\"],[0.1111111111111111,\"#46039f\"],[0.2222222222222222,\"#7201a8\"],[0.3333333333333333,\"#9c179e\"],[0.4444444444444444,\"#bd3786\"],[0.5555555555555556,\"#d8576b\"],[0.6666666666666666,\"#ed7953\"],[0.7777777777777778,\"#fb9f3a\"],[0.8888888888888888,\"#fdca26\"],[1.0,\"#f0f921\"]],\"diverging\":[[0,\"#8e0152\"],[0.1,\"#c51b7d\"],[0.2,\"#de77ae\"],[0.3,\"#f1b6da\"],[0.4,\"#fde0ef\"],[0.5,\"#f7f7f7\"],[0.6,\"#e6f5d0\"],[0.7,\"#b8e186\"],[0.8,\"#7fbc41\"],[0.9,\"#4d9221\"],[1,\"#276419\"]]},\"xaxis\":{\"gridcolor\":\"white\",\"linecolor\":\"white\",\"ticks\":\"\",\"title\":{\"standoff\":15},\"zerolinecolor\":\"white\",\"automargin\":true,\"zerolinewidth\":2},\"yaxis\":{\"gridcolor\":\"white\",\"linecolor\":\"white\",\"ticks\":\"\",\"title\":{\"standoff\":15},\"zerolinecolor\":\"white\",\"automargin\":true,\"zerolinewidth\":2},\"scene\":{\"xaxis\":{\"backgroundcolor\":\"#E5ECF6\",\"gridcolor\":\"white\",\"linecolor\":\"white\",\"showbackground\":true,\"ticks\":\"\",\"zerolinecolor\":\"white\",\"gridwidth\":2},\"yaxis\":{\"backgroundcolor\":\"#E5ECF6\",\"gridcolor\":\"white\",\"linecolor\":\"white\",\"showbackground\":true,\"ticks\":\"\",\"zerolinecolor\":\"white\",\"gridwidth\":2},\"zaxis\":{\"backgroundcolor\":\"#E5ECF6\",\"gridcolor\":\"white\",\"linecolor\":\"white\",\"showbackground\":true,\"ticks\":\"\",\"zerolinecolor\":\"white\",\"gridwidth\":2}},\"shapedefaults\":{\"line\":{\"color\":\"#2a3f5f\"}},\"annotationdefaults\":{\"arrowcolor\":\"#2a3f5f\",\"arrowhead\":0,\"arrowwidth\":1},\"geo\":{\"bgcolor\":\"white\",\"landcolor\":\"#E5ECF6\",\"subunitcolor\":\"white\",\"showland\":true,\"showlakes\":true,\"lakecolor\":\"white\"},\"title\":{\"x\":0.05},\"mapbox\":{\"style\":\"light\"}}},\"xaxis\":{\"anchor\":\"y\",\"domain\":[0.0,1.0],\"title\":{\"text\":\"year\"}},\"yaxis\":{\"anchor\":\"x\",\"domain\":[0.0,1.0],\"title\":{\"text\":\"percent of failures\"}},\"legend\":{\"tracegroupgap\":0},\"title\":{\"text\":\"percentage failure of USA by year\"}},                        {\"responsive\": true}                    ).then(function(){\n",
              "                            \n",
              "var gd = document.getElementById('f275dd68-5e47-41af-8f28-9f5aaa66c28c');\n",
              "var x = new MutationObserver(function (mutations, observer) {{\n",
              "        var display = window.getComputedStyle(gd).display;\n",
              "        if (!display || display === 'none') {{\n",
              "            console.log([gd, 'removed!']);\n",
              "            Plotly.purge(gd);\n",
              "            observer.disconnect();\n",
              "        }}\n",
              "}});\n",
              "\n",
              "// Listen for the removal of the full notebook cells\n",
              "var notebookContainer = gd.closest('#notebook-container');\n",
              "if (notebookContainer) {{\n",
              "    x.observe(notebookContainer, {childList: true});\n",
              "}}\n",
              "\n",
              "// Listen for the clearing of the current output cell\n",
              "var outputEl = gd.closest('.output');\n",
              "if (outputEl) {{\n",
              "    x.observe(outputEl, {childList: true});\n",
              "}}\n",
              "\n",
              "                        })                };                            </script>        </div>\n",
              "</body>\n",
              "</html>"
            ]
          },
          "metadata": {}
        },
        {
          "output_type": "display_data",
          "data": {
            "text/html": [
              "<html>\n",
              "<head><meta charset=\"utf-8\" /></head>\n",
              "<body>\n",
              "    <div>            <script src=\"https://cdnjs.cloudflare.com/ajax/libs/mathjax/2.7.5/MathJax.js?config=TeX-AMS-MML_SVG\"></script><script type=\"text/javascript\">if (window.MathJax && window.MathJax.Hub && window.MathJax.Hub.Config) {window.MathJax.Hub.Config({SVG: {font: \"STIX-Web\"}});}</script>                <script type=\"text/javascript\">window.PlotlyConfig = {MathJaxConfig: 'local'};</script>\n",
              "        <script charset=\"utf-8\" src=\"https://cdn.plot.ly/plotly-2.20.0.min.js\"></script>                <div id=\"62f57408-0835-4033-bc37-8af018a53b90\" class=\"plotly-graph-div\" style=\"height:525px; width:100%;\"></div>            <script type=\"text/javascript\">                                    window.PLOTLYENV=window.PLOTLYENV || {};                                    if (document.getElementById(\"62f57408-0835-4033-bc37-8af018a53b90\")) {                    Plotly.newPlot(                        \"62f57408-0835-4033-bc37-8af018a53b90\",                        [{\"hovertemplate\":\"year=%{x}<br>percent of failures=%{y}<extra></extra>\",\"legendgroup\":\"\",\"line\":{\"color\":\"#636efa\",\"dash\":\"solid\"},\"marker\":{\"symbol\":\"circle\"},\"mode\":\"lines\",\"name\":\"\",\"orientation\":\"v\",\"showlegend\":false,\"x\":[\"1991\",\"1990\",\"1989\",\"1988\",\"1987\",\"1986\",\"1985\",\"1984\",\"1983\",\"1982\",\"1981\",\"1980\",\"1979\",\"1978\",\"1977\",\"1976\",\"1975\",\"1974\",\"1973\",\"1972\",\"1971\",\"1970\",\"1969\",\"1968\",\"1967\",\"1966\",\"1965\",\"1964\",\"1963\",\"1962\",\"1961\",\"1960\",\"1959\",\"1958\",\"1957\"],\"xaxis\":\"x\",\"y\":[25.0,14.29,0.0,0.0,0.0,0.0,25.0,0.0,0.0,10.0,0.0,0.0,0.0,0.0,8.0,0.0,4.35,4.35,5.88,13.64,6.45,6.9,26.32,12.5,21.05,25.0,6.98,21.43,25.0,42.86,28.57,66.67,50.0,80.0,0.0],\"yaxis\":\"y\",\"type\":\"scatter\"}],                        {\"template\":{\"data\":{\"histogram2dcontour\":[{\"type\":\"histogram2dcontour\",\"colorbar\":{\"outlinewidth\":0,\"ticks\":\"\"},\"colorscale\":[[0.0,\"#0d0887\"],[0.1111111111111111,\"#46039f\"],[0.2222222222222222,\"#7201a8\"],[0.3333333333333333,\"#9c179e\"],[0.4444444444444444,\"#bd3786\"],[0.5555555555555556,\"#d8576b\"],[0.6666666666666666,\"#ed7953\"],[0.7777777777777778,\"#fb9f3a\"],[0.8888888888888888,\"#fdca26\"],[1.0,\"#f0f921\"]]}],\"choropleth\":[{\"type\":\"choropleth\",\"colorbar\":{\"outlinewidth\":0,\"ticks\":\"\"}}],\"histogram2d\":[{\"type\":\"histogram2d\",\"colorbar\":{\"outlinewidth\":0,\"ticks\":\"\"},\"colorscale\":[[0.0,\"#0d0887\"],[0.1111111111111111,\"#46039f\"],[0.2222222222222222,\"#7201a8\"],[0.3333333333333333,\"#9c179e\"],[0.4444444444444444,\"#bd3786\"],[0.5555555555555556,\"#d8576b\"],[0.6666666666666666,\"#ed7953\"],[0.7777777777777778,\"#fb9f3a\"],[0.8888888888888888,\"#fdca26\"],[1.0,\"#f0f921\"]]}],\"heatmap\":[{\"type\":\"heatmap\",\"colorbar\":{\"outlinewidth\":0,\"ticks\":\"\"},\"colorscale\":[[0.0,\"#0d0887\"],[0.1111111111111111,\"#46039f\"],[0.2222222222222222,\"#7201a8\"],[0.3333333333333333,\"#9c179e\"],[0.4444444444444444,\"#bd3786\"],[0.5555555555555556,\"#d8576b\"],[0.6666666666666666,\"#ed7953\"],[0.7777777777777778,\"#fb9f3a\"],[0.8888888888888888,\"#fdca26\"],[1.0,\"#f0f921\"]]}],\"heatmapgl\":[{\"type\":\"heatmapgl\",\"colorbar\":{\"outlinewidth\":0,\"ticks\":\"\"},\"colorscale\":[[0.0,\"#0d0887\"],[0.1111111111111111,\"#46039f\"],[0.2222222222222222,\"#7201a8\"],[0.3333333333333333,\"#9c179e\"],[0.4444444444444444,\"#bd3786\"],[0.5555555555555556,\"#d8576b\"],[0.6666666666666666,\"#ed7953\"],[0.7777777777777778,\"#fb9f3a\"],[0.8888888888888888,\"#fdca26\"],[1.0,\"#f0f921\"]]}],\"contourcarpet\":[{\"type\":\"contourcarpet\",\"colorbar\":{\"outlinewidth\":0,\"ticks\":\"\"}}],\"contour\":[{\"type\":\"contour\",\"colorbar\":{\"outlinewidth\":0,\"ticks\":\"\"},\"colorscale\":[[0.0,\"#0d0887\"],[0.1111111111111111,\"#46039f\"],[0.2222222222222222,\"#7201a8\"],[0.3333333333333333,\"#9c179e\"],[0.4444444444444444,\"#bd3786\"],[0.5555555555555556,\"#d8576b\"],[0.6666666666666666,\"#ed7953\"],[0.7777777777777778,\"#fb9f3a\"],[0.8888888888888888,\"#fdca26\"],[1.0,\"#f0f921\"]]}],\"surface\":[{\"type\":\"surface\",\"colorbar\":{\"outlinewidth\":0,\"ticks\":\"\"},\"colorscale\":[[0.0,\"#0d0887\"],[0.1111111111111111,\"#46039f\"],[0.2222222222222222,\"#7201a8\"],[0.3333333333333333,\"#9c179e\"],[0.4444444444444444,\"#bd3786\"],[0.5555555555555556,\"#d8576b\"],[0.6666666666666666,\"#ed7953\"],[0.7777777777777778,\"#fb9f3a\"],[0.8888888888888888,\"#fdca26\"],[1.0,\"#f0f921\"]]}],\"mesh3d\":[{\"type\":\"mesh3d\",\"colorbar\":{\"outlinewidth\":0,\"ticks\":\"\"}}],\"scatter\":[{\"fillpattern\":{\"fillmode\":\"overlay\",\"size\":10,\"solidity\":0.2},\"type\":\"scatter\"}],\"parcoords\":[{\"type\":\"parcoords\",\"line\":{\"colorbar\":{\"outlinewidth\":0,\"ticks\":\"\"}}}],\"scatterpolargl\":[{\"type\":\"scatterpolargl\",\"marker\":{\"colorbar\":{\"outlinewidth\":0,\"ticks\":\"\"}}}],\"bar\":[{\"error_x\":{\"color\":\"#2a3f5f\"},\"error_y\":{\"color\":\"#2a3f5f\"},\"marker\":{\"line\":{\"color\":\"#E5ECF6\",\"width\":0.5},\"pattern\":{\"fillmode\":\"overlay\",\"size\":10,\"solidity\":0.2}},\"type\":\"bar\"}],\"scattergeo\":[{\"type\":\"scattergeo\",\"marker\":{\"colorbar\":{\"outlinewidth\":0,\"ticks\":\"\"}}}],\"scatterpolar\":[{\"type\":\"scatterpolar\",\"marker\":{\"colorbar\":{\"outlinewidth\":0,\"ticks\":\"\"}}}],\"histogram\":[{\"marker\":{\"pattern\":{\"fillmode\":\"overlay\",\"size\":10,\"solidity\":0.2}},\"type\":\"histogram\"}],\"scattergl\":[{\"type\":\"scattergl\",\"marker\":{\"colorbar\":{\"outlinewidth\":0,\"ticks\":\"\"}}}],\"scatter3d\":[{\"type\":\"scatter3d\",\"line\":{\"colorbar\":{\"outlinewidth\":0,\"ticks\":\"\"}},\"marker\":{\"colorbar\":{\"outlinewidth\":0,\"ticks\":\"\"}}}],\"scattermapbox\":[{\"type\":\"scattermapbox\",\"marker\":{\"colorbar\":{\"outlinewidth\":0,\"ticks\":\"\"}}}],\"scatterternary\":[{\"type\":\"scatterternary\",\"marker\":{\"colorbar\":{\"outlinewidth\":0,\"ticks\":\"\"}}}],\"scattercarpet\":[{\"type\":\"scattercarpet\",\"marker\":{\"colorbar\":{\"outlinewidth\":0,\"ticks\":\"\"}}}],\"carpet\":[{\"aaxis\":{\"endlinecolor\":\"#2a3f5f\",\"gridcolor\":\"white\",\"linecolor\":\"white\",\"minorgridcolor\":\"white\",\"startlinecolor\":\"#2a3f5f\"},\"baxis\":{\"endlinecolor\":\"#2a3f5f\",\"gridcolor\":\"white\",\"linecolor\":\"white\",\"minorgridcolor\":\"white\",\"startlinecolor\":\"#2a3f5f\"},\"type\":\"carpet\"}],\"table\":[{\"cells\":{\"fill\":{\"color\":\"#EBF0F8\"},\"line\":{\"color\":\"white\"}},\"header\":{\"fill\":{\"color\":\"#C8D4E3\"},\"line\":{\"color\":\"white\"}},\"type\":\"table\"}],\"barpolar\":[{\"marker\":{\"line\":{\"color\":\"#E5ECF6\",\"width\":0.5},\"pattern\":{\"fillmode\":\"overlay\",\"size\":10,\"solidity\":0.2}},\"type\":\"barpolar\"}],\"pie\":[{\"automargin\":true,\"type\":\"pie\"}]},\"layout\":{\"autotypenumbers\":\"strict\",\"colorway\":[\"#636efa\",\"#EF553B\",\"#00cc96\",\"#ab63fa\",\"#FFA15A\",\"#19d3f3\",\"#FF6692\",\"#B6E880\",\"#FF97FF\",\"#FECB52\"],\"font\":{\"color\":\"#2a3f5f\"},\"hovermode\":\"closest\",\"hoverlabel\":{\"align\":\"left\"},\"paper_bgcolor\":\"white\",\"plot_bgcolor\":\"#E5ECF6\",\"polar\":{\"bgcolor\":\"#E5ECF6\",\"angularaxis\":{\"gridcolor\":\"white\",\"linecolor\":\"white\",\"ticks\":\"\"},\"radialaxis\":{\"gridcolor\":\"white\",\"linecolor\":\"white\",\"ticks\":\"\"}},\"ternary\":{\"bgcolor\":\"#E5ECF6\",\"aaxis\":{\"gridcolor\":\"white\",\"linecolor\":\"white\",\"ticks\":\"\"},\"baxis\":{\"gridcolor\":\"white\",\"linecolor\":\"white\",\"ticks\":\"\"},\"caxis\":{\"gridcolor\":\"white\",\"linecolor\":\"white\",\"ticks\":\"\"}},\"coloraxis\":{\"colorbar\":{\"outlinewidth\":0,\"ticks\":\"\"}},\"colorscale\":{\"sequential\":[[0.0,\"#0d0887\"],[0.1111111111111111,\"#46039f\"],[0.2222222222222222,\"#7201a8\"],[0.3333333333333333,\"#9c179e\"],[0.4444444444444444,\"#bd3786\"],[0.5555555555555556,\"#d8576b\"],[0.6666666666666666,\"#ed7953\"],[0.7777777777777778,\"#fb9f3a\"],[0.8888888888888888,\"#fdca26\"],[1.0,\"#f0f921\"]],\"sequentialminus\":[[0.0,\"#0d0887\"],[0.1111111111111111,\"#46039f\"],[0.2222222222222222,\"#7201a8\"],[0.3333333333333333,\"#9c179e\"],[0.4444444444444444,\"#bd3786\"],[0.5555555555555556,\"#d8576b\"],[0.6666666666666666,\"#ed7953\"],[0.7777777777777778,\"#fb9f3a\"],[0.8888888888888888,\"#fdca26\"],[1.0,\"#f0f921\"]],\"diverging\":[[0,\"#8e0152\"],[0.1,\"#c51b7d\"],[0.2,\"#de77ae\"],[0.3,\"#f1b6da\"],[0.4,\"#fde0ef\"],[0.5,\"#f7f7f7\"],[0.6,\"#e6f5d0\"],[0.7,\"#b8e186\"],[0.8,\"#7fbc41\"],[0.9,\"#4d9221\"],[1,\"#276419\"]]},\"xaxis\":{\"gridcolor\":\"white\",\"linecolor\":\"white\",\"ticks\":\"\",\"title\":{\"standoff\":15},\"zerolinecolor\":\"white\",\"automargin\":true,\"zerolinewidth\":2},\"yaxis\":{\"gridcolor\":\"white\",\"linecolor\":\"white\",\"ticks\":\"\",\"title\":{\"standoff\":15},\"zerolinecolor\":\"white\",\"automargin\":true,\"zerolinewidth\":2},\"scene\":{\"xaxis\":{\"backgroundcolor\":\"#E5ECF6\",\"gridcolor\":\"white\",\"linecolor\":\"white\",\"showbackground\":true,\"ticks\":\"\",\"zerolinecolor\":\"white\",\"gridwidth\":2},\"yaxis\":{\"backgroundcolor\":\"#E5ECF6\",\"gridcolor\":\"white\",\"linecolor\":\"white\",\"showbackground\":true,\"ticks\":\"\",\"zerolinecolor\":\"white\",\"gridwidth\":2},\"zaxis\":{\"backgroundcolor\":\"#E5ECF6\",\"gridcolor\":\"white\",\"linecolor\":\"white\",\"showbackground\":true,\"ticks\":\"\",\"zerolinecolor\":\"white\",\"gridwidth\":2}},\"shapedefaults\":{\"line\":{\"color\":\"#2a3f5f\"}},\"annotationdefaults\":{\"arrowcolor\":\"#2a3f5f\",\"arrowhead\":0,\"arrowwidth\":1},\"geo\":{\"bgcolor\":\"white\",\"landcolor\":\"#E5ECF6\",\"subunitcolor\":\"white\",\"showland\":true,\"showlakes\":true,\"lakecolor\":\"white\"},\"title\":{\"x\":0.05},\"mapbox\":{\"style\":\"light\"}}},\"xaxis\":{\"anchor\":\"y\",\"domain\":[0.0,1.0],\"title\":{\"text\":\"year\"}},\"yaxis\":{\"anchor\":\"x\",\"domain\":[0.0,1.0],\"title\":{\"text\":\"percent of failures\"}},\"legend\":{\"tracegroupgap\":0},\"title\":{\"text\":\"percentage failure of USSR by year\"}},                        {\"responsive\": true}                    ).then(function(){\n",
              "                            \n",
              "var gd = document.getElementById('62f57408-0835-4033-bc37-8af018a53b90');\n",
              "var x = new MutationObserver(function (mutations, observer) {{\n",
              "        var display = window.getComputedStyle(gd).display;\n",
              "        if (!display || display === 'none') {{\n",
              "            console.log([gd, 'removed!']);\n",
              "            Plotly.purge(gd);\n",
              "            observer.disconnect();\n",
              "        }}\n",
              "}});\n",
              "\n",
              "// Listen for the removal of the full notebook cells\n",
              "var notebookContainer = gd.closest('#notebook-container');\n",
              "if (notebookContainer) {{\n",
              "    x.observe(notebookContainer, {childList: true});\n",
              "}}\n",
              "\n",
              "// Listen for the clearing of the current output cell\n",
              "var outputEl = gd.closest('.output');\n",
              "if (outputEl) {{\n",
              "    x.observe(outputEl, {childList: true});\n",
              "}}\n",
              "\n",
              "                        })                };                            </script>        </div>\n",
              "</body>\n",
              "</html>"
            ]
          },
          "metadata": {}
        }
      ]
    },
    {
      "cell_type": "markdown",
      "metadata": {
        "id": "S5aOC7bGr2OX"
      },
      "source": [
        "# For Every Year Show which Country was in the Lead in terms of Total Number of Launches up to and including including 2020)\n",
        "\n",
        "Do the results change if we only look at the number of successful launches? "
      ]
    },
    {
      "cell_type": "code",
      "metadata": {
        "id": "_h0grIXKsOz_",
        "colab": {
          "base_uri": "https://localhost:8080/",
          "height": 542
        },
        "outputId": "622c8cb2-e4fb-4082-88c9-98eb9bef84ef"
      },
      "source": [
        "fig = px.histogram(data5, x=\"year\", color=\"Country\")\n",
        "fig.show()"
      ],
      "execution_count": 133,
      "outputs": [
        {
          "output_type": "display_data",
          "data": {
            "text/html": [
              "<html>\n",
              "<head><meta charset=\"utf-8\" /></head>\n",
              "<body>\n",
              "    <div>            <script src=\"https://cdnjs.cloudflare.com/ajax/libs/mathjax/2.7.5/MathJax.js?config=TeX-AMS-MML_SVG\"></script><script type=\"text/javascript\">if (window.MathJax && window.MathJax.Hub && window.MathJax.Hub.Config) {window.MathJax.Hub.Config({SVG: {font: \"STIX-Web\"}});}</script>                <script type=\"text/javascript\">window.PlotlyConfig = {MathJaxConfig: 'local'};</script>\n",
              "        <script charset=\"utf-8\" src=\"https://cdn.plot.ly/plotly-2.20.0.min.js\"></script>                <div id=\"40ad5c7f-092a-4238-adf9-24e4b050efa1\" class=\"plotly-graph-div\" style=\"height:525px; width:100%;\"></div>            <script type=\"text/javascript\">                                    window.PLOTLYENV=window.PLOTLYENV || {};                                    if (document.getElementById(\"40ad5c7f-092a-4238-adf9-24e4b050efa1\")) {                    Plotly.newPlot(                        \"40ad5c7f-092a-4238-adf9-24e4b050efa1\",                        [{\"alignmentgroup\":\"True\",\"bingroup\":\"x\",\"hovertemplate\":\"Country=USA<br>year=%{x}<br>count=%{y}<extra></extra>\",\"legendgroup\":\"USA\",\"marker\":{\"color\":\"#636efa\",\"pattern\":{\"shape\":\"\"}},\"name\":\"USA\",\"offsetgroup\":\"USA\",\"orientation\":\"v\",\"showlegend\":true,\"x\":[\"2020\",\"2020\",\"2020\",\"2020\",\"2020\",\"2020\",\"2020\",\"2020\",\"2020\",\"2020\",\"2020\",\"2020\",\"2020\",\"2020\",\"2020\",\"2020\",\"2020\",\"2020\",\"2020\",\"2020\",\"2020\",\"2019\",\"2019\",\"2019\",\"2019\",\"2019\",\"2019\",\"2019\",\"2019\",\"2019\",\"2019\",\"2019\",\"2019\",\"2019\",\"2019\",\"2019\",\"2019\",\"2019\",\"2019\",\"2019\",\"2019\",\"2019\",\"2019\",\"2019\",\"2019\",\"2018\",\"2018\",\"2018\",\"2018\",\"2018\",\"2018\",\"2018\",\"2018\",\"2018\",\"2018\",\"2018\",\"2018\",\"2018\",\"2018\",\"2018\",\"2018\",\"2018\",\"2018\",\"2018\",\"2018\",\"2018\",\"2018\",\"2018\",\"2018\",\"2018\",\"2018\",\"2018\",\"2018\",\"2018\",\"2018\",\"2018\",\"2018\",\"2018\",\"2017\",\"2017\",\"2017\",\"2017\",\"2017\",\"2017\",\"2017\",\"2017\",\"2017\",\"2017\",\"2017\",\"2017\",\"2017\",\"2017\",\"2017\",\"2017\",\"2017\",\"2017\",\"2017\",\"2017\",\"2017\",\"2017\",\"2017\",\"2017\",\"2017\",\"2017\",\"2017\",\"2017\",\"2017\",\"2017\",\"2016\",\"2016\",\"2016\",\"2016\",\"2016\",\"2016\",\"2016\",\"2016\",\"2016\",\"2016\",\"2016\",\"2016\",\"2016\",\"2016\",\"2016\",\"2016\",\"2016\",\"2016\",\"2016\",\"2016\",\"2016\",\"2016\",\"2016\",\"2016\",\"2016\",\"2016\",\"2016\",\"2015\",\"2015\",\"2015\",\"2015\",\"2015\",\"2015\",\"2015\",\"2015\",\"2015\",\"2015\",\"2015\",\"2015\",\"2015\",\"2015\",\"2015\",\"2015\",\"2015\",\"2015\",\"2015\",\"2015\",\"2015\",\"2015\",\"2014\",\"2014\",\"2014\",\"2014\",\"2014\",\"2014\",\"2014\",\"2014\",\"2014\",\"2014\",\"2014\",\"2014\",\"2014\",\"2014\",\"2014\",\"2014\",\"2014\",\"2014\",\"2014\",\"2014\",\"2014\",\"2014\",\"2014\",\"2013\",\"2013\",\"2013\",\"2013\",\"2013\",\"2013\",\"2013\",\"2013\",\"2013\",\"2013\",\"2013\",\"2013\",\"2013\",\"2013\",\"2013\",\"2013\",\"2013\",\"2013\",\"2013\",\"2012\",\"2012\",\"2012\",\"2012\",\"2012\",\"2012\",\"2012\",\"2012\",\"2012\",\"2012\",\"2012\",\"2012\",\"2012\",\"2011\",\"2011\",\"2011\",\"2011\",\"2011\",\"2011\",\"2011\",\"2011\",\"2011\",\"2011\",\"2011\",\"2011\",\"2011\",\"2011\",\"2011\",\"2011\",\"2011\",\"2011\",\"2010\",\"2010\",\"2010\",\"2010\",\"2010\",\"2010\",\"2010\",\"2010\",\"2010\",\"2010\",\"2010\",\"2010\",\"2010\",\"2010\",\"2010\",\"2009\",\"2009\",\"2009\",\"2009\",\"2009\",\"2009\",\"2009\",\"2009\",\"2009\",\"2009\",\"2009\",\"2009\",\"2009\",\"2009\",\"2009\",\"2009\",\"2009\",\"2009\",\"2009\",\"2009\",\"2009\",\"2009\",\"2009\",\"2009\",\"2009\",\"2008\",\"2008\",\"2008\",\"2008\",\"2008\",\"2008\",\"2008\",\"2008\",\"2008\",\"2008\",\"2008\",\"2008\",\"2008\",\"2008\",\"2008\",\"2007\",\"2007\",\"2007\",\"2007\",\"2007\",\"2007\",\"2007\",\"2007\",\"2007\",\"2007\",\"2007\",\"2007\",\"2007\",\"2007\",\"2007\",\"2007\",\"2007\",\"2007\",\"2007\",\"2006\",\"2006\",\"2006\",\"2006\",\"2006\",\"2006\",\"2006\",\"2006\",\"2006\",\"2006\",\"2006\",\"2006\",\"2006\",\"2006\",\"2006\",\"2006\",\"2006\",\"2006\",\"2005\",\"2005\",\"2005\",\"2005\",\"2005\",\"2005\",\"2005\",\"2005\",\"2005\",\"2005\",\"2005\",\"2005\",\"2004\",\"2004\",\"2004\",\"2004\",\"2004\",\"2004\",\"2004\",\"2004\",\"2004\",\"2004\",\"2004\",\"2004\",\"2004\",\"2004\",\"2004\",\"2004\",\"2003\",\"2003\",\"2003\",\"2003\",\"2003\",\"2003\",\"2003\",\"2003\",\"2003\",\"2003\",\"2003\",\"2003\",\"2003\",\"2003\",\"2003\",\"2003\",\"2003\",\"2003\",\"2003\",\"2003\",\"2003\",\"2003\",\"2003\",\"2002\",\"2002\",\"2002\",\"2002\",\"2002\",\"2002\",\"2002\",\"2002\",\"2002\",\"2002\",\"2002\",\"2002\",\"2002\",\"2002\",\"2002\",\"2002\",\"2002\",\"2001\",\"2001\",\"2001\",\"2001\",\"2001\",\"2001\",\"2001\",\"2001\",\"2001\",\"2001\",\"2001\",\"2001\",\"2001\",\"2001\",\"2001\",\"2001\",\"2001\",\"2001\",\"2001\",\"2001\",\"2001\",\"2001\",\"2000\",\"2000\",\"2000\",\"2000\",\"2000\",\"2000\",\"2000\",\"2000\",\"2000\",\"2000\",\"2000\",\"2000\",\"2000\",\"2000\",\"2000\",\"2000\",\"2000\",\"2000\",\"2000\",\"2000\",\"2000\",\"2000\",\"2000\",\"2000\",\"2000\",\"2000\",\"2000\",\"2000\",\"1999\",\"1999\",\"1999\",\"1999\",\"1999\",\"1999\",\"1999\",\"1999\",\"1999\",\"1999\",\"1999\",\"1999\",\"1999\",\"1999\",\"1999\",\"1999\",\"1999\",\"1999\",\"1999\",\"1999\",\"1999\",\"1999\",\"1999\",\"1999\",\"1999\",\"1999\",\"1999\",\"1999\",\"1999\",\"1999\",\"1999\",\"1998\",\"1998\",\"1998\",\"1998\",\"1998\",\"1998\",\"1998\",\"1998\",\"1998\",\"1998\",\"1998\",\"1998\",\"1998\",\"1998\",\"1998\",\"1998\",\"1998\",\"1998\",\"1998\",\"1998\",\"1998\",\"1998\",\"1998\",\"1998\",\"1998\",\"1998\",\"1998\",\"1998\",\"1998\",\"1998\",\"1998\",\"1998\",\"1998\",\"1998\",\"1998\",\"1998\",\"1997\",\"1997\",\"1997\",\"1997\",\"1997\",\"1997\",\"1997\",\"1997\",\"1997\",\"1997\",\"1997\",\"1997\",\"1997\",\"1997\",\"1997\",\"1997\",\"1997\",\"1997\",\"1997\",\"1997\",\"1997\",\"1997\",\"1997\",\"1997\",\"1997\",\"1997\",\"1997\",\"1997\",\"1997\",\"1997\",\"1997\",\"1997\",\"1997\",\"1997\",\"1997\",\"1997\",\"1997\",\"1997\",\"1996\",\"1996\",\"1996\",\"1996\",\"1996\",\"1996\",\"1996\",\"1996\",\"1996\",\"1996\",\"1996\",\"1996\",\"1996\",\"1996\",\"1996\",\"1996\",\"1996\",\"1996\",\"1996\",\"1996\",\"1996\",\"1996\",\"1996\",\"1996\",\"1996\",\"1996\",\"1996\",\"1996\",\"1996\",\"1996\",\"1996\",\"1996\",\"1996\",\"1995\",\"1995\",\"1995\",\"1995\",\"1995\",\"1995\",\"1995\",\"1995\",\"1995\",\"1995\",\"1995\",\"1995\",\"1995\",\"1995\",\"1995\",\"1995\",\"1995\",\"1995\",\"1995\",\"1995\",\"1995\",\"1995\",\"1995\",\"1995\",\"1995\",\"1995\",\"1995\",\"1995\",\"1995\",\"1995\",\"1994\",\"1994\",\"1994\",\"1994\",\"1994\",\"1994\",\"1994\",\"1994\",\"1994\",\"1994\",\"1994\",\"1994\",\"1994\",\"1994\",\"1994\",\"1994\",\"1994\",\"1994\",\"1994\",\"1994\",\"1994\",\"1994\",\"1994\",\"1994\",\"1994\",\"1994\",\"1993\",\"1993\",\"1993\",\"1993\",\"1993\",\"1993\",\"1993\",\"1993\",\"1993\",\"1993\",\"1993\",\"1993\",\"1993\",\"1993\",\"1993\",\"1993\",\"1993\",\"1993\",\"1993\",\"1993\",\"1993\",\"1993\",\"1993\",\"1993\",\"1992\",\"1992\",\"1992\",\"1992\",\"1992\",\"1992\",\"1992\",\"1992\",\"1992\",\"1992\",\"1992\",\"1992\",\"1992\",\"1992\",\"1992\",\"1992\",\"1992\",\"1992\",\"1992\",\"1992\",\"1992\",\"1992\",\"1992\",\"1992\",\"1992\",\"1992\",\"1992\",\"1991\",\"1991\",\"1991\",\"1991\",\"1991\",\"1991\",\"1991\",\"1991\",\"1991\",\"1991\",\"1991\",\"1991\",\"1991\",\"1991\",\"1991\",\"1991\",\"1991\",\"1991\",\"1990\",\"1990\",\"1990\",\"1990\",\"1990\",\"1990\",\"1990\",\"1990\",\"1990\",\"1990\",\"1990\",\"1990\",\"1990\",\"1990\",\"1990\",\"1990\",\"1990\",\"1990\",\"1990\",\"1990\",\"1990\",\"1990\",\"1990\",\"1990\",\"1990\",\"1990\",\"1989\",\"1989\",\"1989\",\"1989\",\"1989\",\"1989\",\"1989\",\"1989\",\"1989\",\"1989\",\"1989\",\"1989\",\"1989\",\"1989\",\"1989\",\"1989\",\"1988\",\"1988\",\"1988\",\"1988\",\"1988\",\"1988\",\"1988\",\"1987\",\"1987\",\"1987\",\"1987\",\"1987\",\"1987\",\"1986\",\"1986\",\"1986\",\"1986\",\"1986\",\"1986\",\"1985\",\"1985\",\"1985\",\"1985\",\"1985\",\"1985\",\"1985\",\"1985\",\"1985\",\"1985\",\"1985\",\"1985\",\"1985\",\"1985\",\"1985\",\"1985\",\"1984\",\"1984\",\"1984\",\"1984\",\"1984\",\"1984\",\"1984\",\"1984\",\"1984\",\"1984\",\"1984\",\"1984\",\"1984\",\"1984\",\"1984\",\"1984\",\"1984\",\"1983\",\"1983\",\"1983\",\"1983\",\"1983\",\"1983\",\"1983\",\"1983\",\"1983\",\"1983\",\"1983\",\"1983\",\"1983\",\"1982\",\"1982\",\"1982\",\"1982\",\"1982\",\"1982\",\"1982\",\"1982\",\"1982\",\"1982\",\"1982\",\"1981\",\"1981\",\"1981\",\"1981\",\"1981\",\"1981\",\"1981\",\"1981\",\"1981\",\"1981\",\"1981\",\"1981\",\"1981\",\"1980\",\"1980\",\"1980\",\"1980\",\"1980\",\"1980\",\"1980\",\"1980\",\"1980\",\"1980\",\"1980\",\"1979\",\"1979\",\"1979\",\"1979\",\"1979\",\"1979\",\"1979\",\"1979\",\"1979\",\"1978\",\"1978\",\"1978\",\"1978\",\"1978\",\"1978\",\"1978\",\"1978\",\"1978\",\"1978\",\"1978\",\"1978\",\"1978\",\"1978\",\"1978\",\"1978\",\"1978\",\"1978\",\"1978\",\"1978\",\"1978\",\"1977\",\"1977\",\"1977\",\"1977\",\"1977\",\"1977\",\"1977\",\"1977\",\"1977\",\"1977\",\"1977\",\"1977\",\"1977\",\"1977\",\"1976\",\"1976\",\"1976\",\"1976\",\"1976\",\"1976\",\"1976\",\"1976\",\"1976\",\"1976\",\"1976\",\"1976\",\"1976\",\"1975\",\"1975\",\"1975\",\"1975\",\"1975\",\"1975\",\"1975\",\"1975\",\"1975\",\"1975\",\"1975\",\"1975\",\"1975\",\"1975\",\"1975\",\"1974\",\"1974\",\"1974\",\"1974\",\"1974\",\"1974\",\"1974\",\"1974\",\"1974\",\"1974\",\"1973\",\"1973\",\"1973\",\"1973\",\"1973\",\"1973\",\"1973\",\"1973\",\"1973\",\"1973\",\"1973\",\"1973\",\"1973\",\"1973\",\"1973\",\"1973\",\"1973\",\"1972\",\"1972\",\"1972\",\"1972\",\"1972\",\"1972\",\"1972\",\"1972\",\"1972\",\"1972\",\"1972\",\"1972\",\"1972\",\"1972\",\"1972\",\"1972\",\"1972\",\"1971\",\"1971\",\"1971\",\"1971\",\"1971\",\"1971\",\"1971\",\"1971\",\"1971\",\"1971\",\"1971\",\"1971\",\"1971\",\"1971\",\"1971\",\"1971\",\"1970\",\"1970\",\"1970\",\"1970\",\"1970\",\"1970\",\"1970\",\"1970\",\"1970\",\"1970\",\"1970\",\"1969\",\"1969\",\"1969\",\"1969\",\"1969\",\"1969\",\"1969\",\"1969\",\"1969\",\"1969\",\"1969\",\"1969\",\"1969\",\"1969\",\"1969\",\"1969\",\"1969\",\"1968\",\"1968\",\"1968\",\"1968\",\"1968\",\"1968\",\"1968\",\"1968\",\"1968\",\"1968\",\"1968\",\"1968\",\"1968\",\"1968\",\"1968\",\"1968\",\"1968\",\"1968\",\"1968\",\"1968\",\"1968\",\"1968\",\"1967\",\"1967\",\"1967\",\"1967\",\"1967\",\"1967\",\"1967\",\"1967\",\"1967\",\"1967\",\"1967\",\"1967\",\"1967\",\"1967\",\"1967\",\"1967\",\"1967\",\"1967\",\"1967\",\"1967\",\"1967\",\"1967\",\"1967\",\"1967\",\"1967\",\"1967\",\"1966\",\"1966\",\"1966\",\"1966\",\"1966\",\"1966\",\"1966\",\"1966\",\"1966\",\"1966\",\"1966\",\"1966\",\"1966\",\"1966\",\"1966\",\"1966\",\"1966\",\"1966\",\"1966\",\"1966\",\"1966\",\"1966\",\"1966\",\"1966\",\"1966\",\"1966\",\"1966\",\"1966\",\"1966\",\"1966\",\"1966\",\"1966\",\"1966\",\"1966\",\"1966\",\"1966\",\"1966\",\"1966\",\"1966\",\"1966\",\"1966\",\"1966\",\"1966\",\"1966\",\"1966\",\"1966\",\"1966\",\"1965\",\"1965\",\"1965\",\"1965\",\"1965\",\"1965\",\"1965\",\"1965\",\"1965\",\"1965\",\"1965\",\"1965\",\"1965\",\"1965\",\"1965\",\"1965\",\"1965\",\"1965\",\"1965\",\"1965\",\"1965\",\"1965\",\"1965\",\"1965\",\"1965\",\"1965\",\"1965\",\"1965\",\"1965\",\"1965\",\"1965\",\"1965\",\"1965\",\"1964\",\"1964\",\"1964\",\"1964\",\"1964\",\"1964\",\"1964\",\"1964\",\"1964\",\"1964\",\"1964\",\"1964\",\"1964\",\"1964\",\"1964\",\"1964\",\"1964\",\"1964\",\"1964\",\"1964\",\"1964\",\"1964\",\"1964\",\"1964\",\"1963\",\"1963\",\"1963\",\"1963\",\"1963\",\"1963\",\"1963\",\"1963\",\"1963\",\"1963\",\"1963\",\"1963\",\"1963\",\"1963\",\"1963\",\"1963\",\"1963\",\"1962\",\"1962\",\"1962\",\"1962\",\"1962\",\"1962\",\"1962\",\"1962\",\"1962\",\"1962\",\"1962\",\"1962\",\"1962\",\"1962\",\"1962\",\"1962\",\"1962\",\"1962\",\"1962\",\"1962\",\"1962\",\"1962\",\"1962\",\"1962\",\"1962\",\"1962\",\"1962\",\"1962\",\"1962\",\"1962\",\"1962\",\"1962\",\"1962\",\"1962\",\"1962\",\"1962\",\"1962\",\"1962\",\"1962\",\"1962\",\"1962\",\"1962\",\"1962\",\"1962\",\"1962\",\"1962\",\"1962\",\"1962\",\"1962\",\"1962\",\"1962\",\"1962\",\"1962\",\"1962\",\"1962\",\"1962\",\"1962\",\"1962\",\"1962\",\"1962\",\"1961\",\"1961\",\"1961\",\"1961\",\"1961\",\"1961\",\"1961\",\"1961\",\"1961\",\"1961\",\"1961\",\"1961\",\"1961\",\"1961\",\"1961\",\"1961\",\"1961\",\"1961\",\"1961\",\"1961\",\"1961\",\"1961\",\"1961\",\"1961\",\"1961\",\"1961\",\"1961\",\"1961\",\"1961\",\"1961\",\"1961\",\"1961\",\"1961\",\"1961\",\"1961\",\"1961\",\"1961\",\"1961\",\"1961\",\"1961\",\"1961\",\"1961\",\"1961\",\"1960\",\"1960\",\"1960\",\"1960\",\"1960\",\"1960\",\"1960\",\"1960\",\"1960\",\"1960\",\"1960\",\"1960\",\"1960\",\"1960\",\"1960\",\"1960\",\"1960\",\"1960\",\"1960\",\"1960\",\"1960\",\"1960\",\"1960\",\"1960\",\"1960\",\"1960\",\"1960\",\"1960\",\"1960\",\"1960\",\"1959\",\"1959\",\"1959\",\"1959\",\"1959\",\"1959\",\"1959\",\"1959\",\"1959\",\"1959\",\"1959\",\"1959\",\"1959\",\"1959\",\"1959\",\"1959\",\"1958\",\"1958\",\"1958\",\"1958\",\"1958\",\"1958\",\"1958\",\"1958\",\"1958\",\"1958\",\"1958\",\"1958\",\"1958\",\"1958\",\"1958\",\"1958\",\"1958\",\"1958\",\"1958\",\"1958\",\"1958\",\"1958\",\"1958\",\"1957\"],\"xaxis\":\"x\",\"yaxis\":\"y\",\"type\":\"histogram\"},{\"alignmentgroup\":\"True\",\"bingroup\":\"x\",\"hovertemplate\":\"Country=China<br>year=%{x}<br>count=%{y}<extra></extra>\",\"legendgroup\":\"China\",\"marker\":{\"color\":\"#EF553B\",\"pattern\":{\"shape\":\"\"}},\"name\":\"China\",\"offsetgroup\":\"China\",\"orientation\":\"v\",\"showlegend\":true,\"x\":[\"2020\",\"2020\",\"2020\",\"2020\",\"2020\",\"2020\",\"2020\",\"2020\",\"2020\",\"2020\",\"2020\",\"2020\",\"2020\",\"2020\",\"2020\",\"2020\",\"2020\",\"2020\",\"2020\",\"2020\",\"2020\",\"2020\",\"2019\",\"2019\",\"2019\",\"2019\",\"2019\",\"2019\",\"2019\",\"2019\",\"2019\",\"2019\",\"2019\",\"2019\",\"2019\",\"2019\",\"2019\",\"2019\",\"2019\",\"2019\",\"2019\",\"2019\",\"2019\",\"2019\",\"2019\",\"2019\",\"2019\",\"2019\",\"2019\",\"2019\",\"2019\",\"2019\",\"2019\",\"2019\",\"2019\",\"2019\",\"2018\",\"2018\",\"2018\",\"2018\",\"2018\",\"2018\",\"2018\",\"2018\",\"2018\",\"2018\",\"2018\",\"2018\",\"2018\",\"2018\",\"2018\",\"2018\",\"2018\",\"2018\",\"2018\",\"2018\",\"2018\",\"2018\",\"2018\",\"2018\",\"2018\",\"2018\",\"2018\",\"2018\",\"2018\",\"2018\",\"2018\",\"2018\",\"2018\",\"2018\",\"2018\",\"2018\",\"2018\",\"2018\",\"2018\",\"2017\",\"2017\",\"2017\",\"2017\",\"2017\",\"2017\",\"2017\",\"2017\",\"2017\",\"2017\",\"2017\",\"2017\",\"2017\",\"2017\",\"2017\",\"2017\",\"2017\",\"2017\",\"2016\",\"2016\",\"2016\",\"2016\",\"2016\",\"2016\",\"2016\",\"2016\",\"2016\",\"2016\",\"2016\",\"2016\",\"2016\",\"2016\",\"2016\",\"2016\",\"2016\",\"2016\",\"2016\",\"2016\",\"2016\",\"2016\",\"2015\",\"2015\",\"2014\",\"2013\",\"2013\",\"2012\",\"2011\",\"2011\",\"2008\",\"2008\",\"2008\",\"2008\",\"2008\",\"2008\",\"2008\",\"2008\",\"2008\",\"2007\",\"2007\",\"2007\",\"2007\",\"2007\",\"2007\",\"2007\",\"2007\",\"2007\",\"2007\",\"2006\",\"2006\",\"2006\",\"2006\",\"2006\",\"2006\",\"2006\",\"2005\",\"2005\",\"2005\",\"2005\",\"2005\",\"2005\",\"2004\",\"2004\",\"2004\",\"2004\",\"2004\",\"2004\",\"2004\",\"2004\",\"2003\",\"2003\",\"2003\",\"2003\",\"2003\",\"2003\",\"2003\",\"2002\",\"2002\",\"2002\",\"2002\",\"2002\",\"2001\",\"2000\",\"2000\",\"2000\",\"2000\",\"1999\",\"1999\",\"1999\",\"1999\",\"1998\",\"1998\",\"1998\",\"1998\",\"1998\",\"1998\",\"1998\",\"1997\",\"1997\",\"1997\",\"1997\",\"1997\",\"1997\",\"1996\",\"1996\",\"1996\",\"1996\",\"1995\",\"1995\",\"1995\",\"1994\",\"1994\",\"1994\",\"1994\",\"1994\",\"1993\",\"1992\",\"1992\",\"1992\",\"1992\",\"1991\",\"1990\",\"1990\",\"1990\",\"1990\",\"1990\",\"1988\",\"1988\",\"1988\",\"1988\",\"1987\",\"1987\",\"1986\",\"1986\",\"1985\",\"1984\",\"1984\",\"1984\",\"1983\",\"1982\",\"1981\",\"1979\",\"1978\",\"1978\",\"1977\",\"1976\",\"1976\",\"1976\",\"1975\",\"1975\",\"1975\",\"1974\",\"1974\",\"1973\",\"1972\",\"1971\",\"1970\",\"1969\"],\"xaxis\":\"x\",\"yaxis\":\"y\",\"type\":\"histogram\"},{\"alignmentgroup\":\"True\",\"bingroup\":\"x\",\"hovertemplate\":\"Country=Kazakhstan<br>year=%{x}<br>count=%{y}<extra></extra>\",\"legendgroup\":\"Kazakhstan\",\"marker\":{\"color\":\"#00cc96\",\"pattern\":{\"shape\":\"\"}},\"name\":\"Kazakhstan\",\"offsetgroup\":\"Kazakhstan\",\"orientation\":\"v\",\"showlegend\":true,\"x\":[\"2020\",\"2020\",\"2020\",\"2020\",\"2020\",\"2020\",\"2019\",\"2019\",\"2019\",\"2019\",\"2019\",\"2019\",\"2019\",\"2019\",\"2019\",\"2019\",\"2019\",\"2019\",\"2019\",\"2018\",\"2018\",\"2018\",\"2018\",\"2018\",\"2018\",\"2018\",\"2018\",\"2018\",\"2017\",\"2017\",\"2017\",\"2017\",\"2017\",\"2017\",\"2017\",\"2017\",\"2017\",\"2017\",\"2017\",\"2017\",\"2017\",\"2016\",\"2016\",\"2016\",\"2016\",\"2016\",\"2016\",\"2016\",\"2016\",\"2016\",\"2016\",\"2016\",\"2015\",\"2014\",\"2013\",\"2013\",\"2013\",\"2011\",\"2011\",\"2011\",\"2011\",\"2010\",\"2010\",\"2010\",\"2010\",\"2010\",\"2009\",\"2009\",\"2009\",\"2009\",\"2008\",\"2008\",\"2007\",\"2007\",\"2007\",\"2006\",\"2006\",\"2005\",\"2004\",\"2004\",\"2004\",\"2003\",\"2003\",\"2002\",\"2001\",\"2001\",\"2000\",\"2000\",\"2000\",\"1999\",\"1999\",\"1999\",\"1998\",\"1998\",\"1998\",\"1997\",\"1997\",\"1997\",\"1996\",\"1996\",\"1995\",\"1995\",\"1995\",\"1995\",\"1994\",\"1994\",\"1994\",\"1994\",\"1994\",\"1994\",\"1993\",\"1993\",\"1993\",\"1993\",\"1993\",\"1993\",\"1992\",\"1992\",\"1992\",\"1991\",\"1991\",\"1991\",\"1991\",\"1990\",\"1990\",\"1990\",\"1990\",\"1990\",\"1990\",\"1990\",\"1989\",\"1989\",\"1989\",\"1989\",\"1988\",\"1988\",\"1988\",\"1988\",\"1988\",\"1988\",\"1988\",\"1988\",\"1988\",\"1987\",\"1987\",\"1987\",\"1987\",\"1987\",\"1987\",\"1987\",\"1987\",\"1987\",\"1987\",\"1987\",\"1987\",\"1986\",\"1986\",\"1986\",\"1986\",\"1986\",\"1986\",\"1986\",\"1985\",\"1985\",\"1985\",\"1985\",\"1985\",\"1985\",\"1985\",\"1985\",\"1985\",\"1985\",\"1985\",\"1985\",\"1984\",\"1984\",\"1984\",\"1984\",\"1983\",\"1983\",\"1983\",\"1983\",\"1983\",\"1983\",\"1982\",\"1982\",\"1982\",\"1982\",\"1982\",\"1982\",\"1982\",\"1982\",\"1982\",\"1982\",\"1981\",\"1981\",\"1981\",\"1981\",\"1981\",\"1981\",\"1981\",\"1981\",\"1981\",\"1981\",\"1980\",\"1980\",\"1980\",\"1980\",\"1980\",\"1980\",\"1979\",\"1979\",\"1979\",\"1978\",\"1978\",\"1978\",\"1978\",\"1978\",\"1978\",\"1978\",\"1978\",\"1978\",\"1977\",\"1977\",\"1977\",\"1977\",\"1977\",\"1977\",\"1977\",\"1977\",\"1977\",\"1977\",\"1977\",\"1977\",\"1977\",\"1977\",\"1977\",\"1977\",\"1977\",\"1977\",\"1977\",\"1977\",\"1977\",\"1977\",\"1977\",\"1977\",\"1977\",\"1976\",\"1976\",\"1976\",\"1976\",\"1976\",\"1976\",\"1976\",\"1976\",\"1976\",\"1976\",\"1976\",\"1976\",\"1976\",\"1976\",\"1976\",\"1976\",\"1976\",\"1976\",\"1976\",\"1976\",\"1976\",\"1976\",\"1976\",\"1976\",\"1976\",\"1976\",\"1976\",\"1976\",\"1976\",\"1975\",\"1975\",\"1975\",\"1975\",\"1975\",\"1975\",\"1975\",\"1975\",\"1975\",\"1975\",\"1975\",\"1975\",\"1975\",\"1975\",\"1975\",\"1975\",\"1975\",\"1975\",\"1975\",\"1975\",\"1975\",\"1975\",\"1975\",\"1974\",\"1974\",\"1974\",\"1974\",\"1974\",\"1974\",\"1974\",\"1974\",\"1974\",\"1974\",\"1974\",\"1974\",\"1974\",\"1974\",\"1974\",\"1974\",\"1974\",\"1974\",\"1974\",\"1974\",\"1974\",\"1974\",\"1974\",\"1973\",\"1973\",\"1973\",\"1973\",\"1973\",\"1973\",\"1973\",\"1973\",\"1973\",\"1973\",\"1973\",\"1973\",\"1973\",\"1973\",\"1973\",\"1973\",\"1973\",\"1972\",\"1972\",\"1972\",\"1972\",\"1972\",\"1972\",\"1972\",\"1972\",\"1972\",\"1972\",\"1972\",\"1972\",\"1972\",\"1972\",\"1972\",\"1972\",\"1972\",\"1972\",\"1972\",\"1972\",\"1972\",\"1972\",\"1971\",\"1971\",\"1971\",\"1971\",\"1971\",\"1971\",\"1971\",\"1971\",\"1971\",\"1971\",\"1971\",\"1971\",\"1971\",\"1971\",\"1971\",\"1971\",\"1971\",\"1971\",\"1971\",\"1971\",\"1971\",\"1971\",\"1971\",\"1971\",\"1971\",\"1971\",\"1971\",\"1971\",\"1971\",\"1971\",\"1971\",\"1970\",\"1970\",\"1970\",\"1970\",\"1970\",\"1970\",\"1970\",\"1970\",\"1970\",\"1970\",\"1970\",\"1970\",\"1970\",\"1970\",\"1970\",\"1970\",\"1970\",\"1970\",\"1970\",\"1970\",\"1970\",\"1970\",\"1970\",\"1970\",\"1970\",\"1970\",\"1970\",\"1970\",\"1970\",\"1969\",\"1969\",\"1969\",\"1969\",\"1969\",\"1969\",\"1969\",\"1969\",\"1969\",\"1969\",\"1969\",\"1969\",\"1969\",\"1969\",\"1969\",\"1969\",\"1969\",\"1969\",\"1969\",\"1969\",\"1969\",\"1969\",\"1969\",\"1969\",\"1969\",\"1969\",\"1969\",\"1969\",\"1969\",\"1969\",\"1969\",\"1969\",\"1969\",\"1969\",\"1969\",\"1969\",\"1969\",\"1969\",\"1968\",\"1968\",\"1968\",\"1968\",\"1968\",\"1968\",\"1968\",\"1968\",\"1968\",\"1968\",\"1968\",\"1968\",\"1968\",\"1968\",\"1968\",\"1968\",\"1968\",\"1968\",\"1968\",\"1968\",\"1968\",\"1968\",\"1968\",\"1968\",\"1968\",\"1968\",\"1968\",\"1968\",\"1968\",\"1968\",\"1968\",\"1968\",\"1968\",\"1968\",\"1968\",\"1968\",\"1968\",\"1968\",\"1968\",\"1968\",\"1967\",\"1967\",\"1967\",\"1967\",\"1967\",\"1967\",\"1967\",\"1967\",\"1967\",\"1967\",\"1967\",\"1967\",\"1967\",\"1967\",\"1967\",\"1967\",\"1967\",\"1967\",\"1967\",\"1967\",\"1967\",\"1967\",\"1967\",\"1967\",\"1967\",\"1967\",\"1967\",\"1967\",\"1967\",\"1967\",\"1967\",\"1967\",\"1967\",\"1967\",\"1967\",\"1967\",\"1967\",\"1967\",\"1966\",\"1966\",\"1966\",\"1966\",\"1966\",\"1966\",\"1966\",\"1966\",\"1966\",\"1966\",\"1966\",\"1966\",\"1966\",\"1966\",\"1966\",\"1966\",\"1966\",\"1966\",\"1966\",\"1966\",\"1966\",\"1966\",\"1966\",\"1966\",\"1966\",\"1966\",\"1966\",\"1966\",\"1966\",\"1966\",\"1966\",\"1966\",\"1966\",\"1966\",\"1966\",\"1966\",\"1965\",\"1965\",\"1965\",\"1965\",\"1965\",\"1965\",\"1965\",\"1965\",\"1965\",\"1965\",\"1965\",\"1965\",\"1965\",\"1965\",\"1965\",\"1965\",\"1965\",\"1965\",\"1965\",\"1965\",\"1965\",\"1965\",\"1965\",\"1965\",\"1965\",\"1965\",\"1965\",\"1965\",\"1965\",\"1965\",\"1965\",\"1965\",\"1965\",\"1965\",\"1965\",\"1965\",\"1965\",\"1965\",\"1965\",\"1965\",\"1965\",\"1965\",\"1965\",\"1964\",\"1964\",\"1964\",\"1964\",\"1964\",\"1964\",\"1964\",\"1964\",\"1964\",\"1964\",\"1964\",\"1964\",\"1964\",\"1964\",\"1964\",\"1964\",\"1964\",\"1964\",\"1964\",\"1964\",\"1964\",\"1964\",\"1964\",\"1964\",\"1964\",\"1964\",\"1964\",\"1964\",\"1963\",\"1963\",\"1963\",\"1963\",\"1963\",\"1963\",\"1963\",\"1963\",\"1963\",\"1963\",\"1963\",\"1963\",\"1963\",\"1963\",\"1963\",\"1963\",\"1962\",\"1962\",\"1962\",\"1962\",\"1962\",\"1962\",\"1962\",\"1962\",\"1962\",\"1962\",\"1962\",\"1962\",\"1962\",\"1962\",\"1961\",\"1961\",\"1961\",\"1961\",\"1961\",\"1961\",\"1961\",\"1960\",\"1960\",\"1960\",\"1960\",\"1960\",\"1960\",\"1960\",\"1960\",\"1960\",\"1959\",\"1959\",\"1959\",\"1959\",\"1958\",\"1958\",\"1958\",\"1958\",\"1958\",\"1957\",\"1957\"],\"xaxis\":\"x\",\"yaxis\":\"y\",\"type\":\"histogram\"},{\"alignmentgroup\":\"True\",\"bingroup\":\"x\",\"hovertemplate\":\"Country=Japan<br>year=%{x}<br>count=%{y}<extra></extra>\",\"legendgroup\":\"Japan\",\"marker\":{\"color\":\"#ab63fa\",\"pattern\":{\"shape\":\"\"}},\"name\":\"Japan\",\"offsetgroup\":\"Japan\",\"orientation\":\"v\",\"showlegend\":true,\"x\":[\"2020\",\"2020\",\"2020\",\"2019\",\"2019\",\"2018\",\"2018\",\"2018\",\"2018\",\"2018\",\"2018\",\"2017\",\"2017\",\"2017\",\"2017\",\"2017\",\"2017\",\"2017\",\"2016\",\"2016\",\"2016\",\"2016\",\"2015\",\"2015\",\"2015\",\"2015\",\"2014\",\"2014\",\"2014\",\"2014\",\"2013\",\"2013\",\"2013\",\"2012\",\"2012\",\"2011\",\"2011\",\"2011\",\"2011\",\"2010\",\"2009\",\"2009\",\"2009\",\"2008\",\"2007\",\"2007\",\"2006\",\"2006\",\"2006\",\"2006\",\"2006\",\"2006\",\"2005\",\"2005\",\"2003\",\"2003\",\"2003\",\"2002\",\"2002\",\"2002\",\"2001\",\"2000\",\"1999\",\"1998\",\"1998\",\"1997\",\"1997\",\"1996\",\"1995\",\"1995\",\"1994\",\"1994\",\"1993\",\"1992\",\"1991\",\"1991\",\"1991\",\"1990\",\"1990\",\"1990\",\"1990\",\"1990\",\"1989\",\"1989\",\"1988\",\"1988\",\"1987\",\"1987\",\"1987\",\"1986\",\"1986\",\"1985\",\"1985\",\"1984\",\"1984\",\"1984\",\"1983\",\"1983\",\"1983\",\"1982\",\"1981\",\"1981\",\"1981\",\"1980\",\"1980\",\"1979\",\"1978\",\"1978\",\"1978\",\"1977\",\"1977\",\"1976\",\"1976\",\"1975\",\"1975\",\"1974\",\"1972\",\"1971\",\"1971\",\"1971\",\"1970\",\"1970\",\"1969\",\"1967\",\"1966\",\"1966\"],\"xaxis\":\"x\",\"yaxis\":\"y\",\"type\":\"histogram\"},{\"alignmentgroup\":\"True\",\"bingroup\":\"x\",\"hovertemplate\":\"Country=Israel<br>year=%{x}<br>count=%{y}<extra></extra>\",\"legendgroup\":\"Israel\",\"marker\":{\"color\":\"#FFA15A\",\"pattern\":{\"shape\":\"\"}},\"name\":\"Israel\",\"offsetgroup\":\"Israel\",\"orientation\":\"v\",\"showlegend\":true,\"x\":[\"2020\",\"2016\",\"2014\",\"2010\",\"2007\",\"2004\",\"2002\",\"1998\",\"1995\",\"1990\",\"1988\"],\"xaxis\":\"x\",\"yaxis\":\"y\",\"type\":\"histogram\"},{\"alignmentgroup\":\"True\",\"bingroup\":\"x\",\"hovertemplate\":\"Country=New Zealand<br>year=%{x}<br>count=%{y}<extra></extra>\",\"legendgroup\":\"New Zealand\",\"marker\":{\"color\":\"#19d3f3\",\"pattern\":{\"shape\":\"\"}},\"name\":\"New Zealand\",\"offsetgroup\":\"New Zealand\",\"orientation\":\"v\",\"showlegend\":true,\"x\":[\"2020\",\"2020\",\"2020\",\"2019\",\"2019\",\"2019\",\"2019\",\"2019\",\"2019\",\"2018\",\"2018\",\"2018\",\"2017\"],\"xaxis\":\"x\",\"yaxis\":\"y\",\"type\":\"histogram\"},{\"alignmentgroup\":\"True\",\"bingroup\":\"x\",\"hovertemplate\":\"Country=Russian Federation<br>year=%{x}<br>count=%{y}<extra></extra>\",\"legendgroup\":\"Russian Federation\",\"marker\":{\"color\":\"#FF6692\",\"pattern\":{\"shape\":\"\"}},\"name\":\"Russian Federation\",\"offsetgroup\":\"Russian Federation\",\"orientation\":\"v\",\"showlegend\":true,\"x\":[\"2020\",\"2020\",\"2020\",\"2019\",\"2019\",\"2019\",\"2019\",\"2019\",\"2019\",\"2019\",\"2019\",\"2019\",\"2018\",\"2018\",\"2018\",\"2018\",\"2018\",\"2018\",\"2018\",\"2018\",\"2017\",\"2017\",\"2017\",\"2017\",\"2017\",\"2017\",\"2016\",\"2016\",\"2016\",\"2016\",\"2016\",\"2016\",\"2015\",\"2015\",\"2015\",\"2015\",\"2014\",\"2014\",\"2014\",\"2014\",\"2014\",\"2014\",\"2014\",\"2013\",\"2013\",\"2013\",\"2013\",\"2013\",\"2013\",\"2013\",\"2013\",\"2012\",\"2012\",\"2012\",\"2012\",\"2011\",\"2011\",\"2011\",\"2010\",\"2010\",\"2010\",\"2010\",\"2010\",\"2009\",\"2009\",\"2009\",\"2009\",\"2009\",\"2009\",\"2008\",\"2008\",\"2008\",\"2008\",\"2008\",\"2008\",\"2008\",\"2008\",\"2008\",\"2008\",\"2008\",\"2007\",\"2007\",\"2007\",\"2007\",\"2007\",\"2007\",\"2006\",\"2006\",\"2006\",\"2006\",\"2006\",\"2006\",\"2006\",\"2006\",\"2006\",\"2006\",\"2005\",\"2005\",\"2005\",\"2005\",\"2005\",\"2005\",\"2005\",\"2005\",\"2005\",\"2005\",\"2004\",\"2004\",\"2004\",\"2004\",\"2004\",\"2004\",\"2004\",\"2004\",\"2003\",\"2003\",\"2003\",\"2003\",\"2003\",\"2003\",\"2003\",\"2003\",\"2003\",\"2003\",\"2002\",\"2002\",\"2002\",\"2002\",\"2002\",\"2002\",\"2002\",\"2002\",\"2002\",\"2001\",\"2001\",\"2001\",\"2001\",\"2001\",\"2001\",\"2001\",\"2000\",\"2000\",\"2000\",\"2000\",\"2000\",\"2000\",\"2000\",\"2000\",\"2000\",\"1999\",\"1999\",\"1999\",\"1999\",\"1999\",\"1999\",\"1998\",\"1998\",\"1998\",\"1998\",\"1998\",\"1998\",\"1998\",\"1997\",\"1997\",\"1997\",\"1997\",\"1997\",\"1997\",\"1997\",\"1996\",\"1996\",\"1996\",\"1996\",\"1996\",\"1996\",\"1996\",\"1996\",\"1995\",\"1995\",\"1995\",\"1995\",\"1995\",\"1995\",\"1995\",\"1995\",\"1995\",\"1995\",\"1994\",\"1994\",\"1994\",\"1994\",\"1994\",\"1994\",\"1994\",\"1994\",\"1994\",\"1994\",\"1994\",\"1994\",\"1994\",\"1994\",\"1994\",\"1993\",\"1993\",\"1993\",\"1993\",\"1993\",\"1993\",\"1993\",\"1993\",\"1993\",\"1993\",\"1993\",\"1993\",\"1993\",\"1993\",\"1993\",\"1993\",\"1993\",\"1993\",\"1993\",\"1993\",\"1993\",\"1992\",\"1992\",\"1992\",\"1992\",\"1992\",\"1992\",\"1992\",\"1992\",\"1992\",\"1992\",\"1992\",\"1992\",\"1992\",\"1992\",\"1992\",\"1992\",\"1992\",\"1992\",\"1992\",\"1992\",\"1991\",\"1991\",\"1991\",\"1991\",\"1991\",\"1991\",\"1991\",\"1991\",\"1991\",\"1991\",\"1991\",\"1991\",\"1991\",\"1991\",\"1991\",\"1991\",\"1991\",\"1991\",\"1991\",\"1991\",\"1991\",\"1991\",\"1991\",\"1991\",\"1991\",\"1990\",\"1990\",\"1990\",\"1990\",\"1990\",\"1990\",\"1990\",\"1990\",\"1990\",\"1990\",\"1990\",\"1990\",\"1990\",\"1990\",\"1990\",\"1990\",\"1990\",\"1990\",\"1990\",\"1990\",\"1990\",\"1990\",\"1990\",\"1990\",\"1990\",\"1990\",\"1990\",\"1990\",\"1990\",\"1990\",\"1989\",\"1989\",\"1989\",\"1989\",\"1989\",\"1989\",\"1989\",\"1989\",\"1989\",\"1989\",\"1989\",\"1989\",\"1989\",\"1989\",\"1989\",\"1989\",\"1989\",\"1989\",\"1989\",\"1989\",\"1989\",\"1989\",\"1988\",\"1988\",\"1988\",\"1988\",\"1988\",\"1988\",\"1988\",\"1988\",\"1988\",\"1988\",\"1988\",\"1988\",\"1988\",\"1988\",\"1988\",\"1988\",\"1988\",\"1988\",\"1988\",\"1988\",\"1988\",\"1988\",\"1988\",\"1988\",\"1988\",\"1988\",\"1988\",\"1987\",\"1987\",\"1987\",\"1987\",\"1987\",\"1987\",\"1987\",\"1987\",\"1987\",\"1987\",\"1987\",\"1987\",\"1987\",\"1987\",\"1987\",\"1987\",\"1987\",\"1987\",\"1987\",\"1987\",\"1987\",\"1987\",\"1987\",\"1987\",\"1987\",\"1987\",\"1987\",\"1987\",\"1987\",\"1987\",\"1986\",\"1986\",\"1986\",\"1986\",\"1986\",\"1986\",\"1986\",\"1986\",\"1986\",\"1986\",\"1986\",\"1986\",\"1986\",\"1986\",\"1986\",\"1986\",\"1986\",\"1986\",\"1986\",\"1986\",\"1986\",\"1986\",\"1986\",\"1986\",\"1986\",\"1986\",\"1986\",\"1986\",\"1986\",\"1986\",\"1986\",\"1986\",\"1986\",\"1986\",\"1986\",\"1986\",\"1986\",\"1986\",\"1986\",\"1986\",\"1986\",\"1986\",\"1985\",\"1985\",\"1985\",\"1985\",\"1985\",\"1985\",\"1985\",\"1985\",\"1985\",\"1985\",\"1985\",\"1985\",\"1985\",\"1985\",\"1985\",\"1985\",\"1985\",\"1985\",\"1985\",\"1985\",\"1985\",\"1985\",\"1985\",\"1985\",\"1985\",\"1985\",\"1985\",\"1985\",\"1985\",\"1985\",\"1985\",\"1985\",\"1985\",\"1985\",\"1985\",\"1985\",\"1985\",\"1985\",\"1985\",\"1984\",\"1984\",\"1984\",\"1984\",\"1984\",\"1984\",\"1984\",\"1984\",\"1984\",\"1984\",\"1984\",\"1984\",\"1984\",\"1984\",\"1984\",\"1984\",\"1984\",\"1984\",\"1984\",\"1984\",\"1984\",\"1984\",\"1984\",\"1984\",\"1984\",\"1984\",\"1984\",\"1984\",\"1984\",\"1984\",\"1984\",\"1984\",\"1984\",\"1984\",\"1984\",\"1984\",\"1984\",\"1984\",\"1983\",\"1983\",\"1983\",\"1983\",\"1983\",\"1983\",\"1983\",\"1983\",\"1983\",\"1983\",\"1983\",\"1983\",\"1983\",\"1983\",\"1983\",\"1983\",\"1983\",\"1983\",\"1983\",\"1983\",\"1983\",\"1983\",\"1983\",\"1983\",\"1983\",\"1983\",\"1983\",\"1983\",\"1983\",\"1983\",\"1983\",\"1983\",\"1983\",\"1983\",\"1983\",\"1983\",\"1983\",\"1983\",\"1983\",\"1983\",\"1982\",\"1982\",\"1982\",\"1982\",\"1982\",\"1982\",\"1982\",\"1982\",\"1982\",\"1982\",\"1982\",\"1982\",\"1982\",\"1982\",\"1982\",\"1982\",\"1982\",\"1982\",\"1982\",\"1982\",\"1982\",\"1982\",\"1982\",\"1982\",\"1982\",\"1982\",\"1982\",\"1982\",\"1982\",\"1982\",\"1982\",\"1982\",\"1982\",\"1982\",\"1982\",\"1982\",\"1982\",\"1982\",\"1982\",\"1982\",\"1982\",\"1982\",\"1982\",\"1981\",\"1981\",\"1981\",\"1981\",\"1981\",\"1981\",\"1981\",\"1981\",\"1981\",\"1981\",\"1981\",\"1981\",\"1981\",\"1981\",\"1981\",\"1981\",\"1981\",\"1981\",\"1981\",\"1981\",\"1981\",\"1981\",\"1981\",\"1981\",\"1981\",\"1981\",\"1981\",\"1981\",\"1981\",\"1981\",\"1981\",\"1981\",\"1981\",\"1981\",\"1981\",\"1981\",\"1981\",\"1981\",\"1981\",\"1981\",\"1981\",\"1980\",\"1980\",\"1980\",\"1980\",\"1980\",\"1980\",\"1980\",\"1980\",\"1980\",\"1980\",\"1980\",\"1980\",\"1980\",\"1980\",\"1980\",\"1980\",\"1980\",\"1980\",\"1980\",\"1980\",\"1980\",\"1980\",\"1980\",\"1980\",\"1980\",\"1980\",\"1980\",\"1980\",\"1980\",\"1980\",\"1980\",\"1980\",\"1980\",\"1980\",\"1979\",\"1979\",\"1979\",\"1979\",\"1979\",\"1979\",\"1979\",\"1979\",\"1979\",\"1979\",\"1979\",\"1979\",\"1979\",\"1979\",\"1979\",\"1979\",\"1979\",\"1979\",\"1979\",\"1979\",\"1979\",\"1979\",\"1979\",\"1979\",\"1979\",\"1979\",\"1979\",\"1979\",\"1979\",\"1979\",\"1979\",\"1979\",\"1979\",\"1978\",\"1978\",\"1978\",\"1978\",\"1978\",\"1978\",\"1978\",\"1978\",\"1978\",\"1978\",\"1978\",\"1978\",\"1978\",\"1978\",\"1978\",\"1978\",\"1978\",\"1978\",\"1978\",\"1978\",\"1978\",\"1978\",\"1978\",\"1978\",\"1978\",\"1978\",\"1978\",\"1978\",\"1978\",\"1978\",\"1978\",\"1978\",\"1978\",\"1978\",\"1978\",\"1978\",\"1978\",\"1978\",\"1978\",\"1978\",\"1978\",\"1978\",\"1978\",\"1978\",\"1978\",\"1978\",\"1978\",\"1978\",\"1978\",\"1978\",\"1978\",\"1978\",\"1978\",\"1978\",\"1978\",\"1978\",\"1978\",\"1978\",\"1978\",\"1978\",\"1978\",\"1978\",\"1977\",\"1977\",\"1977\",\"1977\",\"1977\",\"1977\",\"1977\",\"1977\",\"1977\",\"1977\",\"1977\",\"1977\",\"1977\",\"1977\",\"1977\",\"1977\",\"1977\",\"1977\",\"1977\",\"1977\",\"1977\",\"1977\",\"1977\",\"1977\",\"1977\",\"1977\",\"1977\",\"1977\",\"1977\",\"1977\",\"1977\",\"1977\",\"1977\",\"1977\",\"1977\",\"1977\",\"1977\",\"1977\",\"1977\",\"1977\",\"1977\",\"1977\",\"1977\",\"1977\",\"1977\",\"1977\",\"1977\",\"1977\",\"1977\",\"1977\",\"1977\",\"1977\",\"1977\",\"1977\",\"1977\",\"1977\",\"1977\",\"1977\",\"1977\",\"1977\",\"1977\",\"1977\",\"1977\",\"1977\",\"1977\",\"1977\",\"1977\",\"1977\",\"1977\",\"1977\",\"1977\",\"1977\",\"1976\",\"1976\",\"1976\",\"1976\",\"1976\",\"1976\",\"1976\",\"1976\",\"1976\",\"1976\",\"1976\",\"1976\",\"1976\",\"1976\",\"1976\",\"1976\",\"1976\",\"1976\",\"1976\",\"1976\",\"1976\",\"1976\",\"1976\",\"1976\",\"1976\",\"1976\",\"1976\",\"1976\",\"1976\",\"1976\",\"1976\",\"1976\",\"1976\",\"1976\",\"1976\",\"1976\",\"1976\",\"1976\",\"1976\",\"1976\",\"1976\",\"1976\",\"1976\",\"1976\",\"1976\",\"1976\",\"1976\",\"1976\",\"1976\",\"1976\",\"1976\",\"1976\",\"1976\",\"1976\",\"1976\",\"1976\",\"1976\",\"1976\",\"1976\",\"1976\",\"1976\",\"1976\",\"1976\",\"1976\",\"1976\",\"1976\",\"1975\",\"1975\",\"1975\",\"1975\",\"1975\",\"1975\",\"1975\",\"1975\",\"1975\",\"1975\",\"1975\",\"1975\",\"1975\",\"1975\",\"1975\",\"1975\",\"1975\",\"1975\",\"1975\",\"1975\",\"1975\",\"1975\",\"1975\",\"1975\",\"1975\",\"1975\",\"1975\",\"1975\",\"1975\",\"1975\",\"1975\",\"1975\",\"1975\",\"1975\",\"1975\",\"1975\",\"1975\",\"1975\",\"1975\",\"1975\",\"1975\",\"1975\",\"1975\",\"1975\",\"1975\",\"1975\",\"1975\",\"1975\",\"1975\",\"1975\",\"1975\",\"1975\",\"1975\",\"1975\",\"1975\",\"1975\",\"1975\",\"1975\",\"1975\",\"1975\",\"1975\",\"1975\",\"1975\",\"1975\",\"1975\",\"1975\",\"1974\",\"1974\",\"1974\",\"1974\",\"1974\",\"1974\",\"1974\",\"1974\",\"1974\",\"1974\",\"1974\",\"1974\",\"1974\",\"1974\",\"1974\",\"1974\",\"1974\",\"1974\",\"1974\",\"1974\",\"1974\",\"1974\",\"1974\",\"1974\",\"1974\",\"1974\",\"1974\",\"1974\",\"1974\",\"1974\",\"1974\",\"1974\",\"1974\",\"1974\",\"1974\",\"1974\",\"1974\",\"1974\",\"1974\",\"1974\",\"1974\",\"1974\",\"1974\",\"1974\",\"1974\",\"1974\",\"1974\",\"1974\",\"1974\",\"1974\",\"1974\",\"1974\",\"1974\",\"1974\",\"1974\",\"1974\",\"1974\",\"1974\",\"1974\",\"1974\",\"1973\",\"1973\",\"1973\",\"1973\",\"1973\",\"1973\",\"1973\",\"1973\",\"1973\",\"1973\",\"1973\",\"1973\",\"1973\",\"1973\",\"1973\",\"1973\",\"1973\",\"1973\",\"1973\",\"1973\",\"1973\",\"1973\",\"1973\",\"1973\",\"1973\",\"1973\",\"1973\",\"1973\",\"1973\",\"1973\",\"1973\",\"1973\",\"1973\",\"1973\",\"1973\",\"1973\",\"1973\",\"1973\",\"1973\",\"1973\",\"1973\",\"1973\",\"1973\",\"1973\",\"1973\",\"1973\",\"1973\",\"1973\",\"1973\",\"1973\",\"1973\",\"1973\",\"1973\",\"1973\",\"1973\",\"1973\",\"1973\",\"1973\",\"1973\",\"1973\",\"1973\",\"1973\",\"1973\",\"1973\",\"1973\",\"1973\",\"1973\",\"1972\",\"1972\",\"1972\",\"1972\",\"1972\",\"1972\",\"1972\",\"1972\",\"1972\",\"1972\",\"1972\",\"1972\",\"1972\",\"1972\",\"1972\",\"1972\",\"1972\",\"1972\",\"1972\",\"1972\",\"1972\",\"1972\",\"1972\",\"1972\",\"1972\",\"1972\",\"1972\",\"1972\",\"1972\",\"1972\",\"1972\",\"1972\",\"1972\",\"1972\",\"1972\",\"1972\",\"1972\",\"1972\",\"1972\",\"1972\",\"1972\",\"1972\",\"1972\",\"1972\",\"1972\",\"1972\",\"1972\",\"1972\",\"1972\",\"1972\",\"1972\",\"1972\",\"1972\",\"1972\",\"1972\",\"1972\",\"1972\",\"1971\",\"1971\",\"1971\",\"1971\",\"1971\",\"1971\",\"1971\",\"1971\",\"1971\",\"1971\",\"1971\",\"1971\",\"1971\",\"1971\",\"1971\",\"1971\",\"1971\",\"1971\",\"1971\",\"1971\",\"1971\",\"1971\",\"1971\",\"1971\",\"1971\",\"1971\",\"1971\",\"1971\",\"1971\",\"1971\",\"1971\",\"1971\",\"1971\",\"1971\",\"1971\",\"1971\",\"1971\",\"1971\",\"1971\",\"1971\",\"1971\",\"1971\",\"1971\",\"1971\",\"1971\",\"1971\",\"1971\",\"1971\",\"1971\",\"1971\",\"1971\",\"1971\",\"1971\",\"1971\",\"1971\",\"1971\",\"1971\",\"1971\",\"1971\",\"1971\",\"1971\",\"1971\",\"1970\",\"1970\",\"1970\",\"1970\",\"1970\",\"1970\",\"1970\",\"1970\",\"1970\",\"1970\",\"1970\",\"1970\",\"1970\",\"1970\",\"1970\",\"1970\",\"1970\",\"1970\",\"1970\",\"1970\",\"1970\",\"1970\",\"1970\",\"1970\",\"1970\",\"1970\",\"1970\",\"1970\",\"1970\",\"1970\",\"1970\",\"1970\",\"1970\",\"1970\",\"1970\",\"1970\",\"1970\",\"1970\",\"1970\",\"1970\",\"1970\",\"1970\",\"1970\",\"1970\",\"1970\",\"1970\",\"1970\",\"1970\",\"1970\",\"1970\",\"1970\",\"1970\",\"1970\",\"1970\",\"1970\",\"1970\",\"1970\",\"1970\",\"1970\",\"1969\",\"1969\",\"1969\",\"1969\",\"1969\",\"1969\",\"1969\",\"1969\",\"1969\",\"1969\",\"1969\",\"1969\",\"1969\",\"1969\",\"1969\",\"1969\",\"1969\",\"1969\",\"1969\",\"1969\",\"1969\",\"1969\",\"1969\",\"1969\",\"1969\",\"1969\",\"1969\",\"1969\",\"1969\",\"1969\",\"1969\",\"1969\",\"1969\",\"1969\",\"1969\",\"1969\",\"1969\",\"1969\",\"1969\",\"1969\",\"1969\",\"1969\",\"1969\",\"1969\",\"1969\",\"1968\",\"1968\",\"1968\",\"1968\",\"1968\",\"1968\",\"1968\",\"1968\",\"1968\",\"1968\",\"1968\",\"1968\",\"1968\",\"1968\",\"1968\",\"1968\",\"1968\",\"1968\",\"1968\",\"1968\",\"1968\",\"1968\",\"1968\",\"1968\",\"1968\",\"1968\",\"1968\",\"1968\",\"1968\",\"1968\",\"1968\",\"1968\",\"1968\",\"1968\",\"1968\",\"1968\",\"1968\",\"1968\",\"1968\",\"1968\",\"1967\",\"1967\",\"1967\",\"1967\",\"1967\",\"1967\",\"1967\",\"1967\",\"1967\",\"1967\",\"1967\",\"1967\",\"1967\",\"1967\",\"1967\",\"1967\",\"1967\",\"1967\",\"1967\",\"1967\",\"1967\",\"1967\",\"1967\",\"1967\",\"1967\",\"1967\",\"1967\",\"1967\",\"1967\",\"1967\",\"1967\",\"1967\",\"1967\",\"1967\",\"1967\",\"1967\",\"1967\",\"1966\",\"1966\",\"1966\",\"1966\",\"1966\",\"1966\",\"1966\",\"1966\",\"1966\",\"1966\",\"1966\",\"1966\",\"1966\",\"1966\",\"1966\",\"1965\",\"1965\",\"1965\",\"1965\",\"1965\",\"1965\",\"1965\",\"1965\",\"1965\",\"1965\",\"1964\",\"1964\",\"1964\",\"1964\",\"1964\",\"1964\",\"1964\",\"1964\",\"1963\",\"1963\",\"1963\",\"1963\",\"1963\",\"1963\",\"1963\",\"1963\",\"1962\",\"1962\",\"1962\",\"1962\",\"1962\",\"1962\",\"1962\",\"1962\",\"1961\",\"1961\"],\"xaxis\":\"x\",\"yaxis\":\"y\",\"type\":\"histogram\"},{\"alignmentgroup\":\"True\",\"bingroup\":\"x\",\"hovertemplate\":\"Country=IRN<br>year=%{x}<br>count=%{y}<extra></extra>\",\"legendgroup\":\"IRN\",\"marker\":{\"color\":\"#B6E880\",\"pattern\":{\"shape\":\"\"}},\"name\":\"IRN\",\"offsetgroup\":\"IRN\",\"orientation\":\"v\",\"showlegend\":true,\"x\":[\"2020\",\"2020\",\"2019\",\"2019\",\"2019\",\"2017\",\"2015\",\"2015\",\"2012\",\"2012\",\"2012\",\"2011\",\"2009\",\"2008\"],\"xaxis\":\"x\",\"yaxis\":\"y\",\"type\":\"histogram\"},{\"alignmentgroup\":\"True\",\"bingroup\":\"x\",\"hovertemplate\":\"Country=France<br>year=%{x}<br>count=%{y}<extra></extra>\",\"legendgroup\":\"France\",\"marker\":{\"color\":\"#FF97FF\",\"pattern\":{\"shape\":\"\"}},\"name\":\"France\",\"offsetgroup\":\"France\",\"orientation\":\"v\",\"showlegend\":true,\"x\":[\"2020\",\"2020\",\"2019\",\"2019\",\"2019\",\"2019\",\"2019\",\"2019\",\"2019\",\"2019\",\"2019\",\"2018\",\"2018\",\"2018\",\"2018\",\"2018\",\"2018\",\"2018\",\"2018\",\"2018\",\"2018\",\"2018\",\"2017\",\"2017\",\"2017\",\"2017\",\"2017\",\"2017\",\"2017\",\"2017\",\"2017\",\"2017\",\"2017\",\"2016\",\"2016\",\"2016\",\"2016\",\"2016\",\"2016\",\"2016\",\"2016\",\"2016\",\"2016\",\"2016\",\"2015\",\"2015\",\"2015\",\"2015\",\"2015\",\"2015\",\"2015\",\"2015\",\"2015\",\"2015\",\"2015\",\"2015\",\"2014\",\"2014\",\"2014\",\"2014\",\"2014\",\"2014\",\"2014\",\"2014\",\"2014\",\"2014\",\"2014\",\"2013\",\"2013\",\"2013\",\"2013\",\"2013\",\"2013\",\"2013\",\"2012\",\"2012\",\"2012\",\"2012\",\"2012\",\"2012\",\"2012\",\"2012\",\"2012\",\"2012\",\"2011\",\"2011\",\"2011\",\"2011\",\"2011\",\"2011\",\"2011\",\"2010\",\"2010\",\"2010\",\"2010\",\"2010\",\"2010\",\"2009\",\"2009\",\"2009\",\"2009\",\"2009\",\"2009\",\"2009\",\"2008\",\"2008\",\"2008\",\"2008\",\"2008\",\"2008\",\"2007\",\"2007\",\"2007\",\"2007\",\"2007\",\"2007\",\"2006\",\"2006\",\"2006\",\"2006\",\"2006\",\"2005\",\"2005\",\"2005\",\"2005\",\"2005\",\"2004\",\"2004\",\"2004\",\"2003\",\"2003\",\"2003\",\"2003\",\"2002\",\"2002\",\"2002\",\"2002\",\"2002\",\"2002\",\"2002\",\"2002\",\"2002\",\"2002\",\"2002\",\"2002\",\"2001\",\"2001\",\"2001\",\"2001\",\"2001\",\"2001\",\"2001\",\"2001\",\"2000\",\"2000\",\"2000\",\"2000\",\"2000\",\"2000\",\"2000\",\"2000\",\"2000\",\"2000\",\"2000\",\"2000\",\"1999\",\"1999\",\"1999\",\"1999\",\"1999\",\"1999\",\"1999\",\"1999\",\"1999\",\"1999\",\"1998\",\"1998\",\"1998\",\"1998\",\"1998\",\"1998\",\"1998\",\"1998\",\"1998\",\"1998\",\"1998\",\"1997\",\"1997\",\"1997\",\"1997\",\"1997\",\"1997\",\"1997\",\"1997\",\"1997\",\"1997\",\"1997\",\"1997\",\"1996\",\"1996\",\"1996\",\"1996\",\"1996\",\"1996\",\"1996\",\"1996\",\"1996\",\"1996\",\"1996\",\"1995\",\"1995\",\"1995\",\"1995\",\"1995\",\"1995\",\"1995\",\"1995\",\"1995\",\"1995\",\"1995\",\"1994\",\"1994\",\"1994\",\"1994\",\"1994\",\"1994\",\"1994\",\"1994\",\"1993\",\"1993\",\"1993\",\"1993\",\"1993\",\"1993\",\"1993\",\"1992\",\"1992\",\"1992\",\"1992\",\"1992\",\"1992\",\"1992\",\"1991\",\"1991\",\"1991\",\"1991\",\"1991\",\"1991\",\"1991\",\"1991\",\"1990\",\"1990\",\"1990\",\"1990\",\"1990\",\"1990\",\"1989\",\"1989\",\"1989\",\"1989\",\"1989\",\"1989\",\"1989\",\"1988\",\"1988\",\"1988\",\"1988\",\"1988\",\"1988\",\"1988\",\"1987\",\"1987\",\"1986\",\"1986\",\"1986\",\"1985\",\"1985\",\"1985\",\"1985\",\"1984\",\"1984\",\"1984\",\"1984\",\"1983\",\"1983\",\"1982\",\"1981\",\"1981\",\"1980\",\"1979\",\"1975\",\"1975\",\"1975\",\"1973\",\"1971\",\"1971\",\"1971\",\"1970\",\"1970\",\"1967\",\"1967\",\"1966\",\"1965\"],\"xaxis\":\"x\",\"yaxis\":\"y\",\"type\":\"histogram\"},{\"alignmentgroup\":\"True\",\"bingroup\":\"x\",\"hovertemplate\":\"Country=India<br>year=%{x}<br>count=%{y}<extra></extra>\",\"legendgroup\":\"India\",\"marker\":{\"color\":\"#FECB52\",\"pattern\":{\"shape\":\"\"}},\"name\":\"India\",\"offsetgroup\":\"India\",\"orientation\":\"v\",\"showlegend\":true,\"x\":[\"2019\",\"2019\",\"2019\",\"2019\",\"2019\",\"2019\",\"2018\",\"2018\",\"2018\",\"2018\",\"2018\",\"2018\",\"2018\",\"2017\",\"2017\",\"2017\",\"2017\",\"2017\",\"2016\",\"2016\",\"2016\",\"2016\",\"2016\",\"2016\",\"2016\",\"2015\",\"2015\",\"2015\",\"2015\",\"2015\",\"2014\",\"2014\",\"2014\",\"2014\",\"2014\",\"2013\",\"2013\",\"2013\",\"2012\",\"2012\",\"2012\",\"2011\",\"2011\",\"2011\",\"2010\",\"2010\",\"2010\",\"2009\",\"2009\",\"2008\",\"2008\",\"2008\",\"2007\",\"2007\",\"2007\",\"2006\",\"2005\",\"2004\",\"2003\",\"2003\",\"2002\",\"2001\",\"2001\",\"1999\",\"1997\",\"1996\",\"1994\",\"1994\",\"1993\",\"1989\",\"1988\",\"1987\",\"1983\",\"1981\",\"1980\",\"1979\"],\"xaxis\":\"x\",\"yaxis\":\"y\",\"type\":\"histogram\"},{\"alignmentgroup\":\"True\",\"bingroup\":\"x\",\"hovertemplate\":\"Country=Mexico<br>year=%{x}<br>count=%{y}<extra></extra>\",\"legendgroup\":\"Mexico\",\"marker\":{\"color\":\"#636efa\",\"pattern\":{\"shape\":\"\"}},\"name\":\"Mexico\",\"offsetgroup\":\"Mexico\",\"orientation\":\"v\",\"showlegend\":true,\"x\":[\"2019\",\"2019\",\"2019\",\"2018\"],\"xaxis\":\"x\",\"yaxis\":\"y\",\"type\":\"histogram\"},{\"alignmentgroup\":\"True\",\"bingroup\":\"x\",\"hovertemplate\":\"Country=Korea, Republic of<br>year=%{x}<br>count=%{y}<extra></extra>\",\"legendgroup\":\"Korea, Republic of\",\"marker\":{\"color\":\"#EF553B\",\"pattern\":{\"shape\":\"\"}},\"name\":\"Korea, Republic of\",\"offsetgroup\":\"Korea, Republic of\",\"orientation\":\"v\",\"showlegend\":true,\"x\":[\"2016\",\"2013\",\"2012\",\"2012\",\"2010\",\"2009\",\"2009\",\"1998\"],\"xaxis\":\"x\",\"yaxis\":\"y\",\"type\":\"histogram\"},{\"alignmentgroup\":\"True\",\"bingroup\":\"x\",\"hovertemplate\":\"Country=Brazil<br>year=%{x}<br>count=%{y}<extra></extra>\",\"legendgroup\":\"Brazil\",\"marker\":{\"color\":\"#00cc96\",\"pattern\":{\"shape\":\"\"}},\"name\":\"Brazil\",\"offsetgroup\":\"Brazil\",\"orientation\":\"v\",\"showlegend\":true,\"x\":[\"2003\",\"1999\",\"1997\"],\"xaxis\":\"x\",\"yaxis\":\"y\",\"type\":\"histogram\"},{\"alignmentgroup\":\"True\",\"bingroup\":\"x\",\"hovertemplate\":\"Country=Kenya<br>year=%{x}<br>count=%{y}<extra></extra>\",\"legendgroup\":\"Kenya\",\"marker\":{\"color\":\"#ab63fa\",\"pattern\":{\"shape\":\"\"}},\"name\":\"Kenya\",\"offsetgroup\":\"Kenya\",\"orientation\":\"v\",\"showlegend\":true,\"x\":[\"1988\",\"1975\",\"1974\",\"1974\",\"1972\",\"1971\",\"1971\",\"1970\",\"1967\"],\"xaxis\":\"x\",\"yaxis\":\"y\",\"type\":\"histogram\"},{\"alignmentgroup\":\"True\",\"bingroup\":\"x\",\"hovertemplate\":\"Country=Australia<br>year=%{x}<br>count=%{y}<extra></extra>\",\"legendgroup\":\"Australia\",\"marker\":{\"color\":\"#FFA15A\",\"pattern\":{\"shape\":\"\"}},\"name\":\"Australia\",\"offsetgroup\":\"Australia\",\"orientation\":\"v\",\"showlegend\":true,\"x\":[\"1971\",\"1970\",\"1970\",\"1969\",\"1968\",\"1967\"],\"xaxis\":\"x\",\"yaxis\":\"y\",\"type\":\"histogram\"}],                        {\"template\":{\"data\":{\"histogram2dcontour\":[{\"type\":\"histogram2dcontour\",\"colorbar\":{\"outlinewidth\":0,\"ticks\":\"\"},\"colorscale\":[[0.0,\"#0d0887\"],[0.1111111111111111,\"#46039f\"],[0.2222222222222222,\"#7201a8\"],[0.3333333333333333,\"#9c179e\"],[0.4444444444444444,\"#bd3786\"],[0.5555555555555556,\"#d8576b\"],[0.6666666666666666,\"#ed7953\"],[0.7777777777777778,\"#fb9f3a\"],[0.8888888888888888,\"#fdca26\"],[1.0,\"#f0f921\"]]}],\"choropleth\":[{\"type\":\"choropleth\",\"colorbar\":{\"outlinewidth\":0,\"ticks\":\"\"}}],\"histogram2d\":[{\"type\":\"histogram2d\",\"colorbar\":{\"outlinewidth\":0,\"ticks\":\"\"},\"colorscale\":[[0.0,\"#0d0887\"],[0.1111111111111111,\"#46039f\"],[0.2222222222222222,\"#7201a8\"],[0.3333333333333333,\"#9c179e\"],[0.4444444444444444,\"#bd3786\"],[0.5555555555555556,\"#d8576b\"],[0.6666666666666666,\"#ed7953\"],[0.7777777777777778,\"#fb9f3a\"],[0.8888888888888888,\"#fdca26\"],[1.0,\"#f0f921\"]]}],\"heatmap\":[{\"type\":\"heatmap\",\"colorbar\":{\"outlinewidth\":0,\"ticks\":\"\"},\"colorscale\":[[0.0,\"#0d0887\"],[0.1111111111111111,\"#46039f\"],[0.2222222222222222,\"#7201a8\"],[0.3333333333333333,\"#9c179e\"],[0.4444444444444444,\"#bd3786\"],[0.5555555555555556,\"#d8576b\"],[0.6666666666666666,\"#ed7953\"],[0.7777777777777778,\"#fb9f3a\"],[0.8888888888888888,\"#fdca26\"],[1.0,\"#f0f921\"]]}],\"heatmapgl\":[{\"type\":\"heatmapgl\",\"colorbar\":{\"outlinewidth\":0,\"ticks\":\"\"},\"colorscale\":[[0.0,\"#0d0887\"],[0.1111111111111111,\"#46039f\"],[0.2222222222222222,\"#7201a8\"],[0.3333333333333333,\"#9c179e\"],[0.4444444444444444,\"#bd3786\"],[0.5555555555555556,\"#d8576b\"],[0.6666666666666666,\"#ed7953\"],[0.7777777777777778,\"#fb9f3a\"],[0.8888888888888888,\"#fdca26\"],[1.0,\"#f0f921\"]]}],\"contourcarpet\":[{\"type\":\"contourcarpet\",\"colorbar\":{\"outlinewidth\":0,\"ticks\":\"\"}}],\"contour\":[{\"type\":\"contour\",\"colorbar\":{\"outlinewidth\":0,\"ticks\":\"\"},\"colorscale\":[[0.0,\"#0d0887\"],[0.1111111111111111,\"#46039f\"],[0.2222222222222222,\"#7201a8\"],[0.3333333333333333,\"#9c179e\"],[0.4444444444444444,\"#bd3786\"],[0.5555555555555556,\"#d8576b\"],[0.6666666666666666,\"#ed7953\"],[0.7777777777777778,\"#fb9f3a\"],[0.8888888888888888,\"#fdca26\"],[1.0,\"#f0f921\"]]}],\"surface\":[{\"type\":\"surface\",\"colorbar\":{\"outlinewidth\":0,\"ticks\":\"\"},\"colorscale\":[[0.0,\"#0d0887\"],[0.1111111111111111,\"#46039f\"],[0.2222222222222222,\"#7201a8\"],[0.3333333333333333,\"#9c179e\"],[0.4444444444444444,\"#bd3786\"],[0.5555555555555556,\"#d8576b\"],[0.6666666666666666,\"#ed7953\"],[0.7777777777777778,\"#fb9f3a\"],[0.8888888888888888,\"#fdca26\"],[1.0,\"#f0f921\"]]}],\"mesh3d\":[{\"type\":\"mesh3d\",\"colorbar\":{\"outlinewidth\":0,\"ticks\":\"\"}}],\"scatter\":[{\"fillpattern\":{\"fillmode\":\"overlay\",\"size\":10,\"solidity\":0.2},\"type\":\"scatter\"}],\"parcoords\":[{\"type\":\"parcoords\",\"line\":{\"colorbar\":{\"outlinewidth\":0,\"ticks\":\"\"}}}],\"scatterpolargl\":[{\"type\":\"scatterpolargl\",\"marker\":{\"colorbar\":{\"outlinewidth\":0,\"ticks\":\"\"}}}],\"bar\":[{\"error_x\":{\"color\":\"#2a3f5f\"},\"error_y\":{\"color\":\"#2a3f5f\"},\"marker\":{\"line\":{\"color\":\"#E5ECF6\",\"width\":0.5},\"pattern\":{\"fillmode\":\"overlay\",\"size\":10,\"solidity\":0.2}},\"type\":\"bar\"}],\"scattergeo\":[{\"type\":\"scattergeo\",\"marker\":{\"colorbar\":{\"outlinewidth\":0,\"ticks\":\"\"}}}],\"scatterpolar\":[{\"type\":\"scatterpolar\",\"marker\":{\"colorbar\":{\"outlinewidth\":0,\"ticks\":\"\"}}}],\"histogram\":[{\"marker\":{\"pattern\":{\"fillmode\":\"overlay\",\"size\":10,\"solidity\":0.2}},\"type\":\"histogram\"}],\"scattergl\":[{\"type\":\"scattergl\",\"marker\":{\"colorbar\":{\"outlinewidth\":0,\"ticks\":\"\"}}}],\"scatter3d\":[{\"type\":\"scatter3d\",\"line\":{\"colorbar\":{\"outlinewidth\":0,\"ticks\":\"\"}},\"marker\":{\"colorbar\":{\"outlinewidth\":0,\"ticks\":\"\"}}}],\"scattermapbox\":[{\"type\":\"scattermapbox\",\"marker\":{\"colorbar\":{\"outlinewidth\":0,\"ticks\":\"\"}}}],\"scatterternary\":[{\"type\":\"scatterternary\",\"marker\":{\"colorbar\":{\"outlinewidth\":0,\"ticks\":\"\"}}}],\"scattercarpet\":[{\"type\":\"scattercarpet\",\"marker\":{\"colorbar\":{\"outlinewidth\":0,\"ticks\":\"\"}}}],\"carpet\":[{\"aaxis\":{\"endlinecolor\":\"#2a3f5f\",\"gridcolor\":\"white\",\"linecolor\":\"white\",\"minorgridcolor\":\"white\",\"startlinecolor\":\"#2a3f5f\"},\"baxis\":{\"endlinecolor\":\"#2a3f5f\",\"gridcolor\":\"white\",\"linecolor\":\"white\",\"minorgridcolor\":\"white\",\"startlinecolor\":\"#2a3f5f\"},\"type\":\"carpet\"}],\"table\":[{\"cells\":{\"fill\":{\"color\":\"#EBF0F8\"},\"line\":{\"color\":\"white\"}},\"header\":{\"fill\":{\"color\":\"#C8D4E3\"},\"line\":{\"color\":\"white\"}},\"type\":\"table\"}],\"barpolar\":[{\"marker\":{\"line\":{\"color\":\"#E5ECF6\",\"width\":0.5},\"pattern\":{\"fillmode\":\"overlay\",\"size\":10,\"solidity\":0.2}},\"type\":\"barpolar\"}],\"pie\":[{\"automargin\":true,\"type\":\"pie\"}]},\"layout\":{\"autotypenumbers\":\"strict\",\"colorway\":[\"#636efa\",\"#EF553B\",\"#00cc96\",\"#ab63fa\",\"#FFA15A\",\"#19d3f3\",\"#FF6692\",\"#B6E880\",\"#FF97FF\",\"#FECB52\"],\"font\":{\"color\":\"#2a3f5f\"},\"hovermode\":\"closest\",\"hoverlabel\":{\"align\":\"left\"},\"paper_bgcolor\":\"white\",\"plot_bgcolor\":\"#E5ECF6\",\"polar\":{\"bgcolor\":\"#E5ECF6\",\"angularaxis\":{\"gridcolor\":\"white\",\"linecolor\":\"white\",\"ticks\":\"\"},\"radialaxis\":{\"gridcolor\":\"white\",\"linecolor\":\"white\",\"ticks\":\"\"}},\"ternary\":{\"bgcolor\":\"#E5ECF6\",\"aaxis\":{\"gridcolor\":\"white\",\"linecolor\":\"white\",\"ticks\":\"\"},\"baxis\":{\"gridcolor\":\"white\",\"linecolor\":\"white\",\"ticks\":\"\"},\"caxis\":{\"gridcolor\":\"white\",\"linecolor\":\"white\",\"ticks\":\"\"}},\"coloraxis\":{\"colorbar\":{\"outlinewidth\":0,\"ticks\":\"\"}},\"colorscale\":{\"sequential\":[[0.0,\"#0d0887\"],[0.1111111111111111,\"#46039f\"],[0.2222222222222222,\"#7201a8\"],[0.3333333333333333,\"#9c179e\"],[0.4444444444444444,\"#bd3786\"],[0.5555555555555556,\"#d8576b\"],[0.6666666666666666,\"#ed7953\"],[0.7777777777777778,\"#fb9f3a\"],[0.8888888888888888,\"#fdca26\"],[1.0,\"#f0f921\"]],\"sequentialminus\":[[0.0,\"#0d0887\"],[0.1111111111111111,\"#46039f\"],[0.2222222222222222,\"#7201a8\"],[0.3333333333333333,\"#9c179e\"],[0.4444444444444444,\"#bd3786\"],[0.5555555555555556,\"#d8576b\"],[0.6666666666666666,\"#ed7953\"],[0.7777777777777778,\"#fb9f3a\"],[0.8888888888888888,\"#fdca26\"],[1.0,\"#f0f921\"]],\"diverging\":[[0,\"#8e0152\"],[0.1,\"#c51b7d\"],[0.2,\"#de77ae\"],[0.3,\"#f1b6da\"],[0.4,\"#fde0ef\"],[0.5,\"#f7f7f7\"],[0.6,\"#e6f5d0\"],[0.7,\"#b8e186\"],[0.8,\"#7fbc41\"],[0.9,\"#4d9221\"],[1,\"#276419\"]]},\"xaxis\":{\"gridcolor\":\"white\",\"linecolor\":\"white\",\"ticks\":\"\",\"title\":{\"standoff\":15},\"zerolinecolor\":\"white\",\"automargin\":true,\"zerolinewidth\":2},\"yaxis\":{\"gridcolor\":\"white\",\"linecolor\":\"white\",\"ticks\":\"\",\"title\":{\"standoff\":15},\"zerolinecolor\":\"white\",\"automargin\":true,\"zerolinewidth\":2},\"scene\":{\"xaxis\":{\"backgroundcolor\":\"#E5ECF6\",\"gridcolor\":\"white\",\"linecolor\":\"white\",\"showbackground\":true,\"ticks\":\"\",\"zerolinecolor\":\"white\",\"gridwidth\":2},\"yaxis\":{\"backgroundcolor\":\"#E5ECF6\",\"gridcolor\":\"white\",\"linecolor\":\"white\",\"showbackground\":true,\"ticks\":\"\",\"zerolinecolor\":\"white\",\"gridwidth\":2},\"zaxis\":{\"backgroundcolor\":\"#E5ECF6\",\"gridcolor\":\"white\",\"linecolor\":\"white\",\"showbackground\":true,\"ticks\":\"\",\"zerolinecolor\":\"white\",\"gridwidth\":2}},\"shapedefaults\":{\"line\":{\"color\":\"#2a3f5f\"}},\"annotationdefaults\":{\"arrowcolor\":\"#2a3f5f\",\"arrowhead\":0,\"arrowwidth\":1},\"geo\":{\"bgcolor\":\"white\",\"landcolor\":\"#E5ECF6\",\"subunitcolor\":\"white\",\"showland\":true,\"showlakes\":true,\"lakecolor\":\"white\"},\"title\":{\"x\":0.05},\"mapbox\":{\"style\":\"light\"}}},\"xaxis\":{\"anchor\":\"y\",\"domain\":[0.0,1.0],\"title\":{\"text\":\"year\"}},\"yaxis\":{\"anchor\":\"x\",\"domain\":[0.0,1.0],\"title\":{\"text\":\"count\"}},\"legend\":{\"title\":{\"text\":\"Country\"},\"tracegroupgap\":0},\"margin\":{\"t\":60},\"barmode\":\"relative\"},                        {\"responsive\": true}                    ).then(function(){\n",
              "                            \n",
              "var gd = document.getElementById('40ad5c7f-092a-4238-adf9-24e4b050efa1');\n",
              "var x = new MutationObserver(function (mutations, observer) {{\n",
              "        var display = window.getComputedStyle(gd).display;\n",
              "        if (!display || display === 'none') {{\n",
              "            console.log([gd, 'removed!']);\n",
              "            Plotly.purge(gd);\n",
              "            observer.disconnect();\n",
              "        }}\n",
              "}});\n",
              "\n",
              "// Listen for the removal of the full notebook cells\n",
              "var notebookContainer = gd.closest('#notebook-container');\n",
              "if (notebookContainer) {{\n",
              "    x.observe(notebookContainer, {childList: true});\n",
              "}}\n",
              "\n",
              "// Listen for the clearing of the current output cell\n",
              "var outputEl = gd.closest('.output');\n",
              "if (outputEl) {{\n",
              "    x.observe(outputEl, {childList: true});\n",
              "}}\n",
              "\n",
              "                        })                };                            </script>        </div>\n",
              "</body>\n",
              "</html>"
            ]
          },
          "metadata": {}
        }
      ]
    },
    {
      "cell_type": "code",
      "metadata": {
        "id": "zgVysedmsOp4",
        "colab": {
          "base_uri": "https://localhost:8080/",
          "height": 708
        },
        "outputId": "fbc64af0-a1e3-4384-95f5-42d60c5d8436"
      },
      "source": [
        "data6=data5.groupby(by=['year','Country']).count()\n",
        "data6.tail(20)"
      ],
      "execution_count": 134,
      "outputs": [
        {
          "output_type": "execute_result",
          "data": {
            "text/plain": [
              "                         Organisation  Location  Date  Detail  Rocket_Status  \\\n",
              "year Country                                                                   \n",
              "2018 USA                           33        33    33      33             33   \n",
              "2019 China                         34        34    34      34             34   \n",
              "     France                         9         9     9       9              9   \n",
              "     IRN                            3         3     3       3              3   \n",
              "     India                          6         6     6       6              6   \n",
              "     Japan                          2         2     2       2              2   \n",
              "     Kazakhstan                    13        13    13      13             13   \n",
              "     Mexico                         3         3     3       3              3   \n",
              "     New Zealand                    6         6     6       6              6   \n",
              "     Russian Federation             9         9     9       9              9   \n",
              "     USA                           24        24    24      24             24   \n",
              "2020 China                         22        22    22      22             22   \n",
              "     France                         2         2     2       2              2   \n",
              "     IRN                            2         2     2       2              2   \n",
              "     Israel                         1         1     1       1              1   \n",
              "     Japan                          3         3     3       3              3   \n",
              "     Kazakhstan                     6         6     6       6              6   \n",
              "     New Zealand                    3         3     3       3              3   \n",
              "     Russian Federation             3         3     3       3              3   \n",
              "     USA                           21        21    21      21             21   \n",
              "\n",
              "                         Price  Mission_Status  iso  month  \n",
              "year Country                                                \n",
              "2018 USA                    33              33   33     33  \n",
              "2019 China                  34              34   34     34  \n",
              "     France                  9               9    9      9  \n",
              "     IRN                     3               3    3      3  \n",
              "     India                   6               6    6      6  \n",
              "     Japan                   2               2    2      2  \n",
              "     Kazakhstan             13              13   13     13  \n",
              "     Mexico                  3               3    3      3  \n",
              "     New Zealand             6               6    6      6  \n",
              "     Russian Federation      9               9    9      9  \n",
              "     USA                    24              24   24     24  \n",
              "2020 China                  22              22   22     22  \n",
              "     France                  2               2    2      2  \n",
              "     IRN                     2               2    2      2  \n",
              "     Israel                  1               1    1      1  \n",
              "     Japan                   3               3    3      3  \n",
              "     Kazakhstan              6               6    6      6  \n",
              "     New Zealand             3               3    3      3  \n",
              "     Russian Federation      3               3    3      3  \n",
              "     USA                    21              21   21     21  "
            ],
            "text/html": [
              "\n",
              "  <div id=\"df-ed055abe-bc96-49fc-ab44-819ec8028bde\">\n",
              "    <div class=\"colab-df-container\">\n",
              "      <div>\n",
              "<style scoped>\n",
              "    .dataframe tbody tr th:only-of-type {\n",
              "        vertical-align: middle;\n",
              "    }\n",
              "\n",
              "    .dataframe tbody tr th {\n",
              "        vertical-align: top;\n",
              "    }\n",
              "\n",
              "    .dataframe thead th {\n",
              "        text-align: right;\n",
              "    }\n",
              "</style>\n",
              "<table border=\"1\" class=\"dataframe\">\n",
              "  <thead>\n",
              "    <tr style=\"text-align: right;\">\n",
              "      <th></th>\n",
              "      <th></th>\n",
              "      <th>Organisation</th>\n",
              "      <th>Location</th>\n",
              "      <th>Date</th>\n",
              "      <th>Detail</th>\n",
              "      <th>Rocket_Status</th>\n",
              "      <th>Price</th>\n",
              "      <th>Mission_Status</th>\n",
              "      <th>iso</th>\n",
              "      <th>month</th>\n",
              "    </tr>\n",
              "    <tr>\n",
              "      <th>year</th>\n",
              "      <th>Country</th>\n",
              "      <th></th>\n",
              "      <th></th>\n",
              "      <th></th>\n",
              "      <th></th>\n",
              "      <th></th>\n",
              "      <th></th>\n",
              "      <th></th>\n",
              "      <th></th>\n",
              "      <th></th>\n",
              "    </tr>\n",
              "  </thead>\n",
              "  <tbody>\n",
              "    <tr>\n",
              "      <th>2018</th>\n",
              "      <th>USA</th>\n",
              "      <td>33</td>\n",
              "      <td>33</td>\n",
              "      <td>33</td>\n",
              "      <td>33</td>\n",
              "      <td>33</td>\n",
              "      <td>33</td>\n",
              "      <td>33</td>\n",
              "      <td>33</td>\n",
              "      <td>33</td>\n",
              "    </tr>\n",
              "    <tr>\n",
              "      <th rowspan=\"10\" valign=\"top\">2019</th>\n",
              "      <th>China</th>\n",
              "      <td>34</td>\n",
              "      <td>34</td>\n",
              "      <td>34</td>\n",
              "      <td>34</td>\n",
              "      <td>34</td>\n",
              "      <td>34</td>\n",
              "      <td>34</td>\n",
              "      <td>34</td>\n",
              "      <td>34</td>\n",
              "    </tr>\n",
              "    <tr>\n",
              "      <th>France</th>\n",
              "      <td>9</td>\n",
              "      <td>9</td>\n",
              "      <td>9</td>\n",
              "      <td>9</td>\n",
              "      <td>9</td>\n",
              "      <td>9</td>\n",
              "      <td>9</td>\n",
              "      <td>9</td>\n",
              "      <td>9</td>\n",
              "    </tr>\n",
              "    <tr>\n",
              "      <th>IRN</th>\n",
              "      <td>3</td>\n",
              "      <td>3</td>\n",
              "      <td>3</td>\n",
              "      <td>3</td>\n",
              "      <td>3</td>\n",
              "      <td>3</td>\n",
              "      <td>3</td>\n",
              "      <td>3</td>\n",
              "      <td>3</td>\n",
              "    </tr>\n",
              "    <tr>\n",
              "      <th>India</th>\n",
              "      <td>6</td>\n",
              "      <td>6</td>\n",
              "      <td>6</td>\n",
              "      <td>6</td>\n",
              "      <td>6</td>\n",
              "      <td>6</td>\n",
              "      <td>6</td>\n",
              "      <td>6</td>\n",
              "      <td>6</td>\n",
              "    </tr>\n",
              "    <tr>\n",
              "      <th>Japan</th>\n",
              "      <td>2</td>\n",
              "      <td>2</td>\n",
              "      <td>2</td>\n",
              "      <td>2</td>\n",
              "      <td>2</td>\n",
              "      <td>2</td>\n",
              "      <td>2</td>\n",
              "      <td>2</td>\n",
              "      <td>2</td>\n",
              "    </tr>\n",
              "    <tr>\n",
              "      <th>Kazakhstan</th>\n",
              "      <td>13</td>\n",
              "      <td>13</td>\n",
              "      <td>13</td>\n",
              "      <td>13</td>\n",
              "      <td>13</td>\n",
              "      <td>13</td>\n",
              "      <td>13</td>\n",
              "      <td>13</td>\n",
              "      <td>13</td>\n",
              "    </tr>\n",
              "    <tr>\n",
              "      <th>Mexico</th>\n",
              "      <td>3</td>\n",
              "      <td>3</td>\n",
              "      <td>3</td>\n",
              "      <td>3</td>\n",
              "      <td>3</td>\n",
              "      <td>3</td>\n",
              "      <td>3</td>\n",
              "      <td>3</td>\n",
              "      <td>3</td>\n",
              "    </tr>\n",
              "    <tr>\n",
              "      <th>New Zealand</th>\n",
              "      <td>6</td>\n",
              "      <td>6</td>\n",
              "      <td>6</td>\n",
              "      <td>6</td>\n",
              "      <td>6</td>\n",
              "      <td>6</td>\n",
              "      <td>6</td>\n",
              "      <td>6</td>\n",
              "      <td>6</td>\n",
              "    </tr>\n",
              "    <tr>\n",
              "      <th>Russian Federation</th>\n",
              "      <td>9</td>\n",
              "      <td>9</td>\n",
              "      <td>9</td>\n",
              "      <td>9</td>\n",
              "      <td>9</td>\n",
              "      <td>9</td>\n",
              "      <td>9</td>\n",
              "      <td>9</td>\n",
              "      <td>9</td>\n",
              "    </tr>\n",
              "    <tr>\n",
              "      <th>USA</th>\n",
              "      <td>24</td>\n",
              "      <td>24</td>\n",
              "      <td>24</td>\n",
              "      <td>24</td>\n",
              "      <td>24</td>\n",
              "      <td>24</td>\n",
              "      <td>24</td>\n",
              "      <td>24</td>\n",
              "      <td>24</td>\n",
              "    </tr>\n",
              "    <tr>\n",
              "      <th rowspan=\"9\" valign=\"top\">2020</th>\n",
              "      <th>China</th>\n",
              "      <td>22</td>\n",
              "      <td>22</td>\n",
              "      <td>22</td>\n",
              "      <td>22</td>\n",
              "      <td>22</td>\n",
              "      <td>22</td>\n",
              "      <td>22</td>\n",
              "      <td>22</td>\n",
              "      <td>22</td>\n",
              "    </tr>\n",
              "    <tr>\n",
              "      <th>France</th>\n",
              "      <td>2</td>\n",
              "      <td>2</td>\n",
              "      <td>2</td>\n",
              "      <td>2</td>\n",
              "      <td>2</td>\n",
              "      <td>2</td>\n",
              "      <td>2</td>\n",
              "      <td>2</td>\n",
              "      <td>2</td>\n",
              "    </tr>\n",
              "    <tr>\n",
              "      <th>IRN</th>\n",
              "      <td>2</td>\n",
              "      <td>2</td>\n",
              "      <td>2</td>\n",
              "      <td>2</td>\n",
              "      <td>2</td>\n",
              "      <td>2</td>\n",
              "      <td>2</td>\n",
              "      <td>2</td>\n",
              "      <td>2</td>\n",
              "    </tr>\n",
              "    <tr>\n",
              "      <th>Israel</th>\n",
              "      <td>1</td>\n",
              "      <td>1</td>\n",
              "      <td>1</td>\n",
              "      <td>1</td>\n",
              "      <td>1</td>\n",
              "      <td>1</td>\n",
              "      <td>1</td>\n",
              "      <td>1</td>\n",
              "      <td>1</td>\n",
              "    </tr>\n",
              "    <tr>\n",
              "      <th>Japan</th>\n",
              "      <td>3</td>\n",
              "      <td>3</td>\n",
              "      <td>3</td>\n",
              "      <td>3</td>\n",
              "      <td>3</td>\n",
              "      <td>3</td>\n",
              "      <td>3</td>\n",
              "      <td>3</td>\n",
              "      <td>3</td>\n",
              "    </tr>\n",
              "    <tr>\n",
              "      <th>Kazakhstan</th>\n",
              "      <td>6</td>\n",
              "      <td>6</td>\n",
              "      <td>6</td>\n",
              "      <td>6</td>\n",
              "      <td>6</td>\n",
              "      <td>6</td>\n",
              "      <td>6</td>\n",
              "      <td>6</td>\n",
              "      <td>6</td>\n",
              "    </tr>\n",
              "    <tr>\n",
              "      <th>New Zealand</th>\n",
              "      <td>3</td>\n",
              "      <td>3</td>\n",
              "      <td>3</td>\n",
              "      <td>3</td>\n",
              "      <td>3</td>\n",
              "      <td>3</td>\n",
              "      <td>3</td>\n",
              "      <td>3</td>\n",
              "      <td>3</td>\n",
              "    </tr>\n",
              "    <tr>\n",
              "      <th>Russian Federation</th>\n",
              "      <td>3</td>\n",
              "      <td>3</td>\n",
              "      <td>3</td>\n",
              "      <td>3</td>\n",
              "      <td>3</td>\n",
              "      <td>3</td>\n",
              "      <td>3</td>\n",
              "      <td>3</td>\n",
              "      <td>3</td>\n",
              "    </tr>\n",
              "    <tr>\n",
              "      <th>USA</th>\n",
              "      <td>21</td>\n",
              "      <td>21</td>\n",
              "      <td>21</td>\n",
              "      <td>21</td>\n",
              "      <td>21</td>\n",
              "      <td>21</td>\n",
              "      <td>21</td>\n",
              "      <td>21</td>\n",
              "      <td>21</td>\n",
              "    </tr>\n",
              "  </tbody>\n",
              "</table>\n",
              "</div>\n",
              "      <button class=\"colab-df-convert\" onclick=\"convertToInteractive('df-ed055abe-bc96-49fc-ab44-819ec8028bde')\"\n",
              "              title=\"Convert this dataframe to an interactive table.\"\n",
              "              style=\"display:none;\">\n",
              "        \n",
              "  <svg xmlns=\"http://www.w3.org/2000/svg\" height=\"24px\"viewBox=\"0 0 24 24\"\n",
              "       width=\"24px\">\n",
              "    <path d=\"M0 0h24v24H0V0z\" fill=\"none\"/>\n",
              "    <path d=\"M18.56 5.44l.94 2.06.94-2.06 2.06-.94-2.06-.94-.94-2.06-.94 2.06-2.06.94zm-11 1L8.5 8.5l.94-2.06 2.06-.94-2.06-.94L8.5 2.5l-.94 2.06-2.06.94zm10 10l.94 2.06.94-2.06 2.06-.94-2.06-.94-.94-2.06-.94 2.06-2.06.94z\"/><path d=\"M17.41 7.96l-1.37-1.37c-.4-.4-.92-.59-1.43-.59-.52 0-1.04.2-1.43.59L10.3 9.45l-7.72 7.72c-.78.78-.78 2.05 0 2.83L4 21.41c.39.39.9.59 1.41.59.51 0 1.02-.2 1.41-.59l7.78-7.78 2.81-2.81c.8-.78.8-2.07 0-2.86zM5.41 20L4 18.59l7.72-7.72 1.47 1.35L5.41 20z\"/>\n",
              "  </svg>\n",
              "      </button>\n",
              "      \n",
              "  <style>\n",
              "    .colab-df-container {\n",
              "      display:flex;\n",
              "      flex-wrap:wrap;\n",
              "      gap: 12px;\n",
              "    }\n",
              "\n",
              "    .colab-df-convert {\n",
              "      background-color: #E8F0FE;\n",
              "      border: none;\n",
              "      border-radius: 50%;\n",
              "      cursor: pointer;\n",
              "      display: none;\n",
              "      fill: #1967D2;\n",
              "      height: 32px;\n",
              "      padding: 0 0 0 0;\n",
              "      width: 32px;\n",
              "    }\n",
              "\n",
              "    .colab-df-convert:hover {\n",
              "      background-color: #E2EBFA;\n",
              "      box-shadow: 0px 1px 2px rgba(60, 64, 67, 0.3), 0px 1px 3px 1px rgba(60, 64, 67, 0.15);\n",
              "      fill: #174EA6;\n",
              "    }\n",
              "\n",
              "    [theme=dark] .colab-df-convert {\n",
              "      background-color: #3B4455;\n",
              "      fill: #D2E3FC;\n",
              "    }\n",
              "\n",
              "    [theme=dark] .colab-df-convert:hover {\n",
              "      background-color: #434B5C;\n",
              "      box-shadow: 0px 1px 3px 1px rgba(0, 0, 0, 0.15);\n",
              "      filter: drop-shadow(0px 1px 2px rgba(0, 0, 0, 0.3));\n",
              "      fill: #FFFFFF;\n",
              "    }\n",
              "  </style>\n",
              "\n",
              "      <script>\n",
              "        const buttonEl =\n",
              "          document.querySelector('#df-ed055abe-bc96-49fc-ab44-819ec8028bde button.colab-df-convert');\n",
              "        buttonEl.style.display =\n",
              "          google.colab.kernel.accessAllowed ? 'block' : 'none';\n",
              "\n",
              "        async function convertToInteractive(key) {\n",
              "          const element = document.querySelector('#df-ed055abe-bc96-49fc-ab44-819ec8028bde');\n",
              "          const dataTable =\n",
              "            await google.colab.kernel.invokeFunction('convertToInteractive',\n",
              "                                                     [key], {});\n",
              "          if (!dataTable) return;\n",
              "\n",
              "          const docLinkHtml = 'Like what you see? Visit the ' +\n",
              "            '<a target=\"_blank\" href=https://colab.research.google.com/notebooks/data_table.ipynb>data table notebook</a>'\n",
              "            + ' to learn more about interactive tables.';\n",
              "          element.innerHTML = '';\n",
              "          dataTable['output_type'] = 'display_data';\n",
              "          await google.colab.output.renderOutput(dataTable, element);\n",
              "          const docLink = document.createElement('div');\n",
              "          docLink.innerHTML = docLinkHtml;\n",
              "          element.appendChild(docLink);\n",
              "        }\n",
              "      </script>\n",
              "    </div>\n",
              "  </div>\n",
              "  "
            ]
          },
          "metadata": {},
          "execution_count": 134
        }
      ]
    },
    {
      "cell_type": "markdown",
      "metadata": {
        "id": "jQcqBfJ8serG"
      },
      "source": [
        "# Create a Year-on-Year Chart Showing the Organisation Doing the Most Number of Launches\n",
        "\n",
        "Which organisation was dominant in the 1970s and 1980s? Which organisation was dominant in 2018, 2019 and 2020? "
      ]
    },
    {
      "cell_type": "code",
      "metadata": {
        "id": "jc9ImQEWsztG",
        "colab": {
          "base_uri": "https://localhost:8080/",
          "height": 542
        },
        "outputId": "0b763ead-8ef8-415f-e912-383668e364ac"
      },
      "source": [
        "fig = px.histogram(data5, x=\"year\", color=\"Organisation\")\n",
        "fig.show()"
      ],
      "execution_count": 135,
      "outputs": [
        {
          "output_type": "display_data",
          "data": {
            "text/html": [
              "<html>\n",
              "<head><meta charset=\"utf-8\" /></head>\n",
              "<body>\n",
              "    <div>            <script src=\"https://cdnjs.cloudflare.com/ajax/libs/mathjax/2.7.5/MathJax.js?config=TeX-AMS-MML_SVG\"></script><script type=\"text/javascript\">if (window.MathJax && window.MathJax.Hub && window.MathJax.Hub.Config) {window.MathJax.Hub.Config({SVG: {font: \"STIX-Web\"}});}</script>                <script type=\"text/javascript\">window.PlotlyConfig = {MathJaxConfig: 'local'};</script>\n",
              "        <script charset=\"utf-8\" src=\"https://cdn.plot.ly/plotly-2.20.0.min.js\"></script>                <div id=\"060323f1-4f9f-4821-9493-ad3050018dd5\" class=\"plotly-graph-div\" style=\"height:525px; width:100%;\"></div>            <script type=\"text/javascript\">                                    window.PLOTLYENV=window.PLOTLYENV || {};                                    if (document.getElementById(\"060323f1-4f9f-4821-9493-ad3050018dd5\")) {                    Plotly.newPlot(                        \"060323f1-4f9f-4821-9493-ad3050018dd5\",                        [{\"alignmentgroup\":\"True\",\"bingroup\":\"x\",\"hovertemplate\":\"Organisation=SpaceX<br>year=%{x}<br>count=%{y}<extra></extra>\",\"legendgroup\":\"SpaceX\",\"marker\":{\"color\":\"#636efa\",\"pattern\":{\"shape\":\"\"}},\"name\":\"SpaceX\",\"offsetgroup\":\"SpaceX\",\"orientation\":\"v\",\"showlegend\":true,\"x\":[\"2020\",\"2020\",\"2020\",\"2020\",\"2020\",\"2020\",\"2020\",\"2020\",\"2020\",\"2020\",\"2020\",\"2020\",\"2020\",\"2020\",\"2019\",\"2019\",\"2019\",\"2019\",\"2019\",\"2019\",\"2019\",\"2019\",\"2019\",\"2019\",\"2019\",\"2019\",\"2019\",\"2018\",\"2018\",\"2018\",\"2018\",\"2018\",\"2018\",\"2018\",\"2018\",\"2018\",\"2018\",\"2018\",\"2018\",\"2018\",\"2018\",\"2018\",\"2018\",\"2018\",\"2018\",\"2018\",\"2018\",\"2018\",\"2017\",\"2017\",\"2017\",\"2017\",\"2017\",\"2017\",\"2017\",\"2017\",\"2017\",\"2017\",\"2017\",\"2017\",\"2017\",\"2017\",\"2017\",\"2017\",\"2017\",\"2017\",\"2016\",\"2016\",\"2016\",\"2016\",\"2016\",\"2016\",\"2016\",\"2016\",\"2016\",\"2015\",\"2015\",\"2015\",\"2015\",\"2015\",\"2015\",\"2015\",\"2014\",\"2014\",\"2014\",\"2014\",\"2014\",\"2014\",\"2013\",\"2013\",\"2013\",\"2012\",\"2012\",\"2010\",\"2010\",\"2009\",\"2008\",\"2008\",\"2007\",\"2006\"],\"xaxis\":\"x\",\"yaxis\":\"y\",\"type\":\"histogram\"},{\"alignmentgroup\":\"True\",\"bingroup\":\"x\",\"hovertemplate\":\"Organisation=CASC<br>year=%{x}<br>count=%{y}<extra></extra>\",\"legendgroup\":\"CASC\",\"marker\":{\"color\":\"#EF553B\",\"pattern\":{\"shape\":\"\"}},\"name\":\"CASC\",\"offsetgroup\":\"CASC\",\"orientation\":\"v\",\"showlegend\":true,\"x\":[\"2020\",\"2020\",\"2020\",\"2020\",\"2020\",\"2020\",\"2020\",\"2020\",\"2020\",\"2020\",\"2020\",\"2020\",\"2020\",\"2020\",\"2020\",\"2020\",\"2020\",\"2020\",\"2020\",\"2019\",\"2019\",\"2019\",\"2019\",\"2019\",\"2019\",\"2019\",\"2019\",\"2019\",\"2019\",\"2019\",\"2019\",\"2019\",\"2019\",\"2019\",\"2019\",\"2019\",\"2019\",\"2019\",\"2019\",\"2019\",\"2019\",\"2019\",\"2019\",\"2019\",\"2019\",\"2019\",\"2018\",\"2018\",\"2018\",\"2018\",\"2018\",\"2018\",\"2018\",\"2018\",\"2018\",\"2018\",\"2018\",\"2018\",\"2018\",\"2018\",\"2018\",\"2018\",\"2018\",\"2018\",\"2018\",\"2018\",\"2018\",\"2018\",\"2018\",\"2018\",\"2018\",\"2018\",\"2018\",\"2018\",\"2018\",\"2018\",\"2018\",\"2018\",\"2018\",\"2018\",\"2018\",\"2018\",\"2018\",\"2017\",\"2017\",\"2017\",\"2017\",\"2017\",\"2017\",\"2017\",\"2017\",\"2017\",\"2017\",\"2017\",\"2017\",\"2017\",\"2017\",\"2017\",\"2017\",\"2016\",\"2016\",\"2016\",\"2016\",\"2016\",\"2016\",\"2016\",\"2016\",\"2016\",\"2016\",\"2016\",\"2016\",\"2016\",\"2016\",\"2016\",\"2016\",\"2016\",\"2016\",\"2016\",\"2016\",\"2016\",\"2016\",\"2015\",\"2015\",\"2013\",\"2012\",\"2011\",\"2011\",\"2008\",\"2008\",\"2008\",\"2008\",\"2008\",\"2008\",\"2008\",\"2008\",\"2008\",\"2007\",\"2007\",\"2007\",\"2007\",\"2007\",\"2007\",\"2007\",\"2007\",\"2007\",\"2007\",\"2006\",\"2006\",\"2006\",\"2006\",\"2006\",\"2006\",\"2005\",\"2005\",\"2005\",\"2005\",\"2005\",\"2004\",\"2004\",\"2004\",\"2004\",\"2004\",\"2004\",\"2004\",\"2004\",\"2003\",\"2003\",\"2003\",\"2003\",\"2003\",\"2003\",\"2002\",\"2002\",\"2002\",\"2002\",\"2001\",\"2000\",\"2000\",\"2000\",\"2000\",\"1999\",\"1999\",\"1999\",\"1999\",\"1998\",\"1998\",\"1998\",\"1998\",\"1998\",\"1998\",\"1997\",\"1997\",\"1997\",\"1997\",\"1997\",\"1997\",\"1996\",\"1996\",\"1996\",\"1996\",\"1995\",\"1995\",\"1995\",\"1994\",\"1994\",\"1994\",\"1994\",\"1994\",\"1993\",\"1992\",\"1992\",\"1992\",\"1992\",\"1991\",\"1990\",\"1990\",\"1990\",\"1990\",\"1990\",\"1988\",\"1988\",\"1988\",\"1988\",\"1987\",\"1987\",\"1986\",\"1986\",\"1985\",\"1984\",\"1984\",\"1984\",\"1983\",\"1982\",\"1981\",\"1979\",\"1978\",\"1978\",\"1977\",\"1976\",\"1976\",\"1976\",\"1975\",\"1975\",\"1975\",\"1974\",\"1974\",\"1973\",\"1972\",\"1971\",\"1970\",\"1969\"],\"xaxis\":\"x\",\"yaxis\":\"y\",\"type\":\"histogram\"},{\"alignmentgroup\":\"True\",\"bingroup\":\"x\",\"hovertemplate\":\"Organisation=Roscosmos<br>year=%{x}<br>count=%{y}<extra></extra>\",\"legendgroup\":\"Roscosmos\",\"marker\":{\"color\":\"#00cc96\",\"pattern\":{\"shape\":\"\"}},\"name\":\"Roscosmos\",\"offsetgroup\":\"Roscosmos\",\"orientation\":\"v\",\"showlegend\":true,\"x\":[\"2020\",\"2020\",\"2020\",\"2020\",\"2019\",\"2019\",\"2019\",\"2019\",\"2019\",\"2019\",\"2019\",\"2019\",\"2019\",\"2019\",\"2019\",\"2019\",\"2019\",\"2018\",\"2018\",\"2018\",\"2018\",\"2018\",\"2018\",\"2018\",\"2018\",\"2018\",\"2018\",\"2018\",\"2017\",\"2017\",\"2017\",\"2017\",\"2017\",\"2017\",\"2017\",\"2017\",\"2017\",\"2016\",\"2016\",\"2016\",\"2016\",\"2016\",\"2016\",\"2016\",\"2016\",\"2016\",\"2016\",\"2015\",\"2011\",\"2011\",\"2011\",\"2010\",\"2010\",\"2010\",\"1970\"],\"xaxis\":\"x\",\"yaxis\":\"y\",\"type\":\"histogram\"},{\"alignmentgroup\":\"True\",\"bingroup\":\"x\",\"hovertemplate\":\"Organisation=ULA<br>year=%{x}<br>count=%{y}<extra></extra>\",\"legendgroup\":\"ULA\",\"marker\":{\"color\":\"#ab63fa\",\"pattern\":{\"shape\":\"\"}},\"name\":\"ULA\",\"offsetgroup\":\"ULA\",\"orientation\":\"v\",\"showlegend\":true,\"x\":[\"2020\",\"2020\",\"2020\",\"2020\",\"2019\",\"2019\",\"2019\",\"2019\",\"2019\",\"2018\",\"2018\",\"2018\",\"2018\",\"2018\",\"2018\",\"2018\",\"2018\",\"2017\",\"2017\",\"2017\",\"2017\",\"2017\",\"2017\",\"2017\",\"2017\",\"2016\",\"2016\",\"2016\",\"2016\",\"2016\",\"2016\",\"2016\",\"2016\",\"2016\",\"2016\",\"2016\",\"2016\",\"2015\",\"2015\",\"2015\",\"2015\",\"2015\",\"2015\",\"2015\",\"2015\",\"2015\",\"2015\",\"2015\",\"2015\",\"2014\",\"2014\",\"2014\",\"2014\",\"2014\",\"2014\",\"2014\",\"2014\",\"2014\",\"2014\",\"2014\",\"2014\",\"2014\",\"2014\",\"2013\",\"2013\",\"2013\",\"2013\",\"2013\",\"2013\",\"2013\",\"2013\",\"2013\",\"2013\",\"2013\",\"2012\",\"2012\",\"2012\",\"2012\",\"2012\",\"2012\",\"2012\",\"2012\",\"2012\",\"2012\",\"2011\",\"2011\",\"2011\",\"2011\",\"2011\",\"2011\",\"2011\",\"2011\",\"2011\",\"2011\",\"2011\",\"2010\",\"2010\",\"2010\",\"2010\",\"2010\",\"2010\",\"2010\",\"2010\",\"2009\",\"2009\",\"2009\",\"2009\",\"2009\",\"2009\",\"2009\",\"2009\",\"2009\",\"2009\",\"2009\",\"2009\",\"2009\",\"2009\",\"2009\",\"2009\",\"2008\",\"2008\",\"2008\",\"2008\",\"2008\",\"2008\",\"2008\",\"2007\",\"2007\",\"2007\",\"2007\",\"2007\",\"2007\",\"2007\",\"2007\",\"2007\",\"2007\",\"2007\",\"2007\",\"2007\",\"2006\"],\"xaxis\":\"x\",\"yaxis\":\"y\",\"type\":\"histogram\"},{\"alignmentgroup\":\"True\",\"bingroup\":\"x\",\"hovertemplate\":\"Organisation=JAXA<br>year=%{x}<br>count=%{y}<extra></extra>\",\"legendgroup\":\"JAXA\",\"marker\":{\"color\":\"#FFA15A\",\"pattern\":{\"shape\":\"\"}},\"name\":\"JAXA\",\"offsetgroup\":\"JAXA\",\"orientation\":\"v\",\"showlegend\":true,\"x\":[\"2020\",\"2019\",\"2018\",\"2018\",\"2017\",\"2016\",\"2013\"],\"xaxis\":\"x\",\"yaxis\":\"y\",\"type\":\"histogram\"},{\"alignmentgroup\":\"True\",\"bingroup\":\"x\",\"hovertemplate\":\"Organisation=Northrop<br>year=%{x}<br>count=%{y}<extra></extra>\",\"legendgroup\":\"Northrop\",\"marker\":{\"color\":\"#19d3f3\",\"pattern\":{\"shape\":\"\"}},\"name\":\"Northrop\",\"offsetgroup\":\"Northrop\",\"orientation\":\"v\",\"showlegend\":true,\"x\":[\"2020\",\"2020\",\"2019\",\"2019\",\"2019\",\"2018\",\"2018\",\"2017\",\"2017\",\"2017\",\"2016\",\"2016\",\"2014\",\"2014\",\"2014\",\"2013\",\"2013\",\"2013\",\"2013\",\"2013\",\"2012\",\"2011\",\"2011\",\"2011\",\"2011\",\"2010\",\"2010\",\"2009\",\"2009\",\"2008\",\"2008\",\"2007\",\"2007\",\"2006\",\"2006\",\"2006\",\"2005\",\"2005\",\"2005\",\"2004\",\"2003\",\"2003\",\"2003\",\"2003\",\"2002\",\"2001\",\"2000\",\"2000\",\"2000\",\"2000\",\"2000\",\"1999\",\"1999\",\"1999\",\"1999\",\"1998\",\"1998\",\"1998\",\"1998\",\"1998\",\"1998\",\"1998\",\"1998\",\"1997\",\"1997\",\"1997\",\"1997\",\"1997\",\"1996\",\"1996\",\"1996\",\"1996\",\"1996\",\"1995\",\"1995\",\"1994\",\"1994\",\"1994\",\"1994\",\"1993\",\"1993\",\"1991\",\"1990\"],\"xaxis\":\"x\",\"yaxis\":\"y\",\"type\":\"histogram\"},{\"alignmentgroup\":\"True\",\"bingroup\":\"x\",\"hovertemplate\":\"Organisation=ExPace<br>year=%{x}<br>count=%{y}<extra></extra>\",\"legendgroup\":\"ExPace\",\"marker\":{\"color\":\"#FF6692\",\"pattern\":{\"shape\":\"\"}},\"name\":\"ExPace\",\"offsetgroup\":\"ExPace\",\"orientation\":\"v\",\"showlegend\":true,\"x\":[\"2020\",\"2020\",\"2020\",\"2019\",\"2019\",\"2019\",\"2019\",\"2019\",\"2018\",\"2017\"],\"xaxis\":\"x\",\"yaxis\":\"y\",\"type\":\"histogram\"},{\"alignmentgroup\":\"True\",\"bingroup\":\"x\",\"hovertemplate\":\"Organisation=IAI<br>year=%{x}<br>count=%{y}<extra></extra>\",\"legendgroup\":\"IAI\",\"marker\":{\"color\":\"#B6E880\",\"pattern\":{\"shape\":\"\"}},\"name\":\"IAI\",\"offsetgroup\":\"IAI\",\"orientation\":\"v\",\"showlegend\":true,\"x\":[\"2020\",\"2016\",\"2014\",\"2010\",\"2007\",\"2004\",\"2002\",\"1998\",\"1995\",\"1990\",\"1988\"],\"xaxis\":\"x\",\"yaxis\":\"y\",\"type\":\"histogram\"},{\"alignmentgroup\":\"True\",\"bingroup\":\"x\",\"hovertemplate\":\"Organisation=Rocket Lab<br>year=%{x}<br>count=%{y}<extra></extra>\",\"legendgroup\":\"Rocket Lab\",\"marker\":{\"color\":\"#FF97FF\",\"pattern\":{\"shape\":\"\"}},\"name\":\"Rocket Lab\",\"offsetgroup\":\"Rocket Lab\",\"orientation\":\"v\",\"showlegend\":true,\"x\":[\"2020\",\"2020\",\"2020\",\"2019\",\"2019\",\"2019\",\"2019\",\"2019\",\"2019\",\"2018\",\"2018\",\"2018\",\"2017\"],\"xaxis\":\"x\",\"yaxis\":\"y\",\"type\":\"histogram\"},{\"alignmentgroup\":\"True\",\"bingroup\":\"x\",\"hovertemplate\":\"Organisation=Virgin Orbit<br>year=%{x}<br>count=%{y}<extra></extra>\",\"legendgroup\":\"Virgin Orbit\",\"marker\":{\"color\":\"#FECB52\",\"pattern\":{\"shape\":\"\"}},\"name\":\"Virgin Orbit\",\"offsetgroup\":\"Virgin Orbit\",\"orientation\":\"v\",\"showlegend\":true,\"x\":[\"2020\"],\"xaxis\":\"x\",\"yaxis\":\"y\",\"type\":\"histogram\"},{\"alignmentgroup\":\"True\",\"bingroup\":\"x\",\"hovertemplate\":\"Organisation=VKS RF<br>year=%{x}<br>count=%{y}<extra></extra>\",\"legendgroup\":\"VKS RF\",\"marker\":{\"color\":\"#636efa\",\"pattern\":{\"shape\":\"\"}},\"name\":\"VKS RF\",\"offsetgroup\":\"VKS RF\",\"orientation\":\"v\",\"showlegend\":true,\"x\":[\"2020\",\"2020\",\"2020\",\"2019\",\"2019\",\"2019\",\"2019\",\"2019\",\"2019\",\"2019\",\"2019\",\"2018\",\"2018\",\"2018\",\"2018\",\"2018\",\"2017\",\"2017\",\"2017\",\"2017\",\"2017\",\"2017\",\"2016\",\"2016\",\"2016\",\"2016\",\"2015\",\"2015\",\"2015\",\"2014\",\"2014\",\"2014\",\"2014\",\"2013\",\"2013\",\"2013\",\"2013\",\"2013\",\"2013\",\"2013\",\"2012\",\"2011\",\"2010\",\"2010\",\"2010\",\"2009\",\"2009\",\"2009\",\"2008\",\"2008\",\"2008\",\"2008\",\"2008\",\"2007\",\"2007\",\"2007\",\"2007\",\"2007\",\"2006\",\"2006\",\"2006\",\"2005\",\"2005\",\"2005\",\"2005\",\"2005\",\"2004\",\"2004\",\"2004\",\"2004\",\"2004\",\"2004\",\"2004\",\"2003\",\"2003\",\"2003\",\"2003\",\"2003\",\"2003\",\"2002\",\"2002\",\"2002\",\"2002\",\"2002\",\"2002\",\"2001\",\"2001\",\"2001\",\"2001\",\"2001\",\"2001\",\"2000\",\"2000\",\"2000\",\"2000\",\"2000\",\"2000\",\"1999\",\"1999\",\"1999\",\"1999\",\"1999\",\"1999\",\"1998\",\"1998\",\"1998\",\"1998\",\"1998\",\"1998\",\"1998\",\"1998\",\"1998\",\"1997\",\"1997\",\"1997\",\"1997\",\"1997\",\"1997\",\"1997\",\"1996\",\"1996\",\"1996\",\"1996\",\"1996\",\"1996\",\"1996\",\"1996\",\"1996\",\"1995\",\"1995\",\"1995\",\"1995\",\"1995\",\"1995\",\"1995\",\"1995\",\"1995\",\"1995\",\"1995\",\"1995\",\"1994\",\"1994\",\"1994\",\"1994\",\"1994\",\"1994\",\"1994\",\"1994\",\"1994\",\"1994\",\"1994\",\"1994\",\"1994\",\"1994\",\"1994\",\"1994\",\"1994\",\"1994\",\"1994\",\"1994\",\"1994\",\"1993\",\"1993\",\"1993\",\"1993\",\"1993\",\"1993\",\"1993\",\"1993\",\"1993\",\"1993\",\"1993\",\"1993\",\"1993\",\"1993\",\"1993\",\"1993\",\"1993\",\"1993\",\"1993\",\"1993\",\"1993\",\"1993\",\"1993\",\"1993\",\"1993\",\"1993\",\"1992\",\"1992\",\"1992\",\"1992\",\"1992\",\"1992\",\"1992\",\"1992\",\"1992\",\"1992\",\"1992\",\"1992\",\"1992\",\"1992\"],\"xaxis\":\"x\",\"yaxis\":\"y\",\"type\":\"histogram\"},{\"alignmentgroup\":\"True\",\"bingroup\":\"x\",\"hovertemplate\":\"Organisation=MHI<br>year=%{x}<br>count=%{y}<extra></extra>\",\"legendgroup\":\"MHI\",\"marker\":{\"color\":\"#EF553B\",\"pattern\":{\"shape\":\"\"}},\"name\":\"MHI\",\"offsetgroup\":\"MHI\",\"orientation\":\"v\",\"showlegend\":true,\"x\":[\"2020\",\"2020\",\"2019\",\"2018\",\"2018\",\"2018\",\"2018\",\"2017\",\"2017\",\"2017\",\"2017\",\"2017\",\"2017\",\"2016\",\"2016\",\"2016\",\"2015\",\"2015\",\"2015\",\"2015\",\"2014\",\"2014\",\"2014\",\"2014\",\"2013\",\"2013\",\"2012\",\"2012\",\"2011\",\"2011\",\"2011\",\"2011\",\"2010\",\"2009\",\"2009\",\"2009\",\"2008\",\"2007\",\"2007\",\"2006\",\"2006\",\"2006\",\"2006\",\"2005\",\"2003\",\"2003\",\"2002\",\"2002\",\"2002\",\"2001\",\"1999\",\"1998\",\"1997\",\"1996\",\"1995\",\"1994\",\"1994\",\"1992\",\"1991\",\"1991\",\"1990\",\"1990\",\"1990\",\"1990\",\"1989\",\"1988\",\"1988\",\"1987\",\"1987\",\"1986\",\"1986\",\"1984\",\"1984\",\"1983\",\"1983\",\"1982\",\"1981\",\"1981\",\"1980\",\"1979\",\"1978\",\"1977\",\"1976\",\"1975\"],\"xaxis\":\"x\",\"yaxis\":\"y\",\"type\":\"histogram\"},{\"alignmentgroup\":\"True\",\"bingroup\":\"x\",\"hovertemplate\":\"Organisation=IRGC<br>year=%{x}<br>count=%{y}<extra></extra>\",\"legendgroup\":\"IRGC\",\"marker\":{\"color\":\"#00cc96\",\"pattern\":{\"shape\":\"\"}},\"name\":\"IRGC\",\"offsetgroup\":\"IRGC\",\"orientation\":\"v\",\"showlegend\":true,\"x\":[\"2020\"],\"xaxis\":\"x\",\"yaxis\":\"y\",\"type\":\"histogram\"},{\"alignmentgroup\":\"True\",\"bingroup\":\"x\",\"hovertemplate\":\"Organisation=Arianespace<br>year=%{x}<br>count=%{y}<extra></extra>\",\"legendgroup\":\"Arianespace\",\"marker\":{\"color\":\"#ab63fa\",\"pattern\":{\"shape\":\"\"}},\"name\":\"Arianespace\",\"offsetgroup\":\"Arianespace\",\"orientation\":\"v\",\"showlegend\":true,\"x\":[\"2020\",\"2020\",\"2020\",\"2020\",\"2019\",\"2019\",\"2019\",\"2019\",\"2019\",\"2019\",\"2019\",\"2019\",\"2019\",\"2018\",\"2018\",\"2018\",\"2018\",\"2018\",\"2018\",\"2018\",\"2018\",\"2018\",\"2018\",\"2018\",\"2017\",\"2017\",\"2017\",\"2017\",\"2017\",\"2017\",\"2017\",\"2017\",\"2017\",\"2017\",\"2017\",\"2016\",\"2016\",\"2016\",\"2016\",\"2016\",\"2016\",\"2016\",\"2016\",\"2016\",\"2016\",\"2016\",\"2015\",\"2015\",\"2015\",\"2015\",\"2015\",\"2015\",\"2015\",\"2015\",\"2015\",\"2015\",\"2015\",\"2015\",\"2014\",\"2014\",\"2014\",\"2014\",\"2014\",\"2014\",\"2014\",\"2014\",\"2014\",\"2014\",\"2014\",\"2013\",\"2013\",\"2013\",\"2013\",\"2013\",\"2013\",\"2013\",\"2012\",\"2012\",\"2012\",\"2012\",\"2012\",\"2012\",\"2012\",\"2012\",\"2012\",\"2011\",\"2011\",\"2011\",\"2011\",\"2011\",\"2011\",\"2011\",\"2010\",\"2010\",\"2010\",\"2010\",\"2010\",\"2010\",\"2009\",\"2009\",\"2009\",\"2009\",\"2009\",\"2009\",\"2009\",\"2008\",\"2008\",\"2008\",\"2008\",\"2008\",\"2008\",\"2007\",\"2007\",\"2007\",\"2007\",\"2007\",\"2007\",\"2006\",\"2006\",\"2006\",\"2006\",\"2006\",\"2005\",\"2005\",\"2005\",\"2005\",\"2005\",\"2004\",\"2004\",\"2004\",\"2003\",\"2003\",\"2003\",\"2003\",\"2002\",\"2002\",\"2002\",\"2002\",\"2002\",\"2002\",\"2002\",\"2002\",\"2002\",\"2002\",\"2002\",\"2002\",\"2001\",\"2001\",\"2001\",\"2001\",\"2001\",\"2001\",\"2001\",\"2001\",\"2000\",\"2000\",\"2000\",\"2000\",\"2000\",\"2000\",\"2000\",\"2000\",\"2000\",\"2000\",\"2000\",\"2000\",\"1999\",\"1999\",\"1999\",\"1999\",\"1999\",\"1999\",\"1999\",\"1999\",\"1999\",\"1999\",\"1998\",\"1998\",\"1998\",\"1998\",\"1998\",\"1998\",\"1998\",\"1998\",\"1998\",\"1998\",\"1997\",\"1997\",\"1997\",\"1997\",\"1997\",\"1997\",\"1997\",\"1997\",\"1997\",\"1997\",\"1997\",\"1996\",\"1996\",\"1996\",\"1996\",\"1996\",\"1996\",\"1996\",\"1996\",\"1996\",\"1996\",\"1995\",\"1995\",\"1995\",\"1995\",\"1995\",\"1995\",\"1995\",\"1995\",\"1995\",\"1995\",\"1995\",\"1994\",\"1994\",\"1994\",\"1994\",\"1994\",\"1994\",\"1994\",\"1994\",\"1993\",\"1993\",\"1993\",\"1993\",\"1993\",\"1993\",\"1993\",\"1992\",\"1992\",\"1992\",\"1992\",\"1992\",\"1992\",\"1992\",\"1991\",\"1991\",\"1991\",\"1991\",\"1991\",\"1991\",\"1991\",\"1991\",\"1990\",\"1990\",\"1990\",\"1990\",\"1990\",\"1990\",\"1989\",\"1989\",\"1989\",\"1989\",\"1989\",\"1989\",\"1989\",\"1988\",\"1988\",\"1988\",\"1988\",\"1988\",\"1988\",\"1987\",\"1987\",\"1986\",\"1986\",\"1986\",\"1985\",\"1985\",\"1985\",\"1985\",\"1984\",\"1984\",\"1984\"],\"xaxis\":\"x\",\"yaxis\":\"y\",\"type\":\"histogram\"},{\"alignmentgroup\":\"True\",\"bingroup\":\"x\",\"hovertemplate\":\"Organisation=ISA<br>year=%{x}<br>count=%{y}<extra></extra>\",\"legendgroup\":\"ISA\",\"marker\":{\"color\":\"#FFA15A\",\"pattern\":{\"shape\":\"\"}},\"name\":\"ISA\",\"offsetgroup\":\"ISA\",\"orientation\":\"v\",\"showlegend\":true,\"x\":[\"2020\",\"2019\",\"2019\",\"2019\",\"2017\",\"2015\",\"2015\",\"2012\",\"2012\",\"2012\",\"2011\",\"2009\",\"2008\"],\"xaxis\":\"x\",\"yaxis\":\"y\",\"type\":\"histogram\"},{\"alignmentgroup\":\"True\",\"bingroup\":\"x\",\"hovertemplate\":\"Organisation=Blue Origin<br>year=%{x}<br>count=%{y}<extra></extra>\",\"legendgroup\":\"Blue Origin\",\"marker\":{\"color\":\"#19d3f3\",\"pattern\":{\"shape\":\"\"}},\"name\":\"Blue Origin\",\"offsetgroup\":\"Blue Origin\",\"orientation\":\"v\",\"showlegend\":true,\"x\":[\"2019\",\"2019\",\"2019\",\"2018\",\"2018\",\"2017\",\"2016\",\"2016\",\"2016\",\"2016\",\"2015\",\"2015\"],\"xaxis\":\"x\",\"yaxis\":\"y\",\"type\":\"histogram\"},{\"alignmentgroup\":\"True\",\"bingroup\":\"x\",\"hovertemplate\":\"Organisation=ISRO<br>year=%{x}<br>count=%{y}<extra></extra>\",\"legendgroup\":\"ISRO\",\"marker\":{\"color\":\"#FF6692\",\"pattern\":{\"shape\":\"\"}},\"name\":\"ISRO\",\"offsetgroup\":\"ISRO\",\"orientation\":\"v\",\"showlegend\":true,\"x\":[\"2019\",\"2019\",\"2019\",\"2019\",\"2019\",\"2019\",\"2018\",\"2018\",\"2018\",\"2018\",\"2018\",\"2018\",\"2018\",\"2017\",\"2017\",\"2017\",\"2017\",\"2017\",\"2016\",\"2016\",\"2016\",\"2016\",\"2016\",\"2016\",\"2016\",\"2015\",\"2015\",\"2015\",\"2015\",\"2015\",\"2014\",\"2014\",\"2014\",\"2014\",\"2014\",\"2013\",\"2013\",\"2013\",\"2012\",\"2012\",\"2012\",\"2011\",\"2011\",\"2011\",\"2010\",\"2010\",\"2010\",\"2009\",\"2009\",\"2008\",\"2008\",\"2008\",\"2007\",\"2007\",\"2007\",\"2006\",\"2005\",\"2004\",\"2003\",\"2003\",\"2002\",\"2001\",\"2001\",\"1999\",\"1997\",\"1996\",\"1994\",\"1994\",\"1993\",\"1989\",\"1988\",\"1987\",\"1983\",\"1981\",\"1980\",\"1979\"],\"xaxis\":\"x\",\"yaxis\":\"y\",\"type\":\"histogram\"},{\"alignmentgroup\":\"True\",\"bingroup\":\"x\",\"hovertemplate\":\"Organisation=Exos<br>year=%{x}<br>count=%{y}<extra></extra>\",\"legendgroup\":\"Exos\",\"marker\":{\"color\":\"#B6E880\",\"pattern\":{\"shape\":\"\"}},\"name\":\"Exos\",\"offsetgroup\":\"Exos\",\"orientation\":\"v\",\"showlegend\":true,\"x\":[\"2019\",\"2019\",\"2019\",\"2018\"],\"xaxis\":\"x\",\"yaxis\":\"y\",\"type\":\"histogram\"},{\"alignmentgroup\":\"True\",\"bingroup\":\"x\",\"hovertemplate\":\"Organisation=ILS<br>year=%{x}<br>count=%{y}<extra></extra>\",\"legendgroup\":\"ILS\",\"marker\":{\"color\":\"#FF97FF\",\"pattern\":{\"shape\":\"\"}},\"name\":\"ILS\",\"offsetgroup\":\"ILS\",\"orientation\":\"v\",\"showlegend\":true,\"x\":[\"2019\",\"2017\",\"2017\",\"2016\",\"2016\",\"2006\",\"2006\",\"2005\",\"2005\",\"2004\",\"2004\",\"2004\",\"2004\",\"2004\",\"2003\",\"2003\",\"2003\",\"2002\",\"2002\",\"2002\",\"2001\",\"2000\",\"2000\",\"2000\",\"1999\",\"1999\",\"1999\",\"1998\",\"1998\",\"1998\",\"1997\",\"1997\",\"1997\",\"1997\",\"1997\",\"1997\",\"1997\",\"1996\",\"1996\",\"1996\",\"1996\",\"1996\",\"1995\",\"1995\",\"1995\",\"1995\"],\"xaxis\":\"x\",\"yaxis\":\"y\",\"type\":\"histogram\"},{\"alignmentgroup\":\"True\",\"bingroup\":\"x\",\"hovertemplate\":\"Organisation=i-Space<br>year=%{x}<br>count=%{y}<extra></extra>\",\"legendgroup\":\"i-Space\",\"marker\":{\"color\":\"#FECB52\",\"pattern\":{\"shape\":\"\"}},\"name\":\"i-Space\",\"offsetgroup\":\"i-Space\",\"orientation\":\"v\",\"showlegend\":true,\"x\":[\"2019\"],\"xaxis\":\"x\",\"yaxis\":\"y\",\"type\":\"histogram\"},{\"alignmentgroup\":\"True\",\"bingroup\":\"x\",\"hovertemplate\":\"Organisation=OneSpace<br>year=%{x}<br>count=%{y}<extra></extra>\",\"legendgroup\":\"OneSpace\",\"marker\":{\"color\":\"#636efa\",\"pattern\":{\"shape\":\"\"}},\"name\":\"OneSpace\",\"offsetgroup\":\"OneSpace\",\"orientation\":\"v\",\"showlegend\":true,\"x\":[\"2019\"],\"xaxis\":\"x\",\"yaxis\":\"y\",\"type\":\"histogram\"},{\"alignmentgroup\":\"True\",\"bingroup\":\"x\",\"hovertemplate\":\"Organisation=Landspace<br>year=%{x}<br>count=%{y}<extra></extra>\",\"legendgroup\":\"Landspace\",\"marker\":{\"color\":\"#EF553B\",\"pattern\":{\"shape\":\"\"}},\"name\":\"Landspace\",\"offsetgroup\":\"Landspace\",\"orientation\":\"v\",\"showlegend\":true,\"x\":[\"2018\"],\"xaxis\":\"x\",\"yaxis\":\"y\",\"type\":\"histogram\"},{\"alignmentgroup\":\"True\",\"bingroup\":\"x\",\"hovertemplate\":\"Organisation=Eurockot<br>year=%{x}<br>count=%{y}<extra></extra>\",\"legendgroup\":\"Eurockot\",\"marker\":{\"color\":\"#00cc96\",\"pattern\":{\"shape\":\"\"}},\"name\":\"Eurockot\",\"offsetgroup\":\"Eurockot\",\"orientation\":\"v\",\"showlegend\":true,\"x\":[\"2018\",\"2017\",\"2016\",\"2010\",\"2009\",\"2009\",\"2006\",\"2005\",\"2003\",\"2003\",\"2002\",\"2002\",\"2000\"],\"xaxis\":\"x\",\"yaxis\":\"y\",\"type\":\"histogram\"},{\"alignmentgroup\":\"True\",\"bingroup\":\"x\",\"hovertemplate\":\"Organisation=Land Launch<br>year=%{x}<br>count=%{y}<extra></extra>\",\"legendgroup\":\"Land Launch\",\"marker\":{\"color\":\"#ab63fa\",\"pattern\":{\"shape\":\"\"}},\"name\":\"Land Launch\",\"offsetgroup\":\"Land Launch\",\"orientation\":\"v\",\"showlegend\":true,\"x\":[\"2017\",\"2013\",\"2011\",\"2009\",\"2009\",\"2009\",\"2008\"],\"xaxis\":\"x\",\"yaxis\":\"y\",\"type\":\"histogram\"},{\"alignmentgroup\":\"True\",\"bingroup\":\"x\",\"hovertemplate\":\"Organisation=CASIC<br>year=%{x}<br>count=%{y}<extra></extra>\",\"legendgroup\":\"CASIC\",\"marker\":{\"color\":\"#FFA15A\",\"pattern\":{\"shape\":\"\"}},\"name\":\"CASIC\",\"offsetgroup\":\"CASIC\",\"orientation\":\"v\",\"showlegend\":true,\"x\":[\"2017\",\"2014\",\"2013\",\"2003\",\"2002\"],\"xaxis\":\"x\",\"yaxis\":\"y\",\"type\":\"histogram\"},{\"alignmentgroup\":\"True\",\"bingroup\":\"x\",\"hovertemplate\":\"Organisation=KCST<br>year=%{x}<br>count=%{y}<extra></extra>\",\"legendgroup\":\"KCST\",\"marker\":{\"color\":\"#19d3f3\",\"pattern\":{\"shape\":\"\"}},\"name\":\"KCST\",\"offsetgroup\":\"KCST\",\"orientation\":\"v\",\"showlegend\":true,\"x\":[\"2016\",\"2012\",\"2012\",\"2009\",\"1998\"],\"xaxis\":\"x\",\"yaxis\":\"y\",\"type\":\"histogram\"},{\"alignmentgroup\":\"True\",\"bingroup\":\"x\",\"hovertemplate\":\"Organisation=Sandia<br>year=%{x}<br>count=%{y}<extra></extra>\",\"legendgroup\":\"Sandia\",\"marker\":{\"color\":\"#FF6692\",\"pattern\":{\"shape\":\"\"}},\"name\":\"Sandia\",\"offsetgroup\":\"Sandia\",\"orientation\":\"v\",\"showlegend\":true,\"x\":[\"2015\"],\"xaxis\":\"x\",\"yaxis\":\"y\",\"type\":\"histogram\"},{\"alignmentgroup\":\"True\",\"bingroup\":\"x\",\"hovertemplate\":\"Organisation=Kosmotras<br>year=%{x}<br>count=%{y}<extra></extra>\",\"legendgroup\":\"Kosmotras\",\"marker\":{\"color\":\"#B6E880\",\"pattern\":{\"shape\":\"\"}},\"name\":\"Kosmotras\",\"offsetgroup\":\"Kosmotras\",\"orientation\":\"v\",\"showlegend\":true,\"x\":[\"2015\",\"2014\",\"2014\",\"2013\",\"2013\",\"2011\",\"2010\",\"2010\",\"2010\",\"2009\",\"2008\",\"2008\",\"2007\",\"2007\",\"2007\",\"2006\",\"2006\",\"2005\",\"2004\",\"2002\",\"2000\",\"1999\"],\"xaxis\":\"x\",\"yaxis\":\"y\",\"type\":\"histogram\"},{\"alignmentgroup\":\"True\",\"bingroup\":\"x\",\"hovertemplate\":\"Organisation=Khrunichev<br>year=%{x}<br>count=%{y}<extra></extra>\",\"legendgroup\":\"Khrunichev\",\"marker\":{\"color\":\"#FF97FF\",\"pattern\":{\"shape\":\"\"}},\"name\":\"Khrunichev\",\"offsetgroup\":\"Khrunichev\",\"orientation\":\"v\",\"showlegend\":true,\"x\":[\"2014\"],\"xaxis\":\"x\",\"yaxis\":\"y\",\"type\":\"histogram\"},{\"alignmentgroup\":\"True\",\"bingroup\":\"x\",\"hovertemplate\":\"Organisation=Sea Launch<br>year=%{x}<br>count=%{y}<extra></extra>\",\"legendgroup\":\"Sea Launch\",\"marker\":{\"color\":\"#FECB52\",\"pattern\":{\"shape\":\"\"}},\"name\":\"Sea Launch\",\"offsetgroup\":\"Sea Launch\",\"orientation\":\"v\",\"showlegend\":true,\"x\":[\"2014\",\"2013\",\"2012\",\"2012\",\"2012\",\"2011\",\"2009\",\"2008\",\"2008\",\"2008\",\"2008\",\"2008\",\"2007\",\"2006\",\"2006\",\"2006\",\"2006\",\"2006\",\"2005\",\"2005\",\"2005\",\"2005\",\"2004\",\"2004\",\"2004\",\"2003\",\"2003\",\"2003\",\"2002\",\"2001\",\"2001\",\"2000\",\"2000\",\"2000\",\"1999\",\"1999\"],\"xaxis\":\"x\",\"yaxis\":\"y\",\"type\":\"histogram\"},{\"alignmentgroup\":\"True\",\"bingroup\":\"x\",\"hovertemplate\":\"Organisation=KARI<br>year=%{x}<br>count=%{y}<extra></extra>\",\"legendgroup\":\"KARI\",\"marker\":{\"color\":\"#636efa\",\"pattern\":{\"shape\":\"\"}},\"name\":\"KARI\",\"offsetgroup\":\"KARI\",\"orientation\":\"v\",\"showlegend\":true,\"x\":[\"2013\",\"2010\",\"2009\"],\"xaxis\":\"x\",\"yaxis\":\"y\",\"type\":\"histogram\"},{\"alignmentgroup\":\"True\",\"bingroup\":\"x\",\"hovertemplate\":\"Organisation=ESA<br>year=%{x}<br>count=%{y}<extra></extra>\",\"legendgroup\":\"ESA\",\"marker\":{\"color\":\"#EF553B\",\"pattern\":{\"shape\":\"\"}},\"name\":\"ESA\",\"offsetgroup\":\"ESA\",\"orientation\":\"v\",\"showlegend\":true,\"x\":[\"2012\",\"1998\",\"1997\",\"1996\",\"1988\",\"1984\",\"1983\",\"1983\",\"1982\",\"1981\",\"1981\",\"1980\",\"1979\"],\"xaxis\":\"x\",\"yaxis\":\"y\",\"type\":\"histogram\"},{\"alignmentgroup\":\"True\",\"bingroup\":\"x\",\"hovertemplate\":\"Organisation=NASA<br>year=%{x}<br>count=%{y}<extra></extra>\",\"legendgroup\":\"NASA\",\"marker\":{\"color\":\"#00cc96\",\"pattern\":{\"shape\":\"\"}},\"name\":\"NASA\",\"offsetgroup\":\"NASA\",\"orientation\":\"v\",\"showlegend\":true,\"x\":[\"2011\",\"2011\",\"2011\",\"2010\",\"2010\",\"2010\",\"2009\",\"2009\",\"2009\",\"2009\",\"2009\",\"2009\",\"2008\",\"2008\",\"2008\",\"2008\",\"2007\",\"2007\",\"2007\",\"2006\",\"2006\",\"2006\",\"2005\",\"2003\",\"2002\",\"2002\",\"2002\",\"2002\",\"2002\",\"2001\",\"2001\",\"2001\",\"2001\",\"2001\",\"2001\",\"2000\",\"2000\",\"2000\",\"2000\",\"2000\",\"1999\",\"1999\",\"1999\",\"1998\",\"1998\",\"1998\",\"1998\",\"1998\",\"1997\",\"1997\",\"1997\",\"1997\",\"1997\",\"1997\",\"1997\",\"1997\",\"1996\",\"1996\",\"1996\",\"1996\",\"1996\",\"1996\",\"1996\",\"1995\",\"1995\",\"1995\",\"1995\",\"1995\",\"1995\",\"1995\",\"1994\",\"1994\",\"1994\",\"1994\",\"1994\",\"1994\",\"1994\",\"1993\",\"1993\",\"1993\",\"1993\",\"1993\",\"1993\",\"1993\",\"1992\",\"1992\",\"1992\",\"1992\",\"1992\",\"1992\",\"1992\",\"1992\",\"1991\",\"1991\",\"1991\",\"1991\",\"1991\",\"1991\",\"1990\",\"1990\",\"1990\",\"1990\",\"1990\",\"1990\",\"1989\",\"1989\",\"1989\",\"1989\",\"1989\",\"1988\",\"1988\",\"1986\",\"1986\",\"1985\",\"1985\",\"1985\",\"1985\",\"1985\",\"1985\",\"1985\",\"1985\",\"1985\",\"1984\",\"1984\",\"1984\",\"1984\",\"1984\",\"1983\",\"1983\",\"1983\",\"1983\",\"1982\",\"1982\",\"1982\",\"1981\",\"1981\",\"1975\",\"1973\",\"1973\",\"1973\",\"1973\",\"1972\",\"1972\",\"1971\",\"1971\",\"1970\",\"1969\",\"1969\",\"1969\",\"1969\",\"1968\",\"1968\",\"1968\",\"1968\",\"1967\",\"1967\",\"1966\",\"1966\",\"1966\",\"1966\",\"1966\",\"1966\",\"1966\",\"1966\",\"1965\",\"1965\",\"1965\",\"1965\",\"1965\",\"1965\",\"1965\",\"1965\",\"1965\",\"1964\",\"1964\",\"1964\",\"1964\",\"1963\",\"1963\",\"1962\",\"1962\",\"1962\",\"1962\",\"1962\",\"1961\",\"1961\",\"1961\",\"1961\",\"1961\",\"1961\",\"1961\",\"1961\",\"1961\",\"1961\",\"1961\",\"1961\",\"1960\",\"1960\",\"1960\",\"1960\",\"1959\",\"1958\",\"1958\"],\"xaxis\":\"x\",\"yaxis\":\"y\",\"type\":\"histogram\"},{\"alignmentgroup\":\"True\",\"bingroup\":\"x\",\"hovertemplate\":\"Organisation=Boeing<br>year=%{x}<br>count=%{y}<extra></extra>\",\"legendgroup\":\"Boeing\",\"marker\":{\"color\":\"#ab63fa\",\"pattern\":{\"shape\":\"\"}},\"name\":\"Boeing\",\"offsetgroup\":\"Boeing\",\"orientation\":\"v\",\"showlegend\":true,\"x\":[\"2006\",\"2006\",\"2006\",\"2006\",\"2006\",\"2006\",\"2006\",\"2006\",\"2005\",\"2005\",\"2005\",\"2004\",\"2004\",\"2004\",\"2004\",\"2004\",\"2004\",\"2004\",\"2004\",\"2003\",\"2003\",\"2003\",\"2003\",\"2003\",\"2003\",\"2003\",\"2003\",\"2003\",\"2002\",\"2002\",\"2002\",\"2002\",\"2001\",\"2001\",\"2001\",\"2001\",\"2001\",\"2001\",\"2001\",\"2000\",\"2000\",\"2000\",\"2000\",\"2000\",\"2000\",\"2000\",\"1999\",\"1999\",\"1999\",\"1999\",\"1999\",\"1999\",\"1999\",\"1999\",\"1999\",\"1999\",\"1999\",\"1998\",\"1998\",\"1998\",\"1998\",\"1998\",\"1998\",\"1998\",\"1998\",\"1998\",\"1998\",\"1998\",\"1998\",\"1998\",\"1997\",\"1997\",\"1997\",\"1997\",\"1997\",\"1997\",\"1997\",\"1997\",\"1997\",\"1997\",\"1997\",\"1996\",\"1996\",\"1996\",\"1996\",\"1996\",\"1996\",\"1996\",\"1996\",\"1996\",\"1996\",\"1995\",\"1995\",\"1995\",\"1994\",\"1994\",\"1994\",\"1993\",\"1993\",\"1993\",\"1993\",\"1993\",\"1993\",\"1993\",\"1992\",\"1992\",\"1992\",\"1992\",\"1992\",\"1992\",\"1992\",\"1992\",\"1992\",\"1992\",\"1992\",\"1991\",\"1991\",\"1991\",\"1991\",\"1991\",\"1990\",\"1990\",\"1990\",\"1990\",\"1990\",\"1990\",\"1990\",\"1990\",\"1990\",\"1990\",\"1990\",\"1989\",\"1989\",\"1989\",\"1989\",\"1989\"],\"xaxis\":\"x\",\"yaxis\":\"y\",\"type\":\"histogram\"},{\"alignmentgroup\":\"True\",\"bingroup\":\"x\",\"hovertemplate\":\"Organisation=ISAS<br>year=%{x}<br>count=%{y}<extra></extra>\",\"legendgroup\":\"ISAS\",\"marker\":{\"color\":\"#FFA15A\",\"pattern\":{\"shape\":\"\"}},\"name\":\"ISAS\",\"offsetgroup\":\"ISAS\",\"orientation\":\"v\",\"showlegend\":true,\"x\":[\"2006\",\"2006\",\"2005\",\"2003\",\"2000\",\"1998\",\"1997\",\"1995\",\"1993\",\"1991\",\"1990\",\"1989\",\"1987\",\"1985\",\"1985\",\"1984\",\"1983\",\"1981\",\"1980\",\"1978\",\"1978\",\"1977\",\"1976\",\"1975\",\"1974\",\"1972\",\"1971\",\"1971\",\"1971\",\"1970\"],\"xaxis\":\"x\",\"yaxis\":\"y\",\"type\":\"histogram\"},{\"alignmentgroup\":\"True\",\"bingroup\":\"x\",\"hovertemplate\":\"Organisation=SRC<br>year=%{x}<br>count=%{y}<extra></extra>\",\"legendgroup\":\"SRC\",\"marker\":{\"color\":\"#19d3f3\",\"pattern\":{\"shape\":\"\"}},\"name\":\"SRC\",\"offsetgroup\":\"SRC\",\"orientation\":\"v\",\"showlegend\":true,\"x\":[\"2006\",\"2005\",\"1998\"],\"xaxis\":\"x\",\"yaxis\":\"y\",\"type\":\"histogram\"},{\"alignmentgroup\":\"True\",\"bingroup\":\"x\",\"hovertemplate\":\"Organisation=MITT<br>year=%{x}<br>count=%{y}<extra></extra>\",\"legendgroup\":\"MITT\",\"marker\":{\"color\":\"#FF6692\",\"pattern\":{\"shape\":\"\"}},\"name\":\"MITT\",\"offsetgroup\":\"MITT\",\"orientation\":\"v\",\"showlegend\":true,\"x\":[\"2006\",\"2001\",\"2000\",\"1997\",\"1997\",\"1995\",\"1993\"],\"xaxis\":\"x\",\"yaxis\":\"y\",\"type\":\"histogram\"},{\"alignmentgroup\":\"True\",\"bingroup\":\"x\",\"hovertemplate\":\"Organisation=Lockheed<br>year=%{x}<br>count=%{y}<extra></extra>\",\"legendgroup\":\"Lockheed\",\"marker\":{\"color\":\"#B6E880\",\"pattern\":{\"shape\":\"\"}},\"name\":\"Lockheed\",\"offsetgroup\":\"Lockheed\",\"orientation\":\"v\",\"showlegend\":true,\"x\":[\"2005\",\"2005\",\"2005\",\"2004\",\"2004\",\"2003\",\"2003\",\"2003\",\"2003\",\"2003\",\"2003\",\"2002\",\"2002\",\"2002\",\"2002\",\"2001\",\"2001\",\"2001\",\"2001\",\"2001\",\"2001\",\"2001\",\"2000\",\"2000\",\"2000\",\"2000\",\"2000\",\"2000\",\"2000\",\"2000\",\"1999\",\"1999\",\"1999\",\"1999\",\"1999\",\"1999\",\"1999\",\"1999\",\"1999\",\"1999\",\"1998\",\"1998\",\"1998\",\"1998\",\"1998\",\"1998\",\"1998\",\"1997\",\"1997\",\"1997\",\"1997\",\"1997\",\"1997\",\"1997\",\"1997\",\"1996\",\"1996\",\"1996\",\"1996\",\"1996\",\"1996\",\"1995\",\"1995\",\"1995\",\"1995\",\"1995\",\"1995\",\"1995\",\"1995\",\"1995\",\"1995\",\"1995\",\"1995\",\"1994\",\"1994\",\"1994\",\"1994\",\"1994\",\"1990\"],\"xaxis\":\"x\",\"yaxis\":\"y\",\"type\":\"histogram\"},{\"alignmentgroup\":\"True\",\"bingroup\":\"x\",\"hovertemplate\":\"Organisation=AEB<br>year=%{x}<br>count=%{y}<extra></extra>\",\"legendgroup\":\"AEB\",\"marker\":{\"color\":\"#FF97FF\",\"pattern\":{\"shape\":\"\"}},\"name\":\"AEB\",\"offsetgroup\":\"AEB\",\"orientation\":\"v\",\"showlegend\":true,\"x\":[\"2003\",\"1999\",\"1997\"],\"xaxis\":\"x\",\"yaxis\":\"y\",\"type\":\"histogram\"},{\"alignmentgroup\":\"True\",\"bingroup\":\"x\",\"hovertemplate\":\"Organisation=Starsem<br>year=%{x}<br>count=%{y}<extra></extra>\",\"legendgroup\":\"Starsem\",\"marker\":{\"color\":\"#FECB52\",\"pattern\":{\"shape\":\"\"}},\"name\":\"Starsem\",\"offsetgroup\":\"Starsem\",\"orientation\":\"v\",\"showlegend\":true,\"x\":[\"2003\"],\"xaxis\":\"x\",\"yaxis\":\"y\",\"type\":\"histogram\"},{\"alignmentgroup\":\"True\",\"bingroup\":\"x\",\"hovertemplate\":\"Organisation=RVSN USSR<br>year=%{x}<br>count=%{y}<extra></extra>\",\"legendgroup\":\"RVSN USSR\",\"marker\":{\"color\":\"#636efa\",\"pattern\":{\"shape\":\"\"}},\"name\":\"RVSN USSR\",\"offsetgroup\":\"RVSN USSR\",\"orientation\":\"v\",\"showlegend\":true,\"x\":[\"1998\",\"1996\",\"1995\",\"1992\",\"1992\",\"1992\",\"1992\",\"1992\",\"1992\",\"1992\",\"1992\",\"1992\",\"1991\",\"1991\",\"1991\",\"1991\",\"1991\",\"1991\",\"1991\",\"1991\",\"1991\",\"1991\",\"1991\",\"1991\",\"1991\",\"1991\",\"1991\",\"1991\",\"1991\",\"1991\",\"1991\",\"1991\",\"1991\",\"1991\",\"1991\",\"1991\",\"1991\",\"1991\",\"1991\",\"1991\",\"1990\",\"1990\",\"1990\",\"1990\",\"1990\",\"1990\",\"1990\",\"1990\",\"1990\",\"1990\",\"1990\",\"1990\",\"1990\",\"1990\",\"1990\",\"1990\",\"1990\",\"1990\",\"1990\",\"1990\",\"1990\",\"1990\",\"1990\",\"1990\",\"1990\",\"1990\",\"1990\",\"1990\",\"1990\",\"1990\",\"1990\",\"1990\",\"1990\",\"1990\",\"1990\",\"1990\",\"1990\",\"1989\",\"1989\",\"1989\",\"1989\",\"1989\",\"1989\",\"1989\",\"1989\",\"1989\",\"1989\",\"1989\",\"1989\",\"1989\",\"1989\",\"1989\",\"1989\",\"1989\",\"1989\",\"1989\",\"1989\",\"1989\",\"1989\",\"1989\",\"1989\",\"1989\",\"1989\",\"1988\",\"1988\",\"1988\",\"1988\",\"1988\",\"1988\",\"1988\",\"1988\",\"1988\",\"1988\",\"1988\",\"1988\",\"1988\",\"1988\",\"1988\",\"1988\",\"1988\",\"1988\",\"1988\",\"1988\",\"1988\",\"1988\",\"1988\",\"1988\",\"1988\",\"1988\",\"1988\",\"1988\",\"1988\",\"1988\",\"1988\",\"1988\",\"1988\",\"1988\",\"1988\",\"1988\",\"1987\",\"1987\",\"1987\",\"1987\",\"1987\",\"1987\",\"1987\",\"1987\",\"1987\",\"1987\",\"1987\",\"1987\",\"1987\",\"1987\",\"1987\",\"1987\",\"1987\",\"1987\",\"1987\",\"1987\",\"1987\",\"1987\",\"1987\",\"1987\",\"1987\",\"1987\",\"1987\",\"1987\",\"1987\",\"1987\",\"1987\",\"1987\",\"1987\",\"1987\",\"1987\",\"1987\",\"1987\",\"1987\",\"1987\",\"1987\",\"1987\",\"1987\",\"1986\",\"1986\",\"1986\",\"1986\",\"1986\",\"1986\",\"1986\",\"1986\",\"1986\",\"1986\",\"1986\",\"1986\",\"1986\",\"1986\",\"1986\",\"1986\",\"1986\",\"1986\",\"1986\",\"1986\",\"1986\",\"1986\",\"1986\",\"1986\",\"1986\",\"1986\",\"1986\",\"1986\",\"1986\",\"1986\",\"1986\",\"1986\",\"1986\",\"1986\",\"1986\",\"1986\",\"1986\",\"1986\",\"1986\",\"1986\",\"1986\",\"1986\",\"1986\",\"1986\",\"1986\",\"1986\",\"1986\",\"1986\",\"1986\",\"1985\",\"1985\",\"1985\",\"1985\",\"1985\",\"1985\",\"1985\",\"1985\",\"1985\",\"1985\",\"1985\",\"1985\",\"1985\",\"1985\",\"1985\",\"1985\",\"1985\",\"1985\",\"1985\",\"1985\",\"1985\",\"1985\",\"1985\",\"1985\",\"1985\",\"1985\",\"1985\",\"1985\",\"1985\",\"1985\",\"1985\",\"1985\",\"1985\",\"1985\",\"1985\",\"1985\",\"1985\",\"1985\",\"1985\",\"1985\",\"1985\",\"1985\",\"1985\",\"1985\",\"1985\",\"1985\",\"1985\",\"1985\",\"1985\",\"1985\",\"1985\",\"1984\",\"1984\",\"1984\",\"1984\",\"1984\",\"1984\",\"1984\",\"1984\",\"1984\",\"1984\",\"1984\",\"1984\",\"1984\",\"1984\",\"1984\",\"1984\",\"1984\",\"1984\",\"1984\",\"1984\",\"1984\",\"1984\",\"1984\",\"1984\",\"1984\",\"1984\",\"1984\",\"1984\",\"1984\",\"1984\",\"1984\",\"1984\",\"1984\",\"1984\",\"1984\",\"1984\",\"1984\",\"1984\",\"1984\",\"1984\",\"1984\",\"1984\",\"1983\",\"1983\",\"1983\",\"1983\",\"1983\",\"1983\",\"1983\",\"1983\",\"1983\",\"1983\",\"1983\",\"1983\",\"1983\",\"1983\",\"1983\",\"1983\",\"1983\",\"1983\",\"1983\",\"1983\",\"1983\",\"1983\",\"1983\",\"1983\",\"1983\",\"1983\",\"1983\",\"1983\",\"1983\",\"1983\",\"1983\",\"1983\",\"1983\",\"1983\",\"1983\",\"1983\",\"1983\",\"1983\",\"1983\",\"1983\",\"1983\",\"1983\",\"1983\",\"1983\",\"1983\",\"1983\",\"1982\",\"1982\",\"1982\",\"1982\",\"1982\",\"1982\",\"1982\",\"1982\",\"1982\",\"1982\",\"1982\",\"1982\",\"1982\",\"1982\",\"1982\",\"1982\",\"1982\",\"1982\",\"1982\",\"1982\",\"1982\",\"1982\",\"1982\",\"1982\",\"1982\",\"1982\",\"1982\",\"1982\",\"1982\",\"1982\",\"1982\",\"1982\",\"1982\",\"1982\",\"1982\",\"1982\",\"1982\",\"1982\",\"1982\",\"1982\",\"1982\",\"1982\",\"1982\",\"1982\",\"1982\",\"1982\",\"1982\",\"1982\",\"1982\",\"1982\",\"1982\",\"1982\",\"1982\",\"1981\",\"1981\",\"1981\",\"1981\",\"1981\",\"1981\",\"1981\",\"1981\",\"1981\",\"1981\",\"1981\",\"1981\",\"1981\",\"1981\",\"1981\",\"1981\",\"1981\",\"1981\",\"1981\",\"1981\",\"1981\",\"1981\",\"1981\",\"1981\",\"1981\",\"1981\",\"1981\",\"1981\",\"1981\",\"1981\",\"1981\",\"1981\",\"1981\",\"1981\",\"1981\",\"1981\",\"1981\",\"1981\",\"1981\",\"1981\",\"1981\",\"1981\",\"1981\",\"1981\",\"1981\",\"1981\",\"1981\",\"1981\",\"1981\",\"1981\",\"1981\",\"1980\",\"1980\",\"1980\",\"1980\",\"1980\",\"1980\",\"1980\",\"1980\",\"1980\",\"1980\",\"1980\",\"1980\",\"1980\",\"1980\",\"1980\",\"1980\",\"1980\",\"1980\",\"1980\",\"1980\",\"1980\",\"1980\",\"1980\",\"1980\",\"1980\",\"1980\",\"1980\",\"1980\",\"1980\",\"1980\",\"1980\",\"1980\",\"1980\",\"1980\",\"1980\",\"1980\",\"1980\",\"1980\",\"1980\",\"1980\",\"1979\",\"1979\",\"1979\",\"1979\",\"1979\",\"1979\",\"1979\",\"1979\",\"1979\",\"1979\",\"1979\",\"1979\",\"1979\",\"1979\",\"1979\",\"1979\",\"1979\",\"1979\",\"1979\",\"1979\",\"1979\",\"1979\",\"1979\",\"1979\",\"1979\",\"1979\",\"1979\",\"1979\",\"1979\",\"1979\",\"1979\",\"1979\",\"1979\",\"1979\",\"1979\",\"1979\",\"1978\",\"1978\",\"1978\",\"1978\",\"1978\",\"1978\",\"1978\",\"1978\",\"1978\",\"1978\",\"1978\",\"1978\",\"1978\",\"1978\",\"1978\",\"1978\",\"1978\",\"1978\",\"1978\",\"1978\",\"1978\",\"1978\",\"1978\",\"1978\",\"1978\",\"1978\",\"1978\",\"1978\",\"1978\",\"1978\",\"1978\",\"1978\",\"1978\",\"1978\",\"1978\",\"1978\",\"1978\",\"1978\",\"1978\",\"1978\",\"1978\",\"1978\",\"1978\",\"1978\",\"1978\",\"1978\",\"1978\",\"1978\",\"1978\",\"1978\",\"1978\",\"1978\",\"1978\",\"1978\",\"1978\",\"1978\",\"1978\",\"1978\",\"1978\",\"1978\",\"1978\",\"1978\",\"1978\",\"1978\",\"1978\",\"1978\",\"1978\",\"1978\",\"1978\",\"1978\",\"1978\",\"1977\",\"1977\",\"1977\",\"1977\",\"1977\",\"1977\",\"1977\",\"1977\",\"1977\",\"1977\",\"1977\",\"1977\",\"1977\",\"1977\",\"1977\",\"1977\",\"1977\",\"1977\",\"1977\",\"1977\",\"1977\",\"1977\",\"1977\",\"1977\",\"1977\",\"1977\",\"1977\",\"1977\",\"1977\",\"1977\",\"1977\",\"1977\",\"1977\",\"1977\",\"1977\",\"1977\",\"1977\",\"1977\",\"1977\",\"1977\",\"1977\",\"1977\",\"1977\",\"1977\",\"1977\",\"1977\",\"1977\",\"1977\",\"1977\",\"1977\",\"1977\",\"1977\",\"1977\",\"1977\",\"1977\",\"1977\",\"1977\",\"1977\",\"1977\",\"1977\",\"1977\",\"1977\",\"1977\",\"1977\",\"1977\",\"1977\",\"1977\",\"1977\",\"1977\",\"1977\",\"1977\",\"1977\",\"1977\",\"1977\",\"1977\",\"1977\",\"1977\",\"1977\",\"1977\",\"1977\",\"1977\",\"1977\",\"1977\",\"1977\",\"1977\",\"1977\",\"1977\",\"1977\",\"1977\",\"1977\",\"1977\",\"1977\",\"1977\",\"1977\",\"1977\",\"1977\",\"1977\",\"1976\",\"1976\",\"1976\",\"1976\",\"1976\",\"1976\",\"1976\",\"1976\",\"1976\",\"1976\",\"1976\",\"1976\",\"1976\",\"1976\",\"1976\",\"1976\",\"1976\",\"1976\",\"1976\",\"1976\",\"1976\",\"1976\",\"1976\",\"1976\",\"1976\",\"1976\",\"1976\",\"1976\",\"1976\",\"1976\",\"1976\",\"1976\",\"1976\",\"1976\",\"1976\",\"1976\",\"1976\",\"1976\",\"1976\",\"1976\",\"1976\",\"1976\",\"1976\",\"1976\",\"1976\",\"1976\",\"1976\",\"1976\",\"1976\",\"1976\",\"1976\",\"1976\",\"1976\",\"1976\",\"1976\",\"1976\",\"1976\",\"1976\",\"1976\",\"1976\",\"1976\",\"1976\",\"1976\",\"1976\",\"1976\",\"1976\",\"1976\",\"1976\",\"1976\",\"1976\",\"1976\",\"1976\",\"1976\",\"1976\",\"1976\",\"1976\",\"1976\",\"1976\",\"1976\",\"1976\",\"1976\",\"1976\",\"1976\",\"1976\",\"1976\",\"1976\",\"1976\",\"1976\",\"1976\",\"1976\",\"1976\",\"1976\",\"1976\",\"1976\",\"1976\",\"1975\",\"1975\",\"1975\",\"1975\",\"1975\",\"1975\",\"1975\",\"1975\",\"1975\",\"1975\",\"1975\",\"1975\",\"1975\",\"1975\",\"1975\",\"1975\",\"1975\",\"1975\",\"1975\",\"1975\",\"1975\",\"1975\",\"1975\",\"1975\",\"1975\",\"1975\",\"1975\",\"1975\",\"1975\",\"1975\",\"1975\",\"1975\",\"1975\",\"1975\",\"1975\",\"1975\",\"1975\",\"1975\",\"1975\",\"1975\",\"1975\",\"1975\",\"1975\",\"1975\",\"1975\",\"1975\",\"1975\",\"1975\",\"1975\",\"1975\",\"1975\",\"1975\",\"1975\",\"1975\",\"1975\",\"1975\",\"1975\",\"1975\",\"1975\",\"1975\",\"1975\",\"1975\",\"1975\",\"1975\",\"1975\",\"1975\",\"1975\",\"1975\",\"1975\",\"1975\",\"1975\",\"1975\",\"1975\",\"1975\",\"1975\",\"1975\",\"1975\",\"1975\",\"1975\",\"1975\",\"1975\",\"1975\",\"1975\",\"1975\",\"1975\",\"1975\",\"1975\",\"1975\",\"1975\",\"1974\",\"1974\",\"1974\",\"1974\",\"1974\",\"1974\",\"1974\",\"1974\",\"1974\",\"1974\",\"1974\",\"1974\",\"1974\",\"1974\",\"1974\",\"1974\",\"1974\",\"1974\",\"1974\",\"1974\",\"1974\",\"1974\",\"1974\",\"1974\",\"1974\",\"1974\",\"1974\",\"1974\",\"1974\",\"1974\",\"1974\",\"1974\",\"1974\",\"1974\",\"1974\",\"1974\",\"1974\",\"1974\",\"1974\",\"1974\",\"1974\",\"1974\",\"1974\",\"1974\",\"1974\",\"1974\",\"1974\",\"1974\",\"1974\",\"1974\",\"1974\",\"1974\",\"1974\",\"1974\",\"1974\",\"1974\",\"1974\",\"1974\",\"1974\",\"1974\",\"1974\",\"1974\",\"1974\",\"1974\",\"1974\",\"1974\",\"1974\",\"1974\",\"1974\",\"1974\",\"1974\",\"1974\",\"1974\",\"1974\",\"1974\",\"1974\",\"1974\",\"1974\",\"1974\",\"1974\",\"1974\",\"1974\",\"1974\",\"1973\",\"1973\",\"1973\",\"1973\",\"1973\",\"1973\",\"1973\",\"1973\",\"1973\",\"1973\",\"1973\",\"1973\",\"1973\",\"1973\",\"1973\",\"1973\",\"1973\",\"1973\",\"1973\",\"1973\",\"1973\",\"1973\",\"1973\",\"1973\",\"1973\",\"1973\",\"1973\",\"1973\",\"1973\",\"1973\",\"1973\",\"1973\",\"1973\",\"1973\",\"1973\",\"1973\",\"1973\",\"1973\",\"1973\",\"1973\",\"1973\",\"1973\",\"1973\",\"1973\",\"1973\",\"1973\",\"1973\",\"1973\",\"1973\",\"1973\",\"1973\",\"1973\",\"1973\",\"1973\",\"1973\",\"1973\",\"1973\",\"1973\",\"1973\",\"1973\",\"1973\",\"1973\",\"1973\",\"1973\",\"1973\",\"1973\",\"1973\",\"1973\",\"1973\",\"1973\",\"1973\",\"1973\",\"1973\",\"1973\",\"1973\",\"1973\",\"1973\",\"1973\",\"1973\",\"1973\",\"1973\",\"1973\",\"1973\",\"1973\",\"1972\",\"1972\",\"1972\",\"1972\",\"1972\",\"1972\",\"1972\",\"1972\",\"1972\",\"1972\",\"1972\",\"1972\",\"1972\",\"1972\",\"1972\",\"1972\",\"1972\",\"1972\",\"1972\",\"1972\",\"1972\",\"1972\",\"1972\",\"1972\",\"1972\",\"1972\",\"1972\",\"1972\",\"1972\",\"1972\",\"1972\",\"1972\",\"1972\",\"1972\",\"1972\",\"1972\",\"1972\",\"1972\",\"1972\",\"1972\",\"1972\",\"1972\",\"1972\",\"1972\",\"1972\",\"1972\",\"1972\",\"1972\",\"1972\",\"1972\",\"1972\",\"1972\",\"1972\",\"1972\",\"1972\",\"1972\",\"1972\",\"1972\",\"1972\",\"1972\",\"1972\",\"1972\",\"1972\",\"1972\",\"1972\",\"1972\",\"1972\",\"1972\",\"1972\",\"1972\",\"1972\",\"1972\",\"1972\",\"1972\",\"1972\",\"1972\",\"1972\",\"1972\",\"1972\",\"1971\",\"1971\",\"1971\",\"1971\",\"1971\",\"1971\",\"1971\",\"1971\",\"1971\",\"1971\",\"1971\",\"1971\",\"1971\",\"1971\",\"1971\",\"1971\",\"1971\",\"1971\",\"1971\",\"1971\",\"1971\",\"1971\",\"1971\",\"1971\",\"1971\",\"1971\",\"1971\",\"1971\",\"1971\",\"1971\",\"1971\",\"1971\",\"1971\",\"1971\",\"1971\",\"1971\",\"1971\",\"1971\",\"1971\",\"1971\",\"1971\",\"1971\",\"1971\",\"1971\",\"1971\",\"1971\",\"1971\",\"1971\",\"1971\",\"1971\",\"1971\",\"1971\",\"1971\",\"1971\",\"1971\",\"1971\",\"1971\",\"1971\",\"1971\",\"1971\",\"1971\",\"1971\",\"1971\",\"1971\",\"1971\",\"1971\",\"1971\",\"1971\",\"1971\",\"1971\",\"1971\",\"1971\",\"1971\",\"1971\",\"1971\",\"1971\",\"1971\",\"1971\",\"1971\",\"1971\",\"1971\",\"1971\",\"1971\",\"1971\",\"1971\",\"1971\",\"1971\",\"1971\",\"1971\",\"1971\",\"1971\",\"1971\",\"1971\",\"1970\",\"1970\",\"1970\",\"1970\",\"1970\",\"1970\",\"1970\",\"1970\",\"1970\",\"1970\",\"1970\",\"1970\",\"1970\",\"1970\",\"1970\",\"1970\",\"1970\",\"1970\",\"1970\",\"1970\",\"1970\",\"1970\",\"1970\",\"1970\",\"1970\",\"1970\",\"1970\",\"1970\",\"1970\",\"1970\",\"1970\",\"1970\",\"1970\",\"1970\",\"1970\",\"1970\",\"1970\",\"1970\",\"1970\",\"1970\",\"1970\",\"1970\",\"1970\",\"1970\",\"1970\",\"1970\",\"1970\",\"1970\",\"1970\",\"1970\",\"1970\",\"1970\",\"1970\",\"1970\",\"1970\",\"1970\",\"1970\",\"1970\",\"1970\",\"1970\",\"1970\",\"1970\",\"1970\",\"1970\",\"1970\",\"1970\",\"1970\",\"1970\",\"1970\",\"1970\",\"1970\",\"1970\",\"1970\",\"1970\",\"1970\",\"1970\",\"1970\",\"1970\",\"1970\",\"1970\",\"1970\",\"1970\",\"1970\",\"1970\",\"1970\",\"1970\",\"1970\",\"1969\",\"1969\",\"1969\",\"1969\",\"1969\",\"1969\",\"1969\",\"1969\",\"1969\",\"1969\",\"1969\",\"1969\",\"1969\",\"1969\",\"1969\",\"1969\",\"1969\",\"1969\",\"1969\",\"1969\",\"1969\",\"1969\",\"1969\",\"1969\",\"1969\",\"1969\",\"1969\",\"1969\",\"1969\",\"1969\",\"1969\",\"1969\",\"1969\",\"1969\",\"1969\",\"1969\",\"1969\",\"1969\",\"1969\",\"1969\",\"1969\",\"1969\",\"1969\",\"1969\",\"1969\",\"1969\",\"1969\",\"1969\",\"1969\",\"1969\",\"1969\",\"1969\",\"1969\",\"1969\",\"1969\",\"1969\",\"1969\",\"1969\",\"1969\",\"1969\",\"1969\",\"1969\",\"1969\",\"1969\",\"1969\",\"1969\",\"1969\",\"1969\",\"1969\",\"1969\",\"1969\",\"1969\",\"1969\",\"1969\",\"1969\",\"1969\",\"1969\",\"1969\",\"1969\",\"1969\",\"1969\",\"1969\",\"1968\",\"1968\",\"1968\",\"1968\",\"1968\",\"1968\",\"1968\",\"1968\",\"1968\",\"1968\",\"1968\",\"1968\",\"1968\",\"1968\",\"1968\",\"1968\",\"1968\",\"1968\",\"1968\",\"1968\",\"1968\",\"1968\",\"1968\",\"1968\",\"1968\",\"1968\",\"1968\",\"1968\",\"1968\",\"1968\",\"1968\",\"1968\",\"1968\",\"1968\",\"1968\",\"1968\",\"1968\",\"1968\",\"1968\",\"1968\",\"1968\",\"1968\",\"1968\",\"1968\",\"1968\",\"1968\",\"1968\",\"1968\",\"1968\",\"1968\",\"1968\",\"1968\",\"1968\",\"1968\",\"1968\",\"1968\",\"1968\",\"1968\",\"1968\",\"1968\",\"1968\",\"1968\",\"1968\",\"1968\",\"1968\",\"1968\",\"1968\",\"1968\",\"1968\",\"1968\",\"1968\",\"1968\",\"1968\",\"1968\",\"1968\",\"1968\",\"1968\",\"1968\",\"1968\",\"1967\",\"1967\",\"1967\",\"1967\",\"1967\",\"1967\",\"1967\",\"1967\",\"1967\",\"1967\",\"1967\",\"1967\",\"1967\",\"1967\",\"1967\",\"1967\",\"1967\",\"1967\",\"1967\",\"1967\",\"1967\",\"1967\",\"1967\",\"1967\",\"1967\",\"1967\",\"1967\",\"1967\",\"1967\",\"1967\",\"1967\",\"1967\",\"1967\",\"1967\",\"1967\",\"1967\",\"1967\",\"1967\",\"1967\",\"1967\",\"1967\",\"1967\",\"1967\",\"1967\",\"1967\",\"1967\",\"1967\",\"1967\",\"1967\",\"1967\",\"1967\",\"1967\",\"1967\",\"1967\",\"1967\",\"1967\",\"1967\",\"1967\",\"1967\",\"1967\",\"1967\",\"1967\",\"1967\",\"1967\",\"1967\",\"1967\",\"1967\",\"1967\",\"1967\",\"1967\",\"1967\",\"1967\",\"1967\",\"1967\",\"1966\",\"1966\",\"1966\",\"1966\",\"1966\",\"1966\",\"1966\",\"1966\",\"1966\",\"1966\",\"1966\",\"1966\",\"1966\",\"1966\",\"1966\",\"1966\",\"1966\",\"1966\",\"1966\",\"1966\",\"1966\",\"1966\",\"1966\",\"1966\",\"1966\",\"1966\",\"1966\",\"1966\",\"1966\",\"1966\",\"1966\",\"1966\",\"1966\",\"1966\",\"1966\",\"1966\",\"1966\",\"1966\",\"1966\",\"1966\",\"1966\",\"1966\",\"1966\",\"1966\",\"1966\",\"1966\",\"1966\",\"1966\",\"1966\",\"1966\",\"1966\",\"1965\",\"1965\",\"1965\",\"1965\",\"1965\",\"1965\",\"1965\",\"1965\",\"1965\",\"1965\",\"1965\",\"1965\",\"1965\",\"1965\",\"1965\",\"1965\",\"1965\",\"1965\",\"1965\",\"1965\",\"1965\",\"1965\",\"1965\",\"1965\",\"1965\",\"1965\",\"1965\",\"1965\",\"1965\",\"1965\",\"1965\",\"1965\",\"1965\",\"1965\",\"1965\",\"1965\",\"1965\",\"1965\",\"1965\",\"1965\",\"1965\",\"1965\",\"1965\",\"1965\",\"1965\",\"1965\",\"1965\",\"1965\",\"1965\",\"1965\",\"1965\",\"1965\",\"1965\",\"1964\",\"1964\",\"1964\",\"1964\",\"1964\",\"1964\",\"1964\",\"1964\",\"1964\",\"1964\",\"1964\",\"1964\",\"1964\",\"1964\",\"1964\",\"1964\",\"1964\",\"1964\",\"1964\",\"1964\",\"1964\",\"1964\",\"1964\",\"1964\",\"1964\",\"1964\",\"1964\",\"1964\",\"1964\",\"1964\",\"1964\",\"1964\",\"1964\",\"1964\",\"1964\",\"1964\",\"1963\",\"1963\",\"1963\",\"1963\",\"1963\",\"1963\",\"1963\",\"1963\",\"1963\",\"1963\",\"1963\",\"1963\",\"1963\",\"1963\",\"1963\",\"1963\",\"1963\",\"1963\",\"1963\",\"1963\",\"1963\",\"1963\",\"1963\",\"1963\",\"1962\",\"1962\",\"1962\",\"1962\",\"1962\",\"1962\",\"1962\",\"1962\",\"1962\",\"1962\",\"1962\",\"1962\",\"1962\",\"1962\",\"1962\",\"1962\",\"1962\",\"1962\",\"1962\",\"1962\",\"1962\",\"1962\",\"1961\",\"1961\",\"1961\",\"1961\",\"1961\",\"1961\",\"1961\",\"1961\",\"1961\",\"1960\",\"1960\",\"1960\",\"1960\",\"1960\",\"1960\",\"1960\",\"1960\",\"1960\",\"1959\",\"1959\",\"1959\",\"1959\",\"1958\",\"1958\",\"1958\",\"1958\",\"1958\",\"1957\",\"1957\"],\"xaxis\":\"x\",\"yaxis\":\"y\",\"type\":\"histogram\"},{\"alignmentgroup\":\"True\",\"bingroup\":\"x\",\"hovertemplate\":\"Organisation=EER<br>year=%{x}<br>count=%{y}<extra></extra>\",\"legendgroup\":\"EER\",\"marker\":{\"color\":\"#EF553B\",\"pattern\":{\"shape\":\"\"}},\"name\":\"EER\",\"offsetgroup\":\"EER\",\"orientation\":\"v\",\"showlegend\":true,\"x\":[\"1995\"],\"xaxis\":\"x\",\"yaxis\":\"y\",\"type\":\"histogram\"},{\"alignmentgroup\":\"True\",\"bingroup\":\"x\",\"hovertemplate\":\"Organisation=General Dynamics<br>year=%{x}<br>count=%{y}<extra></extra>\",\"legendgroup\":\"General Dynamics\",\"marker\":{\"color\":\"#00cc96\",\"pattern\":{\"shape\":\"\"}},\"name\":\"General Dynamics\",\"offsetgroup\":\"General Dynamics\",\"orientation\":\"v\",\"showlegend\":true,\"x\":[\"1995\",\"1994\",\"1994\",\"1993\",\"1993\",\"1993\",\"1993\",\"1993\",\"1993\",\"1992\",\"1992\",\"1992\",\"1992\",\"1992\",\"1991\",\"1991\",\"1991\",\"1991\",\"1990\",\"1990\",\"1989\",\"1988\",\"1988\",\"1987\",\"1987\",\"1987\",\"1986\",\"1986\",\"1986\",\"1985\",\"1985\",\"1985\",\"1985\",\"1985\",\"1984\",\"1984\",\"1984\",\"1984\",\"1984\",\"1983\",\"1983\",\"1983\",\"1983\",\"1983\",\"1983\",\"1982\",\"1982\",\"1982\",\"1981\",\"1981\",\"1981\",\"1981\",\"1981\",\"1981\",\"1980\",\"1980\",\"1980\",\"1980\",\"1980\",\"1980\",\"1980\",\"1980\",\"1979\",\"1979\",\"1979\",\"1979\",\"1978\",\"1978\",\"1978\",\"1978\",\"1978\",\"1978\",\"1978\",\"1978\",\"1978\",\"1978\",\"1978\",\"1978\",\"1978\",\"1978\",\"1977\",\"1977\",\"1977\",\"1977\",\"1977\",\"1977\",\"1977\",\"1976\",\"1976\",\"1976\",\"1976\",\"1975\",\"1975\",\"1975\",\"1975\",\"1975\",\"1974\",\"1974\",\"1973\",\"1973\",\"1973\",\"1973\",\"1972\",\"1972\",\"1972\",\"1972\",\"1972\",\"1972\",\"1971\",\"1971\",\"1971\",\"1971\",\"1971\",\"1971\",\"1970\",\"1970\",\"1970\",\"1969\",\"1969\",\"1969\",\"1969\",\"1969\",\"1968\",\"1968\",\"1968\",\"1968\",\"1968\",\"1968\",\"1968\",\"1968\",\"1967\",\"1967\",\"1967\",\"1967\",\"1967\",\"1967\",\"1967\",\"1967\",\"1967\",\"1967\",\"1967\",\"1967\",\"1967\",\"1967\",\"1966\",\"1966\",\"1966\",\"1966\",\"1966\",\"1966\",\"1966\",\"1966\",\"1966\",\"1966\",\"1966\",\"1966\",\"1966\",\"1966\",\"1966\",\"1966\",\"1966\",\"1966\",\"1966\",\"1966\",\"1966\",\"1966\",\"1966\",\"1966\",\"1966\",\"1966\",\"1966\",\"1966\",\"1966\",\"1966\",\"1966\",\"1966\",\"1966\",\"1965\",\"1965\",\"1965\",\"1965\",\"1965\",\"1965\",\"1965\",\"1965\",\"1965\",\"1965\",\"1965\",\"1965\",\"1965\",\"1965\",\"1965\",\"1965\",\"1965\",\"1965\",\"1965\",\"1964\",\"1964\",\"1964\",\"1964\",\"1964\",\"1964\",\"1964\",\"1964\",\"1964\",\"1964\",\"1964\",\"1964\",\"1964\",\"1964\",\"1964\",\"1964\",\"1964\",\"1964\",\"1963\",\"1963\",\"1963\",\"1963\",\"1963\",\"1963\",\"1963\",\"1963\",\"1963\",\"1962\",\"1962\",\"1962\",\"1962\",\"1962\",\"1962\",\"1962\",\"1962\",\"1962\",\"1962\",\"1962\",\"1962\",\"1962\",\"1962\",\"1961\",\"1961\",\"1961\",\"1961\",\"1961\",\"1961\",\"1961\",\"1961\",\"1960\",\"1960\",\"1960\",\"1960\",\"1960\",\"1959\"],\"xaxis\":\"x\",\"yaxis\":\"y\",\"type\":\"histogram\"},{\"alignmentgroup\":\"True\",\"bingroup\":\"x\",\"hovertemplate\":\"Organisation=Martin Marietta<br>year=%{x}<br>count=%{y}<extra></extra>\",\"legendgroup\":\"Martin Marietta\",\"marker\":{\"color\":\"#ab63fa\",\"pattern\":{\"shape\":\"\"}},\"name\":\"Martin Marietta\",\"offsetgroup\":\"Martin Marietta\",\"orientation\":\"v\",\"showlegend\":true,\"x\":[\"1994\",\"1994\",\"1994\",\"1994\",\"1994\",\"1993\",\"1993\",\"1992\",\"1992\",\"1992\",\"1991\",\"1991\",\"1990\",\"1990\",\"1990\",\"1990\",\"1990\",\"1989\",\"1989\",\"1989\",\"1989\",\"1988\",\"1988\",\"1988\",\"1987\",\"1987\",\"1987\",\"1986\",\"1985\",\"1985\",\"1984\",\"1984\",\"1984\",\"1984\",\"1984\",\"1984\",\"1983\",\"1983\",\"1982\",\"1982\",\"1982\",\"1982\",\"1981\",\"1981\",\"1981\",\"1981\",\"1980\",\"1980\",\"1980\",\"1979\",\"1979\",\"1979\",\"1979\",\"1978\",\"1978\",\"1978\",\"1978\",\"1978\",\"1978\",\"1978\",\"1977\",\"1977\",\"1977\",\"1977\",\"1977\",\"1976\",\"1976\",\"1976\",\"1976\",\"1976\",\"1976\",\"1976\",\"1975\",\"1975\",\"1975\",\"1975\",\"1975\",\"1975\",\"1975\",\"1974\",\"1974\",\"1974\",\"1974\",\"1974\",\"1973\",\"1973\",\"1973\",\"1973\",\"1973\",\"1973\",\"1972\",\"1972\",\"1972\",\"1972\",\"1972\",\"1971\",\"1971\",\"1971\",\"1971\",\"1970\",\"1970\",\"1969\",\"1969\",\"1968\",\"1968\",\"1967\",\"1967\",\"1967\",\"1966\",\"1966\",\"1966\",\"1965\",\"1965\",\"1965\"],\"xaxis\":\"x\",\"yaxis\":\"y\",\"type\":\"histogram\"},{\"alignmentgroup\":\"True\",\"bingroup\":\"x\",\"hovertemplate\":\"Organisation=Yuzhmash<br>year=%{x}<br>count=%{y}<extra></extra>\",\"legendgroup\":\"Yuzhmash\",\"marker\":{\"color\":\"#FFA15A\",\"pattern\":{\"shape\":\"\"}},\"name\":\"Yuzhmash\",\"offsetgroup\":\"Yuzhmash\",\"orientation\":\"v\",\"showlegend\":true,\"x\":[\"1991\",\"1969\"],\"xaxis\":\"x\",\"yaxis\":\"y\",\"type\":\"histogram\"},{\"alignmentgroup\":\"True\",\"bingroup\":\"x\",\"hovertemplate\":\"Organisation=Douglas<br>year=%{x}<br>count=%{y}<extra></extra>\",\"legendgroup\":\"Douglas\",\"marker\":{\"color\":\"#19d3f3\",\"pattern\":{\"shape\":\"\"}},\"name\":\"Douglas\",\"offsetgroup\":\"Douglas\",\"orientation\":\"v\",\"showlegend\":true,\"x\":[\"1989\"],\"xaxis\":\"x\",\"yaxis\":\"y\",\"type\":\"histogram\"},{\"alignmentgroup\":\"True\",\"bingroup\":\"x\",\"hovertemplate\":\"Organisation=ASI<br>year=%{x}<br>count=%{y}<extra></extra>\",\"legendgroup\":\"ASI\",\"marker\":{\"color\":\"#FF6692\",\"pattern\":{\"shape\":\"\"}},\"name\":\"ASI\",\"offsetgroup\":\"ASI\",\"orientation\":\"v\",\"showlegend\":true,\"x\":[\"1988\",\"1975\",\"1974\",\"1974\",\"1972\",\"1971\",\"1971\",\"1970\",\"1967\"],\"xaxis\":\"x\",\"yaxis\":\"y\",\"type\":\"histogram\"},{\"alignmentgroup\":\"True\",\"bingroup\":\"x\",\"hovertemplate\":\"Organisation=US Air Force<br>year=%{x}<br>count=%{y}<extra></extra>\",\"legendgroup\":\"US Air Force\",\"marker\":{\"color\":\"#B6E880\",\"pattern\":{\"shape\":\"\"}},\"name\":\"US Air Force\",\"offsetgroup\":\"US Air Force\",\"orientation\":\"v\",\"showlegend\":true,\"x\":[\"1984\",\"1983\",\"1982\",\"1981\",\"1979\",\"1977\",\"1977\",\"1976\",\"1976\",\"1975\",\"1975\",\"1974\",\"1974\",\"1974\",\"1973\",\"1973\",\"1973\",\"1972\",\"1972\",\"1972\",\"1972\",\"1971\",\"1971\",\"1971\",\"1971\",\"1970\",\"1970\",\"1970\",\"1970\",\"1970\",\"1969\",\"1969\",\"1969\",\"1969\",\"1969\",\"1969\",\"1968\",\"1968\",\"1968\",\"1968\",\"1968\",\"1968\",\"1968\",\"1968\",\"1967\",\"1967\",\"1967\",\"1967\",\"1967\",\"1967\",\"1967\",\"1966\",\"1966\",\"1966\",\"1965\",\"1965\",\"1964\",\"1964\",\"1963\",\"1963\",\"1963\",\"1963\",\"1963\",\"1963\",\"1962\",\"1962\",\"1962\",\"1962\",\"1962\",\"1962\",\"1962\",\"1962\",\"1962\",\"1962\",\"1962\",\"1962\",\"1962\",\"1962\",\"1962\",\"1962\",\"1962\",\"1962\",\"1962\",\"1962\",\"1962\",\"1962\",\"1962\",\"1962\",\"1962\",\"1962\",\"1962\",\"1962\",\"1962\",\"1962\",\"1962\",\"1962\",\"1962\",\"1962\",\"1962\",\"1962\",\"1962\",\"1962\",\"1962\",\"1962\",\"1962\",\"1961\",\"1961\",\"1961\",\"1961\",\"1961\",\"1961\",\"1961\",\"1961\",\"1961\",\"1961\",\"1961\",\"1961\",\"1961\",\"1961\",\"1961\",\"1961\",\"1961\",\"1961\",\"1961\",\"1961\",\"1961\",\"1961\",\"1961\",\"1960\",\"1960\",\"1960\",\"1960\",\"1960\",\"1960\",\"1960\",\"1960\",\"1960\",\"1960\",\"1960\",\"1960\",\"1960\",\"1960\",\"1960\",\"1960\",\"1960\",\"1960\",\"1960\",\"1960\",\"1960\",\"1959\",\"1959\",\"1959\",\"1959\",\"1959\",\"1959\",\"1959\",\"1959\",\"1959\",\"1959\",\"1958\",\"1958\"],\"xaxis\":\"x\",\"yaxis\":\"y\",\"type\":\"histogram\"},{\"alignmentgroup\":\"True\",\"bingroup\":\"x\",\"hovertemplate\":\"Organisation=CNES<br>year=%{x}<br>count=%{y}<extra></extra>\",\"legendgroup\":\"CNES\",\"marker\":{\"color\":\"#FF97FF\",\"pattern\":{\"shape\":\"\"}},\"name\":\"CNES\",\"offsetgroup\":\"CNES\",\"orientation\":\"v\",\"showlegend\":true,\"x\":[\"1975\",\"1975\",\"1975\",\"1973\",\"1971\",\"1971\",\"1970\",\"1970\"],\"xaxis\":\"x\",\"yaxis\":\"y\",\"type\":\"histogram\"},{\"alignmentgroup\":\"True\",\"bingroup\":\"x\",\"hovertemplate\":\"Organisation=CECLES<br>year=%{x}<br>count=%{y}<extra></extra>\",\"legendgroup\":\"CECLES\",\"marker\":{\"color\":\"#FECB52\",\"pattern\":{\"shape\":\"\"}},\"name\":\"CECLES\",\"offsetgroup\":\"CECLES\",\"orientation\":\"v\",\"showlegend\":true,\"x\":[\"1971\",\"1970\",\"1969\",\"1968\"],\"xaxis\":\"x\",\"yaxis\":\"y\",\"type\":\"histogram\"},{\"alignmentgroup\":\"True\",\"bingroup\":\"x\",\"hovertemplate\":\"Organisation=RAE<br>year=%{x}<br>count=%{y}<extra></extra>\",\"legendgroup\":\"RAE\",\"marker\":{\"color\":\"#636efa\",\"pattern\":{\"shape\":\"\"}},\"name\":\"RAE\",\"offsetgroup\":\"RAE\",\"orientation\":\"v\",\"showlegend\":true,\"x\":[\"1971\",\"1970\"],\"xaxis\":\"x\",\"yaxis\":\"y\",\"type\":\"histogram\"},{\"alignmentgroup\":\"True\",\"bingroup\":\"x\",\"hovertemplate\":\"Organisation=UT<br>year=%{x}<br>count=%{y}<extra></extra>\",\"legendgroup\":\"UT\",\"marker\":{\"color\":\"#EF553B\",\"pattern\":{\"shape\":\"\"}},\"name\":\"UT\",\"offsetgroup\":\"UT\",\"orientation\":\"v\",\"showlegend\":true,\"x\":[\"1970\",\"1969\",\"1967\",\"1966\",\"1966\"],\"xaxis\":\"x\",\"yaxis\":\"y\",\"type\":\"histogram\"},{\"alignmentgroup\":\"True\",\"bingroup\":\"x\",\"hovertemplate\":\"Organisation=OKB-586<br>year=%{x}<br>count=%{y}<extra></extra>\",\"legendgroup\":\"OKB-586\",\"marker\":{\"color\":\"#00cc96\",\"pattern\":{\"shape\":\"\"}},\"name\":\"OKB-586\",\"offsetgroup\":\"OKB-586\",\"orientation\":\"v\",\"showlegend\":true,\"x\":[\"1968\",\"1967\"],\"xaxis\":\"x\",\"yaxis\":\"y\",\"type\":\"histogram\"},{\"alignmentgroup\":\"True\",\"bingroup\":\"x\",\"hovertemplate\":\"Organisation=AMBA<br>year=%{x}<br>count=%{y}<extra></extra>\",\"legendgroup\":\"AMBA\",\"marker\":{\"color\":\"#ab63fa\",\"pattern\":{\"shape\":\"\"}},\"name\":\"AMBA\",\"offsetgroup\":\"AMBA\",\"orientation\":\"v\",\"showlegend\":true,\"x\":[\"1967\",\"1958\",\"1958\",\"1958\",\"1958\",\"1958\",\"1958\",\"1958\"],\"xaxis\":\"x\",\"yaxis\":\"y\",\"type\":\"histogram\"},{\"alignmentgroup\":\"True\",\"bingroup\":\"x\",\"hovertemplate\":\"Organisation=Arm??e de l'Air<br>year=%{x}<br>count=%{y}<extra></extra>\",\"legendgroup\":\"Arm??e de l'Air\",\"marker\":{\"color\":\"#FFA15A\",\"pattern\":{\"shape\":\"\"}},\"name\":\"Arm??e de l'Air\",\"offsetgroup\":\"Arm??e de l'Air\",\"orientation\":\"v\",\"showlegend\":true,\"x\":[\"1967\",\"1967\",\"1966\",\"1965\"],\"xaxis\":\"x\",\"yaxis\":\"y\",\"type\":\"histogram\"},{\"alignmentgroup\":\"True\",\"bingroup\":\"x\",\"hovertemplate\":\"Organisation=US Navy<br>year=%{x}<br>count=%{y}<extra></extra>\",\"legendgroup\":\"US Navy\",\"marker\":{\"color\":\"#19d3f3\",\"pattern\":{\"shape\":\"\"}},\"name\":\"US Navy\",\"offsetgroup\":\"US Navy\",\"orientation\":\"v\",\"showlegend\":true,\"x\":[\"1959\",\"1959\",\"1959\",\"1959\",\"1958\",\"1958\",\"1958\",\"1958\",\"1958\",\"1958\",\"1958\",\"1958\",\"1958\",\"1958\",\"1958\",\"1958\",\"1957\"],\"xaxis\":\"x\",\"yaxis\":\"y\",\"type\":\"histogram\"}],                        {\"template\":{\"data\":{\"histogram2dcontour\":[{\"type\":\"histogram2dcontour\",\"colorbar\":{\"outlinewidth\":0,\"ticks\":\"\"},\"colorscale\":[[0.0,\"#0d0887\"],[0.1111111111111111,\"#46039f\"],[0.2222222222222222,\"#7201a8\"],[0.3333333333333333,\"#9c179e\"],[0.4444444444444444,\"#bd3786\"],[0.5555555555555556,\"#d8576b\"],[0.6666666666666666,\"#ed7953\"],[0.7777777777777778,\"#fb9f3a\"],[0.8888888888888888,\"#fdca26\"],[1.0,\"#f0f921\"]]}],\"choropleth\":[{\"type\":\"choropleth\",\"colorbar\":{\"outlinewidth\":0,\"ticks\":\"\"}}],\"histogram2d\":[{\"type\":\"histogram2d\",\"colorbar\":{\"outlinewidth\":0,\"ticks\":\"\"},\"colorscale\":[[0.0,\"#0d0887\"],[0.1111111111111111,\"#46039f\"],[0.2222222222222222,\"#7201a8\"],[0.3333333333333333,\"#9c179e\"],[0.4444444444444444,\"#bd3786\"],[0.5555555555555556,\"#d8576b\"],[0.6666666666666666,\"#ed7953\"],[0.7777777777777778,\"#fb9f3a\"],[0.8888888888888888,\"#fdca26\"],[1.0,\"#f0f921\"]]}],\"heatmap\":[{\"type\":\"heatmap\",\"colorbar\":{\"outlinewidth\":0,\"ticks\":\"\"},\"colorscale\":[[0.0,\"#0d0887\"],[0.1111111111111111,\"#46039f\"],[0.2222222222222222,\"#7201a8\"],[0.3333333333333333,\"#9c179e\"],[0.4444444444444444,\"#bd3786\"],[0.5555555555555556,\"#d8576b\"],[0.6666666666666666,\"#ed7953\"],[0.7777777777777778,\"#fb9f3a\"],[0.8888888888888888,\"#fdca26\"],[1.0,\"#f0f921\"]]}],\"heatmapgl\":[{\"type\":\"heatmapgl\",\"colorbar\":{\"outlinewidth\":0,\"ticks\":\"\"},\"colorscale\":[[0.0,\"#0d0887\"],[0.1111111111111111,\"#46039f\"],[0.2222222222222222,\"#7201a8\"],[0.3333333333333333,\"#9c179e\"],[0.4444444444444444,\"#bd3786\"],[0.5555555555555556,\"#d8576b\"],[0.6666666666666666,\"#ed7953\"],[0.7777777777777778,\"#fb9f3a\"],[0.8888888888888888,\"#fdca26\"],[1.0,\"#f0f921\"]]}],\"contourcarpet\":[{\"type\":\"contourcarpet\",\"colorbar\":{\"outlinewidth\":0,\"ticks\":\"\"}}],\"contour\":[{\"type\":\"contour\",\"colorbar\":{\"outlinewidth\":0,\"ticks\":\"\"},\"colorscale\":[[0.0,\"#0d0887\"],[0.1111111111111111,\"#46039f\"],[0.2222222222222222,\"#7201a8\"],[0.3333333333333333,\"#9c179e\"],[0.4444444444444444,\"#bd3786\"],[0.5555555555555556,\"#d8576b\"],[0.6666666666666666,\"#ed7953\"],[0.7777777777777778,\"#fb9f3a\"],[0.8888888888888888,\"#fdca26\"],[1.0,\"#f0f921\"]]}],\"surface\":[{\"type\":\"surface\",\"colorbar\":{\"outlinewidth\":0,\"ticks\":\"\"},\"colorscale\":[[0.0,\"#0d0887\"],[0.1111111111111111,\"#46039f\"],[0.2222222222222222,\"#7201a8\"],[0.3333333333333333,\"#9c179e\"],[0.4444444444444444,\"#bd3786\"],[0.5555555555555556,\"#d8576b\"],[0.6666666666666666,\"#ed7953\"],[0.7777777777777778,\"#fb9f3a\"],[0.8888888888888888,\"#fdca26\"],[1.0,\"#f0f921\"]]}],\"mesh3d\":[{\"type\":\"mesh3d\",\"colorbar\":{\"outlinewidth\":0,\"ticks\":\"\"}}],\"scatter\":[{\"fillpattern\":{\"fillmode\":\"overlay\",\"size\":10,\"solidity\":0.2},\"type\":\"scatter\"}],\"parcoords\":[{\"type\":\"parcoords\",\"line\":{\"colorbar\":{\"outlinewidth\":0,\"ticks\":\"\"}}}],\"scatterpolargl\":[{\"type\":\"scatterpolargl\",\"marker\":{\"colorbar\":{\"outlinewidth\":0,\"ticks\":\"\"}}}],\"bar\":[{\"error_x\":{\"color\":\"#2a3f5f\"},\"error_y\":{\"color\":\"#2a3f5f\"},\"marker\":{\"line\":{\"color\":\"#E5ECF6\",\"width\":0.5},\"pattern\":{\"fillmode\":\"overlay\",\"size\":10,\"solidity\":0.2}},\"type\":\"bar\"}],\"scattergeo\":[{\"type\":\"scattergeo\",\"marker\":{\"colorbar\":{\"outlinewidth\":0,\"ticks\":\"\"}}}],\"scatterpolar\":[{\"type\":\"scatterpolar\",\"marker\":{\"colorbar\":{\"outlinewidth\":0,\"ticks\":\"\"}}}],\"histogram\":[{\"marker\":{\"pattern\":{\"fillmode\":\"overlay\",\"size\":10,\"solidity\":0.2}},\"type\":\"histogram\"}],\"scattergl\":[{\"type\":\"scattergl\",\"marker\":{\"colorbar\":{\"outlinewidth\":0,\"ticks\":\"\"}}}],\"scatter3d\":[{\"type\":\"scatter3d\",\"line\":{\"colorbar\":{\"outlinewidth\":0,\"ticks\":\"\"}},\"marker\":{\"colorbar\":{\"outlinewidth\":0,\"ticks\":\"\"}}}],\"scattermapbox\":[{\"type\":\"scattermapbox\",\"marker\":{\"colorbar\":{\"outlinewidth\":0,\"ticks\":\"\"}}}],\"scatterternary\":[{\"type\":\"scatterternary\",\"marker\":{\"colorbar\":{\"outlinewidth\":0,\"ticks\":\"\"}}}],\"scattercarpet\":[{\"type\":\"scattercarpet\",\"marker\":{\"colorbar\":{\"outlinewidth\":0,\"ticks\":\"\"}}}],\"carpet\":[{\"aaxis\":{\"endlinecolor\":\"#2a3f5f\",\"gridcolor\":\"white\",\"linecolor\":\"white\",\"minorgridcolor\":\"white\",\"startlinecolor\":\"#2a3f5f\"},\"baxis\":{\"endlinecolor\":\"#2a3f5f\",\"gridcolor\":\"white\",\"linecolor\":\"white\",\"minorgridcolor\":\"white\",\"startlinecolor\":\"#2a3f5f\"},\"type\":\"carpet\"}],\"table\":[{\"cells\":{\"fill\":{\"color\":\"#EBF0F8\"},\"line\":{\"color\":\"white\"}},\"header\":{\"fill\":{\"color\":\"#C8D4E3\"},\"line\":{\"color\":\"white\"}},\"type\":\"table\"}],\"barpolar\":[{\"marker\":{\"line\":{\"color\":\"#E5ECF6\",\"width\":0.5},\"pattern\":{\"fillmode\":\"overlay\",\"size\":10,\"solidity\":0.2}},\"type\":\"barpolar\"}],\"pie\":[{\"automargin\":true,\"type\":\"pie\"}]},\"layout\":{\"autotypenumbers\":\"strict\",\"colorway\":[\"#636efa\",\"#EF553B\",\"#00cc96\",\"#ab63fa\",\"#FFA15A\",\"#19d3f3\",\"#FF6692\",\"#B6E880\",\"#FF97FF\",\"#FECB52\"],\"font\":{\"color\":\"#2a3f5f\"},\"hovermode\":\"closest\",\"hoverlabel\":{\"align\":\"left\"},\"paper_bgcolor\":\"white\",\"plot_bgcolor\":\"#E5ECF6\",\"polar\":{\"bgcolor\":\"#E5ECF6\",\"angularaxis\":{\"gridcolor\":\"white\",\"linecolor\":\"white\",\"ticks\":\"\"},\"radialaxis\":{\"gridcolor\":\"white\",\"linecolor\":\"white\",\"ticks\":\"\"}},\"ternary\":{\"bgcolor\":\"#E5ECF6\",\"aaxis\":{\"gridcolor\":\"white\",\"linecolor\":\"white\",\"ticks\":\"\"},\"baxis\":{\"gridcolor\":\"white\",\"linecolor\":\"white\",\"ticks\":\"\"},\"caxis\":{\"gridcolor\":\"white\",\"linecolor\":\"white\",\"ticks\":\"\"}},\"coloraxis\":{\"colorbar\":{\"outlinewidth\":0,\"ticks\":\"\"}},\"colorscale\":{\"sequential\":[[0.0,\"#0d0887\"],[0.1111111111111111,\"#46039f\"],[0.2222222222222222,\"#7201a8\"],[0.3333333333333333,\"#9c179e\"],[0.4444444444444444,\"#bd3786\"],[0.5555555555555556,\"#d8576b\"],[0.6666666666666666,\"#ed7953\"],[0.7777777777777778,\"#fb9f3a\"],[0.8888888888888888,\"#fdca26\"],[1.0,\"#f0f921\"]],\"sequentialminus\":[[0.0,\"#0d0887\"],[0.1111111111111111,\"#46039f\"],[0.2222222222222222,\"#7201a8\"],[0.3333333333333333,\"#9c179e\"],[0.4444444444444444,\"#bd3786\"],[0.5555555555555556,\"#d8576b\"],[0.6666666666666666,\"#ed7953\"],[0.7777777777777778,\"#fb9f3a\"],[0.8888888888888888,\"#fdca26\"],[1.0,\"#f0f921\"]],\"diverging\":[[0,\"#8e0152\"],[0.1,\"#c51b7d\"],[0.2,\"#de77ae\"],[0.3,\"#f1b6da\"],[0.4,\"#fde0ef\"],[0.5,\"#f7f7f7\"],[0.6,\"#e6f5d0\"],[0.7,\"#b8e186\"],[0.8,\"#7fbc41\"],[0.9,\"#4d9221\"],[1,\"#276419\"]]},\"xaxis\":{\"gridcolor\":\"white\",\"linecolor\":\"white\",\"ticks\":\"\",\"title\":{\"standoff\":15},\"zerolinecolor\":\"white\",\"automargin\":true,\"zerolinewidth\":2},\"yaxis\":{\"gridcolor\":\"white\",\"linecolor\":\"white\",\"ticks\":\"\",\"title\":{\"standoff\":15},\"zerolinecolor\":\"white\",\"automargin\":true,\"zerolinewidth\":2},\"scene\":{\"xaxis\":{\"backgroundcolor\":\"#E5ECF6\",\"gridcolor\":\"white\",\"linecolor\":\"white\",\"showbackground\":true,\"ticks\":\"\",\"zerolinecolor\":\"white\",\"gridwidth\":2},\"yaxis\":{\"backgroundcolor\":\"#E5ECF6\",\"gridcolor\":\"white\",\"linecolor\":\"white\",\"showbackground\":true,\"ticks\":\"\",\"zerolinecolor\":\"white\",\"gridwidth\":2},\"zaxis\":{\"backgroundcolor\":\"#E5ECF6\",\"gridcolor\":\"white\",\"linecolor\":\"white\",\"showbackground\":true,\"ticks\":\"\",\"zerolinecolor\":\"white\",\"gridwidth\":2}},\"shapedefaults\":{\"line\":{\"color\":\"#2a3f5f\"}},\"annotationdefaults\":{\"arrowcolor\":\"#2a3f5f\",\"arrowhead\":0,\"arrowwidth\":1},\"geo\":{\"bgcolor\":\"white\",\"landcolor\":\"#E5ECF6\",\"subunitcolor\":\"white\",\"showland\":true,\"showlakes\":true,\"lakecolor\":\"white\"},\"title\":{\"x\":0.05},\"mapbox\":{\"style\":\"light\"}}},\"xaxis\":{\"anchor\":\"y\",\"domain\":[0.0,1.0],\"title\":{\"text\":\"year\"}},\"yaxis\":{\"anchor\":\"x\",\"domain\":[0.0,1.0],\"title\":{\"text\":\"count\"}},\"legend\":{\"title\":{\"text\":\"Organisation\"},\"tracegroupgap\":0},\"margin\":{\"t\":60},\"barmode\":\"relative\"},                        {\"responsive\": true}                    ).then(function(){\n",
              "                            \n",
              "var gd = document.getElementById('060323f1-4f9f-4821-9493-ad3050018dd5');\n",
              "var x = new MutationObserver(function (mutations, observer) {{\n",
              "        var display = window.getComputedStyle(gd).display;\n",
              "        if (!display || display === 'none') {{\n",
              "            console.log([gd, 'removed!']);\n",
              "            Plotly.purge(gd);\n",
              "            observer.disconnect();\n",
              "        }}\n",
              "}});\n",
              "\n",
              "// Listen for the removal of the full notebook cells\n",
              "var notebookContainer = gd.closest('#notebook-container');\n",
              "if (notebookContainer) {{\n",
              "    x.observe(notebookContainer, {childList: true});\n",
              "}}\n",
              "\n",
              "// Listen for the clearing of the current output cell\n",
              "var outputEl = gd.closest('.output');\n",
              "if (outputEl) {{\n",
              "    x.observe(outputEl, {childList: true});\n",
              "}}\n",
              "\n",
              "                        })                };                            </script>        </div>\n",
              "</body>\n",
              "</html>"
            ]
          },
          "metadata": {}
        }
      ]
    },
    {
      "cell_type": "code",
      "metadata": {
        "id": "r5frxzwlsz5W"
      },
      "source": [
        "data7=data5.groupby(by=['year','Organisation']).count()"
      ],
      "execution_count": 136,
      "outputs": []
    },
    {
      "cell_type": "code",
      "metadata": {
        "papermill": {
          "duration": 0.092403,
          "end_time": "2020-10-20T21:34:26.709168",
          "exception": false,
          "start_time": "2020-10-20T21:34:26.616765",
          "status": "completed"
        },
        "tags": [],
        "id": "8vHKpuc5a-rc",
        "colab": {
          "base_uri": "https://localhost:8080/",
          "height": 708
        },
        "outputId": "c5157972-4d57-4572-ab37-b5a2a172fe65"
      },
      "source": [
        "data7.head(20)"
      ],
      "execution_count": 137,
      "outputs": [
        {
          "output_type": "execute_result",
          "data": {
            "text/plain": [
              "                       Location  Date  Detail  Rocket_Status  Price  \\\n",
              "year Organisation                                                     \n",
              "1957 RVSN USSR                2     2       2              2      2   \n",
              "     US Navy                  1     1       1              1      1   \n",
              "1958 AMBA                     7     7       7              7      7   \n",
              "     NASA                     2     2       2              2      2   \n",
              "     RVSN USSR                5     5       5              5      5   \n",
              "     US Air Force             2     2       2              2      2   \n",
              "     US Navy                 12    12      12             12     12   \n",
              "1959 General Dynamics         1     1       1              1      1   \n",
              "     NASA                     1     1       1              1      1   \n",
              "     RVSN USSR                4     4       4              4      4   \n",
              "     US Air Force            10    10      10             10     10   \n",
              "     US Navy                  4     4       4              4      4   \n",
              "1960 General Dynamics         5     5       5              5      5   \n",
              "     NASA                     4     4       4              4      4   \n",
              "     RVSN USSR                9     9       9              9      9   \n",
              "     US Air Force            21    21      21             21     21   \n",
              "1961 General Dynamics         8     8       8              8      8   \n",
              "     NASA                    12    12      12             12     12   \n",
              "     RVSN USSR                9     9       9              9      9   \n",
              "     US Air Force            23    23      23             23     23   \n",
              "\n",
              "                       Mission_Status  Country  iso  month  \n",
              "year Organisation                                           \n",
              "1957 RVSN USSR                      2        2    2      2  \n",
              "     US Navy                        1        1    1      1  \n",
              "1958 AMBA                           7        7    7      7  \n",
              "     NASA                           2        2    2      2  \n",
              "     RVSN USSR                      5        5    5      5  \n",
              "     US Air Force                   2        2    2      2  \n",
              "     US Navy                       12       12   12     12  \n",
              "1959 General Dynamics               1        1    1      1  \n",
              "     NASA                           1        1    1      1  \n",
              "     RVSN USSR                      4        4    4      4  \n",
              "     US Air Force                  10       10   10     10  \n",
              "     US Navy                        4        4    4      4  \n",
              "1960 General Dynamics               5        5    5      5  \n",
              "     NASA                           4        4    4      4  \n",
              "     RVSN USSR                      9        9    9      9  \n",
              "     US Air Force                  21       21   21     21  \n",
              "1961 General Dynamics               8        8    8      8  \n",
              "     NASA                          12       12   12     12  \n",
              "     RVSN USSR                      9        9    9      9  \n",
              "     US Air Force                  23       23   23     23  "
            ],
            "text/html": [
              "\n",
              "  <div id=\"df-26016a6c-1665-4bda-a51f-e2bd39ab4462\">\n",
              "    <div class=\"colab-df-container\">\n",
              "      <div>\n",
              "<style scoped>\n",
              "    .dataframe tbody tr th:only-of-type {\n",
              "        vertical-align: middle;\n",
              "    }\n",
              "\n",
              "    .dataframe tbody tr th {\n",
              "        vertical-align: top;\n",
              "    }\n",
              "\n",
              "    .dataframe thead th {\n",
              "        text-align: right;\n",
              "    }\n",
              "</style>\n",
              "<table border=\"1\" class=\"dataframe\">\n",
              "  <thead>\n",
              "    <tr style=\"text-align: right;\">\n",
              "      <th></th>\n",
              "      <th></th>\n",
              "      <th>Location</th>\n",
              "      <th>Date</th>\n",
              "      <th>Detail</th>\n",
              "      <th>Rocket_Status</th>\n",
              "      <th>Price</th>\n",
              "      <th>Mission_Status</th>\n",
              "      <th>Country</th>\n",
              "      <th>iso</th>\n",
              "      <th>month</th>\n",
              "    </tr>\n",
              "    <tr>\n",
              "      <th>year</th>\n",
              "      <th>Organisation</th>\n",
              "      <th></th>\n",
              "      <th></th>\n",
              "      <th></th>\n",
              "      <th></th>\n",
              "      <th></th>\n",
              "      <th></th>\n",
              "      <th></th>\n",
              "      <th></th>\n",
              "      <th></th>\n",
              "    </tr>\n",
              "  </thead>\n",
              "  <tbody>\n",
              "    <tr>\n",
              "      <th rowspan=\"2\" valign=\"top\">1957</th>\n",
              "      <th>RVSN USSR</th>\n",
              "      <td>2</td>\n",
              "      <td>2</td>\n",
              "      <td>2</td>\n",
              "      <td>2</td>\n",
              "      <td>2</td>\n",
              "      <td>2</td>\n",
              "      <td>2</td>\n",
              "      <td>2</td>\n",
              "      <td>2</td>\n",
              "    </tr>\n",
              "    <tr>\n",
              "      <th>US Navy</th>\n",
              "      <td>1</td>\n",
              "      <td>1</td>\n",
              "      <td>1</td>\n",
              "      <td>1</td>\n",
              "      <td>1</td>\n",
              "      <td>1</td>\n",
              "      <td>1</td>\n",
              "      <td>1</td>\n",
              "      <td>1</td>\n",
              "    </tr>\n",
              "    <tr>\n",
              "      <th rowspan=\"5\" valign=\"top\">1958</th>\n",
              "      <th>AMBA</th>\n",
              "      <td>7</td>\n",
              "      <td>7</td>\n",
              "      <td>7</td>\n",
              "      <td>7</td>\n",
              "      <td>7</td>\n",
              "      <td>7</td>\n",
              "      <td>7</td>\n",
              "      <td>7</td>\n",
              "      <td>7</td>\n",
              "    </tr>\n",
              "    <tr>\n",
              "      <th>NASA</th>\n",
              "      <td>2</td>\n",
              "      <td>2</td>\n",
              "      <td>2</td>\n",
              "      <td>2</td>\n",
              "      <td>2</td>\n",
              "      <td>2</td>\n",
              "      <td>2</td>\n",
              "      <td>2</td>\n",
              "      <td>2</td>\n",
              "    </tr>\n",
              "    <tr>\n",
              "      <th>RVSN USSR</th>\n",
              "      <td>5</td>\n",
              "      <td>5</td>\n",
              "      <td>5</td>\n",
              "      <td>5</td>\n",
              "      <td>5</td>\n",
              "      <td>5</td>\n",
              "      <td>5</td>\n",
              "      <td>5</td>\n",
              "      <td>5</td>\n",
              "    </tr>\n",
              "    <tr>\n",
              "      <th>US Air Force</th>\n",
              "      <td>2</td>\n",
              "      <td>2</td>\n",
              "      <td>2</td>\n",
              "      <td>2</td>\n",
              "      <td>2</td>\n",
              "      <td>2</td>\n",
              "      <td>2</td>\n",
              "      <td>2</td>\n",
              "      <td>2</td>\n",
              "    </tr>\n",
              "    <tr>\n",
              "      <th>US Navy</th>\n",
              "      <td>12</td>\n",
              "      <td>12</td>\n",
              "      <td>12</td>\n",
              "      <td>12</td>\n",
              "      <td>12</td>\n",
              "      <td>12</td>\n",
              "      <td>12</td>\n",
              "      <td>12</td>\n",
              "      <td>12</td>\n",
              "    </tr>\n",
              "    <tr>\n",
              "      <th rowspan=\"5\" valign=\"top\">1959</th>\n",
              "      <th>General Dynamics</th>\n",
              "      <td>1</td>\n",
              "      <td>1</td>\n",
              "      <td>1</td>\n",
              "      <td>1</td>\n",
              "      <td>1</td>\n",
              "      <td>1</td>\n",
              "      <td>1</td>\n",
              "      <td>1</td>\n",
              "      <td>1</td>\n",
              "    </tr>\n",
              "    <tr>\n",
              "      <th>NASA</th>\n",
              "      <td>1</td>\n",
              "      <td>1</td>\n",
              "      <td>1</td>\n",
              "      <td>1</td>\n",
              "      <td>1</td>\n",
              "      <td>1</td>\n",
              "      <td>1</td>\n",
              "      <td>1</td>\n",
              "      <td>1</td>\n",
              "    </tr>\n",
              "    <tr>\n",
              "      <th>RVSN USSR</th>\n",
              "      <td>4</td>\n",
              "      <td>4</td>\n",
              "      <td>4</td>\n",
              "      <td>4</td>\n",
              "      <td>4</td>\n",
              "      <td>4</td>\n",
              "      <td>4</td>\n",
              "      <td>4</td>\n",
              "      <td>4</td>\n",
              "    </tr>\n",
              "    <tr>\n",
              "      <th>US Air Force</th>\n",
              "      <td>10</td>\n",
              "      <td>10</td>\n",
              "      <td>10</td>\n",
              "      <td>10</td>\n",
              "      <td>10</td>\n",
              "      <td>10</td>\n",
              "      <td>10</td>\n",
              "      <td>10</td>\n",
              "      <td>10</td>\n",
              "    </tr>\n",
              "    <tr>\n",
              "      <th>US Navy</th>\n",
              "      <td>4</td>\n",
              "      <td>4</td>\n",
              "      <td>4</td>\n",
              "      <td>4</td>\n",
              "      <td>4</td>\n",
              "      <td>4</td>\n",
              "      <td>4</td>\n",
              "      <td>4</td>\n",
              "      <td>4</td>\n",
              "    </tr>\n",
              "    <tr>\n",
              "      <th rowspan=\"4\" valign=\"top\">1960</th>\n",
              "      <th>General Dynamics</th>\n",
              "      <td>5</td>\n",
              "      <td>5</td>\n",
              "      <td>5</td>\n",
              "      <td>5</td>\n",
              "      <td>5</td>\n",
              "      <td>5</td>\n",
              "      <td>5</td>\n",
              "      <td>5</td>\n",
              "      <td>5</td>\n",
              "    </tr>\n",
              "    <tr>\n",
              "      <th>NASA</th>\n",
              "      <td>4</td>\n",
              "      <td>4</td>\n",
              "      <td>4</td>\n",
              "      <td>4</td>\n",
              "      <td>4</td>\n",
              "      <td>4</td>\n",
              "      <td>4</td>\n",
              "      <td>4</td>\n",
              "      <td>4</td>\n",
              "    </tr>\n",
              "    <tr>\n",
              "      <th>RVSN USSR</th>\n",
              "      <td>9</td>\n",
              "      <td>9</td>\n",
              "      <td>9</td>\n",
              "      <td>9</td>\n",
              "      <td>9</td>\n",
              "      <td>9</td>\n",
              "      <td>9</td>\n",
              "      <td>9</td>\n",
              "      <td>9</td>\n",
              "    </tr>\n",
              "    <tr>\n",
              "      <th>US Air Force</th>\n",
              "      <td>21</td>\n",
              "      <td>21</td>\n",
              "      <td>21</td>\n",
              "      <td>21</td>\n",
              "      <td>21</td>\n",
              "      <td>21</td>\n",
              "      <td>21</td>\n",
              "      <td>21</td>\n",
              "      <td>21</td>\n",
              "    </tr>\n",
              "    <tr>\n",
              "      <th rowspan=\"4\" valign=\"top\">1961</th>\n",
              "      <th>General Dynamics</th>\n",
              "      <td>8</td>\n",
              "      <td>8</td>\n",
              "      <td>8</td>\n",
              "      <td>8</td>\n",
              "      <td>8</td>\n",
              "      <td>8</td>\n",
              "      <td>8</td>\n",
              "      <td>8</td>\n",
              "      <td>8</td>\n",
              "    </tr>\n",
              "    <tr>\n",
              "      <th>NASA</th>\n",
              "      <td>12</td>\n",
              "      <td>12</td>\n",
              "      <td>12</td>\n",
              "      <td>12</td>\n",
              "      <td>12</td>\n",
              "      <td>12</td>\n",
              "      <td>12</td>\n",
              "      <td>12</td>\n",
              "      <td>12</td>\n",
              "    </tr>\n",
              "    <tr>\n",
              "      <th>RVSN USSR</th>\n",
              "      <td>9</td>\n",
              "      <td>9</td>\n",
              "      <td>9</td>\n",
              "      <td>9</td>\n",
              "      <td>9</td>\n",
              "      <td>9</td>\n",
              "      <td>9</td>\n",
              "      <td>9</td>\n",
              "      <td>9</td>\n",
              "    </tr>\n",
              "    <tr>\n",
              "      <th>US Air Force</th>\n",
              "      <td>23</td>\n",
              "      <td>23</td>\n",
              "      <td>23</td>\n",
              "      <td>23</td>\n",
              "      <td>23</td>\n",
              "      <td>23</td>\n",
              "      <td>23</td>\n",
              "      <td>23</td>\n",
              "      <td>23</td>\n",
              "    </tr>\n",
              "  </tbody>\n",
              "</table>\n",
              "</div>\n",
              "      <button class=\"colab-df-convert\" onclick=\"convertToInteractive('df-26016a6c-1665-4bda-a51f-e2bd39ab4462')\"\n",
              "              title=\"Convert this dataframe to an interactive table.\"\n",
              "              style=\"display:none;\">\n",
              "        \n",
              "  <svg xmlns=\"http://www.w3.org/2000/svg\" height=\"24px\"viewBox=\"0 0 24 24\"\n",
              "       width=\"24px\">\n",
              "    <path d=\"M0 0h24v24H0V0z\" fill=\"none\"/>\n",
              "    <path d=\"M18.56 5.44l.94 2.06.94-2.06 2.06-.94-2.06-.94-.94-2.06-.94 2.06-2.06.94zm-11 1L8.5 8.5l.94-2.06 2.06-.94-2.06-.94L8.5 2.5l-.94 2.06-2.06.94zm10 10l.94 2.06.94-2.06 2.06-.94-2.06-.94-.94-2.06-.94 2.06-2.06.94z\"/><path d=\"M17.41 7.96l-1.37-1.37c-.4-.4-.92-.59-1.43-.59-.52 0-1.04.2-1.43.59L10.3 9.45l-7.72 7.72c-.78.78-.78 2.05 0 2.83L4 21.41c.39.39.9.59 1.41.59.51 0 1.02-.2 1.41-.59l7.78-7.78 2.81-2.81c.8-.78.8-2.07 0-2.86zM5.41 20L4 18.59l7.72-7.72 1.47 1.35L5.41 20z\"/>\n",
              "  </svg>\n",
              "      </button>\n",
              "      \n",
              "  <style>\n",
              "    .colab-df-container {\n",
              "      display:flex;\n",
              "      flex-wrap:wrap;\n",
              "      gap: 12px;\n",
              "    }\n",
              "\n",
              "    .colab-df-convert {\n",
              "      background-color: #E8F0FE;\n",
              "      border: none;\n",
              "      border-radius: 50%;\n",
              "      cursor: pointer;\n",
              "      display: none;\n",
              "      fill: #1967D2;\n",
              "      height: 32px;\n",
              "      padding: 0 0 0 0;\n",
              "      width: 32px;\n",
              "    }\n",
              "\n",
              "    .colab-df-convert:hover {\n",
              "      background-color: #E2EBFA;\n",
              "      box-shadow: 0px 1px 2px rgba(60, 64, 67, 0.3), 0px 1px 3px 1px rgba(60, 64, 67, 0.15);\n",
              "      fill: #174EA6;\n",
              "    }\n",
              "\n",
              "    [theme=dark] .colab-df-convert {\n",
              "      background-color: #3B4455;\n",
              "      fill: #D2E3FC;\n",
              "    }\n",
              "\n",
              "    [theme=dark] .colab-df-convert:hover {\n",
              "      background-color: #434B5C;\n",
              "      box-shadow: 0px 1px 3px 1px rgba(0, 0, 0, 0.15);\n",
              "      filter: drop-shadow(0px 1px 2px rgba(0, 0, 0, 0.3));\n",
              "      fill: #FFFFFF;\n",
              "    }\n",
              "  </style>\n",
              "\n",
              "      <script>\n",
              "        const buttonEl =\n",
              "          document.querySelector('#df-26016a6c-1665-4bda-a51f-e2bd39ab4462 button.colab-df-convert');\n",
              "        buttonEl.style.display =\n",
              "          google.colab.kernel.accessAllowed ? 'block' : 'none';\n",
              "\n",
              "        async function convertToInteractive(key) {\n",
              "          const element = document.querySelector('#df-26016a6c-1665-4bda-a51f-e2bd39ab4462');\n",
              "          const dataTable =\n",
              "            await google.colab.kernel.invokeFunction('convertToInteractive',\n",
              "                                                     [key], {});\n",
              "          if (!dataTable) return;\n",
              "\n",
              "          const docLinkHtml = 'Like what you see? Visit the ' +\n",
              "            '<a target=\"_blank\" href=https://colab.research.google.com/notebooks/data_table.ipynb>data table notebook</a>'\n",
              "            + ' to learn more about interactive tables.';\n",
              "          element.innerHTML = '';\n",
              "          dataTable['output_type'] = 'display_data';\n",
              "          await google.colab.output.renderOutput(dataTable, element);\n",
              "          const docLink = document.createElement('div');\n",
              "          docLink.innerHTML = docLinkHtml;\n",
              "          element.appendChild(docLink);\n",
              "        }\n",
              "      </script>\n",
              "    </div>\n",
              "  </div>\n",
              "  "
            ]
          },
          "metadata": {},
          "execution_count": 137
        }
      ]
    }
  ]
}